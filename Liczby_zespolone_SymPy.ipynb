{
 "cells": [
  {
   "attachments": {},
   "cell_type": "markdown",
   "metadata": {},
   "source": [
    "<a href=\"https://colab.research.google.com/github/URK-KIPLiIS/Python-lessons/blob/main/Liczby_zespolone_SymPy.ipynb\" target=\"_parent\"><img src=\"https://colab.research.google.com/assets/colab-badge.svg\" alt=\"Open In Colab\"/></a>"
   ]
  },
  {
   "attachments": {},
   "cell_type": "markdown",
   "metadata": {},
   "source": [
    "# Liczby zespolone\n",
    "\n",
    "* Krzysztof Molenda, v.01"
   ]
  },
  {
   "attachments": {},
   "cell_type": "markdown",
   "metadata": {},
   "source": [
    "W języku Python reprezentowane są liczby całkowite (typ `int`), liczby zmiennoprzecinkowe (typ `float`) oraz liczby zespolone (typ `complex`). Liczby zespolone są reprezentowane w postaci kanonicznej $a+bj$, gdzie $a$ i $b$ są liczbami rzeczywistymi, a $j$ jest jednostką urojoną (zwyczajowo w matematyce oznaczanej raczej jako $i$, w technice przyjęto $j$ aby nie kolidowała z oznaczeniem np. chwilowego natężenia prądu elektrycznego). Wartość $a$ nazywamy częścią rzeczywistą liczby zespolonej, a wartość $b$ częścią urojoną. Liczba $a$ jest równa części rzeczywistej liczby zespolonej $a+bj$, a liczba $b$ jest równa części urojonej liczby zespolonej $a+bj$.\n",
    "\n",
    "* w dziedzinie liczb zespolonych określone są:\n",
    "  * równość `==` oraz nierówność `!=` (dwie liczby zespolone są równe jeśli są równe ich części rzeczywiste i urojone)\n",
    "  * operacje arytmetyczne: dodawanie, odejmowanie, mnożenie, dzielenie, potęgowanie - analogicznie jak dla liczb rzeczywistych, przy założeniu, że $j^2=-1$\n",
    "    * $(a + bj) + (c + dj) = (a + c) + (b + d)j$\n",
    "    * $(a + bj) - (c + dj) = (a - c) + (b - d)j$\n",
    "    * $(a + bj) \\cdot (c + dj) = (ac - bd) + (ad + bc)j$\n",
    "    * $\\frac{a + bj}{c + dj} = \\frac{(ac + bd) + (bc - ad)j}{c^2 + d^2}$\n",
    "    * $(a + bj)^n = (a + bj) \\cdot (a + bj) \\cdot \\ldots \\cdot (a + bj)$, gdzie $n$ jest liczbą naturalną\n",
    "    * $(a + bj)^n = a^n + \\binom{n}{1}a^{n-1}bj + \\binom{n}{2}a^{n-2}b^2j^2 + \\ldots + \\binom{n}{n-1}ab^{n-1}j^{n-1} + b^nj^n$\n",
    "    * $|a + bj| = \\sqrt{a^2 + b^2}$\n",
    "    * argument liczby zespolonej $\\arg(a + bj) = \\arctan \\left( \\frac{b}{a} \\right)$\n",
    "    * $a + bj = |a + bj| \\cdot \\cos(\\arg(a + bj)) + |a + bj| \\cdot \\sin(\\arg(a + bj))j$\n",
    "    * sprzężenie liczby zespolonej: $\\overline{a + bj} = a - bj$\n",
    "* w dziedzinie liczb zespolonych nie są określone:\n",
    "  * porządek `>`, `<`, `>=`, `<=`\n",
    "  * dzielenie modulo `%`\n",
    "  * dzielenie całkowite `//`\n",
    "  * operacje bitowe `&`, `|`, `^`, `~`, `<<`, `>>`\n",
    "* obiekty typu `complex` są niemutowalne (nie można zmienić wartości części rzeczywistej i urojonej)\n",
    "\n",
    "Szczegóły dotyczące liczb zespolonych w języku Python można znaleźć w dokumentacji: https://docs.python.org/3/library/stdtypes.html#numeric-types-int-float-complex"
   ]
  },
  {
   "cell_type": "code",
   "execution_count": null,
   "metadata": {},
   "outputs": [],
   "source": [
    "z1 = 2 + 3j\n",
    "z2 = 4 - 5j\n",
    "z = z1 * z2\n",
    "print(z, f\", część rzeczywista: {z.real}, część urojona: {z.imag}\")\n",
    "print(f\"Sprzężenie z: {z.conjugate()}\")"
   ]
  },
  {
   "attachments": {},
   "cell_type": "markdown",
   "metadata": {},
   "source": [
    "**Postać kanoniczna** (algebraiczna) liczby zespolonej $a+bj$ jest jedną z możliwych postaci zapisu liczby zespolonej. Inne postacie zapisu liczby zespolonej to:\n",
    "* postać trygonometryczna $r(\\cos\\varphi + i\\sin\\varphi)$, gdzie $r$ jest modułem liczby zespolonej, a $\\varphi$ jest argumentem liczby zespolonej\n",
    "* postać wykładnicza $re^{i\\varphi}$, gdzie $r$ jest modułem liczby zespolonej, a $\\varphi$ jest argumentem liczby zespolonej\n",
    "* postać kartezjańska $(a,b)$, gdzie $a$ jest częścią rzeczywistą liczby zespolonej, a $b$ jest częścią urojoną liczby zespolonej"
   ]
  },
  {
   "attachments": {},
   "cell_type": "markdown",
   "metadata": {},
   "source": [
    "**Postać trygonmetryczna** $r(\\cos\\varphi + i\\sin\\varphi)$, gdzie $r$ jest modułem liczby zespolonej, a $\\varphi$ jest jej argumentem. W takiej postaci liczba zespolona jest reprezentowana przez krotkę `(r, phi)`. Wartość $r$ jest równa $|a + bj|$, a wartość $\\varphi$ jest równa:\n",
    "$$\n",
    "\\varphi = \\begin{cases}\n",
    "  \\operatorname{arctg}\\;\\tfrac{b}{a}, & \\text{ dla }\\ a > 0 \\\\\n",
    "  \\operatorname{arctg}\\;\\tfrac{b}{a} + \\pi, & \\text{ dla }\\ a < 0 \\ \\text{ oraz }\\ b \\geqslant 0 \\\\\n",
    "  \\operatorname{arctg}\\;\\tfrac{b}{a} - \\pi, & \\text{ dla }\\ a < 0 \\ \\text{ oraz }\\ b < 0 \\\\\n",
    "  +\\tfrac{\\pi}{2}, & \\text{ dla }\\ a = 0 \\ \\text{ oraz }\\ b > 0 \\\\\n",
    "  -\\tfrac{\\pi}{2}, & \\text{ dla }\\ a = 0 \\ \\text{ oraz }\\ b < 0 \\\\\n",
    "  \\mathrm{niezdefiniowane}, & \\text{ dla }\\ a = 0 \\ \\text{ oraz }\\ b = 0\n",
    "\\end{cases}.\n",
    "$$\n",
    "\n",
    "Operacje arytmetyczne: dodawanie, odejmowanie, mnożenie, dzielenie, potęgowanie:\n",
    "  * $(r_1 \\cdot (\\cos\\phi_1 + i\\sin\\phi_1)) + (r_2 \\cdot (\\cos\\phi_2 + i\\sin\\phi_2)) = (r_1 \\cdot \\cos\\phi_1 + r_2 \\cdot \\cos\\phi_2) + (r_1 \\cdot \\sin\\phi_1 + r_2 \\cdot \\sin\\phi_2)j$\n",
    "  * $(r_1 \\cdot (\\cos\\phi_1 + i\\sin\\phi_1)) - (r_2 \\cdot (\\cos\\phi_2 + i\\sin\\phi_2)) = (r_1 \\cdot \\cos\\phi_1 - r_2 \\cdot \\cos\\phi_2) + (r_1 \\cdot \\sin\\phi_1 - r_2 \\cdot \\sin\\phi_2)j$\n",
    "  * $(r_1 \\cdot (\\cos\\phi_1 + i\\sin\\phi_1)) \\cdot (r_2 \\cdot (\\cos\\phi_2 + i\\sin\\phi_2)) = (r_1 \\cdot r_2) \\cdot (\\cos(\\phi_1 + \\phi_2) + i\\sin(\\phi_1 + \\phi_2))$\n",
    "  * $\\frac{r_1 \\cdot (\\cos\\phi_1 + i\\sin\\phi_1)}{r_2 \\cdot (\\cos\\phi_2 + i\\sin\\phi_2)} = \\frac{r_1}{r_2} \\cdot (\\cos(\\phi_1 - \\phi_2) + i\\sin(\\phi_1 - \\phi_2))$\n",
    "  * $(r \\cdot (\\cos\\phi + i\\sin\\phi))^n = r^n \\cdot (\\cos(\\phi n) + i\\sin(\\phi n))$, gdzie $n$ jest liczbą naturalną\n",
    "  * $|r \\cdot (\\cos\\phi + i\\sin\\phi)| = r$\n",
    "\n",
    "Każda liczba zespolona ma **dokładnie** $n$ różnych pierwiastków $n$-tego stopnia, opisanych wzorem:\n",
    "$$\n",
    "z_k = \\sqrt[n]{|z|}\\cdot\\left(\\cos \\tfrac{\\varphi + 2k\\pi}{n} + i\\sin \\tfrac{\\varphi + 2k\\pi}{n}\\right)\n",
    "$$\n"
   ]
  },
  {
   "attachments": {},
   "cell_type": "markdown",
   "metadata": {},
   "source": [
    "**Postać wykładnicza** $r \\cdot e^{j\\phi}$, gdzie $r$ jest modułem liczby zespolonej, a $\\phi$ jest jej argumentem. W takiej postaci liczba zespolona jest reprezentowana przez krotkę `(r, phi)`. W szczególności każda liczba zespolona $z$ różna od zera ma przedstawienie:\n",
    "\n",
    "$$\n",
    "z=|z|(\\cos \\phi +i \\sin \\phi )=|z|e^{i\\phi} \n",
    "$$\n",
    "\n",
    "Operacje arytmetyczne: dodawanie, odejmowanie, mnożenie, dzielenie, potęgowanie\n",
    "\n",
    "  * $(r_1 \\cdot e^{j\\phi_1}) + (r_2 \\cdot e^{j\\phi_2}) = (r_1 \\cdot \\cos\\phi_1 + r_2 \\cdot \\cos\\phi_2) + (r_1 \\cdot \\sin\\phi_1 + r_2 \\cdot \\sin\\phi_2)j$\n",
    "  * $(r_1 \\cdot e^{j\\phi_1}) - (r_2 \\cdot e^{j\\phi_2}) = (r_1 \\cdot \\cos\\phi_1 - r_2 \\cdot \\cos\\phi_2) + (r_1 \\cdot \\sin\\phi_1 - r_2 \\cdot \\sin\\phi_2)j$\n",
    "  * $(r_1 \\cdot e^{j\\phi_1}) \\cdot (r_2 \\cdot e^{j\\phi_2}) = (r_1 \\cdot r_2) \\cdot e^{j(\\phi_1 + \\phi_2)}$\n",
    "  * $\\frac{r_1 \\cdot e^{j\\phi_1}}{r_2 \\cdot e^{j\\phi_2}} = \\frac{r_1}{r_2} \\cdot e^{j(\\phi_1 - \\phi_2)}$\n",
    "  * $(r \\cdot e^{j\\phi})^n = r^n \\cdot e^{j\\phi n}$, gdzie $n$ jest liczbą naturalną\n",
    "  * $|r \\cdot e^{j\\phi}| = r$\n",
    "\n",
    "Pierwiastki zespolone w postaci wykładniczej:\n",
    "\n",
    "$$\n",
    "z_k = \\sqrt[n]{|z|}\\ \\cdot e^{i\\tfrac{\\varphi + 2k\\pi}{n}}\n",
    "$$"
   ]
  },
  {
   "attachments": {},
   "cell_type": "markdown",
   "metadata": {},
   "source": [
    "Postać geometryczna (kartezjańska) liczby zespolonej $a + bj$, gdzie $a$ i $b$ są liczbami rzeczywistymi. W takiej postaci liczba zespolona jest reprezentowana przez krotkę `(a, b)`. Wartość $a$ jest równa części rzeczywistej liczby zespolonej, a wartość $b$ jest równa części urojonej liczby zespolonej.\n",
    "\n",
    "Operacje arytmetyczne:\n",
    "\n",
    "* $(a_1, b_1j) + (a_2, b_2j) = (a_1 + a_2, b_1 + b_2)$\n",
    "* $(a_1, b_1j) - (a_2, b_2j) = (a_1 - a_2, b_1 - b_2)$\n",
    "* $(a_1, b_1j) \\cdot (a_2, b_2j) = (a_1a_2 - b_1b_2, a_1b_2 + a_2b_1)$\n",
    "* $\\frac{(a_1, b_1j)}{(a_2, b_2j)} = \\frac{(a_1, b_1j) \\cdot (a_2, -b_2j)}{(a_2, b_2j) \\cdot (a_2, -b_2j)} = \\frac{(a_1a_2 + b_1b_2, a_2b_1 - a_1b_2)}{a_2^2 + b_2^2}$\n",
    "* $(a, b)^n = (a^n - \\binom{n}{1}a^{n-2}b^2 + \\binom{n}{2}a^{n-4}b^4 - \\dots, \\binom{n}{1}a^{n-1}b - \\binom{n}{3}a^{n-3}b^3 + \\dots)$, gdzie $n$ jest liczbą naturalną\n",
    "* $|(a, b)| = \\sqrt{a^2 + b^2}$\n",
    "* $\\overline{(a, b)} = (a, -b)$ - sprzężenie liczby zespolonej"
   ]
  },
  {
   "attachments": {},
   "cell_type": "markdown",
   "metadata": {},
   "source": [
    "Obliczenia na liczbach zespolonych wspiera moduł `cmath` (https://docs.python.org/3/library/cmath.html). Dostarcza on m. in. funkcje `polar`, `rect`, `phase`, `exp`, `log`, `sqrt`, `sin`, `cos`, `tan`, `asin`, `acos`, `atan`, `sinh`, `cosh`, `tanh`, `asinh`, `acosh`, `atanh`."
   ]
  },
  {
   "cell_type": "code",
   "execution_count": null,
   "metadata": {},
   "outputs": [],
   "source": [
    "import cmath\n",
    "\n",
    "z = 3 + 4j\n",
    "print(f\"Moduł z: {abs(z)}\")\n",
    "print(f\"Argument z: {cmath.phase(z)}\")\n",
    "r, phi = cmath.polar(z)\n",
    "print(f\"Postać trygonometryczna z: {z} = {r} * (cos({phi}) + j * sin({phi}))\")\n",
    "print(f\"Postać wykładnicza z: {z} = {r} * e^({phi}j)\")\n",
    "print(f\"konwersja z postaci trygonometrycznej na algebraiczną: {cmath.rect(r, phi)}\") # niedokładności reprezentacji i obliczeń numerycznych\n"
   ]
  },
  {
   "attachments": {},
   "cell_type": "markdown",
   "metadata": {},
   "source": [
    "---\n",
    "\n",
    "## Liczby zespolone w `SymPy`\n",
    "\n",
    "Moduł `sympy` pozwala na wykonywanie symbolicznych obliczeń (pozbawionych niedokładności reprezentacji liczb) na liczbach zespolonych.\n",
    "\n",
    ":warning: W `sympy` liczba urojona reprezentowana jest przez symbol **dużej** litery $I$"
   ]
  },
  {
   "cell_type": "code",
   "execution_count": null,
   "metadata": {},
   "outputs": [],
   "source": [
    "from sympy import *\n",
    "\n",
    "z1 = 3 + 4*I\n",
    "display(z1)\n",
    "\n",
    "z2 = sympify(\"4 + 3j\") # konwersja z postaci tekstowej\n",
    "display(z2)\n",
    "\n",
    "display( re(z2) ) # część rzeczywista\n",
    "display( im(z2) ) # część urojona\n",
    "display( Abs(z2) ) # moduł\n",
    "display( arg(z2) ) # argument\n",
    "display( conjugate(z2) ) # sprzężenie\n",
    "\n",
    "display( z1 + z2 )\n",
    "display( z1 - z2 )\n",
    "display( z1 * z2 )\n",
    "display( z1 / z2 )\n",
    "z3 = z1 ** 2\n",
    "display( z3 )\n",
    "display( z3.expand() ) # rozwinięcie"
   ]
  },
  {
   "attachments": {},
   "cell_type": "markdown",
   "metadata": {},
   "source": [
    "---\n",
    "\n",
    "## Zastosowania liczb zespolonych\n",
    "\n",
    "* Elektrotechnika - analiza obwodów elektrycznych\n",
    "* Mechanika kwantowa - opis stanów kwantowych\n",
    "* Grafika komputerowa - reprezentacja obrotów i przesunięć\n",
    "* Kryptografia - szyfrowanie i deszyfrowanie wiadomości\n",
    "* Kompresja danych - kompresja obrazów\n",
    "* Inżynieria materiałowa - analiza naprężeń w konstrukcjach\n",
    "* ..."
   ]
  },
  {
   "attachments": {},
   "cell_type": "markdown",
   "metadata": {},
   "source": [
    "### Rozwiązywanie równań wielomianowych\n",
    "\n",
    "Równanie $x^2 + 1 = 0$ nie ma rozwiązań w zbiorze liczb rzeczywistych, ale ma rozwiązania w zbiorze liczb zespolonych:\n",
    "\n",
    "$$\n",
    "x^2 + 1 = 0 \\implies x^2 = -1 \\implies x = \\pm \\sqrt{-1} \\implies x = \\pm i\n",
    "$$\n",
    "\n",
    "Równanie $x^2 + 1 = 0$ ma zatem dwa rozwiązania: $x = i$ i $x = -i$."
   ]
  },
  {
   "cell_type": "code",
   "execution_count": null,
   "metadata": {},
   "outputs": [],
   "source": [
    "from sympy import *\n",
    "x = Symbol(\"x\")\n",
    "solve(x**2 + 1, x) # rozwiązanie równania x^2 + 1 = 0"
   ]
  },
  {
   "attachments": {},
   "cell_type": "markdown",
   "metadata": {},
   "source": [
    "**Zasadnicze twierdzenie algebry**: każdy wielomian stopnia $n$ ma dokładnie $n$ pierwiastków zespolonych (licząc z krotnościami). Pierwiastki te mogą być liczbami rzeczywistymi lub zespolonymi. Jeśli wielomian ma współczynniki rzeczywiste, to pierwiastki zespolone występują parami sprzężone.\n",
    "\n",
    "Przykłady:\n",
    "\n",
    "* wielomian stopnia 3: $x^3 + 2x^2 + 3x + 4 = 0$ może mieć \n",
    "  * jeden pierwiastek rzeczywisty i dwa ściśle zespolone sprzężone (musi mieć co najmniej jeden pierwiastek rzeczywisty)\n",
    "  * trzy pierwiastki rzeczywiste\n",
    "  * nie może trzech różnych pierwiastków ściśle zespolonych"
   ]
  },
  {
   "cell_type": "code",
   "execution_count": null,
   "metadata": {},
   "outputs": [],
   "source": [
    "from sympy import *\n",
    "x = Symbol(\"x\")\n",
    "z1, z2, z3 = solve( x**3 + 2*x**2 + 3*x + 4, x) # rozwiązanie równania x^3 + 2x^2 + 3x + 4 = 0 w zbiorze liczb zespolonych\n",
    "display(z1)\n",
    "display(z2)\n",
    "display(z3)\n",
    "display(z1.evalf())\n",
    "display(z2.evalf())\n",
    "display(z3.evalf())"
   ]
  },
  {
   "attachments": {},
   "cell_type": "markdown",
   "metadata": {},
   "source": [
    "* wielomian stopnia 4: $x^4 + 2x^3 + 3x^2 + 4x + 5 = 0$ ma dokładnie cztery pierwiastki zespolone. Może mieć:\n",
    "  * 4 różne pierwiastki istotnie zespolone, po dwa parami sprzężone (nie ma pierwiastków rzeczywistych)\n",
    "  * 2 różne pierwiastki istotnie zespolone, sprzężone, i 2 pierwiastki rzeczywiste\n",
    "  * 4 pierwiastki rzeczywiste\n",
    "  * nie może mieć 3 pierwiastków rzeczywistych i 1 pierwiastka zespolonego\n",
    "  * nie może mieć 1 pierwiastka rzeczywistego i 3 pierwiastków zespolonych"
   ]
  },
  {
   "cell_type": "code",
   "execution_count": null,
   "metadata": {},
   "outputs": [],
   "source": [
    "from sympy import *\n",
    "x = Symbol(\"x\")\n",
    "z1, z2, z3, z4 = solve( x**4 + 2*x**3 + 3*x**2 + 4*x + 5, x) # rozwiązanie równania x^4 + 2x^3 + 3x^2 + 4x + 5 = 0 w zbiorze liczb zespolonych\n",
    "display(z1)\n",
    "display(z2)\n",
    "display(z3)\n",
    "display(z4)\n",
    "display(z1.evalf())\n",
    "display(z2.evalf())\n",
    "display(z3.evalf())\n",
    "display(z4.evalf())"
   ]
  },
  {
   "attachments": {},
   "cell_type": "markdown",
   "metadata": {},
   "source": [
    "### Analiza obwodów RLC - metoda symboliczna\n",
    "\n",
    "Metoda symboliczna upraszcza - pod względem obliczeniowym - analizę obwodów prądu przemiennego. Główną ideą jest po prostu zamiana przebiegów czasowych na liczby zespolone i operowanie nimi. Stosuje się ją zazwyczaj w sytuacjach, jeśli interesuje nas stan ustalony w obwodzie i pobudzenia są o tej samej pulsacji.\n",
    "\n",
    "Pojęcia podstawowe:\n",
    "\n",
    "* reaktancja - zastępczy opór obwodu prądu przemiennego, występujący w obwodach zawierających elementy indukcyjne (cewki) i/lub pojemnościowe (kondensatory). Reaktancja jest liczbą urojoną, a jej wartość zależy od częstotliwości prądu przemiennego.\n",
    "* impedancja - zastępczy opór obwodu prądu przemiennego, składający się z oporu i reaktancji. Impedancja jest liczbą zespoloną, w której część rzeczywista odpowiada oporowi, a część urojona reaktancji.\n",
    "\n",
    "$$\n",
    "\\underline{Z} = R + jX\n",
    "$$\n",
    "\n",
    "gdzie: $\\underline{Z}$ - impedancja, $R$ - opór, $X$ - reaktancja, $j$ - jednostka urojona.\n",
    "\n",
    "<img src=\"data:image/png;base64,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\">\n",
    "\n",
    "Wzory:\n",
    "\n",
    "* impedancja rezystora (idealnego): $\\underline{Z}_R = R$ - część urojona jest równa $0$\n",
    "* impedancja cewki: $\\underline{Z}_L = jX = j\\omega L$ - część rzeczywista jest równa $0$ (dla $X \\gt 0$ charakter indukcyjny)\n",
    "* impedancja kondensatora: $\\underline{Z}_C = \\frac{1}{j\\omega C} = - j \\frac{1}{\\omega C}$ - część rzeczywista jest równa $0$ (dla $X \\lt 0$ charakter pojemnościowy)\n",
    "* przebieg czasowy napięcia: $u(t) = A \\sin(\\omega t + \\varphi)$. \n",
    "  \n",
    "  Można go, dla przebiegu sinusoidalnego, przekształcić do postaci zespolonej: $\\underline{U} = \\frac{A}{\\sqrt{2}} e^{j\\varphi}$:\n",
    "  * amplituda $A$ dzielona jest przez $\\sqrt{2}$, dla przebiegu sinusoidalnego\n",
    "  * $\\varphi$ - przesunięcie fazowe\n",
    "  * ponieważ czas jest zerowany, nie uwzględniamy pulsacji\n",
    "  * wartość zespolona jest zatem niezależna od czasu\n",
    "* Przejście z wartości zespolonej $\\underline{U} = \\frac{A}{\\sqrt{2}} e^{j\\varphi}$ do czasowej $u(t)$: moduł liczby zespolonej mnożymy przez $\\sqrt{2}$, a argument liczby zespolonej brany jest jako faza przebiegu."
   ]
  },
  {
   "attachments": {},
   "cell_type": "markdown",
   "metadata": {},
   "source": [
    "#### Przykład\n",
    "\n",
    "Obliczyć impedancję dwójnika, dla danej pulsacji $\\omega = 2$ [rad/s], $C = 2$ [F], $L = \\frac{3}{20}$ [H] oraz $R = 0.5$ [Ω]​. Wynik przedstawić jako liczbę zespoloną w postaci kanonicznej (algebraicznej) i wykładniczej.\n",
    "\n",
    "<img src=\"data:image/png;base64,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\">\n",
    "\n",
    "##### Rozwiązanie:\n",
    "\n",
    "* Krok 1: oznaczenie impedancji elementów\n",
    "\n",
    "<img src=\"data:image/png;base64,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\">\n",
    "\n",
    "* Krok 2: obliczenie impedancji zastępczej\n",
    "\n",
    "  * $\\underline{Z_R} = R = 0.5$ [Ω]\n",
    "  * $\\underline{Z_L} = j\\omega L = j \\cdot 2 \\cdot \\frac{3}{20} = j \\cdot \\frac{3}{10} = j0.3$ [Ω]\n",
    "  * $\\underline{Z_C} = \\frac{1}{j\\omega C} = \\frac{1}{j \\cdot 2 \\cdot 2} = \\frac{1}{j \\cdot 4} = -j0.25$ [Ω]"
   ]
  },
  {
   "cell_type": "code",
   "execution_count": null,
   "metadata": {},
   "outputs": [],
   "source": [
    "from sympy import *\n",
    "from sympy.abc import r, c, l, w, z\n",
    "\n",
    "dane = {r: 0.5, c: 2, l: 3/20, w: 2}\n",
    "\n",
    "z_r = r\n",
    "z_l = I*w*l\n",
    "z_c = 1/(I*w*c)\n",
    "\n",
    "display(z_r.evalf(subs=dane))\n",
    "display(z_l.evalf(subs=dane))\n",
    "display(z_c.evalf(subs=dane))"
   ]
  },
  {
   "attachments": {},
   "cell_type": "markdown",
   "metadata": {},
   "source": [
    "* Krok 3: analiza obwodu: \n",
    "\n",
    "$$\n",
    "\\frac{1}{\\underline{Z_1}} = \\frac{1}{\\underline{Z_R}} + \\frac{1}{\\underline{Z_C}}\n",
    "$$\n",
    "\n",
    "$$\n",
    "\\underline{Z} = \\underline{Z_1} + \\underline{Z_L}\n",
    "$$\n",
    "\n",
    "i obliczenia:"
   ]
  },
  {
   "cell_type": "code",
   "execution_count": null,
   "metadata": {},
   "outputs": [],
   "source": [
    "z1 = Symbol(\"z1\")\n",
    "z1 = solve(1/z1 - 1/z_r - 1/z_c, z1 )[0]\n",
    "display(z1)\n",
    "display(z1.evalf(subs=dane))\n",
    "\n",
    "z = z1 + z_l\n",
    "display(z)\n",
    "display(z.evalf(subs=dane))\n",
    "\n",
    "display( Abs(z) )# moduł\n",
    "display( Abs( z.evalf(subs=dane) ) ) # moduł\n",
    "\n",
    "display( arg(z) ) # argument\n",
    "display( arg( z.evalf(subs=dane) ) ) # argument"
   ]
  },
  {
   "attachments": {},
   "cell_type": "markdown",
   "metadata": {},
   "source": [
    "### Fraktale\n",
    "\n",
    "Fraktal jest matematycznie zdefiniowanym, samopodobnym obiektem, który ma podobieństwo i symetrię w różnych skalach. Fraktal [Zbioru Julii](https://pl.wikipedia.org/wiki/Zbi%C3%B3r_Julii) to rodzaj fraktala zdefiniowany przez zachowanie funkcji, która działa na wejściowych liczbach zespolonych. Mówiąc dokładniej, po iteracyjnej aktualizacji wejściowej liczby zespolonej, fraktal zbioru Julii reprezentuje zbiór danych wejściowych, których końcowe wyniki albo dążą do nieskończoności, albo pozostają ograniczone.\n",
    "\n",
    "Fraktale zbioru Julii są zwykle generowane przez inicjalizację liczby zespolonej $z = x + y i$, gdzie $i^2 = -1$ oraz $x$ i $y$ to współrzędne piksela obrazu w zakresie od około $-2$ do $2$. Następnie $z$ jest wielokrotnie aktualizowane przy użyciu: $z = z^2 + c$ gdzie $c$ jest kolejną liczbą zespoloną, ​​która daje określony zbiór Julii. Po wielu iteracjach, jeśli wielkość $z$ jest mniejsza niż $2$ mówimy, że piksel należy do zbioru Julii i odpowiednio go kolorujemy. Wykonanie tego obliczenia dla całej siatki pikseli daje obraz fraktalny."
   ]
  },
  {
   "cell_type": "code",
   "execution_count": null,
   "metadata": {},
   "outputs": [],
   "source": [
    "import matplotlib.cm as cm\n",
    "import matplotlib.pyplot as plt\n",
    "import numpy as np\n",
    "\n",
    "fig, ax = plt.subplots(figsize=(8,8))\n",
    "\n",
    "# Image width and height; parameters for the plot\n",
    "im_width, im_height = 500, 500\n",
    "\n",
    "c = complex(-0.1, 0.65)\n",
    "\n",
    "zabs_max = 10\n",
    "nit_max = 1000\n",
    "\n",
    "xmin, xmax = -1.5, 1.5\n",
    "xwidth = xmax - xmin\n",
    "\n",
    "ymin, ymax = -1.5, 1.5\n",
    "yheight = ymax - ymin\n",
    "\n",
    "julia = np.zeros((im_width, im_height))\n",
    "\n",
    "for ix in range(im_width):\n",
    "    for iy in range(im_height):\n",
    "        \n",
    "        nit = 0\n",
    "        \n",
    "        # Map pixel position to a point in the complex plane\n",
    "        z = complex(ix / im_width * xwidth + xmin,\n",
    "                    iy / im_height * yheight + ymin)\n",
    "\n",
    "        # Do the iterations\n",
    "        while abs(z) <= zabs_max and nit < nit_max:\n",
    "            z = z**2 + c\n",
    "            nit += 1\n",
    "            \n",
    "        shade = 1-np.sqrt(nit / nit_max)\n",
    "        ratio = nit / nit_max\n",
    "        julia[ix,iy] = ratio\n",
    "\n",
    "\n",
    "ax.imshow(julia, interpolation='nearest', cmap=cm.hot)  #try cm.jet, cm.hot, cm.rainbow, etc\n"
   ]
  },
  {
   "attachments": {},
   "cell_type": "markdown",
   "metadata": {},
   "source": [
    "## Referencje\n",
    "\n",
    "* [Simplify Complex Numbers With Python @RealPython](https://realpython.com/python-complex-numbers/)\n",
    "* "
   ]
  }
 ],
 "metadata": {
  "kernelspec": {
   "display_name": ".venv",
   "language": "python",
   "name": "python3"
  },
  "language_info": {
   "codemirror_mode": {
    "name": "ipython",
    "version": 3
   },
   "file_extension": ".py",
   "mimetype": "text/x-python",
   "name": "python",
   "nbconvert_exporter": "python",
   "pygments_lexer": "ipython3",
   "version": "3.11.3"
  },
  "orig_nbformat": 4
 },
 "nbformat": 4,
 "nbformat_minor": 2
}
