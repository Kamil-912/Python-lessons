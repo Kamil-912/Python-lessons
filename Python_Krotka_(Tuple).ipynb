{
  "nbformat": 4,
  "nbformat_minor": 0,
  "metadata": {
    "colab": {
      "name": "Python - Krotka (Tuple).ipynb",
      "provenance": [],
      "collapsed_sections": [],
      "include_colab_link": true
    },
    "kernelspec": {
      "name": "python394jvsc74a57bd063fd5069d213b44bf678585dea6b12cceca9941eaf7f819626cde1f2670de90d",
      "display_name": "Python 3.9.4 64-bit"
    },
    "language_info": {
      "name": "python",
      "version": "3.9.4"
    },
    "metadata": {
      "interpreter": {
        "hash": "63fd5069d213b44bf678585dea6b12cceca9941eaf7f819626cde1f2670de90d"
      }
    }
  },
  "cells": [
    {
      "cell_type": "markdown",
      "metadata": {
        "id": "view-in-github",
        "colab_type": "text"
      },
      "source": [
        "<a href=\"https://colab.research.google.com/github/URK-KIPLiIS/Python-lessons/blob/main/Python_Krotka_(Tuple).ipynb\" target=\"_parent\"><img src=\"https://colab.research.google.com/assets/colab-badge.svg\" alt=\"Open In Colab\"/></a>"
      ]
    },
    {
      "cell_type": "markdown",
      "metadata": {
        "id": "feoWMC-nu-E9"
      },
      "source": [
        "# Struktury danych. Krotka (`Tuple`)\n",
        "\n",
        "* Krzysztof Molenda (2021-05-01)\n",
        "\n",
        "---"
      ]
    },
    {
      "cell_type": "markdown",
      "metadata": {
        "id": "xZS_Rm8uGbhX"
      },
      "source": [
        "Krotka (ang. _tuple_) to ciąg _n_ elementów reprezentowany przez zmienną. W języku polskim czasami nazywane są _n-tkami_. Dla dwóch elementów powiemy _para_ albo _dwójka_, dla trzech - _trójka_, dla sześciu - _szóstka_.\n",
        "\n",
        "Przykłady:"
      ]
    },
    {
      "cell_type": "code",
      "metadata": {
        "id": "fTgBwafeu53v",
        "colab": {
          "base_uri": "https://localhost:8080/"
        },
        "outputId": "cef03d5a-3a7e-432b-d353-b2f6cfdde524"
      },
      "source": [
        "# krotka pusta\n",
        "pusta = ()\n",
        "print(pusta)\n",
        "\n",
        "# krotka - wektor 3 liczb całkowityych\n",
        "wektor = (1, 2, 3)\n",
        "print(wektor)\n",
        "\n",
        "# krotka - ciąg elementów różnego typu\n",
        "# (id, imię, nazwisko, wiek)\n",
        "osoba = (1, \"Krzysztof\", \"Molenda\", 55)\n",
        "print(osoba)\n",
        "\n",
        "# krotka - ciąg elementów które również mogą być krotkami lub innymi typami\n",
        "# (id, nazwisko, adres, lista_znajomych)\n",
        "osoba1 = (1, \"Molenda\", (\"Balicka\", 116, \"Kraków\"), [3, 4, 8] )\n",
        "print(osoba1)\n",
        "\n",
        "print( type(osoba1[3]))"
      ],
      "execution_count": null,
      "outputs": [
        {
          "output_type": "stream",
          "name": "stdout",
          "text": [
            "()\n",
            "(1, 2, 3)\n",
            "(1, 'Krzysztof', 'Molenda', 55)\n",
            "(1, 'Molenda', ('Balicka', 116, 'Kraków'), [3, 4, 8])\n",
            "<class 'list'>\n"
          ]
        }
      ]
    },
    {
      "cell_type": "markdown",
      "metadata": {
        "id": "W1TYMNfPGbhZ"
      },
      "source": [
        "Krotka, w swojej konstrukcji przypomina listę. Jest jednak kilka znaczących różnic między tymi strukturami danych. Cechy krotki:\n",
        "\n",
        "* krotka jest **sekwencją** - zatem można dla niej stosowac wszystkie działania, które zdefiniowane są dla tego typu danych (np. slicing, indeksowanie, ...)\n",
        "* jest strukturą **uporządkowaną** - elementy krotki mają określone pozycje, do których można odnieść się za pomocą indeksowania,\n",
        "* jest strukturą **niezmienniczą** (ang. _immutable_) - po utworzeniu nie można zmienić ani jej rozmiaru (dodanie/usunięcie elementy) ani zawartości\n",
        "* dostęp do elementów krotki podobnie jak dla listy, za pomocą ideksowania (indeksowanie od `0`)\n",
        "* w krotce można zapamiętywać duplikaty (podobnie jak w liście)\n",
        "\n",
        "Przykład:"
      ]
    },
    {
      "cell_type": "code",
      "metadata": {
        "colab": {
          "base_uri": "https://localhost:8080/"
        },
        "id": "lXQSfzyNGbha",
        "outputId": "b304aa97-b78e-459b-faae-949882277fb0"
      },
      "source": [
        "osoba = (1, \"Krzysztof\", \"Molenda\", 55)\n",
        "# odczyt elementu krotki\n",
        "nazwisko = osoba[2]\n",
        "print(nazwisko)\n",
        "\n",
        "# próba zmiany elementu krotki\n",
        "# osoba[2] = \"Abacki\" #TypeError: 'tuple' object does not support item assignment"
      ],
      "execution_count": null,
      "outputs": [
        {
          "output_type": "stream",
          "name": "stdout",
          "text": [
            "Molenda\n"
          ]
        }
      ]
    },
    {
      "cell_type": "markdown",
      "metadata": {
        "id": "9XdeTyrSGbhb"
      },
      "source": [
        "## Tworzenie"
      ]
    },
    {
      "cell_type": "markdown",
      "metadata": {
        "id": "vgMnuns9Gbhb"
      },
      "source": [
        "Standardowo, krotkę tworzymy wymieniając - w nawiasach okrągłych - jej elementy, oddzielone przecinkami.\n",
        "\n",
        "Krotkę można utworzyć również bez notacji nawiasowej (nazywa się to _tuple packing_). Można ją również w ten sposób _odpakować_:"
      ]
    },
    {
      "cell_type": "code",
      "metadata": {
        "colab": {
          "base_uri": "https://localhost:8080/"
        },
        "id": "a66r0us9Gbhc",
        "outputId": "64d3f82e-c699-4309-e041-a7b2dfa0d1a5"
      },
      "source": [
        "wektor1 = (\"A\", 2.1, 2.2, 2.3) # notacja nawiasowa\n",
        "wektor2 = \"A\", 2.1, 2.2, 2.3   # tuple packing\n",
        "print(wektor1)\n",
        "print(wektor2)\n",
        "if wektor1 == wektor2:\n",
        "    print( \"równe\" )\n",
        "else:\n",
        "    print(\"nierówne\")\n",
        "\n",
        "etykieta, x, y, z = wektor2    # tuple unpacking\n",
        "print(f\"etykieta = {etykieta}, x = {x}, y = {y}, z = {z}\")"
      ],
      "execution_count": null,
      "outputs": [
        {
          "output_type": "stream",
          "name": "stdout",
          "text": [
            "('A', 2.1, 2.2, 2.3)\n",
            "('A', 2.1, 2.2, 2.3)\n",
            "równe\n",
            "etykieta = A, x = 2.1, y = 2.2, z = 2.3\n"
          ]
        }
      ]
    },
    {
      "cell_type": "markdown",
      "metadata": {
        "id": "yUAkzZ0aGbhc"
      },
      "source": [
        "UWAGA: Ponieważ krotka 1-elementowa ma stosunkowo ograniczone zastosowanie, stąd jej konstrukcja jest specyficzna - wymaga użycia przecinka po pierwszym i jedynym elemencie:"
      ]
    },
    {
      "cell_type": "code",
      "metadata": {
        "colab": {
          "base_uri": "https://localhost:8080/"
        },
        "id": "i3FNbOZMGbhd",
        "outputId": "4a4231c6-3b45-49c1-ea66-5df8316e80e0"
      },
      "source": [
        "krotka_jednoelementowa = (1,)\n",
        "print(krotka_jednoelementowa)\n",
        "print( type(krotka_jednoelementowa) )"
      ],
      "execution_count": null,
      "outputs": [
        {
          "output_type": "stream",
          "name": "stdout",
          "text": [
            "(1,)\n",
            "<class 'tuple'>\n"
          ]
        }
      ]
    },
    {
      "cell_type": "markdown",
      "metadata": {
        "id": "Ok3c4oEMGbhe"
      },
      "source": [
        "Ponieważ krotka - w sensie języka Python - jest obiektem, możemy ją jawnie utworzyć za pomocą konstruktora, który pełni rolę konwertera z innego typu:"
      ]
    },
    {
      "cell_type": "code",
      "metadata": {
        "colab": {
          "base_uri": "https://localhost:8080/"
        },
        "id": "mPyjfAUbGbhf",
        "outputId": "95e5164b-7a6a-4a0e-e7bc-965ecd4d52f0"
      },
      "source": [
        "# x = int( input(\"podaj współrzędną x: \") )\n",
        "# y = int( input(\"podaj współrzędną y: \") )\n",
        "# z = int( input(\"podaj współrzędną z: \") )\n",
        "lista = ['a', 'b', 'c']\n",
        "punkt = tuple( lista )  # konstrukcja krotki na podstawie listy (konwersja z listy do krotki)\n",
        "print( punkt )"
      ],
      "execution_count": null,
      "outputs": [
        {
          "output_type": "stream",
          "name": "stdout",
          "text": [
            "('a', 'b', 'c')\n"
          ]
        }
      ]
    },
    {
      "cell_type": "markdown",
      "metadata": {
        "id": "0HBJOF6pGbhf"
      },
      "source": [
        "## Dostęp do elementów krotki"
      ]
    },
    {
      "cell_type": "markdown",
      "metadata": {
        "id": "i-xXdxNPGbhg"
      },
      "source": [
        "Podobnie jak dla listy, dostęp do elementów krotki realizowany jest za pomocą odwołania do ich indeksów (nawiasy kwadratowe `[]`). Indeksy zaczynają się od `0`. Krotka jest sekwencją (a więc dostep do elementów odbywa się za pomocą podania indeksów)."
      ]
    },
    {
      "cell_type": "code",
      "metadata": {
        "colab": {
          "base_uri": "https://localhost:8080/"
        },
        "id": "1a6Dm3NOGbhg",
        "outputId": "dadef4b2-878f-49fa-e5f4-ccb2a524142c"
      },
      "source": [
        "print(f\"imię = {osoba[1]}, nazwisko = {osoba[2]}\")"
      ],
      "execution_count": null,
      "outputs": [
        {
          "output_type": "stream",
          "name": "stdout",
          "text": [
            "imię = Krzysztof, nazwisko = Molenda\n"
          ]
        }
      ]
    },
    {
      "cell_type": "markdown",
      "metadata": {
        "id": "uC1OEuVxGbhg"
      },
      "source": [
        "Podobnie jak dla wszystkich sekwenmcji, możliwe jest indeksowanie ujemne: `-1` oznacza dostęp do ostatniego elementu, `-2` - do przedostatniego, ..."
      ]
    },
    {
      "cell_type": "code",
      "metadata": {
        "colab": {
          "base_uri": "https://localhost:8080/"
        },
        "id": "TTBJtm-SGbhh",
        "outputId": "c1a1f17a-2a87-4c82-da2d-43f339e6ad12"
      },
      "source": [
        "print(f\"ostatni element krotki = {osoba[-1]}\")"
      ],
      "execution_count": null,
      "outputs": [
        {
          "output_type": "stream",
          "name": "stdout",
          "text": [
            "ostatni element krotki = 55\n"
          ]
        }
      ]
    },
    {
      "cell_type": "markdown",
      "metadata": {
        "id": "0OyfOSCwGbhh"
      },
      "source": [
        "Analogicznie jak dla sekwencji, możliwe jest odwołanie do zakresu elementów krotki (`[i:j]`):"
      ]
    },
    {
      "cell_type": "code",
      "metadata": {
        "colab": {
          "base_uri": "https://localhost:8080/"
        },
        "id": "D3pGMqrZGbhh",
        "outputId": "332a7261-082f-4886-a541-4c2cbab95df9"
      },
      "source": [
        "dane = (3, 2, 5, 4, 7, 9, 3, 2, 3, 1, 2)\n",
        "print(dane[2:5]) # wypisuje dane od indeksu 2 do indeksu 5 wyłacznie, czyli 4 włącznie"
      ],
      "execution_count": null,
      "outputs": [
        {
          "output_type": "stream",
          "name": "stdout",
          "text": [
            "(5, 4, 7)\n"
          ]
        }
      ]
    },
    {
      "cell_type": "markdown",
      "metadata": {
        "id": "jTOz3eQYGbhi"
      },
      "source": [
        "Nie podając początkowego lub końcowego elementu w zakresie otrzymujemy odpowiednie podciągi:"
      ]
    },
    {
      "cell_type": "code",
      "metadata": {
        "colab": {
          "base_uri": "https://localhost:8080/"
        },
        "id": "Lvek8kn3Gbhi",
        "outputId": "aebcb51e-3f54-42bc-9655-f163014a7391"
      },
      "source": [
        "print( dane )\n",
        "print( dane[5] )  # element o indeksie 5\n",
        "print( dane[:5] ) # elementy do indeksu 5, bez ostatniego\n",
        "print( dane[5:] ) # elementy od indeksu 5, włącznie"
      ],
      "execution_count": null,
      "outputs": [
        {
          "output_type": "stream",
          "name": "stdout",
          "text": [
            "(3, 2, 5, 4, 7, 9, 3, 2, 3, 1, 2)\n",
            "9\n",
            "(3, 2, 5, 4, 7)\n",
            "(9, 3, 2, 3, 1, 2)\n"
          ]
        }
      ]
    },
    {
      "cell_type": "markdown",
      "metadata": {
        "id": "L1oOKA0GGbhi"
      },
      "source": [
        "Elementy krotek możemy \"odpakować\", tzn. wydobyć z krotki i nadać im nazwę:"
      ]
    },
    {
      "cell_type": "code",
      "metadata": {
        "colab": {
          "base_uri": "https://localhost:8080/"
        },
        "id": "cKgIPHB1Gbhj",
        "outputId": "06beaab5-538a-42f0-9c6e-1d53fecfff8f"
      },
      "source": [
        "osoba = (1, 'Krzysztof', 'Molenda', 55)      # chcemy dodać płeć do tej krotki\n",
        "tmp = list(osoba)                            # krotka jest niezmiennicza, musimy\n",
        "                                             # 1. przeknwertować krotke na listę                                             \n",
        "tmp.append(\"mężczyzna\")                      # 2. dodać do listy, na koniec, nowy element\n",
        "osoba = tuple( tmp )                         # 3. przekonwertować listę na krotkę\n",
        "\n",
        "id, imie, nazwisko, wiek, płeć = osoba       # odpakowanie krotki\n",
        "print(f\"{imie + ' ' + nazwisko}, lat {wiek}, {płeć}\")"
      ],
      "execution_count": null,
      "outputs": [
        {
          "output_type": "stream",
          "name": "stdout",
          "text": [
            "Krzysztof Molenda, lat 55, mężczyzna\n"
          ]
        }
      ]
    },
    {
      "cell_type": "markdown",
      "metadata": {
        "id": "53--5vBiGbhj"
      },
      "source": [
        "Przy \"odpakowaniu\" mozna użyć symbolu gwiazdki `*` symbolizującego wiele elementów. Najczęściej używa się go dla ostatniej odpakowywanej zmiennej. Zmienna ta wtedy zawiera _listę pozostałych elementów_:"
      ]
    },
    {
      "cell_type": "code",
      "metadata": {
        "colab": {
          "base_uri": "https://localhost:8080/"
        },
        "id": "hNj8WZzJGbhj",
        "outputId": "539d79cf-8e7d-49e9-ec8a-1b985e08fc19"
      },
      "source": [
        "owoce = (\"jabłko\", \"banan\", \"wiśnia\", \"truskawka\", \"malina\", \"pomarańcza\")\n",
        "(zielone, żółte, *reszta) = owoce\n",
        "print(zielone)\n",
        "print(żółte)\n",
        "print(reszta)"
      ],
      "execution_count": null,
      "outputs": [
        {
          "output_type": "stream",
          "name": "stdout",
          "text": [
            "jabłko\n",
            "banan\n",
            "['wiśnia', 'truskawka', 'malina', 'pomarańcza']\n"
          ]
        }
      ]
    },
    {
      "cell_type": "markdown",
      "metadata": {
        "id": "wYpsKd6RGbhk"
      },
      "source": [
        "Jeśli gwiazdka pojawi się na innym niż ostatnim elemencie, Python przypisze wartości do pasujących zmiennych, analizując od lewej strony:"
      ]
    },
    {
      "cell_type": "code",
      "metadata": {
        "colab": {
          "base_uri": "https://localhost:8080/"
        },
        "id": "sNeQqM-nGbhk",
        "outputId": "9ae9195a-2692-4c99-9fd1-509702ca3e80"
      },
      "source": [
        "owoce = (\"jabłko\", \"banan\", \"wiśnia\", \"truskawka\", \"malina\", \"pomarańcza\")\n",
        "(zielone, żółte, *inne, cytrusy) = owoce\n",
        "print(zielone)\n",
        "print(żółte)\n",
        "print(inne)\n",
        "print(cytrusy)"
      ],
      "execution_count": null,
      "outputs": [
        {
          "output_type": "stream",
          "name": "stdout",
          "text": [
            "jabłko\n",
            "banan\n",
            "['wiśnia', 'truskawka', 'malina']\n",
            "pomarańcza\n"
          ]
        }
      ]
    },
    {
      "cell_type": "markdown",
      "metadata": {
        "id": "x5TDl8U8Gbhk"
      },
      "source": [
        "## Operacje na krotkach"
      ]
    },
    {
      "cell_type": "markdown",
      "metadata": {
        "id": "H1jEzXBUGbhl"
      },
      "source": [
        "Podobnie jak dla innych struktur (sekwencji, kolekcji) można określić rozmiar krotki za pomocą funkcji `len()`:"
      ]
    },
    {
      "cell_type": "code",
      "metadata": {
        "colab": {
          "base_uri": "https://localhost:8080/"
        },
        "id": "CveaoW8kGbhm",
        "outputId": "ed01e70e-6915-4ecb-b9c3-c93fda4ff177"
      },
      "source": [
        "osoba = (1, 'Krzysztof', 'Molenda', 55, \"mężczyzna\")\n",
        "print(osoba)\n",
        "print( f\"liczba elementów = {len(osoba)}\" )\n",
        "osoba1 = (1, \"Molenda\", (\"Balicka\", 116, \"Kraków\"), [3, 4, 8] )\n",
        "print(osoba1)\n",
        "print( f\"liczba elementów = {len(osoba1)}\" )"
      ],
      "execution_count": null,
      "outputs": [
        {
          "output_type": "stream",
          "name": "stdout",
          "text": [
            "(1, 'Krzysztof', 'Molenda', 55, 'mężczyzna')\n",
            "liczba elementów = 5\n",
            "(1, 'Molenda', ('Balicka', 116, 'Kraków'), [3, 4, 8])\n",
            "liczba elementów = 4\n"
          ]
        }
      ]
    },
    {
      "cell_type": "markdown",
      "metadata": {
        "id": "gcp5EfUaGbhm"
      },
      "source": [
        "Również możemy sprawdzać, czy dany element znajduje się w kolekcji (operator `in`), gdzie się znajduje (metoda `index`) oraz ile razy występuje (`count`):"
      ]
    },
    {
      "cell_type": "code",
      "metadata": {
        "colab": {
          "base_uri": "https://localhost:8080/"
        },
        "id": "r3faz4LZGbhn",
        "outputId": "7aac0df6-6a9d-416f-9a46-fd6aefbcba5d"
      },
      "source": [
        "ciąg = (0, 2, 1, 2, 3, 1, 4, 2, 1, 3, 2, 1, 2, 1)\n",
        "x = 3\n",
        "print(f\"czy {x} wystepuje? {x in ciąg}\")\n",
        "print(f\"liczba wystapień {x} jest równa {ciąg.count(x)}\")\n",
        "if x in ciąg:\n",
        "  print(f\"pozycja pierwszego wystapienia {x} jest równa {ciąg.index(x)}\")"
      ],
      "execution_count": null,
      "outputs": [
        {
          "output_type": "stream",
          "name": "stdout",
          "text": [
            "czy 3 wystepuje? True\n",
            "liczba wystapień 3 jest równa 2\n",
            "pozycja pierwszego wystapienia 3 jest równa 4\n"
          ]
        }
      ]
    },
    {
      "cell_type": "markdown",
      "metadata": {
        "id": "LhiZChdkGbho"
      },
      "source": [
        "Krotki, które są traktowane jako niezmiennicze kolekcje elementów, można iterować za pomocą konstrukcji pętli `for-in`:"
      ]
    },
    {
      "cell_type": "code",
      "metadata": {
        "colab": {
          "base_uri": "https://localhost:8080/"
        },
        "id": "3iLRunTCGbhp",
        "outputId": "91b4f2d6-b0e0-4856-b838-5840fa553447"
      },
      "source": [
        "# wypisuje liczby parzyste z ciągu\n",
        "ciąg = (0, 2, 1, 2, 3, 1, 4, 2, 1, 3, 2, 1, 2, 1)\n",
        "for liczba in ciąg:\n",
        "    if liczba % 2 == 0:\n",
        "        print(liczba)"
      ],
      "execution_count": null,
      "outputs": [
        {
          "output_type": "stream",
          "name": "stdout",
          "text": [
            "0\n",
            "2\n",
            "2\n",
            "4\n",
            "2\n",
            "2\n",
            "2\n"
          ]
        }
      ]
    },
    {
      "cell_type": "markdown",
      "metadata": {
        "id": "lGW0hRBYGbhp"
      },
      "source": [
        "Oczywiście krotki można iterować za pomocą pętli odwołując się do indeksów elementów (pętla `for` oraz `while`):"
      ]
    },
    {
      "cell_type": "code",
      "metadata": {
        "id": "fAZghSUQGbhq",
        "colab": {
          "base_uri": "https://localhost:8080/"
        },
        "outputId": "9958b5db-438f-495c-ca72-ef1af4ec84e0"
      },
      "source": [
        "ciąg = (0, 2, 1, 2, 3, 1, 4, 2, 1, 3, 2, 1, 2, 1)\n",
        "for i in range(len(ciąg)):\n",
        "    if ciąg[i] % 2 == 0:\n",
        "        print(ciąg[i])"
      ],
      "execution_count": null,
      "outputs": [
        {
          "output_type": "stream",
          "name": "stdout",
          "text": [
            "0\n",
            "2\n",
            "2\n",
            "4\n",
            "2\n",
            "2\n",
            "2\n"
          ]
        }
      ]
    },
    {
      "cell_type": "code",
      "metadata": {
        "id": "9eqpxB8GGbhq",
        "colab": {
          "base_uri": "https://localhost:8080/"
        },
        "outputId": "6925d699-34fd-4874-92c3-5207940b58ee"
      },
      "source": [
        "ciąg = (0, 2, 1, 2, 3, 1, 4, 2, 1, 3, 2, 1, 2, 1)\n",
        "i = 0\n",
        "while i < len(ciąg):\n",
        "    if ciąg[i] % 2 == 0:\n",
        "        print(ciąg[i])\n",
        "    i += 1"
      ],
      "execution_count": null,
      "outputs": [
        {
          "output_type": "stream",
          "name": "stdout",
          "text": [
            "0\n",
            "2\n",
            "2\n",
            "4\n",
            "2\n",
            "2\n",
            "2\n"
          ]
        }
      ]
    },
    {
      "cell_type": "markdown",
      "metadata": {
        "id": "njefFaTWGbhr"
      },
      "source": [
        "## Konwersje"
      ]
    },
    {
      "cell_type": "markdown",
      "metadata": {
        "id": "UQavIdwwGbhr"
      },
      "source": [
        "Krotka jest typem niezmienniczym, zatem nie możemy modyfikować jej elementów, nie możemy wstawiać lub dodawać nowych ani usuwać istniejących.\n",
        "\n",
        "Możemy jednak przekształcić krotkę na listę, na liście wykonać stosowne działania, a następnie przekonwertować listę na krotkę."
      ]
    },
    {
      "cell_type": "code",
      "metadata": {
        "id": "suROMWpNGbhs",
        "colab": {
          "base_uri": "https://localhost:8080/"
        },
        "outputId": "e3ac6449-ff5f-43fd-df52-3ba8ae4d24fa"
      },
      "source": [
        "osoba = (1, 'Krzysztof', 'Molenda', 55)\n",
        "print(\"krotka: \", osoba)\n",
        "osoba_jako_lista = list(osoba)          # konwersja z tuple na list\n",
        "print(\"lista: \", osoba_jako_lista)\n",
        "osoba_jako_lista[2] = \"Abacki\"          # modyfikujemy element nazwisko\n",
        "osoba_jako_lista.append(\"mężczyzna\")    # dodajemy nowy element, płeć\n",
        "print(\"lista: \", osoba_jako_lista)\n",
        "osoba = tuple(osoba_jako_lista)         # konwersja powrotna z list na tuple\n",
        "print(\"krotka: \", osoba)"
      ],
      "execution_count": null,
      "outputs": [
        {
          "output_type": "stream",
          "name": "stdout",
          "text": [
            "krotka:  (1, 'Krzysztof', 'Molenda', 55)\n",
            "lista:  [1, 'Krzysztof', 'Molenda', 55]\n",
            "lista:  [1, 'Krzysztof', 'Abacki', 55, 'mężczyzna']\n",
            "krotka:  (1, 'Krzysztof', 'Abacki', 55, 'mężczyzna')\n"
          ]
        }
      ]
    },
    {
      "cell_type": "markdown",
      "metadata": {
        "id": "hCFqfQPEGbht"
      },
      "source": [
        "## Łączenie krotek"
      ]
    },
    {
      "cell_type": "markdown",
      "metadata": {
        "id": "VCNKxFbPGbht"
      },
      "source": [
        "Krotki możemy łączyć operatorem `+`. Powstaje wtedy nowa krotka, zawierająca kolejno wszystkie elementy składników"
      ]
    },
    {
      "cell_type": "code",
      "metadata": {
        "colab": {
          "base_uri": "https://localhost:8080/"
        },
        "id": "irsnD_RUGbht",
        "outputId": "94e04cb4-e215-49d0-b8fc-2c8dc63fe9ac"
      },
      "source": [
        "tuple1 = (\"a\", \"b\", \"c\")\n",
        "tuple2 = (1, 2, 3)\n",
        "\n",
        "tuple3 = tuple1 + tuple2\n",
        "print(tuple3)"
      ],
      "execution_count": null,
      "outputs": [
        {
          "output_type": "stream",
          "name": "stdout",
          "text": [
            "('a', 'b', 'c', 1, 2, 3)\n"
          ]
        }
      ]
    },
    {
      "cell_type": "markdown",
      "metadata": {
        "id": "_8kYULfYGbhu"
      },
      "source": [
        "Krotki można również zwielokratniać (operator `*`)"
      ]
    },
    {
      "cell_type": "code",
      "metadata": {
        "colab": {
          "base_uri": "https://localhost:8080/"
        },
        "id": "hBj8RShxGbhu",
        "outputId": "6d6bc0db-c937-4be5-9ddb-d995b86d7cbf"
      },
      "source": [
        "tuple = (\"a\", \"b\", \"c\"*3)\n",
        "\n",
        "tuple3 = tuple * 2\n",
        "print(tuple3)\n",
        "\n",
        "tuple10 = ('a',)*100\n",
        "print(tuple10)"
      ],
      "execution_count": null,
      "outputs": [
        {
          "output_type": "stream",
          "name": "stdout",
          "text": [
            "('a', 'b', 'ccc', 'a', 'b', 'ccc')\n",
            "('a', 'a', 'a', 'a', 'a', 'a', 'a', 'a', 'a', 'a', 'a', 'a', 'a', 'a', 'a', 'a', 'a', 'a', 'a', 'a', 'a', 'a', 'a', 'a', 'a', 'a', 'a', 'a', 'a', 'a', 'a', 'a', 'a', 'a', 'a', 'a', 'a', 'a', 'a', 'a', 'a', 'a', 'a', 'a', 'a', 'a', 'a', 'a', 'a', 'a', 'a', 'a', 'a', 'a', 'a', 'a', 'a', 'a', 'a', 'a', 'a', 'a', 'a', 'a', 'a', 'a', 'a', 'a', 'a', 'a', 'a', 'a', 'a', 'a', 'a', 'a', 'a', 'a', 'a', 'a', 'a', 'a', 'a', 'a', 'a', 'a', 'a', 'a', 'a', 'a', 'a', 'a', 'a', 'a', 'a', 'a', 'a', 'a', 'a', 'a')\n"
          ]
        }
      ]
    },
    {
      "cell_type": "markdown",
      "metadata": {
        "id": "206SsTj7Gbhu"
      },
      "source": [
        "## Zadania"
      ]
    },
    {
      "cell_type": "markdown",
      "metadata": {
        "id": "M-mUnWNrGbhu"
      },
      "source": [
        "### Zadanie 1\n",
        "\n",
        "Uzupełnij kod funkcji tak, aby obliczała pole trójkąta dla podanych punktów na płaszczyźnie, reprezentowanych jako krotki (pary elementów)."
      ]
    },
    {
      "cell_type": "code",
      "metadata": {
        "colab": {
          "base_uri": "https://localhost:8080/"
        },
        "id": "IHP3ovDiGbhv",
        "outputId": "017fe6e9-46e3-4f8d-a107-f236b89bb002"
      },
      "source": [
        "import math\n",
        "\n",
        "# oblicza pole trójkąta dla punktów w przestrzeni 2D o podanych współrzędnych\n",
        "def PoleTrojkata(a, b, c):\n",
        "    # zapisz kod tutaj, pamiętaj o wcięciach    \n",
        "    return 0 # zmień 0 na obliczony wynik\n",
        "\n",
        "\n",
        "# ==========================\n",
        "# test poprawności działania\n",
        "a = (1, 2)\n",
        "b = (-1, -2)\n",
        "c = (3, -3)\n",
        "pole = PoleTrojkata(a, b, c)\n",
        "print(pole) # oczekiwany wynik: 3.0"
      ],
      "execution_count": null,
      "outputs": [
        {
          "output_type": "stream",
          "name": "stdout",
          "text": [
            "0\n"
          ]
        }
      ]
    },
    {
      "cell_type": "code",
      "metadata": {
        "colab": {
          "base_uri": "https://localhost:8080/",
          "height": 265
        },
        "id": "jTZinXRrGbhv",
        "outputId": "a3f16a6d-a0bc-4799-9c36-f15724396e51"
      },
      "source": [
        "a = (1, 2)\n",
        "b = (-1, -2)\n",
        "c = (3, -3)\n",
        "%matplotlib inline\n",
        "import matplotlib.pyplot as plt\n",
        "x_coords = [a[0], b[0], c[0], a[0] ]\n",
        "y_coords = [a[1], b[1], c[1], a[1] ]\n",
        "plt.plot(x_coords, y_coords) # rysuje wielokąt\n",
        "plt.show()"
      ],
      "execution_count": null,
      "outputs": [
        {
          "output_type": "display_data",
          "data": {
            "image/png": "[encoded data removed]",
            "text/plain": [
              "<Figure size 432x288 with 1 Axes>"
            ]
          },
          "metadata": {
            "needs_background": "light"
          }
        }
      ]
    },
    {
      "cell_type": "code",
      "metadata": {
        "id": "Nc5m8iyjGbhv"
      },
      "source": [
        ""
      ],
      "execution_count": null,
      "outputs": []
    }
  ]
}