{
  "nbformat": 4,
  "nbformat_minor": 0,
  "metadata": {
    "colab": {
      "name": "ComprehensionsGenerators.ipynb",
      "provenance": [],
      "collapsed_sections": [],
      "authorship_tag": "ABX9TyOSVERqwFP06K8oHVn5ozk8",
      "include_colab_link": true
    },
    "kernelspec": {
      "name": "python3",
      "display_name": "Python 3"
    },
    "language_info": {
      "name": "python"
    }
  },
  "cells": [
    {
      "cell_type": "markdown",
      "metadata": {
        "id": "view-in-github",
        "colab_type": "text"
      },
      "source": [
        "<a href=\"https://colab.research.google.com/github/URK-KIPLiIS/Python-lessons/blob/main/ComprehensionsGenerators.ipynb\" target=\"_parent\"><img src=\"https://colab.research.google.com/assets/colab-badge.svg\" alt=\"Open In Colab\"/></a>"
      ]
    },
    {
      "cell_type": "markdown",
      "source": [
        "# _Comprehensions_ i generatory w Pythonie"
      ],
      "metadata": {
        "id": "OTb_7COTpiKf"
      }
    },
    {
      "cell_type": "markdown",
      "source": [
        "## Wprowadzenie"
      ],
      "metadata": {
        "id": "WvAiexZ77ESC"
      }
    },
    {
      "cell_type": "markdown",
      "source": [
        "W języku Python wprowadzono, wzorując się na notacji matematycznej, zwarty i skrócony sposób opisywania kolekcji danych, nazywany _comprehension_ (w swobodnym tłumaczeniu polskim: \"wytwornik sekwencji\").\n",
        "\n",
        "Przykład:\n",
        "\n",
        "W notacji matematycznej zbiór kwadratów liczb naturalnych nie wiekszych niż $10$, zapiszemy następująco:\n",
        "\n",
        "$$\n",
        "\\{ n^2 : n \\in ℕ \\ \\text{i} \\ n < 10 \\}\n",
        "$$\n",
        "\n",
        "Dwukropek należy czytać: \"takich, że\". Czyli powyższy zapis przeczytamy jako:\n",
        "\n",
        "> zbiór kwadratów $n$ takich, że $n$ jest liczbą naturalną mniejszą niż $10$.\n",
        "\n",
        "\n",
        "W Pythonie zbiór ten zapiszemy następująco:\n",
        "\n",
        "```python\n",
        "kwadraty = {n**2 for n in range(10)}\n",
        "```\n",
        "\n",
        "UWAGA: zbiór jest strukturą nieuporządkowaną, zatem wydruk jego elementów nie musi być w porządku rosnącym (lub malejącym).\n",
        "\n",
        "W zależności od potrzeb, możemy również opisywać w ten sposób listy oraz słowniki."
      ],
      "metadata": {
        "id": "qoSIYkA9w4B_"
      }
    },
    {
      "cell_type": "code",
      "execution_count": 50,
      "metadata": {
        "colab": {
          "base_uri": "https://localhost:8080/"
        },
        "id": "RddTFqKHpgdx",
        "outputId": "b1285aec-ccd4-496c-f6ee-e98fcd4c73e1"
      },
      "outputs": [
        {
          "output_type": "stream",
          "name": "stdout",
          "text": [
            "{0, 1, 64, 4, 36, 9, 16, 49, 81, 25}\n"
          ]
        }
      ],
      "source": [
        "kwadraty_zbior = {n**2 for n in range(10)}\n",
        "print(kwadraty_zbior)"
      ]
    },
    {
      "cell_type": "code",
      "source": [
        "kwadraty_lista = [n**2 for n in range(10)]\n",
        "print(kwadraty_lista)"
      ],
      "metadata": {
        "colab": {
          "base_uri": "https://localhost:8080/"
        },
        "id": "U8MDVndJ1mdc",
        "outputId": "34790b38-e8bb-4498-fc86-761937616398"
      },
      "execution_count": 51,
      "outputs": [
        {
          "output_type": "stream",
          "name": "stdout",
          "text": [
            "[0, 1, 4, 9, 16, 25, 36, 49, 64, 81]\n"
          ]
        }
      ]
    },
    {
      "cell_type": "code",
      "source": [
        "kwadraty_slownik = {n : n**2 for n in range(10)}\n",
        "print(kwadraty_slownik)"
      ],
      "metadata": {
        "colab": {
          "base_uri": "https://localhost:8080/"
        },
        "id": "Wd9o4E9C2M2o",
        "outputId": "14c3efad-f017-4b45-8b06-c3d9071a9c7f"
      },
      "execution_count": 52,
      "outputs": [
        {
          "output_type": "stream",
          "name": "stdout",
          "text": [
            "{0: 0, 1: 1, 2: 4, 3: 9, 4: 16, 5: 25, 6: 36, 7: 49, 8: 64, 9: 81}\n"
          ]
        }
      ]
    },
    {
      "cell_type": "markdown",
      "source": [
        "**Ciekawostka**: W Pythonie nie można jawnie stosować notacji _comprehension_ do definiowania wytworników krotek (_tuple comprehension_), tzn. poniższy zapis **nie jest prawidłowy**:\n",
        "\n",
        "```python\n",
        "kwadraty_krotka = (n**2 for n in range(10) ) # niepoprawnie\n",
        "```\n",
        "\n",
        "Jednakże zarówno krotki, jak i listy, zbiory czy słowniki możemy definiować przy pomocy podobnej notacji: konstruktora i generatora (o tym później)."
      ],
      "metadata": {
        "id": "7Bvk9ggr2MH3"
      }
    },
    {
      "cell_type": "code",
      "source": [
        "kwadraty_krotka = (n**2 for n in range(10) ) # tworzony jest obiekt generatora\n",
        "print(kwadraty_krotka)                       # nie jest to krotka\n",
        "print(*kwadraty_krotka)                      # odpakowanie generatora do postaci krotki\n",
        "                                             # od Python 3.5"
      ],
      "metadata": {
        "colab": {
          "base_uri": "https://localhost:8080/"
        },
        "id": "3LIrI5l326nW",
        "outputId": "2d004f74-b2b2-43ef-f6a3-14f19329305f"
      },
      "execution_count": 53,
      "outputs": [
        {
          "output_type": "stream",
          "name": "stdout",
          "text": [
            "<generator object <genexpr> at 0x7fefc47f3550>\n",
            "0 1 4 9 16 25 36 49 64 81\n"
          ]
        }
      ]
    },
    {
      "cell_type": "markdown",
      "source": [
        "Stsowanie notacji _comprehesion_ zwalnia nas z jawnego generowania sekwencji. Przykładowo, budowę listy kwadratów kolejnych liczb całkowitych możemy zapisać przy użyciu pętli:"
      ],
      "metadata": {
        "id": "RkZFRde17QJF"
      }
    },
    {
      "cell_type": "code",
      "source": [
        "kwadraty = []\n",
        "for n in range(10):\n",
        "  kwadraty.append(n**2)\n",
        "print(kwadraty)"
      ],
      "metadata": {
        "colab": {
          "base_uri": "https://localhost:8080/"
        },
        "id": "2HNv0UlQ7O3v",
        "outputId": "6f8b4cf3-0338-4f00-8782-607ba8e68d95"
      },
      "execution_count": 54,
      "outputs": [
        {
          "output_type": "stream",
          "name": "stdout",
          "text": [
            "[0, 1, 4, 9, 16, 25, 36, 49, 64, 81]\n"
          ]
        }
      ]
    },
    {
      "cell_type": "markdown",
      "source": [
        "## Składnia"
      ],
      "metadata": {
        "id": "XsjaMIRF7Bjj"
      }
    },
    {
      "cell_type": "markdown",
      "source": [
        "Podstawowa składnia zastosowania wytwornika sekwencji (np. dla listy):\n",
        "\n",
        "```python\n",
        "sekwencja = [wyrażenie for element in sekwencja_iterowalna]\n",
        "```\n",
        "\n",
        "* _wyrażenie_ - wartość, któa zostanie umieszczona na liście\n",
        "* _element_ - obiekt lub wartość należąca do sekwencji bazowej\n",
        "* _sekwencja_iterowalna_ - sekwencja (lista, zbiór, ...) lub _generator_, dla których można zastosować petlę `for`.\n",
        "\n",
        "Bardziej rozbudowaną wersją wytwornika sekwencji jest ta, z uzyciem instrukcji warynkowego wyboru:\n",
        "\n",
        "```python\n",
        "sekwencja = [wyrażenie for element in sekwencja_iterowalna if warunek_logiczny]\n",
        "```\n",
        "\n",
        "Poniżej przykład:"
      ],
      "metadata": {
        "id": "J2Kea-nH79c0"
      }
    },
    {
      "cell_type": "code",
      "source": [
        "zdanie = \"Ala ma kota, as to Ali pies, który kiedyś będzie duży\"\n",
        "lista_samoglosek_w_zdaniu = [litera for litera in zdanie if litera.lower() in 'aeiouyęą']\n",
        "print(lista_samoglosek_w_zdaniu)\n",
        "\n",
        "zbior_samoglosek_w_zdaniu = {litera for litera in zdanie if litera.lower() in 'aeiouyęą'}\n",
        "print(zbior_samoglosek_w_zdaniu)"
      ],
      "metadata": {
        "colab": {
          "base_uri": "https://localhost:8080/"
        },
        "id": "6IpjBRRvB4Rr",
        "outputId": "2f6a300b-a6d3-4a82-aeab-2862e22b8fd8"
      },
      "execution_count": 55,
      "outputs": [
        {
          "output_type": "stream",
          "name": "stdout",
          "text": [
            "['A', 'a', 'a', 'o', 'a', 'a', 'o', 'A', 'i', 'i', 'e', 'y', 'i', 'e', 'y', 'ę', 'i', 'e', 'u', 'y']\n",
            "{'u', 'A', 'o', 'i', 'ę', 'e', 'a', 'y'}\n"
          ]
        }
      ]
    },
    {
      "cell_type": "markdown",
      "source": [
        "Poniżej przykłady wyznaczające frekwencję liter w zdaniu:"
      ],
      "metadata": {
        "id": "oFV0Rd8lER42"
      }
    },
    {
      "cell_type": "code",
      "source": [
        "zdanie = \"Ala ma kota, as to Ali pies, który kiedyś będzie duży\"\n",
        "\n",
        "#wariant 1 - dict-comprehension\n",
        "frekwencja_liter = {litera : zdanie.count(litera) for litera in zdanie}\n",
        "print(frekwencja_liter)\n",
        "\n",
        "# wariant 2 - dedykowany obiekt Counter do generowania frekwencji\n",
        "from collections import Counter\n",
        "print( Counter(zdanie) ) # zwracany jest obiekt Counter\n",
        "print( dict(Counter(zdanie) ) ) # konwerujemy obiekt Counter na słownik"
      ],
      "metadata": {
        "colab": {
          "base_uri": "https://localhost:8080/"
        },
        "id": "E15vO4SrDgl-",
        "outputId": "2a242d89-1a6e-4449-d622-379b54348112"
      },
      "execution_count": 56,
      "outputs": [
        {
          "output_type": "stream",
          "name": "stdout",
          "text": [
            "{'A': 2, 'l': 2, 'a': 4, ' ': 10, 'm': 1, 'k': 3, 'o': 2, 't': 3, ',': 2, 's': 2, 'i': 4, 'p': 1, 'e': 3, 'ó': 1, 'r': 1, 'y': 3, 'd': 3, 'ś': 1, 'b': 1, 'ę': 1, 'z': 1, 'u': 1, 'ż': 1}\n",
            "Counter({' ': 10, 'a': 4, 'i': 4, 'k': 3, 't': 3, 'e': 3, 'y': 3, 'd': 3, 'A': 2, 'l': 2, 'o': 2, ',': 2, 's': 2, 'm': 1, 'p': 1, 'ó': 1, 'r': 1, 'ś': 1, 'b': 1, 'ę': 1, 'z': 1, 'u': 1, 'ż': 1})\n",
            "{'A': 2, 'l': 2, 'a': 4, ' ': 10, 'm': 1, 'k': 3, 'o': 2, 't': 3, ',': 2, 's': 2, 'i': 4, 'p': 1, 'e': 3, 'ó': 1, 'r': 1, 'y': 3, 'd': 3, 'ś': 1, 'b': 1, 'ę': 1, 'z': 1, 'u': 1, 'ż': 1}\n"
          ]
        }
      ]
    },
    {
      "cell_type": "markdown",
      "source": [
        "Wytworniki sekwencji można zastosować do opisywania bardziej złożonych struktur, np. zagnieżdżając je w sobie:"
      ],
      "metadata": {
        "id": "cvY1xz1NFS86"
      }
    },
    {
      "cell_type": "code",
      "source": [
        "# tablica 6 wierszy i 5 kolumn, wypełniona domyślnymi wartościami\n",
        "tablica2D = [[i for i in range(5)] for j in range(6)]\n",
        "print(tablica2D)\n",
        "\n",
        "# spłaszczenie tablicy - wypisanie elementów wierszami\n",
        "tablica1D = []\n",
        "for wiersz in tablica2D:\n",
        "  for x in wiersz:\n",
        "    tablica1D.append(x)\n",
        "print(tablica1D)\n",
        "\n",
        "# spłaszczenie tablicy do listy w formie comprehension\n",
        "tablica1D = [x for wiersz in tablica2D for x in wiersz]\n",
        "print(tablica1D)"
      ],
      "metadata": {
        "colab": {
          "base_uri": "https://localhost:8080/"
        },
        "id": "L6qWeTb0FnPs",
        "outputId": "f6f60389-ef0f-4e48-9c90-a63bbe97c32f"
      },
      "execution_count": 57,
      "outputs": [
        {
          "output_type": "stream",
          "name": "stdout",
          "text": [
            "[[0, 1, 2, 3, 4], [0, 1, 2, 3, 4], [0, 1, 2, 3, 4], [0, 1, 2, 3, 4], [0, 1, 2, 3, 4], [0, 1, 2, 3, 4]]\n",
            "[0, 1, 2, 3, 4, 0, 1, 2, 3, 4, 0, 1, 2, 3, 4, 0, 1, 2, 3, 4, 0, 1, 2, 3, 4, 0, 1, 2, 3, 4]\n",
            "[0, 1, 2, 3, 4, 0, 1, 2, 3, 4, 0, 1, 2, 3, 4, 0, 1, 2, 3, 4, 0, 1, 2, 3, 4, 0, 1, 2, 3, 4]\n"
          ]
        }
      ]
    },
    {
      "cell_type": "markdown",
      "source": [
        "## Generatory"
      ],
      "metadata": {
        "id": "6dqc2OiP7y3i"
      }
    },
    {
      "cell_type": "markdown",
      "source": [
        "Generator, to specjalna funkcja produkująca sekwencję wartości, ale w specjalny sposób - zwracająca kolejne elementy sekwencji na żądanie. Elementy _wyrzucane_ są z funkcji za pomocą instrukcji `yield` (a nie `return`)."
      ],
      "metadata": {
        "id": "qURyPNiDHUJJ"
      }
    },
    {
      "cell_type": "code",
      "source": [
        "# generator opisujący skończoną sekwencję 0 i 1\n",
        "def ZeroJeden():\n",
        "  yield 0;\n",
        "  yield 1;\n",
        "\n",
        "for x in ZeroJeden():\n",
        "  print( x )\n",
        "\n",
        "print(\"-----\")\n",
        "\n",
        "for i in range(10):\n",
        "  for x in ZeroJeden():\n",
        "    print( x, end=\" \" )"
      ],
      "metadata": {
        "colab": {
          "base_uri": "https://localhost:8080/"
        },
        "id": "RkAsD9U8HvgI",
        "outputId": "73183b8b-f8c3-4c5d-9ba6-43cf48b1acad"
      },
      "execution_count": 58,
      "outputs": [
        {
          "output_type": "stream",
          "name": "stdout",
          "text": [
            "0\n",
            "1\n",
            "-----\n",
            "0 1 0 1 0 1 0 1 0 1 0 1 0 1 0 1 0 1 0 1 "
          ]
        }
      ]
    },
    {
      "cell_type": "code",
      "source": [
        "# generator opisujący nieskończoną sekwencję 0 i 1\n",
        "# zwracający n-krotnie pary 0 1\n",
        "def ZeroJeden(n):\n",
        "  for i in range(n):\n",
        "    yield 0\n",
        "    yield 1\n",
        "\n",
        "for x in ZeroJeden(7):\n",
        "  print( x, end=\" \" )"
      ],
      "metadata": {
        "colab": {
          "base_uri": "https://localhost:8080/"
        },
        "id": "lZhBpYRqId7H",
        "outputId": "86b533cd-45c0-4be2-dfd5-4d53a27a3cb4"
      },
      "execution_count": 59,
      "outputs": [
        {
          "output_type": "stream",
          "name": "stdout",
          "text": [
            "0 1 0 1 0 1 0 1 0 1 0 1 0 1 "
          ]
        }
      ]
    },
    {
      "cell_type": "code",
      "source": [
        "# generator opisujący nieskończoną sekwencję 0 i 1\n",
        "# zwracający n pierwszych elementów sekwencji\n",
        "def CiagZeroJeden(n=0):\n",
        "  i = 0\n",
        "  while i < n:\n",
        "    if i % 2 == 0:\n",
        "      yield 0\n",
        "    else:\n",
        "      yield 1\n",
        "    i += 1\n",
        "\n",
        "for x in CiagZeroJeden(7):\n",
        "  print( x, end=\" \" )"
      ],
      "metadata": {
        "colab": {
          "base_uri": "https://localhost:8080/"
        },
        "id": "8I2TKu9jKxBX",
        "outputId": "2e0056f1-6ecb-4b28-d4d4-b1eb901fffec"
      },
      "execution_count": 60,
      "outputs": [
        {
          "output_type": "stream",
          "name": "stdout",
          "text": [
            "0 1 0 1 0 1 0 "
          ]
        }
      ]
    },
    {
      "cell_type": "code",
      "source": [
        "# generator zwracający kolejne liczby parzyste\n",
        "# nie wieksze niż n\n",
        "def Parzyste(n=0):  \n",
        "  for i in range(n):\n",
        "    if i % 2==0: yield i\n",
        "\n",
        "for x in Parzyste(11):\n",
        "  print(x, end=\" \")"
      ],
      "metadata": {
        "colab": {
          "base_uri": "https://localhost:8080/"
        },
        "id": "5_0liUQTOZqS",
        "outputId": "aa60db21-59db-49f7-d14a-6afab64f6269"
      },
      "execution_count": 61,
      "outputs": [
        {
          "output_type": "stream",
          "name": "stdout",
          "text": [
            "0 2 4 6 8 10 "
          ]
        }
      ]
    },
    {
      "cell_type": "markdown",
      "source": [
        "Zamiast tworzyć dedykowane funkcje generujące sekwencję, można zastosować notację _wyrażenia generującego_, podobną do _comprehension_. W tym przypadku używamy nawiasów okrągłych (dlatego nie można tworzyć wytworników krotek - bo notacja jest podobna)."
      ],
      "metadata": {
        "id": "GJdG18DF71rW"
      }
    },
    {
      "cell_type": "code",
      "source": [
        "wyrazenie_generujace = (x for x in {0, 1})\n",
        "print(wyrazenie_generujace)\n",
        "print( *(wyrazenie_generujace) ) # gwiazdka odpakowuje obiekt typu generator"
      ],
      "metadata": {
        "colab": {
          "base_uri": "https://localhost:8080/"
        },
        "id": "gA_yYwloMvBK",
        "outputId": "0760247d-0fbe-4a0b-b283-b86334d9437a"
      },
      "execution_count": 62,
      "outputs": [
        {
          "output_type": "stream",
          "name": "stdout",
          "text": [
            "<generator object <genexpr> at 0x7fefc477ff50>\n",
            "0 1\n"
          ]
        }
      ]
    },
    {
      "cell_type": "markdown",
      "source": [
        "Wyrażenia generujące, w powiązaniu z konstruktorem kolekcji wykorzystywane są do budowania kolekcji (w szczególności dla krotek, gdzie notacja _comprehension_ nie działa):"
      ],
      "metadata": {
        "id": "N63guf7kQgpD"
      }
    },
    {
      "cell_type": "code",
      "source": [
        "# kwadraty_zbior = {n**2 for n in range(10)}\n",
        "kwadraty_zbior = set( n**2 for n in range(10) )\n",
        "print(kwadraty_zbior)\n",
        "\n",
        "# kwadraty_lista = [n**2 for n in range(10)]\n",
        "kwadraty_lista = list(n**2 for n in range(10))\n",
        "print(kwadraty_lista)\n",
        "\n",
        "# kwadraty_slownik = {n : n**2 for n in range(10)}\n",
        "kwadraty_slownik = dict( (n,n**2) for n in range(10))\n",
        "print(kwadraty_slownik)\n",
        "\n",
        "# kwadraty_krotka = (n**2 for n in range(10) )\n",
        "kwadraty_krotka = tuple( n**2 for n in range(10) )\n",
        "print(kwadraty_krotka)  "
      ],
      "metadata": {
        "colab": {
          "base_uri": "https://localhost:8080/"
        },
        "id": "utuTpwRX8Wwz",
        "outputId": "975637e9-6baf-4238-f2cd-1099dabfede3"
      },
      "execution_count": 63,
      "outputs": [
        {
          "output_type": "stream",
          "name": "stdout",
          "text": [
            "{0, 1, 64, 4, 36, 9, 16, 49, 81, 25}\n",
            "[0, 1, 4, 9, 16, 25, 36, 49, 64, 81]\n",
            "{0: 0, 1: 1, 2: 4, 3: 9, 4: 16, 5: 25, 6: 36, 7: 49, 8: 64, 9: 81}\n",
            "(0, 1, 4, 9, 16, 25, 36, 49, 64, 81)\n"
          ]
        }
      ]
    },
    {
      "cell_type": "markdown",
      "source": [
        "Wyrażenia generujące możemy użyć w powiązaniu z funkcjami (jako argumenty funkcji):"
      ],
      "metadata": {
        "id": "mI2IJ1DqWCyz"
      }
    },
    {
      "cell_type": "code",
      "source": [
        "lista = [0, 1, 4, 9, 16, 25, 36, 49, 64, 81, 100, 121]\n",
        "print( sum(n for n in lista) )\n",
        "print( sum(n for n in lista if n % 2 == 0) )"
      ],
      "metadata": {
        "colab": {
          "base_uri": "https://localhost:8080/"
        },
        "id": "jqEYMZEoWIaf",
        "outputId": "297cfc98-19a6-40a8-88f1-08128d22d962"
      },
      "execution_count": 75,
      "outputs": [
        {
          "output_type": "stream",
          "name": "stdout",
          "text": [
            "506\n",
            "220\n"
          ]
        }
      ]
    },
    {
      "cell_type": "markdown",
      "source": [
        "Przykład bardziej zaawansowany - generator kolejnych liczb pierwszych"
      ],
      "metadata": {
        "id": "MXEIK4jeXKGY"
      }
    },
    {
      "cell_type": "code",
      "source": [
        "# Sito Eratostenesa jako generator liczb pierwszych\n",
        "def LiczbyPierwsze(n):\n",
        "    \"\"\"generuje sekwencję liczb pierwszych nie większych niż n\"\"\"\n",
        "    primes = set()\n",
        "    for n in range(2, n):\n",
        "        if all(n % p > 0 for p in primes):\n",
        "            primes.add(n)\n",
        "            yield n\n",
        "\n",
        "for x in LiczbyPierwsze(100):\n",
        "  print(x, end=\" \")"
      ],
      "metadata": {
        "colab": {
          "base_uri": "https://localhost:8080/"
        },
        "id": "DQ3EY7SUQ20M",
        "outputId": "fb575d8b-23e0-4a69-a5d3-145438ae24ed"
      },
      "execution_count": 64,
      "outputs": [
        {
          "output_type": "stream",
          "name": "stdout",
          "text": [
            "2 3 5 7 11 13 17 19 23 29 31 37 41 43 47 53 59 61 67 71 73 79 83 89 97 "
          ]
        }
      ]
    },
    {
      "cell_type": "markdown",
      "source": [
        "## Generator _versus_ wytwornik - porównanie"
      ],
      "metadata": {
        "id": "eiWl0vmjRXJb"
      }
    },
    {
      "cell_type": "code",
      "source": [
        "lista = [n ** 2 for n in range(12)]     # lista już jest w pamięci, zajmuje miejsce\n",
        "generator = (n ** 2 for n in range(12)) # generator jest opisem, nie zajmuje pamięci\n",
        "\n",
        "print(lista)\n",
        "print(generator)\n",
        "\n",
        "# przeglądamy elementy listy, która jest w pamięci\n",
        "for x in lista:\n",
        "  print(x, end=\" \")\n",
        "\n",
        "print(\"\\n---\")\n",
        "\n",
        "# z każdym obrotem pętli żądamy wygenerowania kolejnego elementu\n",
        "for x in generator:\n",
        "  print(x, end=\" \")"
      ],
      "metadata": {
        "colab": {
          "base_uri": "https://localhost:8080/"
        },
        "id": "NUjFTL4vRVWc",
        "outputId": "bb1502d5-2193-4395-c4ee-9fcba66fe5db"
      },
      "execution_count": 65,
      "outputs": [
        {
          "output_type": "stream",
          "name": "stdout",
          "text": [
            "[0, 1, 4, 9, 16, 25, 36, 49, 64, 81, 100, 121]\n",
            "<generator object <genexpr> at 0x7fefc47b64d0>\n",
            "0 1 4 9 16 25 36 49 64 81 100 121 \n",
            "---\n",
            "0 1 4 9 16 25 36 49 64 81 100 121 "
          ]
        }
      ]
    },
    {
      "cell_type": "markdown",
      "source": [
        "Generatory używamy dla opisu dużych zbiorów danych o pewnych charakterystycznych cechach, które da się zapisać kodem.\n",
        "\n",
        "Przykładem powszechnie uzywanego generatora jest `range(start, stop, step)`.\n",
        "\n",
        "UWAGA: listy możemy przeglądać wielokrotnie, generator jest jednokrotnego użycia!"
      ],
      "metadata": {
        "id": "Rb_-39fLTbDT"
      }
    },
    {
      "cell_type": "code",
      "source": [
        "generator = (n ** 2 for n in range(12)) \n",
        "\n",
        "for x in generator:\n",
        "  if x > 29: break\n",
        "  print( x, end=\" \")\n",
        "\n",
        "print()\n",
        "\n",
        "print( list(generator) ) # elementy, których nie przeglądneliśmy\n",
        "\n",
        "print( list(generator) ) # jest puty, wyczerpany\n"
      ],
      "metadata": {
        "colab": {
          "base_uri": "https://localhost:8080/"
        },
        "id": "jMq5gfDCUvY4",
        "outputId": "85a08b57-c10d-469c-a111-02956fe3ae89"
      },
      "execution_count": 69,
      "outputs": [
        {
          "output_type": "stream",
          "name": "stdout",
          "text": [
            "0 1 4 9 16 25 \n",
            "[49, 64, 81, 100, 121]\n",
            "[]\n"
          ]
        }
      ]
    },
    {
      "cell_type": "markdown",
      "source": [
        "Elementy zwracane przez generator możemy uzyskiwać przez `next`"
      ],
      "metadata": {
        "id": "s9Do2eRjXR9X"
      }
    },
    {
      "cell_type": "code",
      "source": [
        "def NieskonczonaSekwencjaLiczbNieparzystych():\n",
        "  i = 1\n",
        "  while True:\n",
        "    yield i\n",
        "    i += 2\n",
        "\n",
        "liczby_nieparzyste = NieskonczonaSekwencjaLiczbNieparzystych()\n",
        "while x < 20:\n",
        "  x = next( liczby_nieparzyste )\n",
        "  print(x)"
      ],
      "metadata": {
        "colab": {
          "base_uri": "https://localhost:8080/"
        },
        "id": "wdsxTDruXXYw",
        "outputId": "2bed660b-688f-4c55-83dc-852919139181"
      },
      "execution_count": 79,
      "outputs": [
        {
          "output_type": "stream",
          "name": "stdout",
          "text": [
            "1\n",
            "3\n",
            "5\n",
            "7\n",
            "9\n",
            "11\n",
            "13\n",
            "15\n",
            "17\n",
            "19\n",
            "21\n"
          ]
        }
      ]
    }
  ]
}