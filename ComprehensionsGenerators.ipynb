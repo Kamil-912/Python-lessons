{
  "nbformat": 4,
  "nbformat_minor": 0,
  "metadata": {
    "colab": {
      "name": "ComprehensionsGenerators.ipynb",
      "provenance": [],
      "collapsed_sections": [],
      "authorship_tag": "ABX9TyPjeL+AD5g9yQKuB2e2Qejo",
      "include_colab_link": true
    },
    "kernelspec": {
      "name": "python3",
      "display_name": "Python 3"
    },
    "language_info": {
      "name": "python"
    }
  },
  "cells": [
    {
      "cell_type": "markdown",
      "metadata": {
        "id": "view-in-github",
        "colab_type": "text"
      },
      "source": [
        "<a href=\"https://colab.research.google.com/github/URK-KIPLiIS/Python-lessons/blob/main/ComprehensionsGenerators.ipynb\" target=\"_parent\"><img src=\"https://colab.research.google.com/assets/colab-badge.svg\" alt=\"Open In Colab\"/></a>"
      ]
    },
    {
      "cell_type": "markdown",
      "source": [
        "# _Comprehensions_ i generatory w Pythonie"
      ],
      "metadata": {
        "id": "OTb_7COTpiKf"
      }
    },
    {
      "cell_type": "markdown",
      "source": [
        "## Wprowadzenie"
      ],
      "metadata": {
        "id": "WvAiexZ77ESC"
      }
    },
    {
      "cell_type": "markdown",
      "source": [
        "W języku Python wprowadzono, wzorując się na notacji matematycznej, zwarty i skrócony sposób opisywania kolekcji danych, nazywany _comprehension_ (w swobodnym tłumaczeniu polskim: \"wytwornik sekwencji\").\n",
        "\n",
        "Przykład:\n",
        "\n",
        "W notacji matematycznej zbiór kwadratów liczb naturalnych nie wiekszych niż $10$, zapiszemy następująco:\n",
        "\n",
        "$$\n",
        "\\{ n^2 : n \\in ℕ \\ \\text{i} \\ n < 10 \\}\n",
        "$$\n",
        "\n",
        "Dwukropek należy czytać: \"takich, że\". Czyli powyższy zapis przeczytamy jako:\n",
        "\n",
        "> zbiór kwadratów $n$ takich, że $n$ jest liczbą naturalną mniejszą niż $10$.\n",
        "\n",
        "\n",
        "W Pythonie zbiór ten zapiszemy następująco:\n",
        "\n",
        "```python\n",
        "kwadraty = {n**2 for n in range(10)}\n",
        "```\n",
        "\n",
        "UWAGA: zbiór jest strukturą nieuporządkowaną, zatem wydruk jego elementów nie musi być w porządku rosnącym (lub malejącym).\n",
        "\n",
        "W zależności od potrzeb, możemy również opisywać w ten sposób listy oraz słowniki."
      ],
      "metadata": {
        "id": "qoSIYkA9w4B_"
      }
    },
    {
      "cell_type": "code",
      "execution_count": 1,
      "metadata": {
        "colab": {
          "base_uri": "https://localhost:8080/"
        },
        "id": "RddTFqKHpgdx",
        "outputId": "f773654c-d4d3-49bb-aca3-3cabc6612afc"
      },
      "outputs": [
        {
          "output_type": "stream",
          "name": "stdout",
          "text": [
            "{0, 1, 64, 4, 36, 9, 16, 49, 81, 25}\n"
          ]
        }
      ],
      "source": [
        "kwadraty_zbior = {n**2 for n in range(10)}\n",
        "print(kwadraty_zbior)"
      ]
    },
    {
      "cell_type": "code",
      "source": [
        "kwadraty_lista = [n**2 for n in range(10)]\n",
        "print(kwadraty_lista)"
      ],
      "metadata": {
        "colab": {
          "base_uri": "https://localhost:8080/"
        },
        "id": "U8MDVndJ1mdc",
        "outputId": "4e15ed8b-ab9e-4484-c85c-ed65516d560a"
      },
      "execution_count": 2,
      "outputs": [
        {
          "output_type": "stream",
          "name": "stdout",
          "text": [
            "[0, 1, 4, 9, 16, 25, 36, 49, 64, 81]\n"
          ]
        }
      ]
    },
    {
      "cell_type": "code",
      "source": [
        "kwadraty_slownik = {n : n**2 for n in range(10)}\n",
        "print(kwadraty_slownik)"
      ],
      "metadata": {
        "colab": {
          "base_uri": "https://localhost:8080/"
        },
        "id": "Wd9o4E9C2M2o",
        "outputId": "45b89b60-98de-4517-d00a-f1bf32cfd022"
      },
      "execution_count": 3,
      "outputs": [
        {
          "output_type": "stream",
          "name": "stdout",
          "text": [
            "{0: 0, 1: 1, 2: 4, 3: 9, 4: 16, 5: 25, 6: 36, 7: 49, 8: 64, 9: 81}\n"
          ]
        }
      ]
    },
    {
      "cell_type": "markdown",
      "source": [
        "**Ciekawostka**: W Pythonie nie można jawnie stosować notacji _comprehension_ do definiowania wytworników krotek (_tuple comprehension_), tzn. poniższy zapis **nie jest prawidłowy**:\n",
        "\n",
        "```python\n",
        "kwadraty_krotka = (n**2 for n in range(10) ) # niepoprawnie\n",
        "```\n",
        "\n",
        "Jednakże zarówno krotki, jak i listy, zbiory czy słowniki możemy definiować przy pomocy podobnej notacji: konstruktora i generatora (o tym później)."
      ],
      "metadata": {
        "id": "7Bvk9ggr2MH3"
      }
    },
    {
      "cell_type": "code",
      "source": [
        "kwadraty_krotka = (n**2 for n in range(10) ) # tworzony jest obiekt generatora\n",
        "print(kwadraty_krotka)                       # nie jest to krotka\n",
        "print(*kwadraty_krotka)                      # odpakowanie generatora do postaci krotki\n",
        "                                             # od Python 3.5"
      ],
      "metadata": {
        "colab": {
          "base_uri": "https://localhost:8080/"
        },
        "id": "3LIrI5l326nW",
        "outputId": "1db8f749-9aa0-4957-91e2-9552409a28c1"
      },
      "execution_count": 4,
      "outputs": [
        {
          "output_type": "stream",
          "name": "stdout",
          "text": [
            "<generator object <genexpr> at 0x7f0c50c33dd0>\n",
            "0 1 4 9 16 25 36 49 64 81\n"
          ]
        }
      ]
    },
    {
      "cell_type": "markdown",
      "source": [
        "Stsowanie notacji _comprehesion_ zwalnia nas z jawnego generowania sekwencji. Przykładowo, budowę listy kwadratów kolejnych liczb całkowitych możemy zapisać przy użyciu pętli:"
      ],
      "metadata": {
        "id": "RkZFRde17QJF"
      }
    },
    {
      "cell_type": "code",
      "source": [
        "kwadraty = []\n",
        "for n in range(10):\n",
        "  kwadraty.append(n**2)\n",
        "print(kwadraty)"
      ],
      "metadata": {
        "colab": {
          "base_uri": "https://localhost:8080/"
        },
        "id": "2HNv0UlQ7O3v",
        "outputId": "3b5baf79-cb4a-4a25-ddc6-eb6cd1ab03bd"
      },
      "execution_count": 5,
      "outputs": [
        {
          "output_type": "stream",
          "name": "stdout",
          "text": [
            "[0, 1, 4, 9, 16, 25, 36, 49, 64, 81]\n"
          ]
        }
      ]
    },
    {
      "cell_type": "markdown",
      "source": [
        "## Składnia"
      ],
      "metadata": {
        "id": "XsjaMIRF7Bjj"
      }
    },
    {
      "cell_type": "markdown",
      "source": [
        "Podstawowa składnia zastosowania wytwornika sekwencji (np. dla listy):\n",
        "\n",
        "```python\n",
        "sekwencja = [wyrażenie for element in sekwencja_iterowalna]\n",
        "```\n",
        "\n",
        "* _wyrażenie_ - wartość, któa zostanie umieszczona na liście\n",
        "* _element_ - obiekt lub wartość należąca do sekwencji bazowej\n",
        "* _sekwencja_iterowalna_ - sekwencja (lista, zbiór, ...) lub _generator_, dla których można zastosować petlę `for`.\n",
        "\n",
        "Bardziej rozbudowaną wersją wytwornika sekwencji jest ta, z uzyciem instrukcji warynkowego wyboru:\n",
        "\n",
        "```python\n",
        "sekwencja = [wyrażenie for element in sekwencja_iterowalna if warunek_logiczny]\n",
        "```\n",
        "\n",
        "Poniżej przykład:"
      ],
      "metadata": {
        "id": "J2Kea-nH79c0"
      }
    },
    {
      "cell_type": "code",
      "source": [
        "zdanie = \"Ala ma kota, as to Ali pies, który kiedyś będzie duży\"\n",
        "lista_samoglosek_w_zdaniu = [litera for litera in zdanie if litera.lower() in 'aeiouyęą']\n",
        "print(lista_samoglosek_w_zdaniu)\n",
        "\n",
        "zbior_samoglosek_w_zdaniu = {litera for litera in zdanie if litera.lower() in 'aeiouyęą'}\n",
        "print(zbior_samoglosek_w_zdaniu)"
      ],
      "metadata": {
        "colab": {
          "base_uri": "https://localhost:8080/"
        },
        "id": "6IpjBRRvB4Rr",
        "outputId": "70b587dd-5e52-401d-f2f7-f31c935636ab"
      },
      "execution_count": 6,
      "outputs": [
        {
          "output_type": "stream",
          "name": "stdout",
          "text": [
            "['A', 'a', 'a', 'o', 'a', 'a', 'o', 'A', 'i', 'i', 'e', 'y', 'i', 'e', 'y', 'ę', 'i', 'e', 'u', 'y']\n",
            "{'ę', 'y', 'u', 'A', 'o', 'i', 'a', 'e'}\n"
          ]
        }
      ]
    },
    {
      "cell_type": "markdown",
      "source": [
        "Poniżej przykłady wyznaczające frekwencję liter w zdaniu:"
      ],
      "metadata": {
        "id": "oFV0Rd8lER42"
      }
    },
    {
      "cell_type": "code",
      "source": [
        "zdanie = \"Ala ma kota, as to Ali pies, który kiedyś będzie duży\"\n",
        "\n",
        "#wariant 1 - dict-comprehension\n",
        "frekwencja_liter = {litera : zdanie.count(litera) for litera in zdanie}\n",
        "print(frekwencja_liter)\n",
        "\n",
        "# wariant 2 - dedykowany obiekt Counter do generowania frekwencji\n",
        "from collections import Counter\n",
        "print( Counter(zdanie) ) # zwracany jest obiekt Counter\n",
        "print( dict(Counter(zdanie) ) ) # konwerujemy obiekt Counter na słownik"
      ],
      "metadata": {
        "colab": {
          "base_uri": "https://localhost:8080/"
        },
        "id": "E15vO4SrDgl-",
        "outputId": "0670b82c-04cc-4117-e5c6-070a7c0957d0"
      },
      "execution_count": 7,
      "outputs": [
        {
          "output_type": "stream",
          "name": "stdout",
          "text": [
            "{'A': 2, 'l': 2, 'a': 4, ' ': 10, 'm': 1, 'k': 3, 'o': 2, 't': 3, ',': 2, 's': 2, 'i': 4, 'p': 1, 'e': 3, 'ó': 1, 'r': 1, 'y': 3, 'd': 3, 'ś': 1, 'b': 1, 'ę': 1, 'z': 1, 'u': 1, 'ż': 1}\n",
            "Counter({' ': 10, 'a': 4, 'i': 4, 'k': 3, 't': 3, 'e': 3, 'y': 3, 'd': 3, 'A': 2, 'l': 2, 'o': 2, ',': 2, 's': 2, 'm': 1, 'p': 1, 'ó': 1, 'r': 1, 'ś': 1, 'b': 1, 'ę': 1, 'z': 1, 'u': 1, 'ż': 1})\n",
            "{'A': 2, 'l': 2, 'a': 4, ' ': 10, 'm': 1, 'k': 3, 'o': 2, 't': 3, ',': 2, 's': 2, 'i': 4, 'p': 1, 'e': 3, 'ó': 1, 'r': 1, 'y': 3, 'd': 3, 'ś': 1, 'b': 1, 'ę': 1, 'z': 1, 'u': 1, 'ż': 1}\n"
          ]
        }
      ]
    },
    {
      "cell_type": "markdown",
      "source": [
        "Wytworniki sekwencji można zastosować do opisywania bardziej złożonych struktur, np. zagnieżdżając je w sobie:"
      ],
      "metadata": {
        "id": "cvY1xz1NFS86"
      }
    },
    {
      "cell_type": "code",
      "source": [
        "# tablica 6 wierszy i 5 kolumn, wypełniona domyślnymi wartościami\n",
        "tablica2D = [[i for i in range(5)] for j in range(6)]\n",
        "print(tablica2D)\n",
        "\n",
        "# spłaszczenie tablicy - wypisanie elementów wierszami\n",
        "tablica1D = []\n",
        "for wiersz in tablica2D:\n",
        "  for x in wiersz:\n",
        "    tablica1D.append(x)\n",
        "print(tablica1D)\n",
        "\n",
        "# spłaszczenie tablicy do listy w formie comprehension\n",
        "tablica1D = [x for wiersz in tablica2D for x in wiersz]\n",
        "print(tablica1D)"
      ],
      "metadata": {
        "colab": {
          "base_uri": "https://localhost:8080/"
        },
        "id": "L6qWeTb0FnPs",
        "outputId": "75f70e3a-a864-439d-c8b3-5dad107a77f5"
      },
      "execution_count": 8,
      "outputs": [
        {
          "output_type": "stream",
          "name": "stdout",
          "text": [
            "[[0, 1, 2, 3, 4], [0, 1, 2, 3, 4], [0, 1, 2, 3, 4], [0, 1, 2, 3, 4], [0, 1, 2, 3, 4], [0, 1, 2, 3, 4]]\n",
            "[0, 1, 2, 3, 4, 0, 1, 2, 3, 4, 0, 1, 2, 3, 4, 0, 1, 2, 3, 4, 0, 1, 2, 3, 4, 0, 1, 2, 3, 4]\n",
            "[0, 1, 2, 3, 4, 0, 1, 2, 3, 4, 0, 1, 2, 3, 4, 0, 1, 2, 3, 4, 0, 1, 2, 3, 4, 0, 1, 2, 3, 4]\n"
          ]
        }
      ]
    },
    {
      "cell_type": "markdown",
      "source": [
        "## Generatory"
      ],
      "metadata": {
        "id": "6dqc2OiP7y3i"
      }
    },
    {
      "cell_type": "markdown",
      "source": [
        "Generator, to specjalna funkcja produkująca sekwencję wartości, ale w specjalny sposób - zwracająca kolejne elementy sekwencji na żądanie. Elementy _wyrzucane_ są z funkcji za pomocą instrukcji `yield` (a nie `return`)."
      ],
      "metadata": {
        "id": "qURyPNiDHUJJ"
      }
    },
    {
      "cell_type": "code",
      "source": [
        "# generator opisujący skończoną sekwencję 0 i 1\n",
        "def ZeroJeden():\n",
        "  yield 0\n",
        "  yield 1\n",
        "\n",
        "for x in ZeroJeden():\n",
        "  print( x )\n",
        "\n",
        "print(\"-----\")\n",
        "\n",
        "for i in range(10):\n",
        "  for x in ZeroJeden():\n",
        "    print( x, end=\" \" )"
      ],
      "metadata": {
        "colab": {
          "base_uri": "https://localhost:8080/"
        },
        "id": "RkAsD9U8HvgI",
        "outputId": "27ff5e77-f376-4366-d31b-d524c0d4e932"
      },
      "execution_count": 9,
      "outputs": [
        {
          "output_type": "stream",
          "name": "stdout",
          "text": [
            "0\n",
            "1\n",
            "-----\n",
            "0 1 0 1 0 1 0 1 0 1 0 1 0 1 0 1 0 1 0 1 "
          ]
        }
      ]
    },
    {
      "cell_type": "code",
      "source": [
        "# generator opisujący nieskończoną sekwencję 0 i 1\n",
        "# zwracający n-krotnie pary 0 1\n",
        "def ZeroJeden(n):\n",
        "  for i in range(n):\n",
        "    yield 0\n",
        "    yield 1\n",
        "\n",
        "for x in ZeroJeden(7):\n",
        "  print( x, end=\" \" )"
      ],
      "metadata": {
        "colab": {
          "base_uri": "https://localhost:8080/"
        },
        "id": "lZhBpYRqId7H",
        "outputId": "f266c750-29ba-4588-cb2e-30c350675143"
      },
      "execution_count": 10,
      "outputs": [
        {
          "output_type": "stream",
          "name": "stdout",
          "text": [
            "0 1 0 1 0 1 0 1 0 1 0 1 0 1 "
          ]
        }
      ]
    },
    {
      "cell_type": "code",
      "source": [
        "# generator opisujący nieskończoną sekwencję 0 i 1\n",
        "# zwracający n pierwszych elementów sekwencji\n",
        "def CiagZeroJeden(n=0):\n",
        "  i = 0\n",
        "  while i < n:\n",
        "    if i % 2 == 0:\n",
        "      yield 0\n",
        "    else:\n",
        "      yield 1\n",
        "    i += 1\n",
        "\n",
        "for x in CiagZeroJeden(7):\n",
        "  print( x, end=\" \" )"
      ],
      "metadata": {
        "colab": {
          "base_uri": "https://localhost:8080/"
        },
        "id": "8I2TKu9jKxBX",
        "outputId": "c2c5fdd0-bdde-40bf-81fa-d61a6553a752"
      },
      "execution_count": 11,
      "outputs": [
        {
          "output_type": "stream",
          "name": "stdout",
          "text": [
            "0 1 0 1 0 1 0 "
          ]
        }
      ]
    },
    {
      "cell_type": "code",
      "source": [
        "# generator zwracający kolejne liczby parzyste\n",
        "# nie wieksze niż n\n",
        "def Parzyste(n=0):  \n",
        "  for i in range(n):\n",
        "    if i % 2==0: yield i\n",
        "\n",
        "for x in Parzyste(11):\n",
        "  print(x, end=\" \")"
      ],
      "metadata": {
        "colab": {
          "base_uri": "https://localhost:8080/"
        },
        "id": "5_0liUQTOZqS",
        "outputId": "42ba643d-bac0-4e93-b506-712badacd356"
      },
      "execution_count": 12,
      "outputs": [
        {
          "output_type": "stream",
          "name": "stdout",
          "text": [
            "0 2 4 6 8 10 "
          ]
        }
      ]
    },
    {
      "cell_type": "markdown",
      "source": [
        "Zamiast tworzyć dedykowane funkcje generujące sekwencję, można zastosować notację _wyrażenia generującego_, podobną do _comprehension_. W tym przypadku używamy nawiasów okrągłych (dlatego nie można tworzyć wytworników krotek - bo notacja jest podobna)."
      ],
      "metadata": {
        "id": "GJdG18DF71rW"
      }
    },
    {
      "cell_type": "code",
      "source": [
        "wyrazenie_generujace = (x for x in {0, 1})\n",
        "print(wyrazenie_generujace)\n",
        "print( *(wyrazenie_generujace) ) # gwiazdka odpakowuje obiekt typu generator"
      ],
      "metadata": {
        "colab": {
          "base_uri": "https://localhost:8080/"
        },
        "id": "gA_yYwloMvBK",
        "outputId": "419b7db5-4797-4443-a2d8-111656424926"
      },
      "execution_count": 13,
      "outputs": [
        {
          "output_type": "stream",
          "name": "stdout",
          "text": [
            "<generator object <genexpr> at 0x7f0c4c304cd0>\n",
            "0 1\n"
          ]
        }
      ]
    },
    {
      "cell_type": "markdown",
      "source": [
        "Wyrażenia generujące, w powiązaniu z konstruktorem kolekcji wykorzystywane są do budowania kolekcji (w szczególności dla krotek, gdzie notacja _comprehension_ nie działa):"
      ],
      "metadata": {
        "id": "N63guf7kQgpD"
      }
    },
    {
      "cell_type": "code",
      "source": [
        "# kwadraty_zbior = {n**2 for n in range(10)}\n",
        "kwadraty_zbior = set( n**2 for n in range(10) )\n",
        "print(kwadraty_zbior)\n",
        "\n",
        "# kwadraty_lista = [n**2 for n in range(10)]\n",
        "kwadraty_lista = list(n**2 for n in range(10))\n",
        "print(kwadraty_lista)\n",
        "\n",
        "# kwadraty_slownik = {n : n**2 for n in range(10)}\n",
        "kwadraty_slownik = dict( (n,n**2) for n in range(10))\n",
        "print(kwadraty_slownik)\n",
        "\n",
        "# kwadraty_krotka = (n**2 for n in range(10) )\n",
        "kwadraty_krotka = tuple( n**2 for n in range(10) )\n",
        "print(kwadraty_krotka)  "
      ],
      "metadata": {
        "colab": {
          "base_uri": "https://localhost:8080/"
        },
        "id": "utuTpwRX8Wwz",
        "outputId": "c36f08ac-2d18-4506-d0ae-d3121f1d8ae8"
      },
      "execution_count": 14,
      "outputs": [
        {
          "output_type": "stream",
          "name": "stdout",
          "text": [
            "{0, 1, 64, 4, 36, 9, 16, 49, 81, 25}\n",
            "[0, 1, 4, 9, 16, 25, 36, 49, 64, 81]\n",
            "{0: 0, 1: 1, 2: 4, 3: 9, 4: 16, 5: 25, 6: 36, 7: 49, 8: 64, 9: 81}\n",
            "(0, 1, 4, 9, 16, 25, 36, 49, 64, 81)\n"
          ]
        }
      ]
    },
    {
      "cell_type": "markdown",
      "source": [
        "Wyrażenia generujące możemy użyć w powiązaniu z funkcjami (jako argumenty funkcji):"
      ],
      "metadata": {
        "id": "mI2IJ1DqWCyz"
      }
    },
    {
      "cell_type": "code",
      "source": [
        "lista = [0, 1, 4, 9, 16, 25, 36, 49, 64, 81, 100, 121]\n",
        "print( sum(n for n in lista) )\n",
        "print( sum(n for n in lista if n % 2 == 0) )"
      ],
      "metadata": {
        "colab": {
          "base_uri": "https://localhost:8080/"
        },
        "id": "jqEYMZEoWIaf",
        "outputId": "6fc122f6-f78c-4d3f-beb5-87871480749c"
      },
      "execution_count": 15,
      "outputs": [
        {
          "output_type": "stream",
          "name": "stdout",
          "text": [
            "506\n",
            "220\n"
          ]
        }
      ]
    },
    {
      "cell_type": "markdown",
      "source": [
        "Przykład bardziej zaawansowany - generator kolejnych liczb pierwszych"
      ],
      "metadata": {
        "id": "MXEIK4jeXKGY"
      }
    },
    {
      "cell_type": "code",
      "source": [
        "# Sito Eratostenesa jako generator liczb pierwszych\n",
        "def LiczbyPierwsze(n):\n",
        "    \"\"\"generuje sekwencję liczb pierwszych nie większych niż n\"\"\"\n",
        "    primes = set()\n",
        "    for n in range(2, n):\n",
        "        if all(n % p > 0 for p in primes):\n",
        "            primes.add(n)\n",
        "            yield n\n",
        "\n",
        "for x in LiczbyPierwsze(100):\n",
        "  print(x, end=\" \")"
      ],
      "metadata": {
        "colab": {
          "base_uri": "https://localhost:8080/"
        },
        "id": "DQ3EY7SUQ20M",
        "outputId": "e4df3195-155e-45c6-f53a-758eaab78c70"
      },
      "execution_count": 16,
      "outputs": [
        {
          "output_type": "stream",
          "name": "stdout",
          "text": [
            "2 3 5 7 11 13 17 19 23 29 31 37 41 43 47 53 59 61 67 71 73 79 83 89 97 "
          ]
        }
      ]
    },
    {
      "cell_type": "markdown",
      "source": [
        "## Generator _versus_ wytwornik - porównanie"
      ],
      "metadata": {
        "id": "eiWl0vmjRXJb"
      }
    },
    {
      "cell_type": "code",
      "source": [
        "lista = [n ** 2 for n in range(12)]     # lista już jest w pamięci, zajmuje miejsce\n",
        "generator = (n ** 2 for n in range(12)) # generator jest opisem, nie zajmuje pamięci\n",
        "\n",
        "print(lista)\n",
        "print(generator)\n",
        "\n",
        "# przeglądamy elementy listy, która jest w pamięci\n",
        "for x in lista:\n",
        "  print(x, end=\" \")\n",
        "\n",
        "print(\"\\n---\")\n",
        "\n",
        "# z każdym obrotem pętli żądamy wygenerowania kolejnego elementu\n",
        "for x in generator:\n",
        "  print(x, end=\" \")"
      ],
      "metadata": {
        "colab": {
          "base_uri": "https://localhost:8080/"
        },
        "id": "NUjFTL4vRVWc",
        "outputId": "9e5634cf-59ca-4fc7-be4a-ca1a62f282e9"
      },
      "execution_count": 17,
      "outputs": [
        {
          "output_type": "stream",
          "name": "stdout",
          "text": [
            "[0, 1, 4, 9, 16, 25, 36, 49, 64, 81, 100, 121]\n",
            "<generator object <genexpr> at 0x7f0c4f56b3d0>\n",
            "0 1 4 9 16 25 36 49 64 81 100 121 \n",
            "---\n",
            "0 1 4 9 16 25 36 49 64 81 100 121 "
          ]
        }
      ]
    },
    {
      "cell_type": "markdown",
      "source": [
        "Generatory używamy dla opisu dużych zbiorów danych o pewnych charakterystycznych cechach, które da się zapisać kodem.\n",
        "\n",
        "Przykładem powszechnie uzywanego generatora jest `range(start, stop, step)`.\n",
        "\n",
        "UWAGA: listy możemy przeglądać wielokrotnie, generator jest jednokrotnego użycia!"
      ],
      "metadata": {
        "id": "Rb_-39fLTbDT"
      }
    },
    {
      "cell_type": "code",
      "source": [
        "generator = (n ** 2 for n in range(12)) \n",
        "\n",
        "for x in generator:\n",
        "  if x > 29: break\n",
        "  print( x, end=\" \")\n",
        "\n",
        "print()\n",
        "\n",
        "print( list(generator) ) # elementy, których nie przeglądneliśmy\n",
        "\n",
        "print( list(generator) ) # jest puty, wyczerpany\n"
      ],
      "metadata": {
        "colab": {
          "base_uri": "https://localhost:8080/"
        },
        "id": "jMq5gfDCUvY4",
        "outputId": "88c075df-b98d-4e8a-e10e-e924e8e836bc"
      },
      "execution_count": 18,
      "outputs": [
        {
          "output_type": "stream",
          "name": "stdout",
          "text": [
            "0 1 4 9 16 25 \n",
            "[49, 64, 81, 100, 121]\n",
            "[]\n"
          ]
        }
      ]
    },
    {
      "cell_type": "markdown",
      "source": [
        "Elementy zwracane przez generator możemy uzyskiwać przez `next`"
      ],
      "metadata": {
        "id": "s9Do2eRjXR9X"
      }
    },
    {
      "cell_type": "code",
      "source": [
        "def NieskonczonaSekwencjaLiczbNieparzystych():\n",
        "  i = 1\n",
        "  while True:\n",
        "    yield i\n",
        "    i += 2\n",
        "\n",
        "liczby_nieparzyste = NieskonczonaSekwencjaLiczbNieparzystych()\n",
        "while x < 20:\n",
        "  x = next( liczby_nieparzyste )\n",
        "  print(x)"
      ],
      "metadata": {
        "id": "wdsxTDruXXYw"
      },
      "execution_count": 19,
      "outputs": []
    },
    {
      "cell_type": "markdown",
      "source": [
        "## Ciekawe przykłady"
      ],
      "metadata": {
        "id": "Cl98J7DlhmLY"
      }
    },
    {
      "cell_type": "markdown",
      "source": [
        "### Przykład 1. Konwersja sekwencji liczb na sekwencję napisów. `join`\n",
        "\n",
        "Do wypisywania sekwencji korzystamy z metody `join` klasy `str` - łączy ona podany _separator_ z każdym elementem _sekwencji_ (za wyjątkiem ostatniego elementu)\n",
        "\n",
        "```python\n",
        "separator.join(sekwencja)\n",
        "\", \".join(sekwencja)\n",
        "```\n",
        "\n",
        "Jednak `join` działa tylko z sekwencjami napisów. Jesli chcemy tak samo potraktować sekwencję liczb, trzeba ją przekonwertować na sekwencję napisów. Wykorzystamy wyrażenie generujące."
      ],
      "metadata": {
        "id": "Cyx8mBBShtBA"
      }
    },
    {
      "cell_type": "code",
      "source": [
        "napisy = ['aa', 'bbb', 'abc']\n",
        "print( \", \".join(napisy) )\n",
        "\n",
        "liczby = [1, 3, 2, 4, 1, 2, 5, 1, 3]\n",
        "# print( \", \".join(liczby) ) # błąd\n",
        "liczby_jako_napisy = (str(x) for x in liczby)\n",
        "print( \", \".join(liczby_jako_napisy) )"
      ],
      "metadata": {
        "colab": {
          "base_uri": "https://localhost:8080/"
        },
        "id": "RNdsvtLHhpsj",
        "outputId": "10ebb73b-0662-4778-b80e-c80c99ecc72d"
      },
      "execution_count": 20,
      "outputs": [
        {
          "output_type": "stream",
          "name": "stdout",
          "text": [
            "aa, bbb, abc\n",
            "1, 3, 2, 4, 1, 2, 5, 1, 3\n"
          ]
        }
      ]
    },
    {
      "cell_type": "markdown",
      "source": [
        "### Przykład 2. Wczytywanie sekwencji danych ze standardowego wejścia. `split`\n",
        "\n",
        "Chcemy wczytać ze standardowego wejścia ciąg liczb oddzielonych od siebie pojedynczą spacją. \n",
        "\n",
        "1. wczytamy napis zawierający ciąg liczb\n",
        "2. wykonamy `split` tworząc listę cząstkowych napisów\n",
        "3. przeglądając listę czytamy jej elementy i konwertujemy na liczby\n"
      ],
      "metadata": {
        "id": "DumCuX_pk2am"
      }
    },
    {
      "cell_type": "code",
      "source": [
        "napis = input(\"podaj ciąg liczb oddzielonych pojedynczą spacją: \")\n",
        "lista = napis.split(\" \")\n",
        "liczby = []\n",
        "for s in lista:\n",
        "  liczby.append(int(s))\n",
        "print(liczby)"
      ],
      "metadata": {
        "colab": {
          "base_uri": "https://localhost:8080/"
        },
        "id": "7uRHleRbl4HZ",
        "outputId": "e25c634c-e4f0-4a0a-d9f0-ff0bebd3f43b"
      },
      "execution_count": 21,
      "outputs": [
        {
          "output_type": "stream",
          "name": "stdout",
          "text": [
            "podaj ciąg liczb oddzielonych pojedynczą spacją: 1 2 3 4 5\n",
            "[1, 2, 3, 4, 5]\n"
          ]
        }
      ]
    },
    {
      "cell_type": "markdown",
      "source": [
        "Ten sam kod zapiszemy w jednej linii, wykorzystując _comprehension list_:"
      ],
      "metadata": {
        "id": "lo9zg2wvpfIT"
      }
    },
    {
      "cell_type": "code",
      "source": [
        "liczby = [int(s) for s in input(\"podaj ciąg liczb oddzielonych pojedynczą spacją: \").split(\" \")]\n",
        "print(liczby)"
      ],
      "metadata": {
        "colab": {
          "base_uri": "https://localhost:8080/"
        },
        "id": "_xIDx6Sdpmh4",
        "outputId": "3176bfb9-7bde-4aef-853f-09b1bedab300"
      },
      "execution_count": 22,
      "outputs": [
        {
          "output_type": "stream",
          "name": "stdout",
          "text": [
            "podaj ciąg liczb oddzielonych pojedynczą spacją: 1 2 3 4 5\n",
            "[1, 2, 3, 4, 5]\n"
          ]
        }
      ]
    }
  ]
}