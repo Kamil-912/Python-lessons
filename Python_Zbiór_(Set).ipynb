{
  "nbformat": 4,
  "nbformat_minor": 0,
  "metadata": {
    "colab": {
      "name": "Python - Zbiór (Set).ipynb",
      "provenance": [],
      "collapsed_sections": [],
      "include_colab_link": true
    },
    "kernelspec": {
      "name": "python394jvsc74a57bd063fd5069d213b44bf678585dea6b12cceca9941eaf7f819626cde1f2670de90d",
      "display_name": "Python 3.9.4 64-bit"
    },
    "language_info": {
      "name": "python",
      "version": "3.9.4"
    },
    "metadata": {
      "interpreter": {
        "hash": "63fd5069d213b44bf678585dea6b12cceca9941eaf7f819626cde1f2670de90d"
      }
    }
  },
  "cells": [
    {
      "cell_type": "markdown",
      "metadata": {
        "id": "view-in-github",
        "colab_type": "text"
      },
      "source": [
        "<a href=\"https://colab.research.google.com/github/URK-KIPLiIS/Python-lessons/blob/main/Python_Zbi%C3%B3r_(Set).ipynb\" target=\"_parent\"><img src=\"https://colab.research.google.com/assets/colab-badge.svg\" alt=\"Open In Colab\"/></a>"
      ]
    },
    {
      "cell_type": "markdown",
      "metadata": {
        "id": "feoWMC-nu-E9"
      },
      "source": [
        "# Struktury danych. Zbiór (`Set`)\n",
        "\n",
        "* Krzysztof Molenda (2021-05-01)\n",
        "\n",
        "---"
      ]
    },
    {
      "cell_type": "markdown",
      "metadata": {
        "id": "view-in-github"
      },
      "source": [
        "<a href=\"https://colab.research.google.com/github/URK-KIPLiIS/Python-lessons/blob/main/03.%20Struktury%20danych/Krotka.ipynb\" target=\"_parent\"><img src=\"https://colab.research.google.com/assets/colab-badge.svg\" alt=\"Open In Colab\"/></a>"
      ]
    },
    {
      "cell_type": "markdown",
      "metadata": {
        "id": "8D1Tq-gjGGFB"
      },
      "source": [
        "Zbiór (ang. _set_) w sensie Pythona, to kolekcja elementów rozumiana tak, jak rozumiana jest w sensie matematycznym - można dodawać elementy, usuwać, wyszukiwać, ale elementy przechowywane w zbiorze są **bez duplikatów** i **nie można ich modyfikować** (elementy zbioru muszą być niezmiennicze). Do zbioru można dodawać i usuwać elementy.\n",
        "\n",
        "Przykłady:"
      ]
    },
    {
      "cell_type": "code",
      "metadata": {
        "id": "fTgBwafeu53v",
        "colab": {
          "base_uri": "https://localhost:8080/"
        },
        "outputId": "d5c6ea48-1e91-45df-9292-607d33912f60"
      },
      "source": [
        "# zbiór 3 liczb całkowityych\n",
        "zbior1 = {1, 2, 3}\n",
        "print(zbior1)\n",
        "\n",
        "# zbiór 3 liczb całkowitych, duplikaty nie są brane pod uwagę\n",
        "zbior2 = {1, 1, 2, 3}\n",
        "print(zbior2)\n",
        "\n",
        "# zbiór elementów różnego typu\n",
        "zbiór3 = {1, \"Krzysztof\", (1, 2, 3), 23.1}\n",
        "print(zbiór3)"
      ],
      "execution_count": 1,
      "outputs": [
        {
          "output_type": "stream",
          "name": "stdout",
          "text": [
            "{1, 2, 3}\n",
            "{1, 2, 3}\n",
            "{'Krzysztof', 1, 23.1, (1, 2, 3)}\n"
          ]
        }
      ]
    },
    {
      "cell_type": "markdown",
      "metadata": {
        "id": "xQJGrLebGGFF"
      },
      "source": [
        "Zbiór, w swojej konstrukcji przypomina listę. Jest jednak kilka znaczących różnic między tymi strukturami danych. Cechy zbioru:\n",
        "\n",
        "* jest strukturą **nieuporządkowaną** - elementy zbioru nie są indeksowane, nie mają określonego porządku, do elementów zbioru nie można odnieść się przez indeks podany nawiasach kwadratowych, wypisanie elementów zbioru w różnym czasie może powodować różne wyniki\n",
        "* jest strukturą **częściowo niezmienniczą** (ang. _immutable_) - po utworzeniu nie można zmienić **wartości** elementów, ale można do zbioru dodać nowe lub usunać już istniejące wpisy\n",
        "* elementami zbioru mogą być tylko wartości (niezmiennicze), zatem elementem zbioru może być krotka, ale nie może być lista\n",
        "* w zbiorze nie ma duplikatów\n",
        "* jest strukturą iterowalną (mozna przeglądać za pomocą petli `for-in`), ale nie indeksowalną (nie jest sekwencją). Podczas przeglądania (również podczas wypisywania) tworzona jest lista elementów zbioru i to ona jest przetwarzana\n",
        "\n",
        "Przykład:"
      ]
    },
    {
      "cell_type": "code",
      "metadata": {
        "colab": {
          "base_uri": "https://localhost:8080/"
        },
        "id": "eC-eUhJGGGFG",
        "outputId": "30f862ca-34d1-4638-91aa-61f90e3e225d"
      },
      "source": [
        "# utworzenie zbioru\n",
        "liczby = {1, 4}\n",
        "print(liczby)           # {1, 4}\n",
        "print( type(liczby) )   # <class 'set'>\n",
        "\n",
        "# dodanie nowego elementu\n",
        "liczby.add(3)\n",
        "print(liczby)           # {1, 3, 4}\n",
        "liczby.add(0)\n",
        "print(liczby)           # {0, 1, 3, 4}\n",
        "# print( liczby[1] )    # błąd, zbiór nie jest strukturą indeksowaną"
      ],
      "execution_count": 2,
      "outputs": [
        {
          "output_type": "stream",
          "name": "stdout",
          "text": [
            "{1, 4}\n",
            "<class 'set'>\n",
            "{1, 3, 4}\n",
            "{0, 1, 3, 4}\n"
          ]
        }
      ]
    },
    {
      "cell_type": "markdown",
      "metadata": {
        "id": "Z3PVyGwgGGFH"
      },
      "source": [
        "## Tworzenie"
      ]
    },
    {
      "cell_type": "markdown",
      "metadata": {
        "id": "-SAuxJl_GGFH"
      },
      "source": [
        "Standardowo, zbiór tworzymy wymieniając - w nawiasach klamrowych - jego elementy, oddzielone przecinkami."
      ]
    },
    {
      "cell_type": "code",
      "metadata": {
        "id": "8KhweopaGGFI"
      },
      "source": [
        "zbior = {\"A\", 2.1, 10, (1,2)}"
      ],
      "execution_count": null,
      "outputs": []
    },
    {
      "cell_type": "markdown",
      "metadata": {
        "id": "nB9BuOv5GGFI"
      },
      "source": [
        "Zbiór pusty jest szczególnym przypadkiem. Tworzymy go za pomocą konstruktora bez podania argumentów. Zbiór, w kontekście wyrażeń logicznych, ma wartość logiczną:\n",
        "* `False` - jeśli zbiór jest pusty\n",
        "* `True` - jeśli zbiór nie jest pusty\n",
        "Upraszcza to czasami podawanie warunków w `if` lub `while`.\n"
      ]
    },
    {
      "cell_type": "code",
      "metadata": {
        "colab": {
          "base_uri": "https://localhost:8080/"
        },
        "id": "7dstrY8KGGFJ",
        "outputId": "83d7f527-72bf-4f9a-e211-6e390ecf241e"
      },
      "source": [
        "x = set()           # utworzenie zbioru pustego za pomocą konstruktora\n",
        "print( type(x) )    # sprawdzenie typu zmiennej x\n",
        "x.add(7)\n",
        "if x :\n",
        "    print(x)\n",
        "else:\n",
        "    print(\"zbiór pusty\")\n"
      ],
      "execution_count": 3,
      "outputs": [
        {
          "output_type": "stream",
          "name": "stdout",
          "text": [
            "<class 'set'>\n",
            "{7}\n"
          ]
        }
      ]
    },
    {
      "cell_type": "markdown",
      "metadata": {
        "id": "P_ujRMMCGGFK"
      },
      "source": [
        "Ponieważ zbiór - w sensie języka Python - jest obiektem, możemy go jawnie utworzyć za pomocą konstruktora. Parametrem konstruktora musi być inna kolekcja (np. krotka, lista)"
      ]
    },
    {
      "cell_type": "code",
      "metadata": {
        "colab": {
          "base_uri": "https://localhost:8080/"
        },
        "id": "ZKsqO4NRGGFK",
        "outputId": "fcb645c2-585f-443a-ecdb-1b801e89a5ff"
      },
      "source": [
        "zbior = set( (1, 2, 3) ) # zewnetrzne nawiasy konstruktor, wewnętrzne - krotka\n",
        "print( zbior )\n",
        "zbior = set( ['a', 'b', 'c'] )\n",
        "print( zbior )\n",
        "zbior = set( [ (1,2), (2,1), (3,0) ] ) # zbiór krotek - punktów na płaszczyźnie\n",
        "print( zbior )"
      ],
      "execution_count": null,
      "outputs": [
        {
          "output_type": "stream",
          "text": [
            "{1, 2, 3}\n",
            "{'a', 'b', 'c'}\n",
            "{(1, 2), (3, 0), (2, 1)}\n"
          ],
          "name": "stdout"
        }
      ]
    },
    {
      "cell_type": "markdown",
      "metadata": {
        "id": "9nbDDfEmGGFL"
      },
      "source": [
        "## Dostęp do elementów zbioru"
      ]
    },
    {
      "cell_type": "markdown",
      "metadata": {
        "id": "iV3K4DmtGGFL"
      },
      "source": [
        "Inaczej jak dla listy, dostęp do elementów zbioru nie może być realizowany za pomocą odwołania do ich indeksów (nawiasy kwadratowe `[]`) - zbiór nie jest sekwencją. Zatem podstawowym sposobem dostępu do elementów zbioru jest jego przeglądanie (iterowanie)"
      ]
    },
    {
      "cell_type": "code",
      "metadata": {
        "colab": {
          "base_uri": "https://localhost:8080/"
        },
        "id": "uoJyIGrKGGFL",
        "outputId": "357b71ea-fd0a-4024-8dd3-048fbfc6d212"
      },
      "source": [
        "zbior = set( [ (1,2), (2,1), (3,0) ] )\n",
        "\n",
        "for element in zbior:\n",
        "  print(element)\n",
        "\n",
        "for (x,y) in zbior:          # rozpakowujemy element\n",
        "  print( f\"x={x}, y={y}\")"
      ],
      "execution_count": 6,
      "outputs": [
        {
          "output_type": "stream",
          "name": "stdout",
          "text": [
            "(1, 2)\n",
            "(3, 0)\n",
            "(2, 1)\n",
            "x=1, y=2\n",
            "x=3, y=0\n",
            "x=2, y=1\n"
          ]
        }
      ]
    },
    {
      "cell_type": "markdown",
      "metadata": {
        "id": "7feZSdOqGGFM"
      },
      "source": [
        "Możemy sprawdzić, czy określony element należy do zbioru (operator `in`):"
      ]
    },
    {
      "cell_type": "code",
      "metadata": {
        "colab": {
          "base_uri": "https://localhost:8080/"
        },
        "id": "AUb3aG9AGGFM",
        "outputId": "7cc579d0-8dc2-47e6-e31d-187f4c6e22bd"
      },
      "source": [
        "zbior = set( [ (1,2), (2,1), (3,0) ] )\n",
        "if (0,0) in zbior:\n",
        "    print(\"znaleziono\")\n",
        "else:\n",
        "    print(f\"elementu (0,0) nie ma w zbiorze\")"
      ],
      "execution_count": null,
      "outputs": [
        {
          "output_type": "stream",
          "text": [
            "elementu (0,0) nie ma w zbiorze\n"
          ],
          "name": "stdout"
        }
      ]
    },
    {
      "cell_type": "markdown",
      "metadata": {
        "id": "MiZ6CBHVGGFN"
      },
      "source": [
        "Aktualny rozmiar zbioru otrzymamy, wywołując funkcję `len()`"
      ]
    },
    {
      "cell_type": "markdown",
      "metadata": {
        "id": "ICic5SYeGGFN"
      },
      "source": [
        "## Operacje na zbiorach"
      ]
    },
    {
      "cell_type": "markdown",
      "metadata": {
        "id": "SF4LfABQGGFO"
      },
      "source": [
        "### Liczebność zbioru"
      ]
    },
    {
      "cell_type": "markdown",
      "metadata": {
        "id": "XJ90wN22GGFO"
      },
      "source": [
        "Podobnie jak dla innych struktur (kolekcji) można określić rozmiar krotki za pomocą funkcji `len()`:"
      ]
    },
    {
      "cell_type": "code",
      "metadata": {
        "colab": {
          "base_uri": "https://localhost:8080/"
        },
        "id": "gTaZQerrGGFO",
        "outputId": "3ee11075-0cbf-4f2b-f7d6-aadc50051c49"
      },
      "source": [
        "zbior = set( [ (1,2), (2,1), (3,0) ] )\n",
        "print( len(zbior) )"
      ],
      "execution_count": null,
      "outputs": [
        {
          "output_type": "stream",
          "text": [
            "3\n"
          ],
          "name": "stdout"
        }
      ]
    },
    {
      "cell_type": "markdown",
      "metadata": {
        "id": "q4DhYT_gGGFP"
      },
      "source": [
        "### Dodawanie elementów do zbioru (metoda `add`)"
      ]
    },
    {
      "cell_type": "code",
      "metadata": {
        "colab": {
          "base_uri": "https://localhost:8080/"
        },
        "id": "k3OUCKToGGFP",
        "outputId": "4c0f109b-f847-4625-eff4-dc6fe3ba6052"
      },
      "source": [
        "zbior = set( [ (1,2), (2,1), (3,0) ] )\n",
        "zbior.add( (0,0) )                     # dodaje pojedynczy element\n",
        "print( zbior )\n",
        "zbior.update( [(0,0), (1,1), (2,2)]  ) # dodaje wiele elementów\n",
        "print( zbior )"
      ],
      "execution_count": null,
      "outputs": [
        {
          "output_type": "stream",
          "text": [
            "{(1, 2), (3, 0), (0, 0), (2, 1)}\n",
            "{(1, 2), (0, 0), (3, 0), (2, 1), (2, 2), (1, 1)}\n"
          ],
          "name": "stdout"
        }
      ]
    },
    {
      "cell_type": "markdown",
      "metadata": {
        "id": "2vhcjNIrGGFQ"
      },
      "source": [
        "### Usuwanie elementów ze zbioru (metoda `remove`)"
      ]
    },
    {
      "cell_type": "code",
      "metadata": {
        "colab": {
          "base_uri": "https://localhost:8080/"
        },
        "id": "CnH5CtO-GGFQ",
        "outputId": "a2c9de51-ece7-4ad3-a2dd-090743de9a13"
      },
      "source": [
        "zbior = set( [ (1, 2), (2, 1), (0, 0), (1, 1), (3, 0), (2, 2) ] )\n",
        "print( zbior )\n",
        "zbior.remove( (0,0) )   # usunięcie konkretnego elementu\n",
        "print( zbior )\n",
        "x = zbior.pop()         # usunięcie losowego elementu\n",
        "print( zbior )\n",
        "print( \"usunięto\", x )"
      ],
      "execution_count": null,
      "outputs": [
        {
          "output_type": "stream",
          "text": [
            "{(1, 2), (0, 0), (3, 0), (2, 1), (2, 2), (1, 1)}\n",
            "{(1, 2), (3, 0), (2, 1), (2, 2), (1, 1)}\n",
            "{(3, 0), (2, 1), (2, 2), (1, 1)}\n",
            "usunięto (1, 2)\n"
          ],
          "name": "stdout"
        }
      ]
    },
    {
      "cell_type": "markdown",
      "metadata": {
        "id": "jYvjgcNJGGFR"
      },
      "source": [
        "UWAGA: Próba usunięcia konkretnego elementu, którego nie ma w zbiorze, spowoduje błąd. Zatem, przed usunięciem powinniśmy zweryfikować jego przynależenie do zbioru:"
      ]
    },
    {
      "cell_type": "code",
      "metadata": {
        "colab": {
          "base_uri": "https://localhost:8080/"
        },
        "id": "O1WHEfOIGGFS",
        "outputId": "15523d3f-5f5f-4400-a3f3-fa1a65c97f7d"
      },
      "source": [
        "zbior = set( [ (1, 2), (2, 1), (0, 0), (1, 1), (3, 0), (2, 2) ] )\n",
        "punkt_do_usuniecia = (0,0)\n",
        "zbior.remove( punkt_do_usuniecia )\n",
        "# zbior.remove( punkt_do_usuniecia ) # błąd, elementu nie ma w zbiorze\n",
        "if punkt_do_usuniecia in zbior:\n",
        "    zbior.remove(punkt_do_usuniecia)\n",
        "else:\n",
        "    print(\"punktu nie ma w zbiorze\")"
      ],
      "execution_count": null,
      "outputs": [
        {
          "output_type": "stream",
          "text": [
            "punktu nie ma w zbiorze\n"
          ],
          "name": "stdout"
        }
      ]
    },
    {
      "cell_type": "markdown",
      "metadata": {
        "id": "ve_a5F4sGGFS"
      },
      "source": [
        "Wygodniejszym sposobem usunięcia elementu _pod warunkiem, że jest w zbiorze_ jest uzycie metody `discard`:"
      ]
    },
    {
      "cell_type": "code",
      "metadata": {
        "id": "IpD4i4ctGGFT"
      },
      "source": [
        "zbior = set( [ (1, 2), (2, 1), (0, 0), (1, 1), (3, 0), (2, 2) ] )\n",
        "punkt_do_usuniecia = (0,0)\n",
        "zbior.remove( punkt_do_usuniecia )\n",
        "zbior.discard( punkt_do_usuniecia ) # elelementu nie ma, ale błąd nie zostanie zgłoszony"
      ],
      "execution_count": null,
      "outputs": []
    },
    {
      "cell_type": "markdown",
      "metadata": {
        "id": "lcKZUJK5GGFU"
      },
      "source": [
        "### Operacje teoriomnogościowe"
      ]
    },
    {
      "cell_type": "markdown",
      "metadata": {
        "id": "DJU8ZmvvGGFU"
      },
      "source": [
        "Operacje teoriomnogościowe to: suma zbiorów, część wspólna, różnica, różnica symetryczna. Do operacji tych zaliczamy również sprawdzenia, czy zbiory są rozłączne, czy jeden zawiera się w drugim ..."
      ]
    },
    {
      "cell_type": "code",
      "metadata": {
        "colab": {
          "base_uri": "https://localhost:8080/"
        },
        "id": "8gKtd8TQGGFV",
        "outputId": "8bf42305-b339-4da0-b1d6-5fa637ae8a71"
      },
      "source": [
        "# suma zbiorów\n",
        "z1 = {1, 2, 3}\n",
        "z2 = { 2, 3, 4}\n",
        "z3 = { 'a', 'b', 'c' }\n",
        "suma = z1.union(z2) # suma zbiorów, metoda union\n",
        "print(suma)\n",
        "suma1 = z1 | z2     # suma zbiorów, operator |\n",
        "print(suma1)\n",
        "suma2 = z1 | z3 | z2\n",
        "print(suma2)\n",
        "suma3 = z1.union( z3.union(z2) )\n",
        "print(suma3)"
      ],
      "execution_count": null,
      "outputs": [
        {
          "output_type": "stream",
          "text": [
            "{1, 2, 3, 4}\n",
            "{1, 2, 3, 4}\n",
            "{1, 2, 3, 'c', 4, 'b', 'a'}\n",
            "{1, 2, 3, 'c', 4, 'b', 'a'}\n"
          ],
          "name": "stdout"
        }
      ]
    },
    {
      "cell_type": "code",
      "metadata": {
        "colab": {
          "base_uri": "https://localhost:8080/"
        },
        "id": "rLXWEroUGGFV",
        "outputId": "5fb10d65-d3b2-40e2-b4f4-eca20ec28dba"
      },
      "source": [
        "# iloczyn (część wspólna) zbiorów\n",
        "z1 = {1, 2, 3}\n",
        "z2 = { 2, 3, 4}\n",
        "z3 = { 3, 4, 5 }\n",
        "czesc_wspolna = z1.intersection(z2)  # metoda intersection\n",
        "print( czesc_wspolna )\n",
        "czesc_wspolna1 = z1 & z2             # operator &\n",
        "print( czesc_wspolna1 )\n",
        "czesc_wspolna2 = z1 & z3 & z2\n",
        "print( czesc_wspolna2 )"
      ],
      "execution_count": null,
      "outputs": [
        {
          "output_type": "stream",
          "text": [
            "{2, 3}\n",
            "{2, 3}\n",
            "{3}\n"
          ],
          "name": "stdout"
        }
      ]
    },
    {
      "cell_type": "code",
      "metadata": {
        "colab": {
          "base_uri": "https://localhost:8080/"
        },
        "id": "HSzTSr9lGGFV",
        "outputId": "64fa0c1e-8d36-4578-9de8-d8089a9b512a"
      },
      "source": [
        "# różnica zbiorów\n",
        "z1 = {1, 2, 3}\n",
        "z2 = { 2, 3, 4}\n",
        "z3 = { 3, 4, 5 }\n",
        "print( z1.difference(z2) )       # metoda difference\n",
        "print( z1 - z2 )                 # operator +\n",
        "print( z2.difference(z1) )\n",
        "print( z2 - z1 )\n",
        "print( z3 - z1 - z2 )"
      ],
      "execution_count": null,
      "outputs": [
        {
          "output_type": "stream",
          "text": [
            "{1}\n",
            "{1}\n",
            "{4}\n",
            "{4}\n",
            "{5}\n"
          ],
          "name": "stdout"
        }
      ]
    },
    {
      "cell_type": "code",
      "metadata": {
        "colab": {
          "base_uri": "https://localhost:8080/"
        },
        "id": "-u2mbWXnGGFW",
        "outputId": "feb66f1e-f53b-490c-c914-787ac6de3fc1"
      },
      "source": [
        "# różnica symetryczna\n",
        "z1 = { 1, 2, 3 }\n",
        "z2 = { 2, 3, 4 }\n",
        "z3 = { 3, 4, 5 }\n",
        "print( z1.symmetric_difference(z2) ) # metoda symmetric_difference\n",
        "print( z1^z2 )                       # operator ^"
      ],
      "execution_count": null,
      "outputs": [
        {
          "output_type": "stream",
          "text": [
            "{1, 4}\n",
            "{1, 4}\n"
          ],
          "name": "stdout"
        }
      ]
    },
    {
      "cell_type": "code",
      "metadata": {
        "colab": {
          "base_uri": "https://localhost:8080/"
        },
        "id": "wmZsvaotGGFW",
        "outputId": "312e6991-6416-401b-cf37-5fe2481111ea"
      },
      "source": [
        "# czy zbiory są rozłączne\n",
        "z1 = { 1, 2, 3 }\n",
        "z2 = { 2, 3, 4 }\n",
        "z3 = { 8, 9, 10 }\n",
        "print( z1.isdisjoint(z2) )\n",
        "print( z1.isdisjoint(z3) )"
      ],
      "execution_count": null,
      "outputs": [
        {
          "output_type": "stream",
          "text": [
            "False\n",
            "True\n"
          ],
          "name": "stdout"
        }
      ]
    },
    {
      "cell_type": "code",
      "metadata": {
        "colab": {
          "base_uri": "https://localhost:8080/"
        },
        "id": "5BN7j8nZGGFX",
        "outputId": "82b30b5f-a47c-4ac5-acb1-45a67ee5e5f0"
      },
      "source": [
        "# czy zbiór zawiera się w innym\n",
        "z1 = { 1, 2, 3 }\n",
        "z2 = { 2, 3 }\n",
        "z3 = { 8, 9, 10 }\n",
        "print( z2.issubset(z1) )    # metoda issubset\n",
        "print( z2 < z1 )            # operatorowo, silna inkluzja\n",
        "\n",
        "print( z1.issuperset(z2) )  # metoda issuperset\n",
        "print( z1 > z2 )            # operatorowo\n",
        "\n",
        "print( z3.issubset(z1) )\n",
        "\n",
        "print ( z1 < z1 )           # silna inkluzja\n",
        "print (z1 <= z1 )           # słaba inkluzja"
      ],
      "execution_count": null,
      "outputs": [
        {
          "output_type": "stream",
          "text": [
            "True\n",
            "True\n",
            "True\n",
            "True\n",
            "False\n",
            "False\n",
            "True\n"
          ],
          "name": "stdout"
        }
      ]
    },
    {
      "cell_type": "markdown",
      "metadata": {
        "id": "NR1EhJinGGFX"
      },
      "source": [
        "Operacje na zwbiorach występują również w wariantach `_update`. Wywołanie tych metod powoduje **zaktualizowanie** zbioru pierwszego, na rzecz którego wywołana została określona metoda:"
      ]
    },
    {
      "cell_type": "code",
      "metadata": {
        "colab": {
          "base_uri": "https://localhost:8080/"
        },
        "id": "c-Efemo9GGFY",
        "outputId": "647c146a-4c36-46cf-812e-417fd80a0d77"
      },
      "source": [
        "z = {1, 2, 3}\n",
        "z1 = {2, 3, 4}\n",
        "nowy = z.difference(z1)  # utworzenie zbioru `nowy` i umieszczenie w nim różnicy zbiorów z - z1\n",
        "z.difference_update(z1)  # wykonanie operacji różnicy \"w miejscu\", zmodyfikowano zbiór z\n",
        "print(z)"
      ],
      "execution_count": null,
      "outputs": [
        {
          "output_type": "stream",
          "text": [
            "{1}\n"
          ],
          "name": "stdout"
        }
      ]
    },
    {
      "cell_type": "code",
      "metadata": {
        "colab": {
          "base_uri": "https://localhost:8080/"
        },
        "id": "xyukN2UdGGFY",
        "outputId": "a5d1ef71-d48f-40f5-b435-857c406316c9"
      },
      "source": [
        "# kopiowanie zbioru\n",
        "z = {1, 2, 3}\n",
        "z1 = z.copy()\n",
        "print( z1 )\n",
        "print( z == z1 )"
      ],
      "execution_count": null,
      "outputs": [
        {
          "output_type": "stream",
          "text": [
            "{1, 2, 3}\n",
            "True\n"
          ],
          "name": "stdout"
        }
      ]
    },
    {
      "cell_type": "code",
      "metadata": {
        "colab": {
          "base_uri": "https://localhost:8080/"
        },
        "id": "EeLCPmQGGGFY",
        "outputId": "2fb78cb1-1912-4c8a-d527-798c561ab469"
      },
      "source": [
        "# czyszczenie zbioru (usuwanie wszystkich jego elementów)\n",
        "z = {1, 2, 3}\n",
        "print(z)\n",
        "z.clear()\n",
        "print(z)"
      ],
      "execution_count": 7,
      "outputs": [
        {
          "output_type": "stream",
          "name": "stdout",
          "text": [
            "{1, 2, 3}\n",
            "set()\n"
          ]
        }
      ]
    },
    {
      "cell_type": "markdown",
      "metadata": {
        "id": "tMRtvxjnGGFZ"
      },
      "source": [
        "## Konwersje"
      ]
    },
    {
      "cell_type": "code",
      "metadata": {
        "colab": {
          "base_uri": "https://localhost:8080/"
        },
        "id": "QTT4q33OGGFZ",
        "outputId": "95846c35-b9c8-45d2-94db-ae2a9a63742a"
      },
      "source": [
        "zbior = {1, 2, 3}\n",
        "print(zbior)\n",
        "lista = list(zbior)\n",
        "print(lista)\n",
        "lista[0] = 10\n",
        "print(lista)\n",
        "zbior = set(lista)\n",
        "print(zbior)\n",
        "\n",
        "zbior1 = zbior.copy()\n",
        "zbior1.remove(10)\n",
        "zbior1.add(1)\n",
        "print(zbior1)\n",
        "\n",
        "zbior = {1, 2, 3}\n",
        "print( zbior == zbior1)"
      ],
      "execution_count": 8,
      "outputs": [
        {
          "output_type": "stream",
          "name": "stdout",
          "text": [
            "{1, 2, 3}\n",
            "[1, 2, 3]\n",
            "[10, 2, 3]\n",
            "{3, 10, 2}\n",
            "{3, 1, 2}\n",
            "True\n"
          ]
        }
      ]
    },
    {
      "cell_type": "markdown",
      "metadata": {
        "id": "aJgO94PzGGFZ"
      },
      "source": [
        "## Zamrożony zbiór (`frozenset`)\n",
        "\n",
        "Python dostarcza wbudwany typ danych o nazwie `frozenset`, będący wariantem typu `set` ale całkowicie niezmienniczym (_immutable_). Nie tylko nie można zmienić wartości elementów, ale również nie można do takiego zbioru dodawać ani usuwać elementów.\n",
        "\n",
        "Ponieważ `frozenset` jest niezmienniczy, można go wykorzystać do budowy zbioru zbiorów oraz słowników (klucz słownika musi być niezmienniczy)."
      ]
    },
    {
      "cell_type": "code",
      "metadata": {
        "colab": {
          "base_uri": "https://localhost:8080/",
          "height": 235
        },
        "id": "KKkR2cqUGGFa",
        "outputId": "01603f7d-741b-471c-9be1-151df4f209d3"
      },
      "source": [
        "a = set( [1, 2, 3] )\n",
        "b = set( ['a', 'b', 'c'] ) \n",
        "c = set() # zbiór pusty\n",
        "c.add(a)  # błąd, nie można dodać zbioru do zbioru\n",
        "c.add(b)\n",
        "print(c)"
      ],
      "execution_count": 9,
      "outputs": [
        {
          "output_type": "error",
          "ename": "TypeError",
          "evalue": "ignored",
          "traceback": [
            "\u001b[0;31m---------------------------------------------------------------------------\u001b[0m",
            "\u001b[0;31mTypeError\u001b[0m                                 Traceback (most recent call last)",
            "\u001b[0;32m<ipython-input-9-cdb91e1ac6a1>\u001b[0m in \u001b[0;36m<module>\u001b[0;34m()\u001b[0m\n\u001b[1;32m      2\u001b[0m \u001b[0mb\u001b[0m \u001b[0;34m=\u001b[0m \u001b[0mset\u001b[0m\u001b[0;34m(\u001b[0m \u001b[0;34m[\u001b[0m\u001b[0;34m'a'\u001b[0m\u001b[0;34m,\u001b[0m \u001b[0;34m'b'\u001b[0m\u001b[0;34m,\u001b[0m \u001b[0;34m'c'\u001b[0m\u001b[0;34m]\u001b[0m \u001b[0;34m)\u001b[0m\u001b[0;34m\u001b[0m\u001b[0;34m\u001b[0m\u001b[0m\n\u001b[1;32m      3\u001b[0m \u001b[0mc\u001b[0m \u001b[0;34m=\u001b[0m \u001b[0mset\u001b[0m\u001b[0;34m(\u001b[0m\u001b[0;34m)\u001b[0m \u001b[0;31m# zbiór pusty\u001b[0m\u001b[0;34m\u001b[0m\u001b[0;34m\u001b[0m\u001b[0m\n\u001b[0;32m----> 4\u001b[0;31m \u001b[0mc\u001b[0m\u001b[0;34m.\u001b[0m\u001b[0madd\u001b[0m\u001b[0;34m(\u001b[0m\u001b[0ma\u001b[0m\u001b[0;34m)\u001b[0m  \u001b[0;31m# błąd, nie można dodać zbioru do zbioru\u001b[0m\u001b[0;34m\u001b[0m\u001b[0;34m\u001b[0m\u001b[0m\n\u001b[0m\u001b[1;32m      5\u001b[0m \u001b[0mc\u001b[0m\u001b[0;34m.\u001b[0m\u001b[0madd\u001b[0m\u001b[0;34m(\u001b[0m\u001b[0mb\u001b[0m\u001b[0;34m)\u001b[0m\u001b[0;34m\u001b[0m\u001b[0;34m\u001b[0m\u001b[0m\n\u001b[1;32m      6\u001b[0m \u001b[0mprint\u001b[0m\u001b[0;34m(\u001b[0m\u001b[0mc\u001b[0m\u001b[0;34m)\u001b[0m\u001b[0;34m\u001b[0m\u001b[0;34m\u001b[0m\u001b[0m\n",
            "\u001b[0;31mTypeError\u001b[0m: unhashable type: 'set'"
          ]
        }
      ]
    },
    {
      "cell_type": "code",
      "metadata": {
        "colab": {
          "base_uri": "https://localhost:8080/"
        },
        "id": "ZDZO9LA5GGFa",
        "outputId": "9f470ac3-b3b8-4279-d58a-b3a8966a9716"
      },
      "source": [
        "a = frozenset( [1, 2, 3] )\n",
        "b = frozenset(['a', 'b', 'c']) \n",
        "c = set() # zbiór pusty\n",
        "c.add(a)\n",
        "c.add(b)\n",
        "print(c)\n",
        "print(type(c))"
      ],
      "execution_count": 10,
      "outputs": [
        {
          "output_type": "stream",
          "name": "stdout",
          "text": [
            "{frozenset({1, 2, 3}), frozenset({'c', 'b', 'a'})}\n",
            "<class 'set'>\n"
          ]
        }
      ]
    },
    {
      "cell_type": "markdown",
      "metadata": {
        "id": "s4B3UfsTGGFa"
      },
      "source": [
        "## Zadania"
      ]
    },
    {
      "cell_type": "markdown",
      "metadata": {
        "id": "gy9y4sQgGGFb"
      },
      "source": [
        "### Zadanie 1\n",
        "\n",
        "Utwórz zbiory imion A, B, C tak, aby zbiory te zawierały elementy wspólne ale również nie występujące w pozostałych.\n",
        "\n",
        "Następnie utwórz i wypisz:\n",
        "\n",
        "* wszystkie imiona z sumy trzech zbiorów, posortowane malejąco\n",
        "* imiona wystepujące równocześnie we wszystkich trzech zbiorach, posortowane malejąco\n",
        "* imiona, które są w zbiorze A, ale nie ma ich w zbiorze B ani w zbiorze C"
      ]
    },
    {
      "cell_type": "code",
      "metadata": {
        "id": "6476pF8n1HGQ"
      },
      "source": [
        "# tu napisz swoje rozwiązanie"
      ],
      "execution_count": null,
      "outputs": []
    },
    {
      "cell_type": "markdown",
      "metadata": {
        "id": "wwDgPozW1L-9"
      },
      "source": [
        "## Uwagi dotyczące sortowania\n",
        "\n",
        "* Funkcja `sorted` dla zbioru i krotki zwraca posortowaną listę wartości.\n",
        "* metoda `sort` wykonuje sortowanie **w miejscu**, ale tylko dla list"
      ]
    },
    {
      "cell_type": "code",
      "metadata": {
        "colab": {
          "base_uri": "https://localhost:8080/"
        },
        "id": "YsCRyi8GGGFb",
        "outputId": "de216dd8-9f41-4793-9fae-c4ba19c78781"
      },
      "source": [
        "zbior = {2, 10, 3, 4, 102, 8}\n",
        "print(\"Wydruk zbioru:\", zbior)\n",
        "x = sorted(zbior)   # funkcja `sorted` zwraca listę posortowaną\n",
        "print(\"Wydruk listy:\", x)\n",
        "print( type(x) )\n",
        "\n",
        "l = list(zbior)  # jawna konwersja zbioru do listy\n",
        "l.sort()         # sortowanie listy\n",
        "print(\"Wydruk listy posortowanej:\", l)\n",
        "\n",
        "krotka = (1, 101, 10)\n",
        "print(\"Wydruk krotki przed sortowaniem:\", krotka)\n",
        "y = sorted(krotka)\n",
        "print(\"Wydruk listy posortowanej:\", y)\n",
        "krotka = tuple( y )  # konwersja wsteczna listy na krotkę\n",
        "print(\"Wydruk krotki:\", krotka)"
      ],
      "execution_count": 16,
      "outputs": [
        {
          "output_type": "stream",
          "name": "stdout",
          "text": [
            "Wydruk zbioru: {2, 3, 4, 102, 8, 10}\n",
            "Wydruk listy: [2, 3, 4, 8, 10, 102]\n",
            "<class 'list'>\n",
            "Wydruk listy posortowanej: [2, 3, 4, 8, 10, 102]\n",
            "Wydruk krotki przed sortowaniem: (1, 101, 10)\n",
            "Wydruk listy posortowanej: [1, 10, 101]\n",
            "Wydruk krotki: (1, 10, 101)\n"
          ]
        }
      ]
    }
  ]
}