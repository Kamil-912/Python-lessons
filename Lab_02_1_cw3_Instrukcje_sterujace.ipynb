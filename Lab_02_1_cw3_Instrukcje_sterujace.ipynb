{
  "nbformat": 4,
  "nbformat_minor": 0,
  "metadata": {
    "kernelspec": {
      "name": "python36",
      "display_name": "Python 3.6",
      "language": "python"
    },
    "language_info": {
      "mimetype": "text/x-python",
      "nbconvert_exporter": "python",
      "name": "python",
      "pygments_lexer": "ipython3",
      "version": "3.6.6",
      "file_extension": ".py",
      "codemirror_mode": {
        "version": 3,
        "name": "ipython"
      }
    },
    "colab": {
      "name": "Lab.02-1-cw3. Instrukcje-sterujace.ipynb",
      "provenance": [],
      "collapsed_sections": [],
      "include_colab_link": true
    }
  },
  "cells": [
    {
      "cell_type": "markdown",
      "metadata": {
        "id": "view-in-github",
        "colab_type": "text"
      },
      "source": [
        "<a href=\"https://colab.research.google.com/github/URK-KIPLiIS/Python-lessons/blob/main/Lab_02_1_cw3_Instrukcje_sterujace.ipynb\" target=\"_parent\"><img src=\"https://colab.research.google.com/assets/colab-badge.svg\" alt=\"Open In Colab\"/></a>"
      ]
    },
    {
      "cell_type": "markdown",
      "metadata": {
        "collapsed": true,
        "id": "QizQXqZWnkW-"
      },
      "source": [
        "## Instrukcje sterujące - ćwiczenia z algorytmiki (3)"
      ]
    },
    {
      "cell_type": "markdown",
      "metadata": {
        "id": "_i1Gw1b84GIz"
      },
      "source": [
        "* Imię i nazwisko, kierunek, grupa: .................."
      ]
    },
    {
      "cell_type": "markdown",
      "metadata": {
        "id": "unNISTEOnkXK"
      },
      "source": [
        "<div class=\"alert alert-block alert-info\">\n",
        "Pobierz tylko ten plik i umiesć go w swoim projekcie w chmurze (przeslij). Nastepnie rozwiąż zadanie.\n",
        "</div>"
      ]
    },
    {
      "cell_type": "markdown",
      "metadata": {
        "id": "QGZSJKKUnkXM"
      },
      "source": [
        "### Zadanie 3. Schemat blokowy dla pseudokodu\n",
        "\n",
        "#### 3.1. Narysuj schemat blokowy algorytmu zapisanego pseudokodem:\n",
        "\n",
        "```pseudocode\n",
        "czytaj(a)\n",
        "repeat\n",
        "  if a mod 3 = 0 then pisz(a)\n",
        "  a ← a div 2\n",
        "until a = 0\n",
        "```"
      ]
    },
    {
      "cell_type": "markdown",
      "metadata": {
        "id": "qwfXg5A2nkXM"
      },
      "source": [
        "Instrukcja:\n",
        "1. Otwórz program <https://www.draw.io>\n",
        "1. Narysuj schemat (szablon *Flowchart*)\n",
        "1. Aby umieścić rysunek w notatniku, w komórce typu *markdown*:\n",
        "    * W Draw.io wybierz _Plik -> Osadź -> Obraz_\n",
        "    * Kliknij przycisk <kbd>Osadź</kbd>\n",
        "    * Kliknij przycisk <kbd>Kopiuj</kbd>\n",
        "    * W *jupyter notebook* wklej zawartość schowka do komórki tekstowej typu _Markdown_.\n",
        "1. Aby umieścić link do diagramu w komórce *jupyter notebook*:\n",
        "    * W Draw.io wybierz _Plik -> Publikuj -> Hiperłącze..._\n",
        "    * Kliknij przycisk <kbd>Utwórz</kbd>\n",
        "    * Kliknij przycisk <kbd>Kopiuj</kbd>\n",
        "    * W *jupyter notebook* wklej zawartość schowka do komórki tekstowej typu _Markdown_."
      ]
    },
    {
      "cell_type": "markdown",
      "metadata": {
        "id": "irUVJoIrnkXN"
      },
      "source": [
        "Wstaw diagram (postępuj wg powyższej instrukcji)\n",
        "\n",
        "---\n",
        "\n"
      ]
    },
    {
      "cell_type": "markdown",
      "metadata": {
        "id": "oVXWKDqjnkXN"
      },
      "source": [
        "#### 3.2. Zapisz ten program w pseudokodzie, ale bez użycia instrukcji `repeat ...` - użyj instrukcji `while`, zadbaj, aby Twój program był równoważny podanemu."
      ]
    },
    {
      "cell_type": "markdown",
      "metadata": {
        "id": "6OiYzsNxnkXO"
      },
      "source": [
        "```pseudocode\n",
        "czytaj(a)\n",
        "...\n",
        "```"
      ]
    },
    {
      "cell_type": "markdown",
      "metadata": {
        "id": "rd4PnpRAnkXO"
      },
      "source": [
        "#### 3.3. Co wypisze powyższy program, jeżeli jako `a` wczytamy wartość `23`?"
      ]
    },
    {
      "cell_type": "markdown",
      "metadata": {
        "id": "3goOVHySnkXO"
      },
      "source": [
        "Podaj wynik: ..."
      ]
    },
    {
      "cell_type": "markdown",
      "metadata": {
        "id": "jSOm2xAcnkXP"
      },
      "source": [
        "#### 3.4. Zapisz program w Python. Przetestuj go dla różnych zestawów danych."
      ]
    },
    {
      "cell_type": "code",
      "metadata": {
        "trusted": true,
        "id": "3ztmxFk6nkXP"
      },
      "source": [
        "# Kod w python\n"
      ],
      "execution_count": null,
      "outputs": []
    }
  ]
}