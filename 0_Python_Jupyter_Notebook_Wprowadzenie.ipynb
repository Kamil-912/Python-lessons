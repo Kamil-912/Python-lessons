{
  "nbformat": 4,
  "nbformat_minor": 0,
  "metadata": {
    "colab": {
      "name": "Python, Jupyter Notebook. Wprowadzenie.ipynb",
      "provenance": [],
      "collapsed_sections": [],
      "include_colab_link": true
    },
    "kernelspec": {
      "name": "python3",
      "display_name": "Python 3"
    },
    "language_info": {
      "name": "python"
    }
  },
  "cells": [
    {
      "cell_type": "markdown",
      "metadata": {
        "id": "view-in-github",
        "colab_type": "text"
      },
      "source": [
        "<a href=\"https://colab.research.google.com/github/URK-KIPLiIS/Python-lessons/blob/main/0_Python_Jupyter_Notebook_Wprowadzenie.ipynb\" target=\"_parent\"><img src=\"https://colab.research.google.com/assets/colab-badge.svg\" alt=\"Open In Colab\"/></a>"
      ]
    },
    {
      "cell_type": "markdown",
      "metadata": {
        "id": "1zN2zGfbny8E"
      },
      "source": [
        "# Python, Jupyter Notebook - Wprowadzenie\n",
        "\n",
        "Jupyter Notebook to interaktywny plik, w którym zapisany jest zarówno tekst jak i obliczenia. Dokument ten składa się z sekwencji komórek - tekstowych i obliczeniowych. Cechy:\n",
        "\n",
        "* Rozszerzenie pliku `.ipynb`\n",
        "* Tekst - format Markdown\n",
        "* Wzory matematyczne - $\\LaTeX$\n",
        "* Obliczenia - kod języka Python"
      ]
    },
    {
      "cell_type": "markdown",
      "metadata": {
        "id": "ScQqzOJComQ0"
      },
      "source": [
        "## Wprowadzenie do programowania w Python\n",
        "\n",
        "W każdym języku programowania kluczowym pojęciem jest **zmienna**. W zmiennej zapamiętujemy przypisane jej wartości. Wartości te mogą być wprowadzone bezpośrednio lub pochodzić z obliczeń (być wynikiem **ewaluacji wyrażeń**).\n",
        "\n",
        "Nazwy zmiennych mogą być krótkie (np. `x`, `y`, `i`, ...) lub długie, np. `masaCiala`, `masa_ciala`, ...). Ale muszą spełniać pewne zasady (są bowiem **identyfikatorami** języka):\n",
        "\n",
        "* wielkość znaków ma znaczenie\n",
        "* nie mogą zaczynać się od cyfry\n",
        "* nie mogą zawierać pewnych specjalnych znaków, służących do innych celów w języku (np. `\\`, `.`, ...).\n",
        "\n",
        "Zmienne zawsze są określonego **typu**. Może to być typ:\n",
        "\n",
        "* liczbowy (liczba całkowita `int`, liczba zmiennoprzecinkowa `float`, liczba zespolona `complex`), \n",
        "* napisowy (`str`), \n",
        "* logiczny (`bool`), \n",
        "* binarny (`bytes`), \n",
        "* kolekcja danych: \n",
        "  * sekwencja (`list`, `tuple`, `range`), \n",
        "  * mapowanie (słownik) (`dict`), \n",
        "  * zbiór (`set`).\n",
        "\n",
        "Aby określić, jakiego typu jest w danym momencie zmienna, możemy wydać polecenie `type(nazwa_zmiennej)`.\n",
        "\n",
        "**Program**, to ciąg instrukcji. Instrukcje te mogą być już opracowane/oprogramowane i udostępnione w określonych bibliotekach. Instrukcje możemy tworzyć sami.\n",
        "\n",
        "Podstawowe instrukcje:\n",
        "\n",
        "* podstawienie (przypisanie),\n",
        "* blok instrukcji,\n",
        "* instrukcje sterujące przepływem programu (warunkowy wybór, pętle),\n",
        "* instrukcje definiowania funkcji, tworzenia obiektów.\n",
        "\n",
        "W języku Python ważną rolę odgrywają wcięcia. Ich niewłaściwe zastosowanie powoduje błędy. Dzięki temu wymuszeniu, kod języka Python jest krótki i bardzo przypomina tzw. _pseudocode_.\n",
        "\n",
        "Niniejszy materiał jest tylko krótkim przeglądowym wprowadzeniem do programowania w języku Python (i notatnika _Jupyter Notebook_)."
      ]
    },
    {
      "cell_type": "markdown",
      "metadata": {
        "id": "DXY0id-F1P1d"
      },
      "source": [
        "## 1. Praca z liczbami"
      ]
    },
    {
      "cell_type": "markdown",
      "metadata": {
        "id": "B4nslhpfpLRu"
      },
      "source": [
        "### Ćwiczenie 1. BMI (_body mass index_)\n",
        "\n",
        "**Cel**: Opracuj program, który wyznacza wskaźnik masy ciała (BMI) dla podanych przez użytkownika: \n",
        "\n",
        "* masy ciała \\[kg\\]\n",
        "* wzrostu \\[cm\\]\n",
        "\n",
        "Program powinien wypisać wartość BMI oraz jego prostą interpretację (kategorię). Skorzystaj z opisu w Wikipedia: [Wskaźnik masy ciała](https://pl.wikipedia.org/wiki/Wska%C5%BAnik_masy_cia%C5%82a)."
      ]
    },
    {
      "cell_type": "code",
      "metadata": {
        "id": "ITgyBIHXnj0r"
      },
      "source": [
        "wysokosc = int( input(\"Podaj wysokość [cm]: \") ) # wczytujemy i zamieniamy na liczbę całkowitą\n",
        "masa = int( input(\"Podaj masę ciała [kg]: \") )\n",
        "\n",
        "# obliczenia\n",
        "wysokosc /= 100                                  # dzielimy przez 100\n",
        "wysokoscDoKwadratu = wysokosc ** 2\n",
        "BMI = masa / wysokoscDoKwadratu\n",
        "print( f\"BMI: {BMI:.2f}\")                        # wypisujemy\n",
        "\n",
        "# interpretacja\n",
        "if BMI < 16 :                                    # kończy się dwukropkiem\n",
        "  print(\"wygłodzenie\")                           # ważne jest wcięcie (przynajmniej 2 spacje, najczęściej 4 spacje = tabulator)\n",
        "elif BMI < 17 :\n",
        "  print(wychudzenie)\n",
        "# uzupełnij kod dla pozostałych przypadków\n",
        "else:\n",
        "  print(\"otyłość III stopnia\")\n"
      ],
      "execution_count": null,
      "outputs": []
    },
    {
      "cell_type": "markdown",
      "source": [
        "Powyższy kod zawiera błąd - skoryguj go. Uzupełnij go dla innych przypadków wartości BMI."
      ],
      "metadata": {
        "id": "O-GDeCkZ8Q7b"
      }
    },
    {
      "cell_type": "markdown",
      "metadata": {
        "id": "Tc0Jp8cmzFct"
      },
      "source": [
        "### Zadanie 1.1 - BMI\n",
        "\n",
        "Zmodyfikuj kod programu tak, aby dla podanego wieku osoby badanej oraz jej wysokości obliczał pożądany zakres masy ciała (aby indeks BMI był optymalny). Skorzystaj z opisu w Wikipedia: [Wskaźnik masy ciała](https://pl.wikipedia.org/wiki/Wska%C5%BAnik_masy_cia%C5%82a). "
      ]
    },
    {
      "cell_type": "code",
      "metadata": {
        "id": "rPtv_an303m4"
      },
      "source": [
        "# wpisz kod i przetestuj\n"
      ],
      "execution_count": null,
      "outputs": []
    },
    {
      "cell_type": "markdown",
      "metadata": {
        "id": "DvutP5DW1USf"
      },
      "source": [
        "## 2. Praca z tekstem\n",
        "\n",
        "Teksty są ciągami znaków. Zapisujemy je używając (zamiennie) apostrofów (np. `'Witaj'`) lub cudzysłowów (`\"Witaj\"`). Czasami musimy je mieszać, np. `'Kto to powiedział \"Być albo nie być\"?'` aby w napisie zawrzeć cudzysłów.\n",
        "\n",
        "Napisy możemy sklejać ze sobą, używając symbolu `+`, np. `\"Ala\" + \" \" + \"ma\" + \" \" + \"kota\"`. Otrzymamy tekst \"Ala ma kota\". Takie łączenie jest szczególnie uzasadnione, gdy łączymy tekst z wartością zmiennej, np. `print(imie + \" ma kota\")`. W miejsce zmiennej `imie` zostanie podstawiona wartość w niej zapamiętana. \n",
        "\n",
        "Napisy możemy zwielokratniać, uzywając symbolu `*`, np. `\"la\"*3`. W efekcie otrzymamy `\"lalala\"`.\n",
        "\n",
        "Jest wiele funkcji operujących na napisach, np. `len(napis)` zwraca jego długość, `napis.lower()` zwraca napis zapisany małymi literami, `napis.upper()` dużymi, zaś `napis.capitalize()` zamienia pierwszą literę na dużą, a pozostałe zmienia na małe. Funkcja `napis.strip()` usuwa z napisu spacje przed i po nim."
      ]
    },
    {
      "cell_type": "markdown",
      "metadata": {
        "id": "ZBsSL85f1csN"
      },
      "source": [
        "### Ćwiczenie 2. Powitanie\n",
        "\n",
        "**Cel**: Napisz program, który wczyta od użytkownika jego imię i nazwisko, a następnie wypisze tekst spersonalizowanego powitania."
      ]
    },
    {
      "cell_type": "code",
      "metadata": {
        "id": "WJWrv9Iq1aV-"
      },
      "source": [
        "imie = str( input(\"Podaj imię: \") )\n",
        "nazwisko = str( input(\"Podaj nazwisko: \") )\n",
        "imie = imie.strip().capitalize()\n",
        "nazwisko = nazwisko.strip().capitalize()\n",
        "powitanie = \"Witaj, \" + imie + \" \" + nazwisko + \"!\"\n",
        "print(powitanie)"
      ],
      "execution_count": null,
      "outputs": []
    },
    {
      "cell_type": "markdown",
      "metadata": {
        "id": "oBd9xZU_8KJe"
      },
      "source": [
        "### Zadanie 2.1. Powitanie emeryta\n",
        "\n",
        "Napisz program, który wczyta podane przez uzytkownika imię i nazwisko, usunie zbędne spacje, sformatuje (pierwsza litera duża, pozostałe małe). Wpisze spersonalizowane powitanie (patrz ćwiczenie).\n",
        "\n",
        "Następnie poprosi o podanie wieku. \n",
        "\n",
        "* Jeśli `wiek < 65` obliczy, ile lat pozostało do emerytury i wypisze tekst: `\"Do emerytury pozostało ci X lat\"` (gdzie `X` jest obliczoną wartością).\n",
        "* W przeciwnym przypadku wypisze tekst `\"Jesteś emerytem\"`."
      ]
    },
    {
      "cell_type": "code",
      "metadata": {
        "id": "P67CuIbxp2xQ"
      },
      "source": [
        "# wpisz kod i przetestuj"
      ],
      "execution_count": null,
      "outputs": []
    },
    {
      "cell_type": "markdown",
      "metadata": {
        "id": "HaQvAVI19hmu"
      },
      "source": [
        "## Praca z grafiką, grafika żółwia\n",
        "\n",
        "Opis poleceń: https://github.com/tolgaatam/ColabTurtle#api\n"
      ]
    },
    {
      "cell_type": "code",
      "metadata": {
        "id": "X3-8t6pC8Jtu"
      },
      "source": [
        "!pip3 install ColabTurtle # uruchom komórkę, poczekaj aż biblioteka zostanie doinstalowana"
      ],
      "execution_count": null,
      "outputs": []
    },
    {
      "cell_type": "code",
      "metadata": {
        "id": "MARWV_9O-BmQ"
      },
      "source": [
        "# demonstracja działania\n",
        "from ColabTurtle.Turtle import *\n",
        "initializeTurtle(initial_speed=5) \n",
        "color('mediumblue')\n",
        "penup()\n",
        "goto(100, 250)\n",
        "pendown()\n",
        "forward(100)\n",
        "left(90)\n",
        "forward(40)\n",
        "right(180)\n",
        "forward(80)\n",
        "penup()\n",
        "right(90)\n",
        "forward(50)\n",
        "left(90)\n",
        "forward(50)\n",
        "left(90)\n",
        "backward(10)\n",
        "pendown()\n",
        "speed(10)\n",
        "for i in range(18):\n",
        "    forward(17)\n",
        "    right(20)\n",
        "penup()\n",
        "shape('circle')\n",
        "color(230, 90, 120)\n",
        "speed(7)\n",
        "right(90)\n",
        "forward(160)\n",
        "left(90)\n",
        "forward(60)\n",
        "right(180)\n",
        "pendown()\n",
        "forward(100)\n",
        "left(90)\n",
        "forward(80)\n",
        "penup()\n",
        "shape('turtle')\n",
        "forward(50)\n",
        "left(90)\n",
        "forward(40)\n",
        "pendown()\n",
        "for i in range(5):\n",
        "    forward(17)\n",
        "    right(20)\n",
        "left(200)\n",
        "for i in range(13):\n",
        "    forward(17)\n",
        "    left(20)\n",
        "left(90)\n",
        "forward(50)\n",
        "penup()\n",
        "backward(100)\n",
        "left(90)\n",
        "forward(40)\n",
        "pendown()\n",
        "left(155)\n",
        "forward(105)\n",
        "right(130)\n",
        "forward(105)\n",
        "backward(45)\n",
        "right(115)\n",
        "forward(50)\n",
        "bgcolor(\"#efefef\")\n",
        "penup()\n",
        "backward(70)\n",
        "left(90)\n",
        "forward(100)\n",
        "right(90)\n",
        "pencolor('black')\n",
        "pensize(7)\n",
        "pendown()\n",
        "forward(650)\n",
        "left(180)\n",
        "speed(12)\n",
        "for i in range(90):\n",
        "    forward(7)\n",
        "    right(0.2)\n",
        "speed(2)\n",
        "left(18+180)\n",
        "penup()\n",
        "forward(300)\n",
        "setheading(270)\n",
        "write(\"ColabTurtle\", align=\"center\", font=(25, \"Arial\", \"italic\"))\n",
        "color('rgb(70 110 70)')\n",
        "backward(40)"
      ],
      "execution_count": null,
      "outputs": []
    },
    {
      "cell_type": "markdown",
      "metadata": {
        "id": "kJ1LsA-MCbaJ"
      },
      "source": [
        "### Zadanie 3.1. Kwadrat\n",
        "\n",
        "Wykorzystując grafikę żółwia narysuj kwadrat o boku 100."
      ]
    },
    {
      "cell_type": "code",
      "metadata": {
        "id": "iYDkMpwwCNKB"
      },
      "source": [
        "clear() # czyści poprzednią grafikę\n",
        "# napisz kod"
      ],
      "execution_count": null,
      "outputs": []
    },
    {
      "cell_type": "markdown",
      "metadata": {
        "id": "7Oft6rGBDQXm"
      },
      "source": [
        "### Zadanie 3.2. Inicjały\n",
        "\n",
        "Wykorzystując grafikę żółwia narysuj swoje inicjały."
      ]
    },
    {
      "cell_type": "code",
      "metadata": {
        "id": "gNI3oCehDYph"
      },
      "source": [
        "clear()\n",
        "# Poniżej zapisz kod"
      ],
      "execution_count": null,
      "outputs": []
    },
    {
      "cell_type": "markdown",
      "metadata": {
        "id": "NbQen8VWEB6R"
      },
      "source": [
        "## Praca ze zdjęciami\n",
        "\n",
        "Temat opcjonalny, przezentuje tylko możliwości Jupyter Notebook i języka Python."
      ]
    },
    {
      "cell_type": "code",
      "metadata": {
        "id": "Hi_gaQ6FEEfU"
      },
      "source": [
        "import matplotlib.pyplot as plt\n",
        "import numpy as np"
      ],
      "execution_count": null,
      "outputs": []
    },
    {
      "cell_type": "code",
      "metadata": {
        "id": "F9mzkMGuR7Hj"
      },
      "source": [
        "obraz = plt.imread(\"https://wipie.urk.edu.pl/images/logowydz/zlt_WIPiE.png\") # obsługuje tylko pliki PNG\n",
        "plt.imshow(obraz)"
      ],
      "execution_count": null,
      "outputs": []
    },
    {
      "cell_type": "code",
      "metadata": {
        "id": "1dFwBiqzIrCa"
      },
      "source": [
        "print(obraz.shape)\n",
        "print(\"Obraz składa się z \" + str(obraz.shape[0]*obraz.shape[1]) + \" pikseli.\")"
      ],
      "execution_count": null,
      "outputs": []
    },
    {
      "cell_type": "code",
      "metadata": {
        "id": "Z6tJZwTFHDpn"
      },
      "source": [
        "print(obraz) # obraz to macierz pikseli"
      ],
      "execution_count": null,
      "outputs": []
    },
    {
      "cell_type": "code",
      "metadata": {
        "id": "oJwH6fsMJNPZ"
      },
      "source": [
        "# odbicie lustrzane względem osi x\n",
        "plt.imshow(obraz[:,::-1]); "
      ],
      "execution_count": null,
      "outputs": []
    },
    {
      "cell_type": "code",
      "metadata": {
        "id": "fw1koMOfKH_2"
      },
      "source": [
        "wycinek = obraz[25:80, 25:90]\n",
        "plt.imshow(wycinek)"
      ],
      "execution_count": null,
      "outputs": []
    },
    {
      "cell_type": "markdown",
      "metadata": {
        "id": "ZhiOLX6-K2zQ"
      },
      "source": [
        "## Praca z danymi\n",
        "\n",
        "Temat opcjonalny, przezentuje tylko możliwości Jupyter Notebook i języka Python."
      ]
    },
    {
      "cell_type": "code",
      "metadata": {
        "id": "RGtkwqPBX7i1"
      },
      "source": [
        "import numpy as np\n",
        "import pandas as pd"
      ],
      "execution_count": null,
      "outputs": []
    },
    {
      "cell_type": "code",
      "metadata": {
        "id": "WTjwkIsuoxu3"
      },
      "source": [
        "import urllib.request, json\n",
        "\n",
        "# aktualne dane synoptyczne z IMGW\n",
        "# więcej: https://danepubliczne.imgw.pl/\n",
        "\n",
        "adres = \"https://danepubliczne.imgw.pl/api/data/synop/station/jeleniagora\" # format JSON\n",
        "plik = urllib.request.urlopen( adres )\n",
        "\n",
        "dane = json.load(plik) # ładujemy cały plik do struktury słownikowej\n",
        "dane"
      ],
      "execution_count": null,
      "outputs": []
    },
    {
      "cell_type": "code",
      "metadata": {
        "id": "kYwvfSBpSW0S"
      },
      "source": [
        "adres = \"https://danepubliczne.imgw.pl/api/data/synop/format/csv\"\n",
        "df = pd.read_csv( adres )\n",
        "df"
      ],
      "execution_count": null,
      "outputs": []
    },
    {
      "cell_type": "code",
      "metadata": {
        "id": "erkvjP1AYZum"
      },
      "source": [
        "# miasta, w których było ciepło i padał deszcz\n",
        "df[ (df.temperatura > 10) & (df.suma_opadu > 1.0) ]"
      ],
      "execution_count": null,
      "outputs": []
    },
    {
      "cell_type": "markdown",
      "metadata": {
        "id": "bXuyffT6m1fh"
      },
      "source": [
        "## Wizualizacja danych\n",
        "\n",
        "Temat opcjonalny, przezentuje tylko możliwości Jupyter Notebook i języka Python."
      ]
    },
    {
      "cell_type": "code",
      "metadata": {
        "id": "ua1pbVwTm4R2"
      },
      "source": [
        "import matplotlib.pyplot as plt\n",
        "import numpy as np"
      ],
      "execution_count": null,
      "outputs": []
    },
    {
      "cell_type": "code",
      "source": [
        "x = np.linspace(-40, 40, 1000)\n",
        "y = x ** 2 + 3 * x + 1\n",
        "plt.figure()\n",
        "plt.plot(x, y);"
      ],
      "metadata": {
        "id": "umR6l9-2EMgm"
      },
      "execution_count": null,
      "outputs": []
    },
    {
      "cell_type": "code",
      "source": [
        "# nakładanie wykresów\n",
        "x = np.linspace(-10, 10, 1000)\n",
        "f = np.cos(x)\n",
        "g = np.sin(x)\n",
        "plt.figure()\n",
        "plt.plot(x, f)\n",
        "plt.plot(x, g, color=\"red\");"
      ],
      "metadata": {
        "id": "OHdljwYYEu34"
      },
      "execution_count": null,
      "outputs": []
    },
    {
      "cell_type": "code",
      "metadata": {
        "id": "3YAnwmQqnX01"
      },
      "source": [
        "# Data for plotting\n",
        "t = np.arange(0.0, 2.0, 0.01)\n",
        "s = 1 + np.sin(2 * np.pi * t)\n",
        "\n",
        "fig, ax = plt.subplots()\n",
        "ax.plot(t, s)\n",
        "\n",
        "ax.set(xlabel='time (s)', ylabel='voltage (mV)',\n",
        "       title='About as simple as it gets, folks')\n",
        "ax.grid()\n",
        "\n",
        "plt.show()"
      ],
      "execution_count": null,
      "outputs": []
    },
    {
      "cell_type": "code",
      "metadata": {
        "id": "Ixb9LUf3niE1"
      },
      "source": [
        "np.random.seed(19680801)\n",
        "\n",
        "# example data\n",
        "mu = 100  # mean of distribution\n",
        "sigma = 15  # standard deviation of distribution\n",
        "x = mu + sigma * np.random.randn(437)\n",
        "\n",
        "num_bins = 50\n",
        "\n",
        "fig, ax = plt.subplots()\n",
        "\n",
        "# the histogram of the data\n",
        "n, bins, patches = ax.hist(x, num_bins, density=True)\n",
        "\n",
        "# add a 'best fit' line\n",
        "y = ((1 / (np.sqrt(2 * np.pi) * sigma)) *\n",
        "     np.exp(-0.5 * (1 / sigma * (bins - mu))**2))\n",
        "ax.plot(bins, y, '--')\n",
        "ax.set_xlabel('Smarts')\n",
        "ax.set_ylabel('Probability density')\n",
        "ax.set_title(r'Histogram of IQ: $\\mu=100$, $\\sigma=15$')\n",
        "\n",
        "# Tweak spacing to prevent clipping of ylabel\n",
        "fig.tight_layout()\n",
        "plt.show()"
      ],
      "execution_count": null,
      "outputs": []
    },
    {
      "cell_type": "code",
      "metadata": {
        "id": "l-eGTSN7nyHi"
      },
      "source": [
        "ax = plt.figure().add_subplot(projection='3d')\n",
        "\n",
        "X, Y = np.mgrid[0:6*np.pi:0.25, 0:4*np.pi:0.25]\n",
        "Z = np.sqrt(np.abs(np.cos(X) + np.cos(Y)))\n",
        "\n",
        "ax.plot_surface(X + 1e5, Y + 1e5, Z, cmap='autumn', cstride=2, rstride=2)\n",
        "\n",
        "ax.set_xlabel(\"X label\")\n",
        "ax.set_ylabel(\"Y label\")\n",
        "ax.set_zlabel(\"Z label\")\n",
        "ax.set_zlim(0, 2)\n",
        "\n",
        "plt.show()"
      ],
      "execution_count": null,
      "outputs": []
    },
    {
      "cell_type": "markdown",
      "metadata": {
        "id": "YmzFEONWoqKB"
      },
      "source": [
        "Więcej przykładów: https://matplotlib.org/stable/gallery/index.html"
      ]
    }
  ]
}