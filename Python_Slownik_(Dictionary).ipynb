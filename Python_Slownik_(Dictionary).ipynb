{
  "nbformat": 4,
  "nbformat_minor": 0,
  "metadata": {
    "colab": {
      "name": "Python - Slownik (Dictionary).ipynb",
      "provenance": [],
      "collapsed_sections": [
        "YATsm5l1CaI2"
      ],
      "include_colab_link": true
    },
    "kernelspec": {
      "name": "python394jvsc74a57bd063fd5069d213b44bf678585dea6b12cceca9941eaf7f819626cde1f2670de90d",
      "display_name": "Python 3.9.4 64-bit"
    },
    "language_info": {
      "name": "python",
      "version": "3.9.4"
    },
    "metadata": {
      "interpreter": {
        "hash": "63fd5069d213b44bf678585dea6b12cceca9941eaf7f819626cde1f2670de90d"
      }
    }
  },
  "cells": [
    {
      "cell_type": "markdown",
      "metadata": {
        "id": "view-in-github",
        "colab_type": "text"
      },
      "source": [
        "<a href=\"https://colab.research.google.com/github/URK-KIPLiIS/Python-lessons/blob/main/Python_Slownik_(Dictionary).ipynb\" target=\"_parent\"><img src=\"https://colab.research.google.com/assets/colab-badge.svg\" alt=\"Open In Colab\"/></a>"
      ]
    },
    {
      "cell_type": "markdown",
      "metadata": {
        "id": "feoWMC-nu-E9"
      },
      "source": [
        "# Struktury danych. Słownik (`Dictionary`)\n",
        "\n",
        "* Krzysztof Molenda (2021-05-01)\n",
        "\n",
        "---"
      ]
    },
    {
      "cell_type": "markdown",
      "metadata": {
        "id": "view-in-github"
      },
      "source": [
        "<a href=\"https://colab.research.google.com/github/URK-KIPLiIS/Python-lessons/blob/main/03.%20Struktury%20danych/Zbior.ipynb\" target=\"_parent\"><img src=\"https://colab.research.google.com/assets/colab-badge.svg\" alt=\"Open In Colab\"/></a>"
      ]
    },
    {
      "cell_type": "markdown",
      "metadata": {
        "id": "GH94Sq4pCaIG"
      },
      "source": [
        "Słownk (ang. _dictionary_) w senesie Pythona to kolekcja elementów postrzegana jak lista, ale z własnym mechanizmem indeksowania. Dlatego często struktura ta nazywana jest *tablicą asocjacyjną*.\n",
        "\n",
        "Słownik mozna postrzegać jako kolekcję krotek 2-elementowych klucz-wartość:\n",
        "\n",
        "```python\n",
        "d = {\n",
        "    <key>: <value>,\n",
        "    <key>: <value>,\n",
        "      .\n",
        "      .\n",
        "      .\n",
        "    <key>: <value>\n",
        "}\n",
        "```\n",
        "\n",
        "Słowniki i listy naja podobne własności:\n",
        "\n",
        "* obie struktury są zmiennicze (można elementy dodawać/usuwać/zmieniać)\n",
        "* obie struktury są dynamiczne (powiększają się i skracają w miarę potrzeb, mogą być postrzegane jako nieskończone)\n",
        "* obie struktury mogą być zagnieżdżane (np. elementami listy mogą być listy, elementami słownika mogą byc słowniki, elementami słownika mogą być listy i _vice versa_)\n",
        "* obie struktury są uporządkowane (w sensie - elementy przechowywane są w takiej kolejności, w jakiej były dodane - od Python 3.7)\n",
        "\n",
        "Główną różnicą słownika od listy jest mechanizm przechowywania danych:\n",
        "\n",
        "* element listy jest dostępny poprzez wskazanie jego indeksu (indeksowanie od `0`)\n",
        "* element słownika jest dostepny poprzez wskazanie jego klucza\n",
        "* klucze nie mogą się powtarzać\n",
        "* klucze muszą być typu niezmienniczego (_immutable_).\n",
        "\n",
        "Przykład 1 (lista par tego samego typu):"
      ]
    },
    {
      "cell_type": "code",
      "metadata": {
        "id": "fTgBwafeu53v",
        "colab": {
          "base_uri": "https://localhost:8080/"
        },
        "outputId": "72245520-b816-44cd-f185-b43189a89ae5"
      },
      "source": [
        "# książka telefoniczna\n",
        "# właściciel -> numer telefonu\n",
        "telefon = {\n",
        "  \"kazio\" : '511234123',\n",
        "  \"zuzia\" : '509123123',\n",
        "  \"mama\" : '126265467'\n",
        "}\n",
        "print(telefon)\n",
        "print( f'mama -> {telefon[\"mama\"]}' ) # odwołanie do wartości poprzez klucz\n",
        "# print( telefon[0] ) # BŁĄD próba odwołania przez indeks: KeyError"
      ],
      "execution_count": null,
      "outputs": [
        {
          "output_type": "stream",
          "name": "stdout",
          "text": [
            "{'kazio': '511234123', 'zuzia': '509123123', 'mama': '126265467'}\n",
            "mama -> 126265467\n"
          ]
        }
      ]
    },
    {
      "cell_type": "markdown",
      "metadata": {
        "id": "GK4d3K1XCaIM"
      },
      "source": [
        "Przykład 2 (symulacja listy z własnym indeksowaniem):"
      ]
    },
    {
      "cell_type": "code",
      "metadata": {
        "colab": {
          "base_uri": "https://localhost:8080/"
        },
        "id": "l5cXO2o7CaIN",
        "outputId": "01b7664e-4940-40da-c0a5-74af3ff1a762"
      },
      "source": [
        "kwadraty = {1 : 1, 2 : 4, 3 : 9, 4 : 16, 5 : 25}\n",
        "print( kwadraty ) \n",
        "print( kwadraty[3] )"
      ],
      "execution_count": null,
      "outputs": [
        {
          "output_type": "stream",
          "name": "stdout",
          "text": [
            "{1: 1, 2: 4, 3: 9, 4: 16, 5: 25}\n",
            "9\n"
          ]
        }
      ]
    },
    {
      "cell_type": "markdown",
      "metadata": {
        "id": "GzNJMp5QCaIP"
      },
      "source": [
        "Przykład 3 (rekord opisujący zestaw danych):"
      ]
    },
    {
      "cell_type": "code",
      "metadata": {
        "colab": {
          "base_uri": "https://localhost:8080/"
        },
        "id": "6xQqkl-4CaIP",
        "outputId": "7d503426-6924-4022-eebe-8ddf7ffd055a"
      },
      "source": [
        "samochod = {\n",
        "    \"marka\" : \"Ford\",\n",
        "    \"model\" : \"mustang\",\n",
        "    \"rok produkcji\" : 1964,\n",
        "    \"cena PLN\" : 60000\n",
        "}\n",
        "print( samochod )\n",
        "print( samochod[\"marka\"], samochod[\"model\"] )"
      ],
      "execution_count": null,
      "outputs": [
        {
          "output_type": "stream",
          "name": "stdout",
          "text": [
            "{'marka': 'Ford', 'model': 'mustang', 'rok produkcji': 1964, 'cena PLN': 60000}\n",
            "Ford mustang\n"
          ]
        }
      ]
    },
    {
      "cell_type": "markdown",
      "metadata": {
        "id": "yUZd5rS4CaIR"
      },
      "source": [
        "Przykład 4 (słownik i liosta wewnątrz słownika):"
      ]
    },
    {
      "cell_type": "code",
      "metadata": {
        "colab": {
          "base_uri": "https://localhost:8080/"
        },
        "id": "MLRee3xWCaIR",
        "outputId": "5f4ba662-c0d4-4c7f-975a-f3eeb4aabf54"
      },
      "source": [
        "rodzina = {\n",
        "    \"ojciec\" : \"Jan\",\n",
        "    \"matka\"  : \"Ewa\",\n",
        "    \"dzieci\" : [\"Brajan\", \"Dżesika\", \"Janusz\"],\n",
        "    \"adres\"  : {\n",
        "        \"ulica\" : \"Balicka\",\n",
        "        \"numer\" : \"116B\",\n",
        "        \"kod\"   : \"30-149\",\n",
        "        \"miasto\": \"Kraków\"\n",
        "    }\n",
        "}\n",
        "print( rodzina )\n",
        "print( rodzina[\"matka\"] )\n",
        "print( rodzina[\"adres\"][\"miasto\"] )"
      ],
      "execution_count": null,
      "outputs": [
        {
          "output_type": "stream",
          "name": "stdout",
          "text": [
            "{'ojciec': 'Jan', 'matka': 'Ewa', 'dzieci': ['Brajan', 'Dżesika', 'Janusz'], 'adres': {'ulica': 'Balicka', 'numer': '116B', 'kod': '30-149', 'miasto': 'Kraków'}}\n",
            "Ewa\n",
            "Kraków\n"
          ]
        }
      ]
    },
    {
      "cell_type": "markdown",
      "metadata": {
        "id": "Wl1exC9WCaIS"
      },
      "source": [
        "Przykład 5 (punkty i figury na płaszczyźnie):"
      ]
    },
    {
      "cell_type": "code",
      "metadata": {
        "id": "QNVQkFO4CaIT",
        "colab": {
          "base_uri": "https://localhost:8080/"
        },
        "outputId": "ff40316f-594d-4818-8624-5f8282e77bf8"
      },
      "source": [
        "# współrzędne wierzchołka -> nazwa wierzchołka\n",
        "figura = {\n",
        "    \"nazwa\" : \"trojkat\",\n",
        "    (1,1) : \"A\",\n",
        "    (1,3) : \"B\",\n",
        "    (3,1) : \"C\",\n",
        "}\n",
        "print(figura)\n",
        "print(\"nazwa figury:\", figura[\"nazwa\"])\n",
        "print(\"wierzchołek (1,1):\", f\"{figura[(1,1)]}\")"
      ],
      "execution_count": null,
      "outputs": [
        {
          "output_type": "stream",
          "name": "stdout",
          "text": [
            "{'nazwa': 'trojkat', (1, 1): 'A', (1, 3): 'B', (3, 1): 'C'}\n",
            "nazwa figury: trojkat\n",
            "wierzchołek (1,1): A\n"
          ]
        }
      ]
    },
    {
      "cell_type": "code",
      "metadata": {
        "id": "aeSPtJ-qCaIT",
        "colab": {
          "base_uri": "https://localhost:8080/"
        },
        "outputId": "ab1af7e4-4fe8-4949-be85-594836eb8e48"
      },
      "source": [
        "# nazwa wierzchołka -> współrzędne\n",
        "trojkat = {\n",
        "    \"A\" : (1,1),\n",
        "    \"B\" : (1,3),\n",
        "    \"C\" : (3,1),\n",
        "}\n",
        "print( f\"trojkat: A={trojkat['A']} B={trojkat['B']} C={trojkat['C']}\" )\n",
        "\n",
        "print(\"wierzchołki: \", end=\"\")\n",
        "for wierzcholek in trojkat:\n",
        "  print(wierzcholek, end=\" \")\n",
        "print()"
      ],
      "execution_count": null,
      "outputs": [
        {
          "output_type": "stream",
          "name": "stdout",
          "text": [
            "trojkat: A=(1, 1) B=(1, 3) C=(3, 1)\n",
            "wierzchołki: A B C \n"
          ]
        }
      ]
    },
    {
      "cell_type": "markdown",
      "metadata": {
        "id": "eVFtVq-RCaIU"
      },
      "source": [
        "## Tworzenie"
      ]
    },
    {
      "cell_type": "markdown",
      "metadata": {
        "id": "lz50y3pcCaIV"
      },
      "source": [
        "Standardowo, słownik tworzymy wymieniając - w nawiasach klamrowych - pary klucz-wartość, oddzielając klucz i wartość dwukropkiem (':'), zaś pary przecinkiem, jak w liście."
      ]
    },
    {
      "cell_type": "code",
      "metadata": {
        "colab": {
          "base_uri": "https://localhost:8080/"
        },
        "id": "CKqXFEfZCaIW",
        "outputId": "2112b634-7c7b-4507-e1fa-28f8f8990039"
      },
      "source": [
        "slownik = {\"a\": 5, \"b\": 7, \"c\": 1}\n",
        "print(slownik)\n",
        "print(type(slownik))"
      ],
      "execution_count": null,
      "outputs": [
        {
          "output_type": "stream",
          "text": [
            "{'a': 5, 'b': 7, 'c': 1}\n",
            "<class 'dict'>\n"
          ],
          "name": "stdout"
        }
      ]
    },
    {
      "cell_type": "markdown",
      "metadata": {
        "id": "GdARplnzCaIX"
      },
      "source": [
        "Słownik jest obiektem (typ `dict`). Możemy go tworzyć za pomocą konstruktora, którego argumentem jest lista par klucz-wartość:"
      ]
    },
    {
      "cell_type": "code",
      "metadata": {
        "colab": {
          "base_uri": "https://localhost:8080/"
        },
        "id": "MTBO_2jvCaIY",
        "outputId": "ba33c2c1-3163-4c0b-8077-21352a71cca1"
      },
      "source": [
        "slownik = dict( [(\"a\",5), (\"b\",7), (\"c\",1)] )\n",
        "print(slownik)"
      ],
      "execution_count": null,
      "outputs": [
        {
          "output_type": "stream",
          "text": [
            "{'a': 5, 'b': 7, 'c': 1}\n"
          ],
          "name": "stdout"
        }
      ]
    },
    {
      "cell_type": "markdown",
      "metadata": {
        "id": "CqtkwxwmCaIc"
      },
      "source": [
        "Dysponując listą kluczy i odpowiadającą im listę wartości, możemy stworzyć słownik łącząc te elementy w pary za pomocą funkcji `zip`:"
      ]
    },
    {
      "cell_type": "code",
      "metadata": {
        "colab": {
          "base_uri": "https://localhost:8080/"
        },
        "id": "AYbRXcraCaId",
        "outputId": "b34de811-d190-4a31-b8ab-69814bd4aa79"
      },
      "source": [
        "cyfry = [0, 1, 2, 3]\n",
        "cyfry_slownie = [\"zero\", \"jeden\", \"dwa\", \"trzy\"]\n",
        "temp = zip(cyfry, cyfry_slownie)\n",
        "print( type(temp) )\n",
        "print( zip )\n",
        "\n",
        "slownie = dict( temp )\n",
        "print(slownie)"
      ],
      "execution_count": null,
      "outputs": [
        {
          "output_type": "stream",
          "text": [
            "<class 'zip'>\n",
            "<class 'zip'>\n",
            "{0: 'zero', 1: 'jeden', 2: 'dwa', 3: 'trzy'}\n"
          ],
          "name": "stdout"
        }
      ]
    },
    {
      "cell_type": "markdown",
      "metadata": {
        "id": "aeZ62dyfSLl3"
      },
      "source": [
        "Słownik możemy tworzyć za pomocą notacji _comprehension_. Przykładowo, słownik zawierający kolejne kwadraty kluczy utworzony za pomocą _dictionary comprehension_:"
      ]
    },
    {
      "cell_type": "code",
      "metadata": {
        "colab": {
          "base_uri": "https://localhost:8080/"
        },
        "id": "Lazs9dHpCaIf",
        "outputId": "0663db99-99c2-4b70-bcbf-02d39b6c27ef"
      },
      "source": [
        "kwadraty = { x : x*x for x in range(1,11) } \n",
        "print(kwadraty)"
      ],
      "execution_count": null,
      "outputs": [
        {
          "output_type": "stream",
          "text": [
            "{1: 1, 2: 4, 3: 9, 4: 16, 5: 25, 6: 36, 7: 49, 8: 64, 9: 81, 10: 100}\n"
          ],
          "name": "stdout"
        }
      ]
    },
    {
      "cell_type": "markdown",
      "metadata": {
        "id": "vZh2L1HZCaIf"
      },
      "source": [
        "Szkielet konstrukcji jest następujący:\n",
        "\n",
        "```python\n",
        "slownik = {klucz: wartość for zmienna in kolekcja}\n",
        "```\n"
      ]
    },
    {
      "cell_type": "code",
      "metadata": {
        "colab": {
          "base_uri": "https://localhost:8080/"
        },
        "id": "5PhAy8fmCaIg",
        "outputId": "4c07af35-b803-46ef-979f-e54785a839c2"
      },
      "source": [
        "# Przykład\n",
        "# doliczenie vat-u do listy towarów\n",
        "\n",
        "towary = {'mleko' : 2.49, 'kawa' : 6.05, 'cukier' : 0.1 }\n",
        "vat = 0.22\n",
        "towary_z_vat = { towar : cena*(1+vat)  for (towar, cena) in towary.items() }\n",
        "print(towary_z_vat)"
      ],
      "execution_count": null,
      "outputs": [
        {
          "output_type": "stream",
          "text": [
            "{'mleko': 3.0378000000000003, 'kawa': 7.380999999999999, 'cukier': 0.122}\n"
          ],
          "name": "stdout"
        }
      ]
    },
    {
      "cell_type": "code",
      "metadata": {
        "colab": {
          "base_uri": "https://localhost:8080/"
        },
        "id": "nbmFd0VDCaIg",
        "outputId": "bea92460-f2b9-468b-9a02-ecf0009a1dec"
      },
      "source": [
        "# Przykład\n",
        "# podwyzka ceny wybranych towarów\n",
        "\n",
        "towary = {'mleko' : 2.49, 'kawa' : 6.05, 'cukier' : 0.1, 'czekolada' : 10 }\n",
        "podwyzka = 0.25 # jeśli cena przekracza 5\n",
        "towary_po_podwyzce = { towar : cena + cena*podwyzka  for (towar, cena) in towary.items() if cena > 5}\n",
        "print(towary_po_podwyzce)"
      ],
      "execution_count": null,
      "outputs": [
        {
          "output_type": "stream",
          "text": [
            "{'kawa': 7.5625, 'czekolada': 12.5}\n"
          ],
          "name": "stdout"
        }
      ]
    },
    {
      "cell_type": "code",
      "metadata": {
        "colab": {
          "base_uri": "https://localhost:8080/"
        },
        "id": "icxmIfokCaIh",
        "outputId": "71d36e44-36b3-4226-b8a2-b4adc5643dc1"
      },
      "source": [
        "# Przykład\n",
        "# zaliczenie przedmiotu\n",
        "\n",
        "studenci = { \"jan\" : 56, \"marek\" : 96, \"adam\" : 32, \"brajan\" : 59}\n",
        "zaliczenia = { imie : ('zal.' if punkty > 50 else 'niedostateczny') for (imie, punkty) in studenci.items() }\n",
        "print(zaliczenia)\n"
      ],
      "execution_count": null,
      "outputs": [
        {
          "output_type": "stream",
          "text": [
            "{'jan': 'zal.', 'marek': 'zal.', 'adam': 'niedostateczny', 'brajan': 'zal.'}\n"
          ],
          "name": "stdout"
        }
      ]
    },
    {
      "cell_type": "markdown",
      "metadata": {
        "id": "guTnegi5CaIh"
      },
      "source": [
        "Słownik pusty utworzymy poleceniem: `slownik = {}`"
      ]
    },
    {
      "cell_type": "markdown",
      "metadata": {
        "id": "sf6MLiw5CaIi"
      },
      "source": [
        "## Dostęp do elementów słownika"
      ]
    },
    {
      "cell_type": "markdown",
      "metadata": {
        "id": "CPqf7hO0CaIi"
      },
      "source": [
        "Dostęp do elementów słownika **nie może** być realizowany za pomocą odwołania do ich indeksów (nawiasy kwadratowe z numerem kolumny `[]`). Podstawowym sposobem dostępu do elementów słownika jest odwołanie (nawias kwadratowy `[]`) za pośrednictwem klucza:"
      ]
    },
    {
      "cell_type": "code",
      "metadata": {
        "colab": {
          "base_uri": "https://localhost:8080/"
        },
        "id": "2_8vZoB_CaIi",
        "outputId": "7f93daee-aea1-48b9-8bf1-3467d9181dde"
      },
      "source": [
        "slownik = dict( [ (\"a\",99), (\"b\",7), (\"c\",1) ] )\n",
        "print( f\"a -> {slownik['a']}\")"
      ],
      "execution_count": null,
      "outputs": [
        {
          "output_type": "stream",
          "name": "stdout",
          "text": [
            "a -> 99\n"
          ]
        }
      ]
    },
    {
      "cell_type": "markdown",
      "metadata": {
        "id": "chdIH8oYCaIj"
      },
      "source": [
        "Jeśli klucz nie istnieje, zostanie zgłoszony błąd (`KeyError`):"
      ]
    },
    {
      "cell_type": "code",
      "metadata": {
        "colab": {
          "base_uri": "https://localhost:8080/",
          "height": 183
        },
        "id": "CLCPMaJkCaIj",
        "outputId": "cf08f5f9-689d-4766-8fac-1c0946bc18f6"
      },
      "source": [
        "slownik = dict( [ (\"a\",99), (\"b\",7), (\"c\",1) ] )\n",
        "print( f\"d -> {slownik['d']}\")"
      ],
      "execution_count": null,
      "outputs": [
        {
          "output_type": "error",
          "ename": "KeyError",
          "evalue": "ignored",
          "traceback": [
            "\u001b[0;31m---------------------------------------------------------------------------\u001b[0m",
            "\u001b[0;31mKeyError\u001b[0m                                  Traceback (most recent call last)",
            "\u001b[0;32m<ipython-input-22-f3b826624d6f>\u001b[0m in \u001b[0;36m<module>\u001b[0;34m()\u001b[0m\n\u001b[1;32m      1\u001b[0m \u001b[0mslownik\u001b[0m \u001b[0;34m=\u001b[0m \u001b[0mdict\u001b[0m\u001b[0;34m(\u001b[0m \u001b[0;34m[\u001b[0m \u001b[0;34m(\u001b[0m\u001b[0;34m\"a\"\u001b[0m\u001b[0;34m,\u001b[0m\u001b[0;36m99\u001b[0m\u001b[0;34m)\u001b[0m\u001b[0;34m,\u001b[0m \u001b[0;34m(\u001b[0m\u001b[0;34m\"b\"\u001b[0m\u001b[0;34m,\u001b[0m\u001b[0;36m7\u001b[0m\u001b[0;34m)\u001b[0m\u001b[0;34m,\u001b[0m \u001b[0;34m(\u001b[0m\u001b[0;34m\"c\"\u001b[0m\u001b[0;34m,\u001b[0m\u001b[0;36m1\u001b[0m\u001b[0;34m)\u001b[0m \u001b[0;34m]\u001b[0m \u001b[0;34m)\u001b[0m\u001b[0;34m\u001b[0m\u001b[0;34m\u001b[0m\u001b[0m\n\u001b[0;32m----> 2\u001b[0;31m \u001b[0mprint\u001b[0m\u001b[0;34m(\u001b[0m \u001b[0;34mf\"d -> {slownik['d']}\"\u001b[0m\u001b[0;34m)\u001b[0m\u001b[0;34m\u001b[0m\u001b[0;34m\u001b[0m\u001b[0m\n\u001b[0m",
            "\u001b[0;31mKeyError\u001b[0m: 'd'"
          ]
        }
      ]
    },
    {
      "cell_type": "markdown",
      "metadata": {
        "id": "S1BJX7H6CaIk"
      },
      "source": [
        "Elementy słownika możemy modyfikować lub dodawać przy pomocy operatora dostępu `[]`:"
      ]
    },
    {
      "cell_type": "code",
      "metadata": {
        "colab": {
          "base_uri": "https://localhost:8080/"
        },
        "id": "5uD6o0JGCaIk",
        "outputId": "79278cd8-131b-4ecd-a5be-a8141fd77cfb"
      },
      "source": [
        "slownik = dict( [ (\"a\",5), (\"b\",7), (\"c\",1) ] )\n",
        "slownik[\"a\"] = 100 # modyfikowanie elementu (bo jest w słowniku)\n",
        "slownik[\"d\"] = 0   # dodanie elementu (bo takiego klucza nie ma w słowniku)\n",
        "slownik[\"e\"] = None\n",
        "print( slownik )"
      ],
      "execution_count": null,
      "outputs": [
        {
          "output_type": "stream",
          "text": [
            "{'a': 100, 'b': 7, 'c': 1, 'd': 0, 'e': None}\n"
          ],
          "name": "stdout"
        }
      ]
    },
    {
      "cell_type": "markdown",
      "metadata": {
        "id": "nUypLynLCaIk"
      },
      "source": [
        "> Stanem specjalnym wartości jest `None` - oznacza brak wartości dla określonego klucza."
      ]
    },
    {
      "cell_type": "markdown",
      "metadata": {
        "id": "i5dUt6EdCaIl"
      },
      "source": [
        "Innym sposobem dostępu do elementu słownika jest użycie metody `get` (odczyt) lub `update` (modyfikacja, dopisanie do słownika):"
      ]
    },
    {
      "cell_type": "code",
      "metadata": {
        "colab": {
          "base_uri": "https://localhost:8080/",
          "height": 252
        },
        "id": "rwqrJYs7CaIl",
        "outputId": "f6555a9e-96f0-4334-8a16-b765959d14d8"
      },
      "source": [
        "slownik = dict( [ (\"a\",5), (\"b\",7), (\"c\",1) ] )\n",
        "print( slownik.get(\"a\") )      # slownik[\"a\"]\n",
        "slownik.update( {\"a\" : 100} )\n",
        "slownik.update( b = 700 )      # slownik[\"b\"] = 700\n",
        "print( slownik )\n",
        "print( slownik.get(\"x\", -1) )  # nie ma elementu, zwracamy -1\n",
        "print( slownik[\"x\"] )          # nie ma elementu, błąd"
      ],
      "execution_count": null,
      "outputs": [
        {
          "output_type": "stream",
          "name": "stdout",
          "text": [
            "5\n",
            "{'a': 100, 'b': 700, 'c': 1}\n",
            "-1\n"
          ]
        },
        {
          "output_type": "error",
          "ename": "KeyError",
          "evalue": "ignored",
          "traceback": [
            "\u001b[0;31m---------------------------------------------------------------------------\u001b[0m",
            "\u001b[0;31mKeyError\u001b[0m                                  Traceback (most recent call last)",
            "\u001b[0;32m<ipython-input-20-4512a897ef5c>\u001b[0m in \u001b[0;36m<module>\u001b[0;34m()\u001b[0m\n\u001b[1;32m      5\u001b[0m \u001b[0mprint\u001b[0m\u001b[0;34m(\u001b[0m \u001b[0mslownik\u001b[0m \u001b[0;34m)\u001b[0m\u001b[0;34m\u001b[0m\u001b[0;34m\u001b[0m\u001b[0m\n\u001b[1;32m      6\u001b[0m \u001b[0mprint\u001b[0m\u001b[0;34m(\u001b[0m \u001b[0mslownik\u001b[0m\u001b[0;34m.\u001b[0m\u001b[0mget\u001b[0m\u001b[0;34m(\u001b[0m\u001b[0;34m\"x\"\u001b[0m\u001b[0;34m,\u001b[0m \u001b[0;34m-\u001b[0m\u001b[0;36m1\u001b[0m\u001b[0;34m)\u001b[0m \u001b[0;34m)\u001b[0m  \u001b[0;31m# nie ma elementu, zwracamy -1\u001b[0m\u001b[0;34m\u001b[0m\u001b[0;34m\u001b[0m\u001b[0m\n\u001b[0;32m----> 7\u001b[0;31m \u001b[0mprint\u001b[0m\u001b[0;34m(\u001b[0m \u001b[0mslownik\u001b[0m\u001b[0;34m[\u001b[0m\u001b[0;34m\"x\"\u001b[0m\u001b[0;34m]\u001b[0m \u001b[0;34m)\u001b[0m          \u001b[0;31m# nie ma elementu, błąd\u001b[0m\u001b[0;34m\u001b[0m\u001b[0;34m\u001b[0m\u001b[0m\n\u001b[0m",
            "\u001b[0;31mKeyError\u001b[0m: 'x'"
          ]
        }
      ]
    },
    {
      "cell_type": "markdown",
      "metadata": {
        "id": "vhq5xywTCaIl"
      },
      "source": [
        "Usuwanie wpisu:\n",
        "\n",
        "* jeśli nie chcemy usuwać klucza, a jedynie wartość, przypisujemy kluczowi `None`\n",
        "* jeśli chcemy usunąć cały wpis (parę klucz-wartość), używamy metody:\n",
        "    * `pop( klucz )` - usuwamy wpis o podanym kluczu (i zapamiętać wartość usuwanego elementu)\n",
        "    * `popitem()` - usuwamy ostanio dodany wpis (od Python 3.7)\n",
        "    * słowo kluczowe `del ...` - usuwamy wskazany wpis (obiekt)"
      ]
    },
    {
      "cell_type": "code",
      "metadata": {
        "colab": {
          "base_uri": "https://localhost:8080/",
          "height": 269
        },
        "id": "5UnQak9xCaIm",
        "outputId": "8a5fb71b-460f-4867-ae5e-8f35e7ebb526"
      },
      "source": [
        "slownik = dict( [ (\"a\",5), (\"b\",7), (\"c\",1) ] )\n",
        "slownik[\"a\"] = None  # usuwamy wartość dla klucza 'a'\n",
        "print(slownik)\n",
        "zwracana_wartosc = slownik.pop(\"a\") # usuwamy wpis o kluczu `a` i zapamiętujemy usuwaną wartość w zmiennej x\n",
        "print(slownik)\n",
        "slownik[\"x\"] = 100   # dodajemy wpis {\"x\" : 100}\n",
        "print(slownik)\n",
        "slownik.popitem()   # usuwamy ostatnio dodany wpis\n",
        "print(slownik)\n",
        "del slownik\n",
        "print(slownik)"
      ],
      "execution_count": null,
      "outputs": [
        {
          "output_type": "stream",
          "name": "stdout",
          "text": [
            "{'a': None, 'b': 7, 'c': 1}\n",
            "{'b': 7, 'c': 1}\n",
            "{'b': 7, 'c': 1, 'x': 100}\n",
            "{'b': 7, 'c': 1}\n"
          ]
        },
        {
          "output_type": "error",
          "ename": "NameError",
          "evalue": "ignored",
          "traceback": [
            "\u001b[0;31m---------------------------------------------------------------------------\u001b[0m",
            "\u001b[0;31mNameError\u001b[0m                                 Traceback (most recent call last)",
            "\u001b[0;32m<ipython-input-21-1b8c07f5aec0>\u001b[0m in \u001b[0;36m<module>\u001b[0;34m()\u001b[0m\n\u001b[1;32m      9\u001b[0m \u001b[0mprint\u001b[0m\u001b[0;34m(\u001b[0m\u001b[0mslownik\u001b[0m\u001b[0;34m)\u001b[0m\u001b[0;34m\u001b[0m\u001b[0;34m\u001b[0m\u001b[0m\n\u001b[1;32m     10\u001b[0m \u001b[0;32mdel\u001b[0m \u001b[0mslownik\u001b[0m\u001b[0;34m\u001b[0m\u001b[0;34m\u001b[0m\u001b[0m\n\u001b[0;32m---> 11\u001b[0;31m \u001b[0mprint\u001b[0m\u001b[0;34m(\u001b[0m\u001b[0mslownik\u001b[0m\u001b[0;34m)\u001b[0m\u001b[0;34m\u001b[0m\u001b[0;34m\u001b[0m\u001b[0m\n\u001b[0m",
            "\u001b[0;31mNameError\u001b[0m: name 'slownik' is not defined"
          ]
        }
      ]
    },
    {
      "cell_type": "markdown",
      "metadata": {
        "id": "cIB91NJ8CaIm"
      },
      "source": [
        "Próba usunięcia elementu, który nie istnieje, spowoduje zgłoszenie błędu. Jest drugi wariant metody `pop(klucz, default)`, która w sytuacji braku klucza nie zgłasza wyjątku, zaś wynikiem jej działania jest drugi argument `default`"
      ]
    },
    {
      "cell_type": "code",
      "metadata": {
        "colab": {
          "base_uri": "https://localhost:8080/"
        },
        "id": "-w7_rIPKCaIn",
        "outputId": "44861fff-e739-4ffe-eadc-1d8b3018ade1"
      },
      "source": [
        "slownik = dict( [ (\"a\",5), (\"b\",7), (\"c\",1), (\"x\", 100) ] )\n",
        "# wartosc = slownik.pop(\"x\") # usuwamy wpis o kluczu `x` i zapamiętujemy usuwaną wartość w zmiennej, błąd: takiego klucza nie ma\n",
        "wartosc = slownik.pop(\"x\", -1)\n",
        "print(wartosc)"
      ],
      "execution_count": null,
      "outputs": [
        {
          "output_type": "stream",
          "text": [
            "100\n"
          ],
          "name": "stdout"
        }
      ]
    },
    {
      "cell_type": "markdown",
      "metadata": {
        "id": "0sYb_SyMCaIp"
      },
      "source": [
        "## Przeglądanie słownika"
      ]
    },
    {
      "cell_type": "markdown",
      "metadata": {
        "id": "-6GNtNm9CaIq"
      },
      "source": [
        "Przeglądanie słownika odbywa się w analogiczny sposób, jak dla innych kolekcji:"
      ]
    },
    {
      "cell_type": "code",
      "metadata": {
        "colab": {
          "base_uri": "https://localhost:8080/"
        },
        "id": "bYFGZmNOCaIq",
        "outputId": "1db8cf51-31bc-44cc-f750-e1d22ec9276a"
      },
      "source": [
        "slownik = dict( [ (\"a\",5), (\"b\",7), (\"c\",1) ] )\n",
        "# listowanie kluczy słownika\n",
        "print(\"klucze\")\n",
        "for klucz in slownik:\n",
        "    print(klucz)\n",
        "\n",
        "# listowanie wartości słownika\n",
        "print(\"wartości\")\n",
        "for klucz in slownik:\n",
        "    print( slownik[klucz] )\n",
        "\n",
        "# listowanie wpisów\n",
        "print(\"klucz-wartość\")\n",
        "for (klucz, wartosc) in slownik.items():\n",
        "    print(klucz, wartosc)\n",
        "\n",
        "for klucz in slownik:\n",
        "    print( klucz, slownik[klucz])"
      ],
      "execution_count": null,
      "outputs": [
        {
          "output_type": "stream",
          "text": [
            "klucze\n",
            "a\n",
            "b\n",
            "c\n",
            "wartości\n",
            "5\n",
            "7\n",
            "1\n",
            "klucz-wartość\n",
            "a 5\n",
            "b 7\n",
            "c 1\n",
            "a 5\n",
            "b 7\n",
            "c 1\n"
          ],
          "name": "stdout"
        }
      ]
    },
    {
      "cell_type": "markdown",
      "metadata": {
        "id": "beucSBZpCaIr"
      },
      "source": [
        "Możemy pobrać listę kluczy słownika (formalnie _widok_ - zmiany w słowniku wpływają na widok, bez konieczności jego aktualizacji):"
      ]
    },
    {
      "cell_type": "code",
      "metadata": {
        "colab": {
          "base_uri": "https://localhost:8080/"
        },
        "id": "c_iJEKGfCaIs",
        "outputId": "b9af475d-8826-4912-a9b7-d3fc580b6b50"
      },
      "source": [
        "slownik = dict( [ (\"a\",5), (\"b\",7), (\"c\",1) ] )\n",
        "klucze = slownik.keys()\n",
        "# ....\n",
        "print(klucze)\n",
        "slownik[\"x\"] = 5\n",
        "print( klucze )"
      ],
      "execution_count": null,
      "outputs": [
        {
          "output_type": "stream",
          "text": [
            "dict_keys(['a', 'b', 'c'])\n",
            "dict_keys(['a', 'b', 'c', 'x'])\n"
          ],
          "name": "stdout"
        }
      ]
    },
    {
      "cell_type": "markdown",
      "metadata": {
        "id": "WV66AB4fCaIs"
      },
      "source": [
        "W podobny sposób możemy odwołać się do zbioru wartości (również _widok_):"
      ]
    },
    {
      "cell_type": "code",
      "metadata": {
        "colab": {
          "base_uri": "https://localhost:8080/"
        },
        "id": "ye7udP0iCaIs",
        "outputId": "3d42dc5f-d243-42a5-dc9d-33233ae3cb7d"
      },
      "source": [
        "slownik = dict( [ (\"a\",5), (\"b\",7), (\"c\",1) ] )\n",
        "wartosci = slownik.values()\n",
        "print( wartosci )\n",
        "slownik[\"x\"] = 5\n",
        "print( wartosci )"
      ],
      "execution_count": null,
      "outputs": [
        {
          "output_type": "stream",
          "text": [
            "dict_values([5, 7, 1])\n",
            "dict_values([5, 7, 1, 5])\n"
          ],
          "name": "stdout"
        }
      ]
    },
    {
      "cell_type": "markdown",
      "metadata": {
        "id": "fjosuzj_CaIt"
      },
      "source": [
        "Możemy również pobrać listę wpisów (a więc pary klucz-wartość):"
      ]
    },
    {
      "cell_type": "code",
      "metadata": {
        "id": "Upy0Hjj7CaIt",
        "outputId": "9c674a92-9b10-4bcb-cd5f-3711e1ddc848"
      },
      "source": [
        "slownik = dict( [ (\"a\",5), (\"b\",7), (\"c\",1) ] )\n",
        "wpisy = slownik.items()\n",
        "print( wpisy )\n",
        "slownik[\"x\"] = 5\n",
        "print( wpisy )"
      ],
      "execution_count": null,
      "outputs": [
        {
          "output_type": "stream",
          "text": [
            "dict_items([('a', 5), ('b', 7), ('c', 1)])\n",
            "dict_items([('a', 5), ('b', 7), ('c', 1), ('x', 5)])\n"
          ],
          "name": "stdout"
        }
      ]
    },
    {
      "cell_type": "markdown",
      "metadata": {
        "id": "7I2IUzbuCaIu"
      },
      "source": [
        "## Operacje na słowniku"
      ]
    },
    {
      "cell_type": "markdown",
      "metadata": {
        "id": "3E0iSxvVCaIv"
      },
      "source": [
        "### Liczba wpisów słownika"
      ]
    },
    {
      "cell_type": "markdown",
      "metadata": {
        "id": "BmmGKrnPCaIv"
      },
      "source": [
        "Podobnie jak dla innych struktur (kolekcji) można określić rozmiar krotki za pomocą funkcji `len()`:"
      ]
    },
    {
      "cell_type": "code",
      "metadata": {
        "id": "wTGsDQWtCaIv",
        "outputId": "1ca2462c-4a48-45ab-d90c-95072effff24"
      },
      "source": [
        "slownik = dict( [ (\"a\",5), (\"b\",7), (\"c\",1) ] )\n",
        "print( len(slownik) )"
      ],
      "execution_count": null,
      "outputs": [
        {
          "output_type": "stream",
          "text": [
            "3\n"
          ],
          "name": "stdout"
        }
      ]
    },
    {
      "cell_type": "markdown",
      "metadata": {
        "id": "uuVslX9kCaIw"
      },
      "source": [
        "### Sprawdzanie przynależności elementu do słownika"
      ]
    },
    {
      "cell_type": "markdown",
      "metadata": {
        "id": "cPr5cUJzCaIw"
      },
      "source": [
        "Do sprawdzania istnienia klucza w słowniku wykorzystujemy operatory `in` oraz `not in`:"
      ]
    },
    {
      "cell_type": "code",
      "metadata": {
        "colab": {
          "base_uri": "https://localhost:8080/"
        },
        "id": "4sD9pz4XCaIw",
        "outputId": "5778aa01-6f5c-4dd4-cb54-3093fdd368d4"
      },
      "source": [
        "slownik = dict( [ (\"a\", 5), (\"b\", 7), (\"c\", 1), (\"x\", 100) ] )\n",
        "# print(\"x\", slownik[\"x\"]) # błąd, nie ma w słowniku\n",
        "if \"x\" in slownik:\n",
        "    print(\"x\", slownik[\"x\"])\n",
        "else:\n",
        "    print(\"elementu `x` nie ma w słowniku\")"
      ],
      "execution_count": null,
      "outputs": [
        {
          "output_type": "stream",
          "name": "stdout",
          "text": [
            "x 100\n"
          ]
        }
      ]
    },
    {
      "cell_type": "markdown",
      "metadata": {
        "id": "RFukcsQnCaIx"
      },
      "source": [
        "### Czyszczenie i usuwanie słownika"
      ]
    },
    {
      "cell_type": "markdown",
      "metadata": {
        "id": "P2Z7Zu17CaIx"
      },
      "source": [
        "Czyszczenie słownika `slownik.clean()`, usuwanie obiektu `del slownik`"
      ]
    },
    {
      "cell_type": "code",
      "metadata": {
        "colab": {
          "base_uri": "https://localhost:8080/"
        },
        "id": "OVnKTqEHZ2I5",
        "outputId": "43aa719b-2260-4676-f8e9-d1853fcc0e99"
      },
      "source": [
        "slownik = { \"a\" : 5, \"b\" : 100}\n",
        "print(slownik)\n",
        "slownik.clear()\n",
        "print(slownik)"
      ],
      "execution_count": null,
      "outputs": [
        {
          "output_type": "stream",
          "text": [
            "{'a': 5, 'b': 100}\n",
            "{}\n"
          ],
          "name": "stdout"
        }
      ]
    },
    {
      "cell_type": "markdown",
      "metadata": {
        "id": "MoIdohLqCaIx"
      },
      "source": [
        "### Kopiowanie słowników"
      ]
    },
    {
      "cell_type": "markdown",
      "metadata": {
        "id": "58sEe_ETCaIy"
      },
      "source": [
        "Słowników nie można kopiować za pomocą operacji przypisania `s1 = s`. Zmienna `s1` jest tylko aliasem do tego samego słownika `s`. Zmiana w oryginale będzie widoczna za pośrednictwem aliasu.\n",
        "> Formalnie mówimy, że zmienna `s` oraz `s1` są zmiennymi referencyjnymi, zaś sam słownik jest obiektem, na który wskazują obie referencje."
      ]
    },
    {
      "cell_type": "code",
      "metadata": {
        "colab": {
          "base_uri": "https://localhost:8080/"
        },
        "id": "IoViOQJyCaIy",
        "outputId": "d0181f5f-4d71-4752-f499-8462228e4ea2"
      },
      "source": [
        "s = dict( [ (\"a\",5), (\"b\",7), (\"c\",1) ] )\n",
        "s1 = s\n",
        "print(\"s: \", s)\n",
        "print(\"s1: \", s1)\n",
        "s[\"x\"]=100\n",
        "print(\"s: \", s)\n",
        "print(\"s1: \", s1)"
      ],
      "execution_count": null,
      "outputs": [
        {
          "output_type": "stream",
          "text": [
            "s:  {'a': 5, 'b': 7, 'c': 1}\n",
            "s1:  {'a': 5, 'b': 7, 'c': 1}\n",
            "s:  {'a': 5, 'b': 7, 'c': 1, 'x': 100}\n",
            "s1:  {'a': 5, 'b': 7, 'c': 1, 'x': 100}\n"
          ],
          "name": "stdout"
        }
      ]
    },
    {
      "cell_type": "code",
      "metadata": {
        "colab": {
          "base_uri": "https://localhost:8080/"
        },
        "id": "6BDsRy3Obi7H",
        "outputId": "2dcd7f5c-ea14-479b-c803-6ca0fc287dc5"
      },
      "source": [
        "s = dict( [ (\"a\",5), (\"b\",7), (\"c\",1) ] )\n",
        "s1 = s.copy()\n",
        "\n",
        "s[\"x\"] = 100\n",
        "print(s)\n",
        "\n",
        "print(s1)"
      ],
      "execution_count": null,
      "outputs": [
        {
          "output_type": "stream",
          "text": [
            "{'a': 5, 'b': 7, 'c': 1, 'x': 100}\n",
            "{'a': 5, 'b': 7, 'c': 1}\n"
          ],
          "name": "stdout"
        }
      ]
    },
    {
      "cell_type": "markdown",
      "metadata": {
        "id": "-z9DZX9GCaIz"
      },
      "source": [
        "## Defaultdict"
      ]
    },
    {
      "cell_type": "markdown",
      "metadata": {
        "id": "IujcfBVtCaIz"
      },
      "source": [
        "Język Python wprowadza uproszczoną wersję słownika - `defaultdict`, o identycznej funkcjonalności, ale nigdy nie zwracającą błędu `KeyError` przy próbach nieautoryzowanego dostępu (np. próba usunięcia klucza, którego nie ma, próba odczytu klucza, któego nie ma).\n",
        "\n",
        "Użycie tej wersji słownika wymaga zaimportowania go z biblioteki `collections` oraz zainicjowania wartością domyslną, zwracaną w przypadku braku elementu.\n",
        "\n",
        "Przykład:"
      ]
    },
    {
      "cell_type": "code",
      "metadata": {
        "colab": {
          "base_uri": "https://localhost:8080/"
        },
        "id": "uWfqLvRHCaI0",
        "outputId": "ce80edc5-f373-4d6c-f99b-8ca1eb9c400f"
      },
      "source": [
        "from collections import defaultdict\n",
        "\n",
        "def gdyBlad():\n",
        "    return \"brak elementu\"\n",
        "\n",
        "d = defaultdict( gdyBlad )\n",
        "d[\"a\"] = 5\n",
        "d[\"b\"] = 7\n",
        "d[\"c\"] = 0\n",
        "print(d)\n",
        "for klucz in d:\n",
        "    print(klucz, \":\", d[klucz])\n",
        "\n",
        "print(d[\"x\"])\n"
      ],
      "execution_count": null,
      "outputs": [
        {
          "output_type": "stream",
          "text": [
            "defaultdict(<function gdyBlad at 0x7f324ece9170>, {'a': 5, 'b': 7, 'c': 0})\n",
            "a : 5\n",
            "b : 7\n",
            "c : 0\n",
            "brak elementu\n"
          ],
          "name": "stdout"
        }
      ]
    },
    {
      "cell_type": "markdown",
      "metadata": {
        "id": "4reQotKNCaI0"
      },
      "source": [
        "## Zadania"
      ]
    },
    {
      "cell_type": "markdown",
      "metadata": {
        "id": "8GDlrOO9CaI1"
      },
      "source": [
        "### Zadanie 1\n",
        "\n",
        "Zaprojektuj słownik przypisujący cyfrom arabskim ich słowne znaczenie (np. 1 : \"jeden\").\n",
        "Wykorzystaj ten słownik do zapisania słownie liczby całkowitej.\n",
        "\n",
        "Przykład:\n",
        "\n",
        "Dla liczby `12013` program wypisze `jeden-dwa-zero-jeden-trzy`"
      ]
    },
    {
      "cell_type": "code",
      "metadata": {
        "colab": {
          "base_uri": "https://localhost:8080/"
        },
        "id": "LSxQdHh8CaI1",
        "outputId": "289e4e9c-d754-4bf9-d3da-daa48eea492a"
      },
      "source": [
        "# zdefiniuj słownik\n",
        "\n",
        "def KonwertujLiczbeNaNapis(liczba):\n",
        "    # napisz kod\n",
        "    return \"\"\n",
        "\n",
        "\n",
        "liczba_slownie = KonwertujLiczbeNaNapis(12012)\n",
        "print(liczba_slownie)"
      ],
      "execution_count": null,
      "outputs": [
        {
          "output_type": "stream",
          "name": "stdout",
          "text": [
            "\n"
          ]
        }
      ]
    },
    {
      "cell_type": "markdown",
      "metadata": {
        "id": "YATsm5l1CaI2"
      },
      "source": [
        "### Zadanie 2"
      ]
    }
  ]
}