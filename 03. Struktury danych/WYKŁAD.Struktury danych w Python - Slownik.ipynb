{
  "nbformat": 4,
  "nbformat_minor": 0,
  "metadata": {
    "colab": {
      "name": "Krotka.ipynb",
      "provenance": [],
      "authorship_tag": "ABX9TyPqRDdbwEHOrNUmDYNyxYBt",
      "include_colab_link": true
    },
    "kernelspec": {
      "name": "python394jvsc74a57bd063fd5069d213b44bf678585dea6b12cceca9941eaf7f819626cde1f2670de90d",
      "display_name": "Python 3.9.4 64-bit"
    },
    "language_info": {
      "name": "python",
      "version": "3.9.4"
    },
    "metadata": {
      "interpreter": {
        "hash": "63fd5069d213b44bf678585dea6b12cceca9941eaf7f819626cde1f2670de90d"
      }
    }
  },
  "cells": [
    {
      "cell_type": "markdown",
      "metadata": {
        "id": "feoWMC-nu-E9"
      },
      "source": [
        "# Struktury danych. Słownik (`Dictionary`)\n",
        "\n",
        "* Krzysztof Molenda (2021-05-01)\n",
        "\n",
        "---"
      ]
    },
    {
      "cell_type": "markdown",
      "metadata": {
        "id": "view-in-github",
        "colab_type": "text"
      },
      "source": [
        "<a href=\"https://colab.research.google.com/github/URK-KIPLiIS/Python-lessons/blob/main/03.%20Struktury%20danych/Zbior.ipynb\" target=\"_parent\"><img src=\"https://colab.research.google.com/assets/colab-badge.svg\" alt=\"Open In Colab\"/></a>"
      ]
    },
    {
      "source": [
        "Słownk (ang. _dictionary_) w senesie Pythona to kolekcja elementów postrzegana jak lista, ale z własnym mechanizmem indeksowania. Dlatego często struktura ta nazywana jest *tablicą asocjacyjną*.\n",
        "\n",
        "Słownik mozna postrzegać jako kolekcję krotek 2-elementowych klucz-wartość:\n",
        "\n",
        "```python\n",
        "d = {\n",
        "    <key>: <value>,\n",
        "    <key>: <value>,\n",
        "      .\n",
        "      .\n",
        "      .\n",
        "    <key>: <value>\n",
        "}\n",
        "```\n",
        "\n",
        "Słowniki i listy naja podobne własności:\n",
        "\n",
        "* obie struktury są zmiennicze (można elementy dodawać/usuwać/zmieniać)\n",
        "* obie struktury są dynamiczne (powiększają się i skracają w miarę potrzeb, mogą być postrzegane jako nieskończone)\n",
        "* obie struktury mogą być zagnieżdżane (np. elementami listy mogą być listy, elementami słownika mogą byc słowniki, elementami słownika mogą być listy i _vice versa_)\n",
        "* obie struktury są uporządkowane (w sensie - elementy przechowywane są w takiej kolejności, w jakiej były dodane - od Python 3.7)\n",
        "\n",
        "Główną różnicą słownika od listy jest mechanizm przechowywania danych:\n",
        "\n",
        "* element listy jest dostępny poprzez wskazanie jego indeksu (indeksowanie od `0`)\n",
        "* element słownika jest dostepny poprzez wskazanie jego klucza\n",
        "* klucze nie mogą się powtarzać\n",
        "* klucze muszą być typu niezmienniczego (_immutable_).\n",
        "\n",
        "Przykład 1 (lista par tego samego typu):"
      ],
      "cell_type": "markdown",
      "metadata": {}
    },
    {
      "cell_type": "code",
      "metadata": {
        "id": "fTgBwafeu53v"
      },
      "source": [
        "# książka telefoniczna\n",
        "# numer telefonu -> właściciel\n",
        "telefon = {\n",
        "  \"kazio\" : '511234123',\n",
        "  \"zuzia\" : '509123123',\n",
        "  \"mama\" : '126265467'\n",
        "}\n",
        "print(telefon)\n",
        "print( f\"mama -> {telefon['mama']}\" ) # odwołanie do wartości poprzez klucz\n",
        "# print( telefon[0] ) # BŁĄD próba odwołania przez indeks: KeyError"
      ],
      "execution_count": 32,
      "outputs": [
        {
          "output_type": "stream",
          "name": "stdout",
          "text": [
            "{'kazio': '511234123', 'zuzia': '509123123', 'mama': '126265467'}\nmama -> 126265467\n"
          ]
        }
      ]
    },
    {
      "source": [
        "Przykład 2 (symulacja listy z własnym indeksowaniem):"
      ],
      "cell_type": "markdown",
      "metadata": {}
    },
    {
      "cell_type": "code",
      "execution_count": 26,
      "metadata": {},
      "outputs": [
        {
          "output_type": "stream",
          "name": "stdout",
          "text": [
            "9\n"
          ]
        }
      ],
      "source": [
        "kwadraty = {1 : 1, 2 : 4, 3 : 9, 4 : 16, 5 : 25} \n",
        "print( kwadraty[3] )"
      ]
    },
    {
      "source": [
        "Przykład 3 (rekord opisujący zestaw danych):"
      ],
      "cell_type": "markdown",
      "metadata": {}
    },
    {
      "cell_type": "code",
      "execution_count": 31,
      "metadata": {},
      "outputs": [
        {
          "output_type": "stream",
          "name": "stdout",
          "text": [
            "{'marka': 'Ford', 'model': 'mustang', 'rok produkcji': 1964, 'cena PLN': 60000}\nFord mustang\n"
          ]
        }
      ],
      "source": [
        "samochod = {\n",
        "    \"marka\" : \"Ford\",\n",
        "    \"model\" : \"mustang\",\n",
        "    \"rok produkcji\" : 1964,\n",
        "    \"cena PLN\" : 60000\n",
        "}\n",
        "print( samochod )\n",
        "print(  samochod[\"marka\"], samochod[\"model\"] )"
      ]
    },
    {
      "source": [
        "Przykład 4:"
      ],
      "cell_type": "markdown",
      "metadata": {}
    },
    {
      "cell_type": "code",
      "execution_count": 43,
      "metadata": {},
      "outputs": [
        {
          "output_type": "stream",
          "name": "stdout",
          "text": [
            "{'ojciec': 'Jan', 'matka': 'Ewa', 'dzieci': ['Brajan', 'Dżesika', 'Janusz'], 'adres': {'ulica': 'Balicka', 'numer': '116B', 'kod': '30-149', 'miasto': 'Kraków'}}\nEwa\nKraków\n"
          ]
        }
      ],
      "source": [
        "rodzina = {\n",
        "    \"ojciec\" : \"Jan\",\n",
        "    \"matka\"  : \"Ewa\",\n",
        "    \"dzieci\" : [\"Brajan\", \"Dżesika\", \"Janusz\"],\n",
        "    \"adres\"  : {\n",
        "        \"ulica\" : \"Balicka\",\n",
        "        \"numer\" : \"116B\",\n",
        "        \"kod\"   : \"30-149\",\n",
        "        \"miasto\": \"Kraków\"\n",
        "    }\n",
        "}\n",
        "print( rodzina )\n",
        "print( rodzina[\"matka\"] )\n",
        "print( rodzina[\"adres\"][\"miasto\"] )"
      ]
    },
    {
      "source": [
        "Przykład 5 (punkty i figury na płaszczyźnie):"
      ],
      "cell_type": "markdown",
      "metadata": {}
    },
    {
      "cell_type": "code",
      "execution_count": 64,
      "metadata": {},
      "outputs": [
        {
          "output_type": "stream",
          "name": "stdout",
          "text": [
            "{'nazwa': 'trojkat', (1, 1): 'A', (1, 3): 'B', (3, 1): 'C'}\ntrojkat A\n"
          ]
        }
      ],
      "source": [
        "# współrzędne wierzchołka -> nazwa wierzchołka\n",
        "figura = {\n",
        "    \"nazwa\" : \"trojkat\",\n",
        "    (1,1) : \"A\",\n",
        "    (1,3) : \"B\",\n",
        "    (3,1) : \"C\",\n",
        "}\n",
        "print(figura)\n",
        "print(figura[\"nazwa\"], figura[(1,1)])"
      ]
    },
    {
      "cell_type": "code",
      "execution_count": 66,
      "metadata": {},
      "outputs": [
        {
          "output_type": "stream",
          "name": "stdout",
          "text": [
            "trojkat: A=(1, 1) B=(1, 3) C=(3, 1)\n"
          ]
        }
      ],
      "source": [
        "# nazwa wierzchołka -> współrzędne\n",
        "trojkat = {\n",
        "    \"A\" : (1,1),\n",
        "    \"B\" : (1,3),\n",
        "    \"C\" : (3,1),\n",
        "}\n",
        "print( f\"trojkat: A={trojkat['A']} B={trojkat['B']} C={trojkat['C']}\" )"
      ]
    },
    {
      "source": [
        "## Tworzenie"
      ],
      "cell_type": "markdown",
      "metadata": {}
    },
    {
      "source": [
        "Standardowo, słownik tworzymy wymieniając - w nawiasach klamrowych - pary klucz-wartość, oddzielając klucz i wartość dwukropkiem (':'), zaś pary przecinkiem, jak w liście."
      ],
      "cell_type": "markdown",
      "metadata": {}
    },
    {
      "cell_type": "code",
      "execution_count": 12,
      "metadata": {},
      "outputs": [
        {
          "output_type": "stream",
          "name": "stdout",
          "text": [
            "{'a': 5, 'b': 7, 'c': 1}\n<class 'dict'>\n"
          ]
        }
      ],
      "source": [
        "slownik = {\"a\": 5, \"b\": 7, \"c\": 1}\n",
        "print(slownik)\n",
        "print(type(slownik))"
      ]
    },
    {
      "source": [
        "Słownik jest obiektem (typ `dict`). Możemy go tworzyć za pomocą konstruktora, którego argumentem jest lista par klucz-wartość:"
      ],
      "cell_type": "markdown",
      "metadata": {}
    },
    {
      "cell_type": "code",
      "execution_count": 17,
      "metadata": {},
      "outputs": [
        {
          "output_type": "stream",
          "name": "stdout",
          "text": [
            "{'a': 5, 'b': 7, 'c': 1}\n"
          ]
        }
      ],
      "source": [
        "slownik = dict( [ (\"a\",5), (\"b\",7), (\"c\",1)] )\n",
        "print(slownik)"
      ]
    },
    {
      "source": [
        "Dysponując listą kluczy i odpowiadającą im listę wartości, możemy stworzyć słownik łącząc te elementy w pary za pomocą funkcji `zip`:"
      ],
      "cell_type": "markdown",
      "metadata": {}
    },
    {
      "cell_type": "code",
      "execution_count": 105,
      "metadata": {},
      "outputs": [
        {
          "output_type": "stream",
          "name": "stdout",
          "text": [
            "{0: 'zero', 1: 'jeden', 2: 'dwa', 3: 'trzy'}\n"
          ]
        }
      ],
      "source": [
        "cyfry = [0, 1, 2, 3]\n",
        "cyfry_slownie = [\"zero\", \"jeden\", \"dwa\", \"trzy\"]\n",
        "\n",
        "slownie = dict( zip(cyfry, cyfry_slownie) )\n",
        "print(slownie)"
      ]
    },
    {
      "cell_type": "code",
      "execution_count": null,
      "metadata": {},
      "outputs": [],
      "source": [
        "Słownik możemy tworzyć za pomocą notacji _comprehension_. Przykładowo, słownik zawierający kolejne kwadraty kluczy utworzony za pomocą _dictionary comprehension_:"
      ]
    },
    {
      "cell_type": "code",
      "execution_count": 119,
      "metadata": {},
      "outputs": [
        {
          "output_type": "stream",
          "name": "stdout",
          "text": [
            "{1: 1, 2: 4, 3: 9, 4: 16, 5: 25, 6: 36, 7: 49, 8: 64, 9: 81, 10: 100}\n"
          ]
        }
      ],
      "source": [
        "kwadraty = { x : x*x for x in range(1,11) } \n",
        "print(kwadraty)"
      ]
    },
    {
      "source": [
        "Szkielet konstrukcji jest następujący:\n",
        "\n",
        "```python\n",
        "slownik = {klucz: wartość for zmienna in kolekcja}\n",
        "```\n"
      ],
      "cell_type": "markdown",
      "metadata": {}
    },
    {
      "cell_type": "code",
      "execution_count": 121,
      "metadata": {},
      "outputs": [
        {
          "output_type": "stream",
          "name": "stdout",
          "text": [
            "{'mleko': 3.0378000000000003, 'kawa': 7.380999999999999, 'cukier': 0.122}\n"
          ]
        }
      ],
      "source": [
        "# Przykład\n",
        "# doliczenie vat-u do listy towarów\n",
        "\n",
        "towary = {'mleko' : 2.49, 'kawa' : 6.05, 'cukier' : 0.1 }\n",
        "vat = 0.22\n",
        "towary_z_vat = { towar : cena*(1+vat)  for (towar, cena) in towary.items() }\n",
        "print(towary_z_vat)"
      ]
    },
    {
      "cell_type": "code",
      "execution_count": 123,
      "metadata": {},
      "outputs": [
        {
          "output_type": "stream",
          "name": "stdout",
          "text": [
            "{'kawa': 7.5625}\n"
          ]
        }
      ],
      "source": [
        "# Przykład\n",
        "# podwyzka ceny wybranych towarów\n",
        "\n",
        "towary = {'mleko' : 2.49, 'kawa' : 6.05, 'cukier' : 0.1 }\n",
        "podwyzka = 0.25 # jeśli cena przekracza 5\n",
        "towary_po_podwyzce = { towar : cena + cena*podwyzka  for (towar, cena) in towary.items() if cena > 5}\n",
        "print(towary_po_podwyzce)"
      ]
    },
    {
      "cell_type": "code",
      "execution_count": 127,
      "metadata": {},
      "outputs": [
        {
          "output_type": "stream",
          "name": "stdout",
          "text": [
            "{'jan': 'zal.', 'marek': 'zal.', 'adam': 'niedostateczny', 'brajan': 'zal.'}\n"
          ]
        }
      ],
      "source": [
        "# Przykład\n",
        "# zaliczenie przedmiotu\n",
        "\n",
        "studenci = { \"jan\" : 56, \"marek\" : 96, \"adam\" : 32, \"brajan\" : 59}\n",
        "zaliczenia = { imie : ('zal.' if punkty > 50 else 'niedostateczny') for (imie, punkty) in studenci.items() }\n",
        "print(zaliczenia)\n"
      ]
    },
    {
      "source": [
        "Słownik pusty utworzymy poleceniem: `slownik = {}`"
      ],
      "cell_type": "markdown",
      "metadata": {}
    },
    {
      "source": [
        "## Dostęp do elementów słownika"
      ],
      "cell_type": "markdown",
      "metadata": {}
    },
    {
      "source": [
        "Dostęp do elementów słownika nie może być realizowany za pomocą odwołania do ich indeksów (nawiasy kwadratowe z numerem kolumny `[]`). Podstawowym sposobem dostępu do elementów słownika jest odwołanie (nawias kwadratowy `[]`) za pośrednictwem klucza:"
      ],
      "cell_type": "markdown",
      "metadata": {}
    },
    {
      "cell_type": "code",
      "execution_count": 20,
      "metadata": {},
      "outputs": [
        {
          "output_type": "stream",
          "name": "stdout",
          "text": [
            "a -> 5\n"
          ]
        }
      ],
      "source": [
        "slownik = dict( [ (\"a\",5), (\"b\",7), (\"c\",1) ] )\n",
        "print( f\"a -> {slownik['a']}\")"
      ]
    },
    {
      "source": [
        "Jeśli klucz nie istnieje, zostanie zgłoszony błąd (`KeyError`):"
      ],
      "cell_type": "markdown",
      "metadata": {}
    },
    {
      "cell_type": "code",
      "execution_count": 102,
      "metadata": {},
      "outputs": [
        {
          "output_type": "error",
          "ename": "KeyError",
          "evalue": "'d'",
          "traceback": [
            "\u001b[1;31m---------------------------------------------------------------------------\u001b[0m",
            "\u001b[1;31mKeyError\u001b[0m                                  Traceback (most recent call last)",
            "\u001b[1;32m<ipython-input-102-df7cb7ead55d>\u001b[0m in \u001b[0;36m<module>\u001b[1;34m\u001b[0m\n\u001b[1;32m----> 1\u001b[1;33m \u001b[0mprint\u001b[0m\u001b[1;33m(\u001b[0m \u001b[1;34mf\"d -> {slownik['d']}\"\u001b[0m\u001b[1;33m)\u001b[0m\u001b[1;33m\u001b[0m\u001b[1;33m\u001b[0m\u001b[0m\n\u001b[0m",
            "\u001b[1;31mKeyError\u001b[0m: 'd'"
          ]
        }
      ],
      "source": [
        "print( f\"d -> {slownik['d']}\")"
      ]
    },
    {
      "source": [
        "Elementy słownika możemy modyfikować lub dodawać przy pomocy operatora dostępu `[]`:"
      ],
      "cell_type": "markdown",
      "metadata": {}
    },
    {
      "cell_type": "code",
      "execution_count": 44,
      "metadata": {},
      "outputs": [
        {
          "output_type": "stream",
          "name": "stdout",
          "text": [
            "{'a': 100, 'b': 7, 'c': 1, 'd': 0, 'e': None}\n"
          ]
        }
      ],
      "source": [
        "slownik = dict( [ (\"a\",5), (\"b\",7), (\"c\",1) ] )\n",
        "slownik[\"a\"] = 100 # modyfikowanie elementu (bo jest w słowniku)\n",
        "slownik[\"d\"] = 0   # dodanie elementu (bo takiego klucza nie ma w słowniku)\n",
        "slownik[\"e\"] = None\n",
        "print( slownik )"
      ]
    },
    {
      "source": [
        "> Stanem specjalnym wartości jest `None` - oznacza brak wartości dla określonego klucza."
      ],
      "cell_type": "markdown",
      "metadata": {}
    },
    {
      "source": [
        "Innym sposobem dostępu do elementu słownika jest użycie metody `get` (odczyt) lub `update` (modyfikacja, dopisanie do słownika):"
      ],
      "cell_type": "markdown",
      "metadata": {}
    },
    {
      "cell_type": "code",
      "execution_count": 87,
      "metadata": {},
      "outputs": [
        {
          "output_type": "stream",
          "name": "stdout",
          "text": [
            "5\n{'a': 100, 'b': 700, 'c': 1}\n"
          ]
        }
      ],
      "source": [
        "slownik = dict( [ (\"a\",5), (\"b\",7), (\"c\",1) ] )\n",
        "print( slownik.get(\"a\") )\n",
        "slownik.update( {\"a\" : 100} )\n",
        "slownik.update( b = 700 )\n",
        "print( slownik )"
      ]
    },
    {
      "source": [
        "Usuwanie wpisu:\n",
        "\n",
        "* jeśli nie chcemy usuwać klucza, a jedynie wartość, przypisujemy kluczowi `None`\n",
        "* jeśli chcemy usunąć cały wpis (parę klucz-wartość), używamy metody:\n",
        "    * `pop( klucz )` - usuwamy wpis o podanym kluczu (i zapamiętać wartość usuwanego elementu)\n",
        "    * `popitem()` - usuwamy ostanio dodany wpis (od Python 3.7)\n",
        "    * słowo kluczowe `del ...` - usuwamy wskazany wpis"
      ],
      "cell_type": "markdown",
      "metadata": {}
    },
    {
      "cell_type": "code",
      "execution_count": 84,
      "metadata": {},
      "outputs": [
        {
          "output_type": "stream",
          "name": "stdout",
          "text": [
            "{'a': None, 'b': 7, 'c': 1}\n{'b': 7, 'c': 1}\n{'b': 7, 'c': 1, 'x': 100}\n{'b': 7, 'c': 1}\n{'c': 1}\n"
          ]
        }
      ],
      "source": [
        "slownik = dict( [ (\"a\",5), (\"b\",7), (\"c\",1) ] )\n",
        "slownik[\"a\"] = None  # usuwamy wartość dla klucza 'a'\n",
        "print(slownik)\n",
        "x = slownik.pop(\"a\") # usuwamy wpis o kluczu `a` i zapamiętujemy usuwaną wartość w zmiennej x\n",
        "print(slownik)\n",
        "slownik[\"x\"] = 100   # dodajemy wpis {\"x\" : 100}\n",
        "print(slownik)\n",
        "slownik.popitem()   # usuwamy ostatnio dodany wpis\n",
        "print(slownik)\n",
        "del slownik[\"b\"]\n",
        "print(slownik)"
      ]
    },
    {
      "source": [
        "Próba usunięcia elementu, który nie istnieje, spowoduje zgłoszenie błędu. Jest drugi wariant metody `pop(klucz, default)`, która w sytuacji braku klucza nie zgłasza wyjątku, zaś wynikiem jej działania jest drugi argument `default`"
      ],
      "cell_type": "markdown",
      "metadata": {}
    },
    {
      "cell_type": "code",
      "execution_count": 89,
      "metadata": {},
      "outputs": [
        {
          "output_type": "stream",
          "name": "stdout",
          "text": [
            "-1\n"
          ]
        }
      ],
      "source": [
        "slownik = dict( [ (\"a\",5), (\"b\",7), (\"c\",1) ] )\n",
        "#wartosc = slownik.pop(\"x\") # usuwamy wpis o kluczu `x` i zapamiętujemy usuwaną wartość w zmiennej, błąd: takiego klucza nie ma\n",
        "wartosc = slownik.pop(\"x\", -1)\n",
        "print(wartosc)"
      ]
    },
    {
      "source": [
        "## Przeglądanie słownika"
      ],
      "cell_type": "markdown",
      "metadata": {}
    },
    {
      "source": [
        "Przeglądanie słownika odbywa się w analogiczny sposób, jak dla innych kolekcji:"
      ],
      "cell_type": "markdown",
      "metadata": {}
    },
    {
      "cell_type": "code",
      "execution_count": 71,
      "metadata": {},
      "outputs": [
        {
          "output_type": "stream",
          "name": "stdout",
          "text": [
            "klucze\na\nb\nc\nwartości\n5\n7\n1\nklucz-wartość\na 5\nb 7\nc 1\n"
          ]
        }
      ],
      "source": [
        "slownik = dict( [ (\"a\",5), (\"b\",7), (\"c\",1) ] )\n",
        "# listowanie kluczy słownika\n",
        "print(\"klucze\")\n",
        "for klucz in slownik:\n",
        "    print(klucz)\n",
        "\n",
        "# listowanie wartości słownika\n",
        "print(\"wartości\")\n",
        "for klucz in slownik:\n",
        "    print( slownik[klucz] )\n",
        "\n",
        "# listowanie wpisów\n",
        "print(\"klucz-wartość\")\n",
        "for (klucz, wartosc) in slownik.items():\n",
        "    print(klucz, wartosc)"
      ]
    },
    {
      "source": [
        "Możemy pobrać listę kluczy słownika (formalnie _widok_ - zmiany w słowniku wpływają na widok, bez konieczności jego aktualizacji):"
      ],
      "cell_type": "markdown",
      "metadata": {}
    },
    {
      "cell_type": "code",
      "execution_count": 52,
      "metadata": {},
      "outputs": [
        {
          "output_type": "stream",
          "name": "stdout",
          "text": [
            "dict_keys(['a', 'b', 'c'])\ndict_keys(['a', 'b', 'c', 'x'])\n"
          ]
        }
      ],
      "source": [
        "slownik = dict( [ (\"a\",5), (\"b\",7), (\"c\",1) ] )\n",
        "klucze = slownik.keys()\n",
        "print(klucze)\n",
        "slownik[\"x\"] = 5\n",
        "print( klucze )"
      ]
    },
    {
      "source": [
        "W podobny sposób możemy odwołać się do zbioru wartości (również _widok_):"
      ],
      "cell_type": "markdown",
      "metadata": {}
    },
    {
      "cell_type": "code",
      "execution_count": 90,
      "metadata": {},
      "outputs": [
        {
          "output_type": "stream",
          "name": "stdout",
          "text": [
            "dict_values([5, 7, 1])\ndict_values([5, 7, 1, 5])\n"
          ]
        }
      ],
      "source": [
        "slownik = dict( [ (\"a\",5), (\"b\",7), (\"c\",1) ] )\n",
        "wartosci = slownik.values()\n",
        "print( wartosci )\n",
        "slownik[\"x\"] = 5\n",
        "print( wartosci )"
      ]
    },
    {
      "source": [
        "Możemy również pobrać listę wpisów (a więc pary klucz-wartość):"
      ],
      "cell_type": "markdown",
      "metadata": {}
    },
    {
      "cell_type": "code",
      "execution_count": 83,
      "metadata": {},
      "outputs": [
        {
          "output_type": "stream",
          "name": "stdout",
          "text": [
            "dict_items([('a', 5), ('b', 7), ('c', 1)])\ndict_items([('a', 5), ('b', 7), ('c', 1), ('x', 5)])\n"
          ]
        }
      ],
      "source": [
        "slownik = dict( [ (\"a\",5), (\"b\",7), (\"c\",1) ] )\n",
        "wpisy = slownik.items()\n",
        "print( wpisy )\n",
        "slownik[\"x\"] = 5\n",
        "print( wpisy )"
      ]
    },
    {
      "source": [
        "## Operacje na słowniku"
      ],
      "cell_type": "markdown",
      "metadata": {}
    },
    {
      "source": [
        "### Liczba wpisów słownika"
      ],
      "cell_type": "markdown",
      "metadata": {}
    },
    {
      "source": [
        "Podobnie jak dla innych struktur (kolekcji) można określić rozmiar krotki za pomocą funkcji `len()`:"
      ],
      "cell_type": "markdown",
      "metadata": {}
    },
    {
      "cell_type": "code",
      "execution_count": 73,
      "metadata": {},
      "outputs": [
        {
          "output_type": "stream",
          "name": "stdout",
          "text": [
            "3\n"
          ]
        }
      ],
      "source": [
        "slownik = dict( [ (\"a\",5), (\"b\",7), (\"c\",1) ] )\n",
        "print( len(slownik) )"
      ]
    },
    {
      "source": [
        "### Sprawdzanie przynależności elementu do słownika"
      ],
      "cell_type": "markdown",
      "metadata": {}
    },
    {
      "source": [
        "Do sprawdzania istnienia klucza w słowniku wykorzystujemy operatory `in` oraz `not in`:"
      ],
      "cell_type": "markdown",
      "metadata": {}
    },
    {
      "cell_type": "code",
      "execution_count": 82,
      "metadata": {},
      "outputs": [
        {
          "output_type": "stream",
          "name": "stdout",
          "text": [
            "elementu `x` nie ma w słowniku\n"
          ]
        }
      ],
      "source": [
        "slownik = dict( [ (\"a\",5), (\"b\",7), (\"c\",1) ] )\n",
        "# print(\"x\", slownik[\"x\"]) # błąd, nie ma w słowniku\n",
        "if \"x\" in slownik:\n",
        "    print(\"x\", slownik[\"x\"])\n",
        "else:\n",
        "    print(\"elementu `x` nie ma w słowniku\")"
      ]
    },
    {
      "source": [
        "### Czyszczenie i usuwanie słownika"
      ],
      "cell_type": "markdown",
      "metadata": {}
    },
    {
      "source": [
        "Czyszczenie słownika `slownik.clean()`, usuwanie obiektu `del slownik`"
      ],
      "cell_type": "markdown",
      "metadata": {}
    },
    {
      "source": [
        "### Kopiowanie słowników"
      ],
      "cell_type": "markdown",
      "metadata": {}
    },
    {
      "source": [
        "Słowników nie można kopiować za pomocą operacji przypisania `s1 = s`. Zmienna `s1` jest tylko aliasem do tego samego słownika `s`. Zmiana w oryginale będzie widoczna za pośrednictwem aliasu.\n",
        "> Formalnie mówimy, że zmienna `s` oraz `s1` są zmiennymi referencyjnymi, zaś sam słownik jest obiektem, na który wskazują obie referencje."
      ],
      "cell_type": "markdown",
      "metadata": {}
    },
    {
      "cell_type": "code",
      "execution_count": 94,
      "metadata": {},
      "outputs": [
        {
          "output_type": "stream",
          "name": "stdout",
          "text": [
            "s:  {'a': 5, 'b': 7, 'c': 1}\ns1:  {'a': 5, 'b': 7, 'c': 1}\ns:  {'a': 5, 'b': 7, 'c': 1, 'x': 100}\ns1:  {'a': 5, 'b': 7, 'c': 1, 'x': 100}\n"
          ]
        }
      ],
      "source": [
        "s = dict( [ (\"a\",5), (\"b\",7), (\"c\",1) ] )\n",
        "s1 = s\n",
        "print(\"s: \", s)\n",
        "print(\"s1: \", s1)\n",
        "s[\"x\"]=100\n",
        "print(\"s: \", s)\n",
        "print(\"s1: \", s1)"
      ]
    },
    {
      "source": [
        "## Defaultdict"
      ],
      "cell_type": "markdown",
      "metadata": {}
    },
    {
      "source": [
        "Język Python wprowadza uproszczoną wersję słownika - `defaultdict`, o identycznej funkcjonalności, ale nigdy nie zwracającą błędu `KeyError` przy próbach nieautoryzowanego dostępu (np. próba usunięcia klucza, którego nie ma).\n",
        "\n",
        "Użycie tej wersji słownika wymaga zaimportowania go z biblioteki `collections` oraz zainicjowania wartością domyslną, zwracaną w przypadku braku elementu. Przykład:"
      ],
      "cell_type": "markdown",
      "metadata": {}
    },
    {
      "cell_type": "code",
      "execution_count": 137,
      "metadata": {},
      "outputs": [
        {
          "output_type": "stream",
          "name": "stdout",
          "text": [
            "defaultdict(<function defaultValue at 0x0000020E7136AB80>, {'a': 5, 'b': 7, 'c': 0})\na : 5\nb : 7\nc : 0\nbrak elemenetu\n"
          ]
        }
      ],
      "source": [
        "from collections import defaultdict\n",
        "\n",
        "def defaultValue():\n",
        "    return \"brak elemenetu\"\n",
        "\n",
        "d = defaultdict( defaultValue )\n",
        "d[\"a\"] = 5\n",
        "d[\"b\"] = 7\n",
        "d[\"c\"] = 0\n",
        "print(d)\n",
        "for klucz in d:\n",
        "    print(klucz, \":\", d[klucz])\n",
        "\n",
        "print(d[\"x\"])\n"
      ]
    },
    {
      "source": [
        "## Zadania"
      ],
      "cell_type": "markdown",
      "metadata": {}
    },
    {
      "source": [
        "### Zadanie 1\n",
        "\n",
        "Zaprojektuj słownik przypisujący cyfrom alabskim ich słowne znaczenie (np. 1 : \"jeden\").\n",
        "Wykorzystaj ten słownik do zapisania słownie liczby całkowitej.\n",
        "\n",
        "Przykład:\n",
        "\n",
        "Dla liczby `12013` program wypisze `jeden-dwa-zero-jeden-trzy`"
      ],
      "cell_type": "markdown",
      "metadata": {}
    },
    {
      "cell_type": "code",
      "execution_count": 118,
      "metadata": {},
      "outputs": [
        {
          "output_type": "stream",
          "name": "stdout",
          "text": [
            "['1', '2', '0', '1', '2']\n\n"
          ]
        }
      ],
      "source": [
        "# zdefiniuj słownik\n",
        "\n",
        "def KonwertujLiczbeNaNapis(liczba):\n",
        "    # napisz kod\n",
        "    return \"\"\n",
        "\n",
        "\n",
        "liczba_slownie = KonwertujLiczbeNaNapis(12012)\n",
        "print(liczba_slownie)"
      ]
    },
    {
      "source": [
        "### Zadanie 2"
      ],
      "cell_type": "markdown",
      "metadata": {}
    }
  ]
}