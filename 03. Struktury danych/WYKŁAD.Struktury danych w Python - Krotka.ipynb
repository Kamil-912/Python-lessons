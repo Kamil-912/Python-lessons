{
  "nbformat": 4,
  "nbformat_minor": 0,
  "metadata": {
    "colab": {
      "name": "Krotka.ipynb",
      "provenance": [],
      "authorship_tag": "ABX9TyPqRDdbwEHOrNUmDYNyxYBt",
      "include_colab_link": true
    },
    "kernelspec": {
      "name": "python394jvsc74a57bd063fd5069d213b44bf678585dea6b12cceca9941eaf7f819626cde1f2670de90d",
      "display_name": "Python 3.9.4 64-bit"
    },
    "language_info": {
      "name": "python",
      "version": "3.9.4"
    },
    "metadata": {
      "interpreter": {
        "hash": "63fd5069d213b44bf678585dea6b12cceca9941eaf7f819626cde1f2670de90d"
      }
    }
  },
  "cells": [
    {
      "cell_type": "markdown",
      "metadata": {
        "id": "view-in-github",
        "colab_type": "text"
      },
      "source": [
        "<a href=\"https://colab.research.google.com/github/URK-KIPLiIS/Python-lessons/blob/main/03.%20Struktury%20danych/Krotka.ipynb\" target=\"_parent\"><img src=\"https://colab.research.google.com/assets/colab-badge.svg\" alt=\"Open In Colab\"/></a>"
      ]
    },
    {
      "cell_type": "markdown",
      "metadata": {
        "id": "feoWMC-nu-E9"
      },
      "source": [
        "# Struktury danych. Krotka (`Tuple`)\n",
        "\n",
        "* Krzysztof Molenda (2021-05-01)\n",
        "\n",
        "---"
      ]
    },
    {
      "source": [
        "Krotka (ang. _tuple_) to ciąg _n_ elementów reprezentowany przez zmienną. W języku polskim czasami nazywane są _n-tkami_. Dla dwóch elementów powiemy _para_ albo _dwójka_, dla trzech - _trójka_, dla sześciu - _szóstka_.\n",
        "\n",
        "Przykłady:"
      ],
      "cell_type": "markdown",
      "metadata": {}
    },
    {
      "cell_type": "code",
      "metadata": {
        "id": "fTgBwafeu53v"
      },
      "source": [
        "# krotka pusta\n",
        "pusta = ()\n",
        "print(pusta)\n",
        "\n",
        "# krotka - wektor 3 liczb całkowityych\n",
        "wektor = (1, 2, 3)\n",
        "print(wektor)\n",
        "\n",
        "# krotka - ciąg elementów różnego typu\n",
        "# (id, imię, nazwisko, wiek)\n",
        "osoba = (1, \"Krzysztof\", \"Molenda\", 55)\n",
        "print(osoba)\n",
        "\n",
        "# krotka - ciąg elementów które również mogą być krotkami lub innymi typami\n",
        "# (id, nazwisko, adres, lista_znajomych)\n",
        "osoba1 = (1, \"Molenda\", (\"Balicka\", 116, \"Kraków\"), [3, 4, 8] )\n",
        "print(osoba1)"
      ],
      "execution_count": 70,
      "outputs": [
        {
          "output_type": "stream",
          "name": "stdout",
          "text": [
            "()\n(1, 2, 3)\n(1, 'Krzysztof', 'Molenda', 55)\n(1, 'Molenda', ('Balicka', 116, 'Kraków'), [3, 4, 8])\n"
          ]
        }
      ]
    },
    {
      "source": [
        "Krotka, w swojej konstrukcji przypomina listę. Jest jednak kilka znaczących różnic między tymi strukturami danych. Cechy krotki:\n",
        "\n",
        "* jest strukturą **uporządkowaną** - elementy krotki mają określone pozycje, do których można odnieść się za pomocą indeksowania,\n",
        "* jest strukturą **niezmienniczą** (ang. _immutable_) - po utworzeniu nie można zmienić ani jej rozmiaru (dodanie/usunięcie elementy) ani zawartości\n",
        "* dostęp do elementów krotki podobnie jak dla listy, za pomocą ideksowania (indeksowanie od `0`)\n",
        "* w krotce można zapamiętywać duplikaty (podobnie jak w liście)\n",
        "\n",
        "Przykład:"
      ],
      "cell_type": "markdown",
      "metadata": {}
    },
    {
      "cell_type": "code",
      "execution_count": 71,
      "metadata": {},
      "outputs": [
        {
          "output_type": "stream",
          "name": "stdout",
          "text": [
            "Molenda\n"
          ]
        },
        {
          "output_type": "error",
          "ename": "TypeError",
          "evalue": "'tuple' object does not support item assignment",
          "traceback": [
            "\u001b[1;31m---------------------------------------------------------------------------\u001b[0m",
            "\u001b[1;31mTypeError\u001b[0m                                 Traceback (most recent call last)",
            "\u001b[1;32m<ipython-input-71-4fdc780d9e44>\u001b[0m in \u001b[0;36m<module>\u001b[1;34m\u001b[0m\n\u001b[0;32m      4\u001b[0m \u001b[1;33m\u001b[0m\u001b[0m\n\u001b[0;32m      5\u001b[0m \u001b[1;31m# próba zmiany elementu krotki\u001b[0m\u001b[1;33m\u001b[0m\u001b[1;33m\u001b[0m\u001b[1;33m\u001b[0m\u001b[0m\n\u001b[1;32m----> 6\u001b[1;33m \u001b[0mosoba\u001b[0m\u001b[1;33m[\u001b[0m\u001b[1;36m2\u001b[0m\u001b[1;33m]\u001b[0m \u001b[1;33m=\u001b[0m \u001b[1;34m\"Abacki\"\u001b[0m \u001b[1;31m#TypeError: 'tuple' object does not support item assignment\u001b[0m\u001b[1;33m\u001b[0m\u001b[1;33m\u001b[0m\u001b[0m\n\u001b[0m",
            "\u001b[1;31mTypeError\u001b[0m: 'tuple' object does not support item assignment"
          ]
        }
      ],
      "source": [
        "# odczyt elementu krotki\n",
        "nazwisko = osoba[2]\n",
        "print(nazwisko)\n",
        "\n",
        "# próba zmiany elementu krotki\n",
        "osoba[2] = \"Abacki\" #TypeError: 'tuple' object does not support item assignment"
      ]
    },
    {
      "source": [
        "## Tworzenie"
      ],
      "cell_type": "markdown",
      "metadata": {}
    },
    {
      "source": [
        "Standardowo, krotkę tworzymy wymieniając - w nawiasach okrągłych - jej elementy, oddzielone przecinkami.\n",
        "\n",
        "Krotkę można utworzyć również bez notacji nawiasowej (nazywa się to _tuple packing_). Można ją również w ten sposób _odpakować_:"
      ],
      "cell_type": "markdown",
      "metadata": {}
    },
    {
      "cell_type": "code",
      "execution_count": 72,
      "metadata": {},
      "outputs": [
        {
          "output_type": "stream",
          "name": "stdout",
          "text": [
            "('A', 2.1, 2.2, 2.3)\n('A', 2.1, 2.2, 2.3)\netykieta = A, x = 2.1, y = 2.2, z = 2.3\n"
          ]
        }
      ],
      "source": [
        "wektor1 = \"A\", 2.1, 2.2, 2.3\n",
        "wektor2 = \"A\", 2.1, 2.2, 2.3\n",
        "print(wektor1)\n",
        "print(wektor2)\n",
        "\n",
        "etykieta, x, y, z = wektor2\n",
        "print(f\"etykieta = {etykieta}, x = {x}, y = {y}, z = {z}\")"
      ]
    },
    {
      "source": [
        "UWAGA: Ponieważ krotka 1-elementowa ma stosunkowo ograniczone zastosowanie, stąd jej konstrukcja jest specyficzna - wymaga użycia przecinka po pierwszym i jedynym elemencie:"
      ],
      "cell_type": "markdown",
      "metadata": {}
    },
    {
      "cell_type": "code",
      "execution_count": 12,
      "metadata": {},
      "outputs": [
        {
          "output_type": "stream",
          "name": "stdout",
          "text": [
            "('jedyny element',)\n<class 'tuple'>\n"
          ]
        }
      ],
      "source": [
        "krotka_jednoelementowa = (\"jedyny element\", )\n",
        "print(krotka_jednoelementowa)\n",
        "print( type(krotka_jednoelementowa) )"
      ]
    },
    {
      "source": [
        "Ponieważ krotka - w sensie języka Python - jest obiektem, możemy ją jawnie utworzyć za pomocą konstruktora:"
      ],
      "cell_type": "markdown",
      "metadata": {}
    },
    {
      "cell_type": "code",
      "execution_count": 28,
      "metadata": {},
      "outputs": [
        {
          "output_type": "stream",
          "name": "stdout",
          "text": [
            "(1, 2, 3)\n"
          ]
        }
      ],
      "source": [
        "punkt = tuple( (1, 2, 3) ) # zewnetrzne nawiasy konstruktor, wewnętrzne - krotka\n",
        "print( punkt )"
      ]
    },
    {
      "source": [
        "## Dostęp do elementów krotki"
      ],
      "cell_type": "markdown",
      "metadata": {}
    },
    {
      "source": [
        "Podobnie jak dla listy, dostęp do elementów krotki realizowany jest za pomocą odwołania do ich indeksów (nawiasy kwadratowe `[]`). Indeksy zaczynają się od `0`."
      ],
      "cell_type": "markdown",
      "metadata": {}
    },
    {
      "cell_type": "code",
      "execution_count": 29,
      "metadata": {},
      "outputs": [
        {
          "output_type": "stream",
          "name": "stdout",
          "text": [
            "imię = Krzysztof, nazwisko = Molenda\n"
          ]
        }
      ],
      "source": [
        "print(f\"imię = {osoba[1]}, nazwisko = {osoba[2]}\")"
      ]
    },
    {
      "source": [
        "Podobnie jak dla listy, możliwe jest indeksowanie ujemne: `-1` oznacza dostęp do ostatniego elementu, `-2` - do przedostatniego, ..."
      ],
      "cell_type": "markdown",
      "metadata": {}
    },
    {
      "cell_type": "code",
      "execution_count": 30,
      "metadata": {},
      "outputs": [
        {
          "output_type": "stream",
          "name": "stdout",
          "text": [
            "ostatni element krotki = 55\n"
          ]
        }
      ],
      "source": [
        "print(f\"ostatni element krotki = {osoba[-1]}\")"
      ]
    },
    {
      "source": [
        "Analogicznie jak dla listy, możliwe jest odwołanie do zakresu elementów krotki (`[i:j]`):"
      ],
      "cell_type": "markdown",
      "metadata": {}
    },
    {
      "cell_type": "code",
      "execution_count": 36,
      "metadata": {},
      "outputs": [
        {
          "output_type": "stream",
          "name": "stdout",
          "text": [
            "(5, 4, 7)\n"
          ]
        }
      ],
      "source": [
        "dane = (3, 2, 5, 4, 7, 9, 3, 2, 3, 1, 2)\n",
        "print(dane[2:5]) # wypisuje dane od indeksu 2 do indeksu 5 wyłacznie, czyli 4 włącznie"
      ]
    },
    {
      "source": [
        "Nie podając początkowego lub końcowego elementu w zakresie otrzymujemy odpowiednie podciągi:"
      ],
      "cell_type": "markdown",
      "metadata": {}
    },
    {
      "source": [
        "print( dane )\n",
        "print( dane[5] )  # element o indeksie 5\n",
        "print( dane[:5] ) # elementy do indeksu 5, bez ostatniego\n",
        "print( dane[5:] ) # elementy od indeksu 5, włącznie"
      ],
      "cell_type": "code",
      "metadata": {},
      "execution_count": 38,
      "outputs": [
        {
          "output_type": "stream",
          "name": "stdout",
          "text": [
            "(3, 2, 5, 4, 7, 9, 3, 2, 3, 1, 2)\n9\n(3, 2, 5, 4, 7)\n(9, 3, 2, 3, 1, 2)\n"
          ]
        }
      ]
    },
    {
      "source": [
        "Elementy krotek możemy \"odpakować\", tzn. wydobyć z krotki i nadać im nazwę:"
      ],
      "cell_type": "markdown",
      "metadata": {}
    },
    {
      "cell_type": "code",
      "execution_count": 50,
      "metadata": {},
      "outputs": [
        {
          "output_type": "stream",
          "name": "stdout",
          "text": [
            "(1, 'Krzysztof', 'Abacki', 55, 'mężczyzna')\nKrzysztof Abacki, lat 55, mężczyzna\n"
          ]
        }
      ],
      "source": [
        "print(osoba)\n",
        "(id, imie, nazwisko, wiek, płeć) = osoba\n",
        "print(f\"{imie + ' ' + nazwisko}, lat {wiek}, {płeć}\")"
      ]
    },
    {
      "source": [
        "Przy \"odpakowaniu\" mozna użyć symbolu gwiazdki `*` symbolizującego wiele elementów. Najczęściej używa się go dla ostatniej odpakowywanej zmiennej. Zmienna ta wtedy zawiera _listę pozostałych elementów_:"
      ],
      "cell_type": "markdown",
      "metadata": {}
    },
    {
      "cell_type": "code",
      "execution_count": 54,
      "metadata": {},
      "outputs": [
        {
          "output_type": "stream",
          "name": "stdout",
          "text": [
            "jabłko\nbanan\n['wiśnia', 'truskawka', 'malina', 'pomarańcza']\n"
          ]
        }
      ],
      "source": [
        "owoce = (\"jabłko\", \"banan\", \"wiśnia\", \"truskawka\", \"malina\", \"pomarańcza\")\n",
        "(zielone, żółte, *reszta) = owoce\n",
        "print(zielone)\n",
        "print(żółte)\n",
        "print(reszta)"
      ]
    },
    {
      "source": [
        "Jeśli gwiazdka pojawi się na innym niż ostatnim elemencie, Python przypisze wartości do pasujących zmiennych, analizując od lewej strony:"
      ],
      "cell_type": "markdown",
      "metadata": {}
    },
    {
      "cell_type": "code",
      "execution_count": 55,
      "metadata": {},
      "outputs": [
        {
          "output_type": "stream",
          "name": "stdout",
          "text": [
            "jabłko\nbanan\n['wiśnia', 'truskawka', 'malina']\npomarańcza\n"
          ]
        }
      ],
      "source": [
        "owoce = (\"jabłko\", \"banan\", \"wiśnia\", \"truskawka\", \"malina\", \"pomarańcza\")\n",
        "(zielone, żółte, *inne, cytrusy) = owoce\n",
        "print(zielone)\n",
        "print(żółte)\n",
        "print(inne)\n",
        "print(cytrusy)"
      ]
    },
    {
      "source": [
        "## Operacje na krotkach"
      ],
      "cell_type": "markdown",
      "metadata": {}
    },
    {
      "source": [
        "Podobnie jak dla innych struktur (kolekcji) można określić rozmiar krotki za pomocą funkcji `len()`:"
      ],
      "cell_type": "markdown",
      "metadata": {}
    },
    {
      "cell_type": "code",
      "execution_count": 15,
      "metadata": {},
      "outputs": [
        {
          "output_type": "stream",
          "name": "stdout",
          "text": [
            "(1, 'Krzysztof', 'Molenda', 55)\nliczba elementów = 4\n(1, 'Molenda', ('Balicka', 116, 'Kraków'), [3, 4, 8])\nliczba elementów = 4\n"
          ]
        }
      ],
      "source": [
        "print(osoba)\n",
        "print( f\"liczba elementów = {len(osoba)}\" )\n",
        "print(osoba1)\n",
        "print( f\"liczba elementów = {len(osoba1)}\" )"
      ]
    },
    {
      "source": [
        "Również możemy sprawdzać, czy dany element znajduje się w kolekcji (operator `in`), gdzie się znajduje (metoda `index`) oraz ile razy występuje (`count`):"
      ],
      "cell_type": "markdown",
      "metadata": {}
    },
    {
      "cell_type": "code",
      "execution_count": 22,
      "metadata": {},
      "outputs": [
        {
          "output_type": "stream",
          "name": "stdout",
          "text": [
            "czy jedynka wystepuje? True\nliczba jedynek = 5\npozycja pierwszego wystapienia jedynki = 2\n"
          ]
        }
      ],
      "source": [
        "ciąg = (0, 2, 1, 2, 3, 1, 4, 2, 1, 3, 2, 1, 2, 1)\n",
        "print( F\"czy jedynka wystepuje? {1 in ciąg}\")\n",
        "print(f\"liczba jedynek = {ciąg.count(1)}\")\n",
        "print(f\"pozycja pierwszego wystapienia jedynki = {ciąg.index(1)}\")"
      ]
    },
    {
      "source": [
        "Krotki, które są traktowane jako niezmiennicze kolekcje elementów, można iterować za pomocą konstrukcji pętli `for-in`:"
      ],
      "cell_type": "markdown",
      "metadata": {}
    },
    {
      "cell_type": "code",
      "execution_count": 23,
      "metadata": {},
      "outputs": [
        {
          "output_type": "stream",
          "name": "stdout",
          "text": [
            "0\n2\n2\n4\n2\n2\n2\n"
          ]
        }
      ],
      "source": [
        "# wypisuje liczby parzyste z ciągu\n",
        "for liczba in ciąg:\n",
        "    if liczba % 2 == 0:\n",
        "        print(liczba)"
      ]
    },
    {
      "source": [
        "Oczywiście krotki można iterować za pomocą pętli odwołując się do indeksów elementów (pętla `for` oraz `while`):"
      ],
      "cell_type": "markdown",
      "metadata": {}
    },
    {
      "cell_type": "code",
      "execution_count": 44,
      "metadata": {},
      "outputs": [
        {
          "output_type": "stream",
          "name": "stdout",
          "text": [
            "0\n2\n2\n4\n2\n2\n2\n"
          ]
        }
      ],
      "source": [
        "for i in range(len(ciąg)):\n",
        "    if ciąg[i] % 2 == 0:\n",
        "        print(ciąg[i])"
      ]
    },
    {
      "cell_type": "code",
      "execution_count": 46,
      "metadata": {},
      "outputs": [
        {
          "output_type": "stream",
          "name": "stdout",
          "text": [
            "0\n2\n2\n4\n2\n2\n2\n"
          ]
        }
      ],
      "source": [
        "i = 0\n",
        "while i < len(ciąg):\n",
        "    if ciąg[i] % 2 == 0:\n",
        "        print(ciąg[i])\n",
        "    i += 1"
      ]
    },
    {
      "source": [
        "## Konwersje"
      ],
      "cell_type": "markdown",
      "metadata": {}
    },
    {
      "source": [
        "Krotka jest typem niezmienniczym, zatem nie możemy modyfikować jej elementów, nie możemy wstawiać lub dodawać nowych ani usuwać istniejących.\n",
        "\n",
        "Możemy jednak przekształcić krotkę na listę, na liście wykonać stosowne działania, a następnie przekonwertować listę na krotkę."
      ],
      "cell_type": "markdown",
      "metadata": {}
    },
    {
      "cell_type": "code",
      "execution_count": 43,
      "metadata": {},
      "outputs": [
        {
          "output_type": "stream",
          "name": "stdout",
          "text": [
            "krotka:  (1, 'Krzysztof', 'Molenda', 55)\nlista:  [1, 'Krzysztof', 'Molenda', 55]\nlista:  [1, 'Krzysztof', 'Abacki', 55, 'mężczyzna']\nkrotka:  (1, 'Krzysztof', 'Abacki', 55, 'mężczyzna')\n"
          ]
        }
      ],
      "source": [
        "print(\"krotka: \", osoba)\n",
        "osoba_jako_lista = list(osoba)          # konwersja z tuple na list\n",
        "print(\"lista: \", osoba_jako_lista)\n",
        "osoba_jako_lista[2] = \"Abacki\"          # modyfikujemy element nazwisko\n",
        "osoba_jako_lista.append(\"mężczyzna\")    # dodajemy nowy element, płeć\n",
        "print(\"lista: \", osoba_jako_lista)\n",
        "osoba = tuple(osoba_jako_lista)         # konwersja powrotna z list na tuple\n",
        "print(\"krotka: \", osoba)"
      ]
    },
    {
      "source": [
        "## Łączenie krotek"
      ],
      "cell_type": "markdown",
      "metadata": {}
    },
    {
      "source": [
        "Krotki możemy łączyć operatorem `+`. Powstaje wtedy nowa krotka, zawierająca kolejno wszystkie elementy składników"
      ],
      "cell_type": "markdown",
      "metadata": {}
    },
    {
      "cell_type": "code",
      "execution_count": 56,
      "metadata": {},
      "outputs": [
        {
          "output_type": "stream",
          "name": "stdout",
          "text": [
            "('a', 'b', 'c', 1, 2, 3)\n"
          ]
        }
      ],
      "source": [
        "tuple1 = (\"a\", \"b\", \"c\")\n",
        "tuple2 = (1, 2, 3)\n",
        "\n",
        "tuple3 = tuple1 + tuple2\n",
        "print(tuple3)"
      ]
    },
    {
      "source": [
        "Krotki można również zwielokratniać (operator `*`)"
      ],
      "cell_type": "markdown",
      "metadata": {}
    },
    {
      "cell_type": "code",
      "execution_count": 58,
      "metadata": {},
      "outputs": [
        {
          "output_type": "stream",
          "name": "stdout",
          "text": [
            "('a', 'b', 'ccc', 'a', 'b', 'ccc')\n"
          ]
        }
      ],
      "source": [
        "tuple = (\"a\", \"b\", \"c\"*3)\n",
        "\n",
        "tuple3 = tuple * 2\n",
        "print(tuple3)"
      ]
    },
    {
      "source": [
        "## Zadania"
      ],
      "cell_type": "markdown",
      "metadata": {}
    },
    {
      "source": [
        "### Zadanie 1\n",
        "\n",
        "Uzupełnij kod funkcji tak, aby obliczała pole trójkąta dla podanych punktów na płaszczyźnie, reprezentowanych jako krotki (pary elementów)."
      ],
      "cell_type": "markdown",
      "metadata": {}
    },
    {
      "cell_type": "code",
      "execution_count": 67,
      "metadata": {},
      "outputs": [
        {
          "output_type": "stream",
          "name": "stdout",
          "text": [
            "0\n"
          ]
        }
      ],
      "source": [
        "import math\n",
        "\n",
        "# oblicza pole trójkąta dla punktów w przestrzeni 2D o podanych współrzędnych\n",
        "def PoleTrojkata(a, b, c):\n",
        "    # zapisz kod tutaj, pamiętaj o wcięciach    \n",
        "    return 0 # zmień, wyrzucając wynik\n",
        "\n",
        "\n",
        "# ==========================\n",
        "# test poprawności działania\n",
        "a = (1, 2)\n",
        "b = (-1, -2)\n",
        "c = (1, 5)\n",
        "pole = PoleTrojkata(a, b, c)\n",
        "print(pole) # wynik: 3.0"
      ]
    },
    {
      "source": [
        "%matplotlib inline\n",
        "import matplotlib.pyplot as plt\n",
        "x_coords = [a[0], b[0], c[0], a[0]]\n",
        "y_coords = [a[1], b[1], c[1], a[1]]\n",
        "plt.plot(x_coords, y_coords) # rysuje wielokąt\n",
        "plt.show()"
      ],
      "cell_type": "code",
      "metadata": {},
      "execution_count": 69,
      "outputs": [
        {
          "output_type": "display_data",
          "data": {
            "text/plain": "<Figure size 432x288 with 1 Axes>",
            "image/svg+xml": "<?xml version=\"1.0\" encoding=\"utf-8\" standalone=\"no\"?>\r\n<!DOCTYPE svg PUBLIC \"-//W3C//DTD SVG 1.1//EN\"\r\n  \"http://www.w3.org/Graphics/SVG/1.1/DTD/svg11.dtd\">\r\n<svg height=\"248.518125pt\" version=\"1.1\" viewBox=\"0 0 370.942187 248.518125\" width=\"370.942187pt\" xmlns=\"http://www.w3.org/2000/svg\" xmlns:xlink=\"http://www.w3.org/1999/xlink\">\r\n <metadata>\r\n  <rdf:RDF xmlns:cc=\"http://creativecommons.org/ns#\" xmlns:dc=\"http://purl.org/dc/elements/1.1/\" xmlns:rdf=\"http://www.w3.org/1999/02/22-rdf-syntax-ns#\">\r\n   <cc:Work>\r\n    <dc:type rdf:resource=\"http://purl.org/dc/dcmitype/StillImage\"/>\r\n    <dc:date>2021-05-05T01:27:31.544266</dc:date>\r\n    <dc:format>image/svg+xml</dc:format>\r\n    <dc:creator>\r\n     <cc:Agent>\r\n      <dc:title>Matplotlib v3.4.1, https://matplotlib.org/</dc:title>\r\n     </cc:Agent>\r\n    </dc:creator>\r\n   </cc:Work>\r\n  </rdf:RDF>\r\n </metadata>\r\n <defs>\r\n  <style type=\"text/css\">*{stroke-linecap:butt;stroke-linejoin:round;}</style>\r\n </defs>\r\n <g id=\"figure_1\">\r\n  <g id=\"patch_1\">\r\n   <path d=\"M 0 248.518125 \r\nL 370.942187 248.518125 \r\nL 370.942187 0 \r\nL 0 0 \r\nz\r\n\" style=\"fill:none;\"/>\r\n  </g>\r\n  <g id=\"axes_1\">\r\n   <g id=\"patch_2\">\r\n    <path d=\"M 28.942188 224.64 \r\nL 363.742188 224.64 \r\nL 363.742188 7.2 \r\nL 28.942188 7.2 \r\nz\r\n\" style=\"fill:#ffffff;\"/>\r\n   </g>\r\n   <g id=\"matplotlib.axis_1\">\r\n    <g id=\"xtick_1\">\r\n     <g id=\"line2d_1\">\r\n      <defs>\r\n       <path d=\"M 0 0 \r\nL 0 3.5 \r\n\" id=\"m57372bbef9\" style=\"stroke:#000000;stroke-width:0.8;\"/>\r\n      </defs>\r\n      <g>\r\n       <use style=\"stroke:#000000;stroke-width:0.8;\" x=\"44.160369\" xlink:href=\"#m57372bbef9\" y=\"224.64\"/>\r\n      </g>\r\n     </g>\r\n     <g id=\"text_1\">\r\n      <!-- −1.00 -->\r\n      <g transform=\"translate(28.837713 239.238438)scale(0.1 -0.1)\">\r\n       <defs>\r\n        <path d=\"M 678 2272 \r\nL 4684 2272 \r\nL 4684 1741 \r\nL 678 1741 \r\nL 678 2272 \r\nz\r\n\" id=\"DejaVuSans-2212\" transform=\"scale(0.015625)\"/>\r\n        <path d=\"M 794 531 \r\nL 1825 531 \r\nL 1825 4091 \r\nL 703 3866 \r\nL 703 4441 \r\nL 1819 4666 \r\nL 2450 4666 \r\nL 2450 531 \r\nL 3481 531 \r\nL 3481 0 \r\nL 794 0 \r\nL 794 531 \r\nz\r\n\" id=\"DejaVuSans-31\" transform=\"scale(0.015625)\"/>\r\n        <path d=\"M 684 794 \r\nL 1344 794 \r\nL 1344 0 \r\nL 684 0 \r\nL 684 794 \r\nz\r\n\" id=\"DejaVuSans-2e\" transform=\"scale(0.015625)\"/>\r\n        <path d=\"M 2034 4250 \r\nQ 1547 4250 1301 3770 \r\nQ 1056 3291 1056 2328 \r\nQ 1056 1369 1301 889 \r\nQ 1547 409 2034 409 \r\nQ 2525 409 2770 889 \r\nQ 3016 1369 3016 2328 \r\nQ 3016 3291 2770 3770 \r\nQ 2525 4250 2034 4250 \r\nz\r\nM 2034 4750 \r\nQ 2819 4750 3233 4129 \r\nQ 3647 3509 3647 2328 \r\nQ 3647 1150 3233 529 \r\nQ 2819 -91 2034 -91 \r\nQ 1250 -91 836 529 \r\nQ 422 1150 422 2328 \r\nQ 422 3509 836 4129 \r\nQ 1250 4750 2034 4750 \r\nz\r\n\" id=\"DejaVuSans-30\" transform=\"scale(0.015625)\"/>\r\n       </defs>\r\n       <use xlink:href=\"#DejaVuSans-2212\"/>\r\n       <use x=\"83.789062\" xlink:href=\"#DejaVuSans-31\"/>\r\n       <use x=\"147.412109\" xlink:href=\"#DejaVuSans-2e\"/>\r\n       <use x=\"179.199219\" xlink:href=\"#DejaVuSans-30\"/>\r\n       <use x=\"242.822266\" xlink:href=\"#DejaVuSans-30\"/>\r\n      </g>\r\n     </g>\r\n    </g>\r\n    <g id=\"xtick_2\">\r\n     <g id=\"line2d_2\">\r\n      <g>\r\n       <use style=\"stroke:#000000;stroke-width:0.8;\" x=\"82.205824\" xlink:href=\"#m57372bbef9\" y=\"224.64\"/>\r\n      </g>\r\n     </g>\r\n     <g id=\"text_2\">\r\n      <!-- −0.75 -->\r\n      <g transform=\"translate(66.883168 239.238438)scale(0.1 -0.1)\">\r\n       <defs>\r\n        <path d=\"M 525 4666 \r\nL 3525 4666 \r\nL 3525 4397 \r\nL 1831 0 \r\nL 1172 0 \r\nL 2766 4134 \r\nL 525 4134 \r\nL 525 4666 \r\nz\r\n\" id=\"DejaVuSans-37\" transform=\"scale(0.015625)\"/>\r\n        <path d=\"M 691 4666 \r\nL 3169 4666 \r\nL 3169 4134 \r\nL 1269 4134 \r\nL 1269 2991 \r\nQ 1406 3038 1543 3061 \r\nQ 1681 3084 1819 3084 \r\nQ 2600 3084 3056 2656 \r\nQ 3513 2228 3513 1497 \r\nQ 3513 744 3044 326 \r\nQ 2575 -91 1722 -91 \r\nQ 1428 -91 1123 -41 \r\nQ 819 9 494 109 \r\nL 494 744 \r\nQ 775 591 1075 516 \r\nQ 1375 441 1709 441 \r\nQ 2250 441 2565 725 \r\nQ 2881 1009 2881 1497 \r\nQ 2881 1984 2565 2268 \r\nQ 2250 2553 1709 2553 \r\nQ 1456 2553 1204 2497 \r\nQ 953 2441 691 2322 \r\nL 691 4666 \r\nz\r\n\" id=\"DejaVuSans-35\" transform=\"scale(0.015625)\"/>\r\n       </defs>\r\n       <use xlink:href=\"#DejaVuSans-2212\"/>\r\n       <use x=\"83.789062\" xlink:href=\"#DejaVuSans-30\"/>\r\n       <use x=\"147.412109\" xlink:href=\"#DejaVuSans-2e\"/>\r\n       <use x=\"179.199219\" xlink:href=\"#DejaVuSans-37\"/>\r\n       <use x=\"242.822266\" xlink:href=\"#DejaVuSans-35\"/>\r\n      </g>\r\n     </g>\r\n    </g>\r\n    <g id=\"xtick_3\">\r\n     <g id=\"line2d_3\">\r\n      <g>\r\n       <use style=\"stroke:#000000;stroke-width:0.8;\" x=\"120.251278\" xlink:href=\"#m57372bbef9\" y=\"224.64\"/>\r\n      </g>\r\n     </g>\r\n     <g id=\"text_3\">\r\n      <!-- −0.50 -->\r\n      <g transform=\"translate(104.928622 239.238438)scale(0.1 -0.1)\">\r\n       <use xlink:href=\"#DejaVuSans-2212\"/>\r\n       <use x=\"83.789062\" xlink:href=\"#DejaVuSans-30\"/>\r\n       <use x=\"147.412109\" xlink:href=\"#DejaVuSans-2e\"/>\r\n       <use x=\"179.199219\" xlink:href=\"#DejaVuSans-35\"/>\r\n       <use x=\"242.822266\" xlink:href=\"#DejaVuSans-30\"/>\r\n      </g>\r\n     </g>\r\n    </g>\r\n    <g id=\"xtick_4\">\r\n     <g id=\"line2d_4\">\r\n      <g>\r\n       <use style=\"stroke:#000000;stroke-width:0.8;\" x=\"158.296733\" xlink:href=\"#m57372bbef9\" y=\"224.64\"/>\r\n      </g>\r\n     </g>\r\n     <g id=\"text_4\">\r\n      <!-- −0.25 -->\r\n      <g transform=\"translate(142.974077 239.238438)scale(0.1 -0.1)\">\r\n       <defs>\r\n        <path d=\"M 1228 531 \r\nL 3431 531 \r\nL 3431 0 \r\nL 469 0 \r\nL 469 531 \r\nQ 828 903 1448 1529 \r\nQ 2069 2156 2228 2338 \r\nQ 2531 2678 2651 2914 \r\nQ 2772 3150 2772 3378 \r\nQ 2772 3750 2511 3984 \r\nQ 2250 4219 1831 4219 \r\nQ 1534 4219 1204 4116 \r\nQ 875 4013 500 3803 \r\nL 500 4441 \r\nQ 881 4594 1212 4672 \r\nQ 1544 4750 1819 4750 \r\nQ 2544 4750 2975 4387 \r\nQ 3406 4025 3406 3419 \r\nQ 3406 3131 3298 2873 \r\nQ 3191 2616 2906 2266 \r\nQ 2828 2175 2409 1742 \r\nQ 1991 1309 1228 531 \r\nz\r\n\" id=\"DejaVuSans-32\" transform=\"scale(0.015625)\"/>\r\n       </defs>\r\n       <use xlink:href=\"#DejaVuSans-2212\"/>\r\n       <use x=\"83.789062\" xlink:href=\"#DejaVuSans-30\"/>\r\n       <use x=\"147.412109\" xlink:href=\"#DejaVuSans-2e\"/>\r\n       <use x=\"179.199219\" xlink:href=\"#DejaVuSans-32\"/>\r\n       <use x=\"242.822266\" xlink:href=\"#DejaVuSans-35\"/>\r\n      </g>\r\n     </g>\r\n    </g>\r\n    <g id=\"xtick_5\">\r\n     <g id=\"line2d_5\">\r\n      <g>\r\n       <use style=\"stroke:#000000;stroke-width:0.8;\" x=\"196.342188\" xlink:href=\"#m57372bbef9\" y=\"224.64\"/>\r\n      </g>\r\n     </g>\r\n     <g id=\"text_5\">\r\n      <!-- 0.00 -->\r\n      <g transform=\"translate(185.209375 239.238438)scale(0.1 -0.1)\">\r\n       <use xlink:href=\"#DejaVuSans-30\"/>\r\n       <use x=\"63.623047\" xlink:href=\"#DejaVuSans-2e\"/>\r\n       <use x=\"95.410156\" xlink:href=\"#DejaVuSans-30\"/>\r\n       <use x=\"159.033203\" xlink:href=\"#DejaVuSans-30\"/>\r\n      </g>\r\n     </g>\r\n    </g>\r\n    <g id=\"xtick_6\">\r\n     <g id=\"line2d_6\">\r\n      <g>\r\n       <use style=\"stroke:#000000;stroke-width:0.8;\" x=\"234.387642\" xlink:href=\"#m57372bbef9\" y=\"224.64\"/>\r\n      </g>\r\n     </g>\r\n     <g id=\"text_6\">\r\n      <!-- 0.25 -->\r\n      <g transform=\"translate(223.25483 239.238438)scale(0.1 -0.1)\">\r\n       <use xlink:href=\"#DejaVuSans-30\"/>\r\n       <use x=\"63.623047\" xlink:href=\"#DejaVuSans-2e\"/>\r\n       <use x=\"95.410156\" xlink:href=\"#DejaVuSans-32\"/>\r\n       <use x=\"159.033203\" xlink:href=\"#DejaVuSans-35\"/>\r\n      </g>\r\n     </g>\r\n    </g>\r\n    <g id=\"xtick_7\">\r\n     <g id=\"line2d_7\">\r\n      <g>\r\n       <use style=\"stroke:#000000;stroke-width:0.8;\" x=\"272.433097\" xlink:href=\"#m57372bbef9\" y=\"224.64\"/>\r\n      </g>\r\n     </g>\r\n     <g id=\"text_7\">\r\n      <!-- 0.50 -->\r\n      <g transform=\"translate(261.300284 239.238438)scale(0.1 -0.1)\">\r\n       <use xlink:href=\"#DejaVuSans-30\"/>\r\n       <use x=\"63.623047\" xlink:href=\"#DejaVuSans-2e\"/>\r\n       <use x=\"95.410156\" xlink:href=\"#DejaVuSans-35\"/>\r\n       <use x=\"159.033203\" xlink:href=\"#DejaVuSans-30\"/>\r\n      </g>\r\n     </g>\r\n    </g>\r\n    <g id=\"xtick_8\">\r\n     <g id=\"line2d_8\">\r\n      <g>\r\n       <use style=\"stroke:#000000;stroke-width:0.8;\" x=\"310.478551\" xlink:href=\"#m57372bbef9\" y=\"224.64\"/>\r\n      </g>\r\n     </g>\r\n     <g id=\"text_8\">\r\n      <!-- 0.75 -->\r\n      <g transform=\"translate(299.345739 239.238438)scale(0.1 -0.1)\">\r\n       <use xlink:href=\"#DejaVuSans-30\"/>\r\n       <use x=\"63.623047\" xlink:href=\"#DejaVuSans-2e\"/>\r\n       <use x=\"95.410156\" xlink:href=\"#DejaVuSans-37\"/>\r\n       <use x=\"159.033203\" xlink:href=\"#DejaVuSans-35\"/>\r\n      </g>\r\n     </g>\r\n    </g>\r\n    <g id=\"xtick_9\">\r\n     <g id=\"line2d_9\">\r\n      <g>\r\n       <use style=\"stroke:#000000;stroke-width:0.8;\" x=\"348.524006\" xlink:href=\"#m57372bbef9\" y=\"224.64\"/>\r\n      </g>\r\n     </g>\r\n     <g id=\"text_9\">\r\n      <!-- 1.00 -->\r\n      <g transform=\"translate(337.391193 239.238438)scale(0.1 -0.1)\">\r\n       <use xlink:href=\"#DejaVuSans-31\"/>\r\n       <use x=\"63.623047\" xlink:href=\"#DejaVuSans-2e\"/>\r\n       <use x=\"95.410156\" xlink:href=\"#DejaVuSans-30\"/>\r\n       <use x=\"159.033203\" xlink:href=\"#DejaVuSans-30\"/>\r\n      </g>\r\n     </g>\r\n    </g>\r\n   </g>\r\n   <g id=\"matplotlib.axis_2\">\r\n    <g id=\"ytick_1\">\r\n     <g id=\"line2d_10\">\r\n      <defs>\r\n       <path d=\"M 0 0 \r\nL -3.5 0 \r\n\" id=\"m7009588b74\" style=\"stroke:#000000;stroke-width:0.8;\"/>\r\n      </defs>\r\n      <g>\r\n       <use style=\"stroke:#000000;stroke-width:0.8;\" x=\"28.942188\" xlink:href=\"#m7009588b74\" y=\"214.756364\"/>\r\n      </g>\r\n     </g>\r\n     <g id=\"text_10\">\r\n      <!-- −2 -->\r\n      <g transform=\"translate(7.2 218.555582)scale(0.1 -0.1)\">\r\n       <use xlink:href=\"#DejaVuSans-2212\"/>\r\n       <use x=\"83.789062\" xlink:href=\"#DejaVuSans-32\"/>\r\n      </g>\r\n     </g>\r\n    </g>\r\n    <g id=\"ytick_2\">\r\n     <g id=\"line2d_11\">\r\n      <g>\r\n       <use style=\"stroke:#000000;stroke-width:0.8;\" x=\"28.942188\" xlink:href=\"#m7009588b74\" y=\"186.517403\"/>\r\n      </g>\r\n     </g>\r\n     <g id=\"text_11\">\r\n      <!-- −1 -->\r\n      <g transform=\"translate(7.2 190.316621)scale(0.1 -0.1)\">\r\n       <use xlink:href=\"#DejaVuSans-2212\"/>\r\n       <use x=\"83.789062\" xlink:href=\"#DejaVuSans-31\"/>\r\n      </g>\r\n     </g>\r\n    </g>\r\n    <g id=\"ytick_3\">\r\n     <g id=\"line2d_12\">\r\n      <g>\r\n       <use style=\"stroke:#000000;stroke-width:0.8;\" x=\"28.942188\" xlink:href=\"#m7009588b74\" y=\"158.278442\"/>\r\n      </g>\r\n     </g>\r\n     <g id=\"text_12\">\r\n      <!-- 0 -->\r\n      <g transform=\"translate(15.579688 162.07766)scale(0.1 -0.1)\">\r\n       <use xlink:href=\"#DejaVuSans-30\"/>\r\n      </g>\r\n     </g>\r\n    </g>\r\n    <g id=\"ytick_4\">\r\n     <g id=\"line2d_13\">\r\n      <g>\r\n       <use style=\"stroke:#000000;stroke-width:0.8;\" x=\"28.942188\" xlink:href=\"#m7009588b74\" y=\"130.039481\"/>\r\n      </g>\r\n     </g>\r\n     <g id=\"text_13\">\r\n      <!-- 1 -->\r\n      <g transform=\"translate(15.579688 133.838699)scale(0.1 -0.1)\">\r\n       <use xlink:href=\"#DejaVuSans-31\"/>\r\n      </g>\r\n     </g>\r\n    </g>\r\n    <g id=\"ytick_5\">\r\n     <g id=\"line2d_14\">\r\n      <g>\r\n       <use style=\"stroke:#000000;stroke-width:0.8;\" x=\"28.942188\" xlink:href=\"#m7009588b74\" y=\"101.800519\"/>\r\n      </g>\r\n     </g>\r\n     <g id=\"text_14\">\r\n      <!-- 2 -->\r\n      <g transform=\"translate(15.579688 105.599738)scale(0.1 -0.1)\">\r\n       <use xlink:href=\"#DejaVuSans-32\"/>\r\n      </g>\r\n     </g>\r\n    </g>\r\n    <g id=\"ytick_6\">\r\n     <g id=\"line2d_15\">\r\n      <g>\r\n       <use style=\"stroke:#000000;stroke-width:0.8;\" x=\"28.942188\" xlink:href=\"#m7009588b74\" y=\"73.561558\"/>\r\n      </g>\r\n     </g>\r\n     <g id=\"text_15\">\r\n      <!-- 3 -->\r\n      <g transform=\"translate(15.579688 77.360777)scale(0.1 -0.1)\">\r\n       <defs>\r\n        <path d=\"M 2597 2516 \r\nQ 3050 2419 3304 2112 \r\nQ 3559 1806 3559 1356 \r\nQ 3559 666 3084 287 \r\nQ 2609 -91 1734 -91 \r\nQ 1441 -91 1130 -33 \r\nQ 819 25 488 141 \r\nL 488 750 \r\nQ 750 597 1062 519 \r\nQ 1375 441 1716 441 \r\nQ 2309 441 2620 675 \r\nQ 2931 909 2931 1356 \r\nQ 2931 1769 2642 2001 \r\nQ 2353 2234 1838 2234 \r\nL 1294 2234 \r\nL 1294 2753 \r\nL 1863 2753 \r\nQ 2328 2753 2575 2939 \r\nQ 2822 3125 2822 3475 \r\nQ 2822 3834 2567 4026 \r\nQ 2313 4219 1838 4219 \r\nQ 1578 4219 1281 4162 \r\nQ 984 4106 628 3988 \r\nL 628 4550 \r\nQ 988 4650 1302 4700 \r\nQ 1616 4750 1894 4750 \r\nQ 2613 4750 3031 4423 \r\nQ 3450 4097 3450 3541 \r\nQ 3450 3153 3228 2886 \r\nQ 3006 2619 2597 2516 \r\nz\r\n\" id=\"DejaVuSans-33\" transform=\"scale(0.015625)\"/>\r\n       </defs>\r\n       <use xlink:href=\"#DejaVuSans-33\"/>\r\n      </g>\r\n     </g>\r\n    </g>\r\n    <g id=\"ytick_7\">\r\n     <g id=\"line2d_16\">\r\n      <g>\r\n       <use style=\"stroke:#000000;stroke-width:0.8;\" x=\"28.942188\" xlink:href=\"#m7009588b74\" y=\"45.322597\"/>\r\n      </g>\r\n     </g>\r\n     <g id=\"text_16\">\r\n      <!-- 4 -->\r\n      <g transform=\"translate(15.579688 49.121816)scale(0.1 -0.1)\">\r\n       <defs>\r\n        <path d=\"M 2419 4116 \r\nL 825 1625 \r\nL 2419 1625 \r\nL 2419 4116 \r\nz\r\nM 2253 4666 \r\nL 3047 4666 \r\nL 3047 1625 \r\nL 3713 1625 \r\nL 3713 1100 \r\nL 3047 1100 \r\nL 3047 0 \r\nL 2419 0 \r\nL 2419 1100 \r\nL 313 1100 \r\nL 313 1709 \r\nL 2253 4666 \r\nz\r\n\" id=\"DejaVuSans-34\" transform=\"scale(0.015625)\"/>\r\n       </defs>\r\n       <use xlink:href=\"#DejaVuSans-34\"/>\r\n      </g>\r\n     </g>\r\n    </g>\r\n    <g id=\"ytick_8\">\r\n     <g id=\"line2d_17\">\r\n      <g>\r\n       <use style=\"stroke:#000000;stroke-width:0.8;\" x=\"28.942188\" xlink:href=\"#m7009588b74\" y=\"17.083636\"/>\r\n      </g>\r\n     </g>\r\n     <g id=\"text_17\">\r\n      <!-- 5 -->\r\n      <g transform=\"translate(15.579688 20.882855)scale(0.1 -0.1)\">\r\n       <use xlink:href=\"#DejaVuSans-35\"/>\r\n      </g>\r\n     </g>\r\n    </g>\r\n   </g>\r\n   <g id=\"line2d_18\">\r\n    <path clip-path=\"url(#p9657301d0a)\" d=\"M 348.524006 101.800519 \r\nL 44.160369 214.756364 \r\nL 348.524006 17.083636 \r\nL 348.524006 101.800519 \r\n\" style=\"fill:none;stroke:#1f77b4;stroke-linecap:square;stroke-width:1.5;\"/>\r\n   </g>\r\n   <g id=\"patch_3\">\r\n    <path d=\"M 28.942188 224.64 \r\nL 28.942188 7.2 \r\n\" style=\"fill:none;stroke:#000000;stroke-linecap:square;stroke-linejoin:miter;stroke-width:0.8;\"/>\r\n   </g>\r\n   <g id=\"patch_4\">\r\n    <path d=\"M 363.742188 224.64 \r\nL 363.742188 7.2 \r\n\" style=\"fill:none;stroke:#000000;stroke-linecap:square;stroke-linejoin:miter;stroke-width:0.8;\"/>\r\n   </g>\r\n   <g id=\"patch_5\">\r\n    <path d=\"M 28.942188 224.64 \r\nL 363.742188 224.64 \r\n\" style=\"fill:none;stroke:#000000;stroke-linecap:square;stroke-linejoin:miter;stroke-width:0.8;\"/>\r\n   </g>\r\n   <g id=\"patch_6\">\r\n    <path d=\"M 28.942188 7.2 \r\nL 363.742188 7.2 \r\n\" style=\"fill:none;stroke:#000000;stroke-linecap:square;stroke-linejoin:miter;stroke-width:0.8;\"/>\r\n   </g>\r\n  </g>\r\n </g>\r\n <defs>\r\n  <clipPath id=\"p9657301d0a\">\r\n   <rect height=\"217.44\" width=\"334.8\" x=\"28.942188\" y=\"7.2\"/>\r\n  </clipPath>\r\n </defs>\r\n</svg>\r\n",
            "image/png": "[encoded data removed]"
          },
          "metadata": {
            "needs_background": "light"
          }
        }
      ]
    },
    {
      "cell_type": "code",
      "execution_count": null,
      "metadata": {},
      "outputs": [],
      "source": []
    }
  ]
}