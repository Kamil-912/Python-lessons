{
  "nbformat": 4,
  "nbformat_minor": 0,
  "metadata": {
    "colab": {
      "name": "Krotka.ipynb",
      "provenance": [],
      "authorship_tag": "ABX9TyPqRDdbwEHOrNUmDYNyxYBt",
      "include_colab_link": true
    },
    "kernelspec": {
      "name": "python394jvsc74a57bd063fd5069d213b44bf678585dea6b12cceca9941eaf7f819626cde1f2670de90d",
      "display_name": "Python 3.9.4 64-bit"
    },
    "language_info": {
      "name": "python",
      "version": "3.9.4"
    },
    "metadata": {
      "interpreter": {
        "hash": "63fd5069d213b44bf678585dea6b12cceca9941eaf7f819626cde1f2670de90d"
      }
    }
  },
  "cells": [
    {
      "cell_type": "markdown",
      "metadata": {
        "id": "view-in-github",
        "colab_type": "text"
      },
      "source": [
        "<a href=\"https://colab.research.google.com/github/URK-KIPLiIS/Python-lessons/blob/main/03.%20Struktury%20danych/Krotka.ipynb\" target=\"_parent\"><img src=\"https://colab.research.google.com/assets/colab-badge.svg\" alt=\"Open In Colab\"/></a>"
      ]
    },
    {
      "cell_type": "markdown",
      "metadata": {
        "id": "feoWMC-nu-E9"
      },
      "source": [
        "# Struktury danych. Krotka (`Tuple`)\n",
        "\n",
        "* Krzysztof Molenda (2021-05-01)\n",
        "\n",
        "---"
      ]
    },
    {
      "source": [
        "Krotka (ang. _tuple_) to ciąg _n_ elementów reprezentowany przez zmienną. W języku polskim czasami nazywane są _n-tkami_. Dla dwóch elementów powiemy _para_ albo _dwójka_, dla trzech - _trójka_, dla sześciu - _szóstka_.\n",
        "\n",
        "Przykłady:"
      ],
      "cell_type": "markdown",
      "metadata": {}
    },
    {
      "cell_type": "code",
      "metadata": {
        "id": "fTgBwafeu53v"
      },
      "source": [
        "# krotka pusta\n",
        "pusta = ()\n",
        "print(pusta)\n",
        "\n",
        "# krotka - wektor 3 liczb całkowityych\n",
        "wektor = (1, 2, 3)\n",
        "print(wektor)\n",
        "\n",
        "# krotka - ciąg elementów różnego typu\n",
        "# (id, imię, nazwisko, wiek)\n",
        "osoba = (1, \"Krzysztof\", \"Molenda\", 55)\n",
        "print(osoba)\n",
        "\n",
        "# krotka - ciąg elementów które również mogą być krotkami lub innymi typami\n",
        "# (id, nazwisko, adres, lista_znajomych)\n",
        "osoba1 = (1, \"Molenda\", (\"Balicka\", 116, \"Kraków\"), [3, 4, 8] )\n",
        "print(osoba1)"
      ],
      "execution_count": null,
      "outputs": []
    },
    {
      "source": [
        "Krotka, w swojej konstrukcji przypomina listę. Jest jednak kilka znaczących różnic między tymi strukturami danych. Cechy krotki:\n",
        "\n",
        "* jest strukturą **uporządkowaną** - elementy krotki mają określone pozycje, do których można odnieść się za pomocą indeksowania,\n",
        "* jest strukturą **niezmienniczą** (ang. _immutable_) - po utworzeniu nie można zmienić ani jej rozmiaru (dodanie/usunięcie elementy) ani zawartości\n",
        "* dostęp do elementów krotki podobnie jak dla listy, za pomocą ideksowania (indeksowanie od `0`)\n",
        "* w krotce można zapamiętywać duplikaty (podobnie jak w liście)\n",
        "\n",
        "Przykład:"
      ],
      "cell_type": "markdown",
      "metadata": {}
    },
    {
      "cell_type": "code",
      "execution_count": null,
      "metadata": {},
      "outputs": [],
      "source": [
        "# odczyt elementu krotki\n",
        "nazwisko = osoba[2]\n",
        "print(nazwisko)\n",
        "\n",
        "# próba zmiany elementu krotki\n",
        "osoba[2] = \"Abacki\" #TypeError: 'tuple' object does not support item assignment"
      ]
    },
    {
      "source": [
        "## Tworzenie"
      ],
      "cell_type": "markdown",
      "metadata": {}
    },
    {
      "source": [
        "Standardowo, krotkę tworzymy wymieniając - w nawiasach okrągłych - jej elementy, oddzielone przecinkami.\n",
        "\n",
        "Krotkę można utworzyć również bez notacji nawiasowej (nazywa się to _tuple packing_). Można ją również w ten sposób _odpakować_:"
      ],
      "cell_type": "markdown",
      "metadata": {}
    },
    {
      "cell_type": "code",
      "execution_count": null,
      "metadata": {},
      "outputs": [],
      "source": [
        "wektor1 = (\"A\", 2.1, 2.2, 2.3)\n",
        "wektor2 = \"A\", 2.1, 2.2, 2.3\n",
        "print(wektor1)\n",
        "print(wektor2)\n",
        "\n",
        "etykieta, x, y, z = wektor2\n",
        "print(f\"etykieta = {etykieta}, x = {x}, y = {y}, z = {z}\")"
      ]
    },
    {
      "source": [
        "UWAGA: Ponieważ krotka 1-elementowa ma stosunkowo ograniczone zastosowanie, stąd jej konstrukcja jest specyficzna - wymaga użycia przecinka po pierwszym i jedynym elemencie:"
      ],
      "cell_type": "markdown",
      "metadata": {}
    },
    {
      "cell_type": "code",
      "execution_count": null,
      "metadata": {},
      "outputs": [],
      "source": [
        "krotka_jednoelementowa = (\"jedyny element\", )\n",
        "print(krotka_jednoelementowa)\n",
        "print( type(krotka_jednoelementowa) )"
      ]
    },
    {
      "source": [
        "Ponieważ krotka - w sensie języka Python - jest obiektem, możemy ją jawnie utworzyć za pomocą konstruktora:"
      ],
      "cell_type": "markdown",
      "metadata": {}
    },
    {
      "cell_type": "code",
      "execution_count": null,
      "metadata": {},
      "outputs": [],
      "source": [
        "punkt = tuple( (1, 2, 3) ) # zewnetrzne nawiasy konstruktor, wewnętrzne - krotka\n",
        "print( punkt )"
      ]
    },
    {
      "source": [
        "## Dostęp do elementów krotki"
      ],
      "cell_type": "markdown",
      "metadata": {}
    },
    {
      "source": [
        "Podobnie jak dla listy, dostęp do elementów krotki realizowany jest za pomocą odwołania do ich indeksów (nawiasy kwadratowe `[]`). Indeksy zaczynają się od `0`."
      ],
      "cell_type": "markdown",
      "metadata": {}
    },
    {
      "cell_type": "code",
      "execution_count": null,
      "metadata": {},
      "outputs": [],
      "source": [
        "print(f\"imię = {osoba[1]}, nazwisko = {osoba[2]}\")"
      ]
    },
    {
      "source": [
        "Podobnie jak dla listy, możliwe jest indeksowanie ujemne: `-1` oznacza dostęp do ostatniego elementu, `-2` - do przedostatniego, ..."
      ],
      "cell_type": "markdown",
      "metadata": {}
    },
    {
      "cell_type": "code",
      "execution_count": null,
      "metadata": {},
      "outputs": [],
      "source": [
        "print(f\"ostatni element krotki = {osoba[-1]}\")"
      ]
    },
    {
      "source": [
        "Analogicznie jak dla listy, możliwe jest odwołanie do zakresu elementów krotki (`[i:j]`):"
      ],
      "cell_type": "markdown",
      "metadata": {}
    },
    {
      "cell_type": "code",
      "execution_count": null,
      "metadata": {},
      "outputs": [],
      "source": [
        "dane = (3, 2, 5, 4, 7, 9, 3, 2, 3, 1, 2)\n",
        "print(dane[2:5]) # wypisuje dane od indeksu 2 do indeksu 5 wyłacznie, czyli 4 włącznie"
      ]
    },
    {
      "source": [
        "Nie podając początkowego lub końcowego elementu w zakresie otrzymujemy odpowiednie podciągi:"
      ],
      "cell_type": "markdown",
      "metadata": {}
    },
    {
      "source": [
        "print( dane )\n",
        "print( dane[5] )  # element o indeksie 5\n",
        "print( dane[:5] ) # elementy do indeksu 5, bez ostatniego\n",
        "print( dane[5:] ) # elementy od indeksu 5, włącznie"
      ],
      "cell_type": "code",
      "metadata": {},
      "execution_count": null,
      "outputs": []
    },
    {
      "source": [
        "Elementy krotek możemy \"odpakować\", tzn. wydobyć z krotki i nadać im nazwę:"
      ],
      "cell_type": "markdown",
      "metadata": {}
    },
    {
      "cell_type": "code",
      "execution_count": null,
      "metadata": {},
      "outputs": [],
      "source": [
        "print(osoba)\n",
        "(id, imie, nazwisko, wiek, płeć) = osoba\n",
        "print(f\"{imie + ' ' + nazwisko}, lat {wiek}, {płeć}\")"
      ]
    },
    {
      "source": [
        "Przy \"odpakowaniu\" mozna użyć symbolu gwiazdki `*` symbolizującego wiele elementów. Najczęściej używa się go dla ostatniej odpakowywanej zmiennej. Zmienna ta wtedy zawiera _listę pozostałych elementów_:"
      ],
      "cell_type": "markdown",
      "metadata": {}
    },
    {
      "cell_type": "code",
      "execution_count": null,
      "metadata": {},
      "outputs": [],
      "source": [
        "owoce = (\"jabłko\", \"banan\", \"wiśnia\", \"truskawka\", \"malina\", \"pomarańcza\")\n",
        "(zielone, żółte, *reszta) = owoce\n",
        "print(zielone)\n",
        "print(żółte)\n",
        "print(reszta)"
      ]
    },
    {
      "source": [
        "Jeśli gwiazdka pojawi się na innym niż ostatnim elemencie, Python przypisze wartości do pasujących zmiennych, analizując od lewej strony:"
      ],
      "cell_type": "markdown",
      "metadata": {}
    },
    {
      "cell_type": "code",
      "execution_count": null,
      "metadata": {},
      "outputs": [],
      "source": [
        "owoce = (\"jabłko\", \"banan\", \"wiśnia\", \"truskawka\", \"malina\", \"pomarańcza\")\n",
        "(zielone, żółte, *inne, cytrusy) = owoce\n",
        "print(zielone)\n",
        "print(żółte)\n",
        "print(inne)\n",
        "print(cytrusy)"
      ]
    },
    {
      "source": [
        "## Operacje na krotkach"
      ],
      "cell_type": "markdown",
      "metadata": {}
    },
    {
      "source": [
        "Podobnie jak dla innych struktur (kolekcji) można określić rozmiar krotki za pomocą funkcji `len()`:"
      ],
      "cell_type": "markdown",
      "metadata": {}
    },
    {
      "cell_type": "code",
      "execution_count": null,
      "metadata": {},
      "outputs": [],
      "source": [
        "print(osoba)\n",
        "print( f\"liczba elementów = {len(osoba)}\" )\n",
        "print(osoba1)\n",
        "print( f\"liczba elementów = {len(osoba1)}\" )"
      ]
    },
    {
      "source": [
        "Również możemy sprawdzać, czy dany element znajduje się w kolekcji (operator `in`), gdzie się znajduje (metoda `index`) oraz ile razy występuje (`count`):"
      ],
      "cell_type": "markdown",
      "metadata": {}
    },
    {
      "cell_type": "code",
      "execution_count": null,
      "metadata": {},
      "outputs": [],
      "source": [
        "ciąg = (0, 2, 1, 2, 3, 1, 4, 2, 1, 3, 2, 1, 2, 1)\n",
        "print(f\"czy jedynka wystepuje? {1 in ciąg}\")\n",
        "print(f\"liczba jedynek = {ciąg.count(1)}\")\n",
        "print(f\"pozycja pierwszego wystapienia jedynki = {ciąg.index(1)}\")"
      ]
    },
    {
      "source": [
        "Krotki, które są traktowane jako niezmiennicze kolekcje elementów, można iterować za pomocą konstrukcji pętli `for-in`:"
      ],
      "cell_type": "markdown",
      "metadata": {}
    },
    {
      "cell_type": "code",
      "execution_count": null,
      "metadata": {},
      "outputs": [],
      "source": [
        "# wypisuje liczby parzyste z ciągu\n",
        "for liczba in ciąg:\n",
        "    if liczba % 2 == 0:\n",
        "        print(liczba)"
      ]
    },
    {
      "source": [
        "Oczywiście krotki można iterować za pomocą pętli odwołując się do indeksów elementów (pętla `for` oraz `while`):"
      ],
      "cell_type": "markdown",
      "metadata": {}
    },
    {
      "cell_type": "code",
      "execution_count": null,
      "metadata": {},
      "outputs": [],
      "source": [
        "for i in range(len(ciąg)):\n",
        "    if ciąg[i] % 2 == 0:\n",
        "        print(ciąg[i])"
      ]
    },
    {
      "cell_type": "code",
      "execution_count": null,
      "metadata": {},
      "outputs": [],
      "source": [
        "i = 0\n",
        "while i < len(ciąg):\n",
        "    if ciąg[i] % 2 == 0:\n",
        "        print(ciąg[i])\n",
        "    i += 1"
      ]
    },
    {
      "source": [
        "## Konwersje"
      ],
      "cell_type": "markdown",
      "metadata": {}
    },
    {
      "source": [
        "Krotka jest typem niezmienniczym, zatem nie możemy modyfikować jej elementów, nie możemy wstawiać lub dodawać nowych ani usuwać istniejących.\n",
        "\n",
        "Możemy jednak przekształcić krotkę na listę, na liście wykonać stosowne działania, a następnie przekonwertować listę na krotkę."
      ],
      "cell_type": "markdown",
      "metadata": {}
    },
    {
      "cell_type": "code",
      "execution_count": null,
      "metadata": {},
      "outputs": [],
      "source": [
        "print(\"krotka: \", osoba)\n",
        "osoba_jako_lista = list(osoba)          # konwersja z tuple na list\n",
        "print(\"lista: \", osoba_jako_lista)\n",
        "osoba_jako_lista[2] = \"Abacki\"          # modyfikujemy element nazwisko\n",
        "osoba_jako_lista.append(\"mężczyzna\")    # dodajemy nowy element, płeć\n",
        "print(\"lista: \", osoba_jako_lista)\n",
        "osoba = tuple(osoba_jako_lista)         # konwersja powrotna z list na tuple\n",
        "print(\"krotka: \", osoba)"
      ]
    },
    {
      "source": [
        "## Łączenie krotek"
      ],
      "cell_type": "markdown",
      "metadata": {}
    },
    {
      "source": [
        "Krotki możemy łączyć operatorem `+`. Powstaje wtedy nowa krotka, zawierająca kolejno wszystkie elementy składników"
      ],
      "cell_type": "markdown",
      "metadata": {}
    },
    {
      "cell_type": "code",
      "execution_count": null,
      "metadata": {},
      "outputs": [],
      "source": [
        "tuple1 = (\"a\", \"b\", \"c\")\n",
        "tuple2 = (1, 2, 3)\n",
        "\n",
        "tuple3 = tuple1 + tuple2\n",
        "print(tuple3)"
      ]
    },
    {
      "source": [
        "Krotki można również zwielokratniać (operator `*`)"
      ],
      "cell_type": "markdown",
      "metadata": {}
    },
    {
      "cell_type": "code",
      "execution_count": null,
      "metadata": {},
      "outputs": [],
      "source": [
        "tuple = (\"a\", \"b\", \"c\"*3)\n",
        "\n",
        "tuple3 = tuple * 2\n",
        "print(tuple3)"
      ]
    },
    {
      "source": [
        "## Zadania"
      ],
      "cell_type": "markdown",
      "metadata": {}
    },
    {
      "source": [
        "### Zadanie 1\n",
        "\n",
        "Uzupełnij kod funkcji tak, aby obliczała pole trójkąta dla podanych punktów na płaszczyźnie, reprezentowanych jako krotki (pary elementów)."
      ],
      "cell_type": "markdown",
      "metadata": {}
    },
    {
      "cell_type": "code",
      "execution_count": null,
      "metadata": {},
      "outputs": [],
      "source": [
        "import math\n",
        "\n",
        "# oblicza pole trójkąta dla punktów w przestrzeni 2D o podanych współrzędnych\n",
        "def PoleTrojkata(a, b, c):\n",
        "    # zapisz kod tutaj, pamiętaj o wcięciach    \n",
        "    return 0 # zmień 0 na obliczony wynik\n",
        "\n",
        "\n",
        "# ==========================\n",
        "# test poprawności działania\n",
        "a = (1, 2)\n",
        "b = (-1, -2)\n",
        "c = (1, 5)\n",
        "pole = PoleTrojkata(a, b, c)\n",
        "print(pole) # oczekiwany wynik: 3.0"
      ]
    },
    {
      "source": [
        "%matplotlib inline\n",
        "import matplotlib.pyplot as plt\n",
        "x_coords = [a[0], b[0], c[0], a[0]]\n",
        "y_coords = [a[1], b[1], c[1], a[1]]\n",
        "plt.plot(x_coords, y_coords) # rysuje wielokąt\n",
        "plt.show()"
      ],
      "cell_type": "code",
      "metadata": {},
      "execution_count": null,
      "outputs": []
    },
    {
      "cell_type": "code",
      "execution_count": null,
      "metadata": {},
      "outputs": [],
      "source": []
    }
  ]
}