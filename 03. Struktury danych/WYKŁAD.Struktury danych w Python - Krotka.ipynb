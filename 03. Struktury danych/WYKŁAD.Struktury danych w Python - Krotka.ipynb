{
  "nbformat": 4,
  "nbformat_minor": 0,
  "metadata": {
    "colab": {
      "name": "Krotka.ipynb",
      "provenance": [],
      "authorship_tag": "ABX9TyPqRDdbwEHOrNUmDYNyxYBt",
      "include_colab_link": true
    },
    "kernelspec": {
      "name": "python394jvsc74a57bd063fd5069d213b44bf678585dea6b12cceca9941eaf7f819626cde1f2670de90d",
      "display_name": "Python 3.9.4 64-bit"
    },
    "language_info": {
      "name": "python",
      "version": "3.9.4"
    },
    "metadata": {
      "interpreter": {
        "hash": "63fd5069d213b44bf678585dea6b12cceca9941eaf7f819626cde1f2670de90d"
      }
    }
  },
  "cells": [
    {
      "cell_type": "markdown",
      "metadata": {
        "id": "view-in-github",
        "colab_type": "text"
      },
      "source": [
        "<a href=\"https://colab.research.google.com/github/URK-KIPLiIS/Python-lessons/blob/main/03.%20Struktury%20danych/Krotka.ipynb\" target=\"_parent\"><img src=\"https://colab.research.google.com/assets/colab-badge.svg\" alt=\"Open In Colab\"/></a>"
      ]
    },
    {
      "cell_type": "markdown",
      "metadata": {
        "id": "feoWMC-nu-E9"
      },
      "source": [
        "# Struktury danych. Zbiór (`Set`)\n",
        "\n",
        "* Krzysztof Molenda (2021-05-01)\n",
        "\n",
        "---"
      ]
    },
    {
      "source": [
        "Zbiór (ang. _set_) w senesie Pythona to kolekcja elementów rozumiana tak, jak rozumiana jest w sensie matematycznym - można dodawać elementy, usuwać, wyszukiwać, ale elementy przechowywane w zbiorze są bez duplikatów i nie można ich modyfikować (elementy zbioru muszą być niezmiennicze).\n",
        "\n",
        "Przykłady:"
      ],
      "cell_type": "markdown",
      "metadata": {}
    },
    {
      "cell_type": "code",
      "metadata": {
        "id": "fTgBwafeu53v"
      },
      "source": [
        "# zbiór 3 liczb całkowityych\n",
        "zbior1 = {1, 2, 3}\n",
        "print(zbior1)\n",
        "\n",
        "# zbiór 3 liczb całkowitych\n",
        "zbior2 = {1, 1, 2, 3}\n",
        "print(zbior2)\n",
        "\n",
        "# zbiór elementów różnego typu\n",
        "zbiór3 = {1, \"Krzysztof\", (1, 2, 3), 23.1}\n",
        "print(zbiór3)"
      ],
      "execution_count": 19,
      "outputs": [
        {
          "output_type": "stream",
          "name": "stdout",
          "text": [
            "{1, 2, 3}\n{1, 2, 3}\n{1, (1, 2, 3), 23.1, 'Krzysztof'}\n"
          ]
        }
      ]
    },
    {
      "source": [
        "Zbiór, w swojej konstrukcji przypomina listę. Jest jednak kilka znaczących różnic między tymi strukturami danych. Cechy zbioru:\n",
        "\n",
        "* jest strukturą **nieuporządkowaną** - elementy zbioru nie są indeksowane, nie mają określonego porządku, do elementów zbioru nie można odnieść się przez indeks podany nawiasach kwadratowych, wypisanie elementów zbioru w różnym czasie może powodować różne wyniki\n",
        "* jest strukturą **niezmienniczą** (ang. _immutable_) - po utworzeniu nie można zmienić wartości elementów, ale można do zbioru dodać nowe lub usunać już istniejące wpisy\n",
        "* elementami zbioru mogą być tylko wartości (niezmiennicze), zatem elementem zbioru może być krotka, ale nie może być lista\n",
        "* w zbiorze nie ma duplikatów\n",
        "* jest strukturą iterowalną (mozna przeglądać za pomocą petli `for-in`), ale nie indeksowalną. Podczas przeglądania (również podczas wypisywania) tworzona jest lista elementów zbioru i to ona jest przetwarzana\n",
        "\n",
        "Przykład:"
      ],
      "cell_type": "markdown",
      "metadata": {}
    },
    {
      "cell_type": "code",
      "execution_count": 24,
      "metadata": {},
      "outputs": [
        {
          "output_type": "stream",
          "name": "stdout",
          "text": [
            "{1, 4}\n<class 'set'>\n{1, 3, 4}\n{0, 1, 3, 4}\n"
          ]
        }
      ],
      "source": [
        "# utworzenie zbioru\n",
        "liczby = {1, 4}\n",
        "print(liczby)           # {1, 4}\n",
        "print( type(liczby) )   # <class 'set'>\n",
        "\n",
        "# dodanie nowego elementu\n",
        "liczby.add(3)\n",
        "print(liczby)           # {1, 3, 4}\n",
        "liczby.add(0)\n",
        "print(liczby)           # {0, 1, 3, 4}\n",
        "# print( liczby[1] )    # błąd, zbiór nie jest indeksowany"
      ]
    },
    {
      "source": [
        "## Tworzenie"
      ],
      "cell_type": "markdown",
      "metadata": {}
    },
    {
      "source": [
        "Standardowo, zbiór tworzymy wymieniając - w nawiasach klamrowych - jego elementy, oddzielone przecinkami."
      ],
      "cell_type": "markdown",
      "metadata": {}
    },
    {
      "cell_type": "code",
      "execution_count": 27,
      "metadata": {},
      "outputs": [],
      "source": [
        "zbior = {\"A\", 2.1, 10, (1,2)}"
      ]
    },
    {
      "source": [
        "Zbiór pusty jest szczególnym przypadkiem. Tworzymy go za pomocą konstruktora bez podania argumentów. Zbiór, w kontekście wyrażeń logicznych, ma wartość logiczną:\n",
        "* `False` - jeśli zbiór jest pusty\n",
        "* `True` - jeśli zbiór nie jest pusty"
      ],
      "cell_type": "markdown",
      "metadata": {}
    },
    {
      "cell_type": "code",
      "execution_count": null,
      "metadata": {},
      "outputs": [],
      "source": [
        "x = set()           # utworzenie zbioru pustego za pomocą konstruktora\n",
        "print( type(x) )    # sprawdzenie typu zmiennej x\n",
        "if x :\n",
        "    print(x)\n",
        "else:\n",
        "    print(\"zbiór pusty\")\n"
      ]
    },
    {
      "source": [
        "Ponieważ zbiór - w sensie języka Python - jest obiektem, możemy go jawnie utworzyć za pomocą konstruktora. Parametrem konstruktora musi być inna kolekcja (np. krotka, lista)"
      ],
      "cell_type": "markdown",
      "metadata": {}
    },
    {
      "cell_type": "code",
      "execution_count": 31,
      "metadata": {},
      "outputs": [
        {
          "output_type": "stream",
          "name": "stdout",
          "text": [
            "{1, 2, 3}\n{'b', 'a', 'c'}\n{(1, 2), (2, 1), (3, 0)}\n"
          ]
        }
      ],
      "source": [
        "zbior = set( (1, 2, 3) ) # zewnetrzne nawiasy konstruktor, wewnętrzne - krotka\n",
        "print( zbior )\n",
        "zbior = set( ['a', 'b', 'c'] )\n",
        "print( zbior )\n",
        "zbior = set( [ (1,2), (2,1), (3,0) ] ) # zbiór krotek - punktów na płaszczyźnie\n",
        "print( zbior )"
      ]
    },
    {
      "source": [
        "## Dostęp do elementów zbioru"
      ],
      "cell_type": "markdown",
      "metadata": {}
    },
    {
      "source": [
        "Inaczej jak dla listy, dostęp do elementów zbioru nie może być realizowany za pomocą odwołania do ich indeksów (nawiasy kwadratowe `[]`). Zatem podstawowym sposobem dostępu do elementów zbioru jest jego przeglądanie (iterowanie)"
      ],
      "cell_type": "markdown",
      "metadata": {}
    },
    {
      "cell_type": "code",
      "execution_count": 33,
      "metadata": {},
      "outputs": [
        {
          "output_type": "stream",
          "name": "stdout",
          "text": [
            "x=1, y=2\nx=2, y=1\nx=3, y=0\n"
          ]
        }
      ],
      "source": [
        "zbior = set( [ (1,2), (2,1), (3,0) ] )\n",
        "for (x,y) in zbior:\n",
        "    print( f\"x={x}, y={y}\")"
      ]
    },
    {
      "source": [
        "Możemy sprawdzić, czy określony element należy do zbioru"
      ],
      "cell_type": "markdown",
      "metadata": {}
    },
    {
      "cell_type": "code",
      "execution_count": 36,
      "metadata": {},
      "outputs": [
        {
          "output_type": "stream",
          "name": "stdout",
          "text": [
            "elementu (0,0) nie ma w zbiorze\n"
          ]
        }
      ],
      "source": [
        "zbior = set( [ (1,2), (2,1), (3,0) ] )\n",
        "if (0,0) in zbior:\n",
        "    print(\"znaleziono\")\n",
        "else:\n",
        "    print(f\"elementu (0,0) nie ma w zbiorze\")"
      ]
    },
    {
      "source": [
        "Aktualny rozmiar zbioru otrzymamy, wywołując funkcję `len()`"
      ],
      "cell_type": "markdown",
      "metadata": {}
    },
    {
      "source": [
        "## Operacje na zbiorach"
      ],
      "cell_type": "markdown",
      "metadata": {}
    },
    {
      "source": [
        "### Liczebność zbioru"
      ],
      "cell_type": "markdown",
      "metadata": {}
    },
    {
      "source": [
        "Podobnie jak dla innych struktur (kolekcji) można określić rozmiar krotki za pomocą funkcji `len()`:"
      ],
      "cell_type": "markdown",
      "metadata": {}
    },
    {
      "cell_type": "code",
      "execution_count": 37,
      "metadata": {},
      "outputs": [
        {
          "output_type": "stream",
          "name": "stdout",
          "text": [
            "3\n"
          ]
        }
      ],
      "source": [
        "zbior = set( [ (1,2), (2,1), (3,0) ] )\n",
        "print( len(zbior) )"
      ]
    },
    {
      "source": [
        "### Dodawanie elementów do zbioru"
      ],
      "cell_type": "markdown",
      "metadata": {}
    },
    {
      "cell_type": "code",
      "execution_count": 41,
      "metadata": {},
      "outputs": [
        {
          "output_type": "stream",
          "name": "stdout",
          "text": [
            "{(0, 0), (1, 2), (2, 1), (3, 0)}\n{(1, 2), (2, 1), (0, 0), (1, 1), (3, 0), (2, 2)}\n"
          ]
        }
      ],
      "source": [
        "zbior = set( [ (1,2), (2,1), (3,0) ] )\n",
        "zbior.add( (0,0) ) # dodaje pojedynczy element\n",
        "print( zbior )\n",
        "zbior.update( [(0,0), (1,1), (2,2)]  ) # dodaje wiele elementów\n",
        "print( zbior )"
      ]
    },
    {
      "source": [
        "### Usuwanie elementów ze zbioru"
      ],
      "cell_type": "markdown",
      "metadata": {}
    },
    {
      "cell_type": "code",
      "execution_count": 45,
      "metadata": {},
      "outputs": [
        {
          "output_type": "stream",
          "name": "stdout",
          "text": [
            "{(1, 2), (2, 1), (0, 0), (1, 1), (3, 0), (2, 2)}\n{(1, 2), (2, 1), (3, 0), (2, 2)}\n{(2, 1), (3, 0), (2, 2)}\n"
          ]
        }
      ],
      "source": [
        "zbior = set( [ (1, 2), (2, 1), (0, 0), (1, 1), (3, 0), (2, 2) ] )\n",
        "print( zbior )\n",
        "zbior.remove( (0,0) )   # usunięcie konkretnego elementu\n",
        "print( zbior )\n",
        "zbior.pop()             # usunięcie losowego elementu\n",
        "print( zbior )"
      ]
    },
    {
      "source": [
        "UWAGA: Próba usunięcia konkretnego elementu, którego nie ma w zbiorze, spowoduje błąd. Zatem, przed usunięciem powinniśmy zweryfikować jego przynależenie do zbioru:"
      ],
      "cell_type": "markdown",
      "metadata": {}
    },
    {
      "cell_type": "code",
      "execution_count": 48,
      "metadata": {},
      "outputs": [
        {
          "output_type": "stream",
          "name": "stdout",
          "text": [
            "punktu nie ma w zbiorze\n"
          ]
        }
      ],
      "source": [
        "zbior = set( [ (1, 2), (2, 1), (0, 0), (1, 1), (3, 0), (2, 2) ] )\n",
        "punkt_do_usuniecia = (0,0)\n",
        "zbior.remove( punkt_do_usuniecia )\n",
        "# zbior.remove( punkt_do_usuniecia ) # błąd, elementu nie ma w zbiorze\n",
        "if punkt_do_usuniecia in zbior:\n",
        "    zbior.remove(punkt_do_usuniecia)\n",
        "else:\n",
        "    print(\"punktu nie ma w zbiorze\")"
      ]
    },
    {
      "source": [
        "Wygodniejszym sposobem usunięcia elementu _pod warunkiem, że jest w zbiorze_ jest uzycie metody `discard`"
      ],
      "cell_type": "markdown",
      "metadata": {}
    },
    {
      "cell_type": "code",
      "execution_count": 50,
      "metadata": {},
      "outputs": [],
      "source": [
        "zbior = set( [ (1, 2), (2, 1), (0, 0), (1, 1), (3, 0), (2, 2) ] )\n",
        "punkt_do_usuniecia = (0,0)\n",
        "zbior.remove( punkt_do_usuniecia )\n",
        "zbior.discard( punkt_do_usuniecia ) # elelementu nie ma, ale błąd nie zostanie zgłoszony"
      ]
    },
    {
      "source": [
        "### Operacje teoriomnogościowe"
      ],
      "cell_type": "markdown",
      "metadata": {}
    },
    {
      "source": [
        "Operacje teoriomnogościowe to: suma zbiorów, część wspólna, różnica, różnica symetryczna. Do operacji tych zaliczamy również sprawdzenia, czy zbiory są rozłączne, czy jeden zawiera się w drugim ..."
      ],
      "cell_type": "markdown",
      "metadata": {}
    },
    {
      "cell_type": "code",
      "execution_count": 54,
      "metadata": {},
      "outputs": [
        {
          "output_type": "stream",
          "name": "stdout",
          "text": [
            "{1, 2, 3, 4}\n{1, 2, 3, 4}\n{1, 2, 3, 4, 'b', 'a', 'c'}\n{1, 2, 3, 4, 'b', 'a', 'c'}\n"
          ]
        }
      ],
      "source": [
        "# suma zbiorów\n",
        "z1 = {1, 2, 3}\n",
        "z2 = { 2, 3, 4}\n",
        "z3 = { 'a', 'b', 'c' }\n",
        "suma = z1.union(z2) # suma zbiorów, metoda union\n",
        "print(suma)\n",
        "suma1 = z1 | z2 # suma zbiorów, operator |\n",
        "print(suma1)\n",
        "suma2 = z1 | z3 | z2\n",
        "print(suma2)\n",
        "suma3 = z1.union( z3.union(z2) )\n",
        "print(suma3)"
      ]
    },
    {
      "cell_type": "code",
      "execution_count": 55,
      "metadata": {},
      "outputs": [
        {
          "output_type": "stream",
          "name": "stdout",
          "text": [
            "{2, 3}\n{2, 3}\n{3}\n"
          ]
        }
      ],
      "source": [
        "# iloczyn (część wspólna) zbiorów\n",
        "z1 = {1, 2, 3}\n",
        "z2 = { 2, 3, 4}\n",
        "z3 = { 3, 4, 5 }\n",
        "czesc_wspolna = z1.intersection(z2)\n",
        "print( czesc_wspolna )\n",
        "czesc_wspolna1 = z1 & z2\n",
        "print( czesc_wspolna1 )\n",
        "czesc_wspolna2 = z1 & z3 & z2\n",
        "print( czesc_wspolna2 )"
      ]
    },
    {
      "cell_type": "code",
      "execution_count": 59,
      "metadata": {},
      "outputs": [
        {
          "output_type": "stream",
          "name": "stdout",
          "text": [
            "{1}\n{1}\n{4}\n{4}\n{5}\n"
          ]
        }
      ],
      "source": [
        "# różnica zbiorów\n",
        "z1 = {1, 2, 3}\n",
        "z2 = { 2, 3, 4}\n",
        "z3 = { 3, 4, 5 }\n",
        "print( z1.difference(z2) )\n",
        "print( z1 - z2 )\n",
        "print( z2.difference(z1) )\n",
        "print( z2 - z1 )\n",
        "print( z3 - z1 - z2 )"
      ]
    },
    {
      "cell_type": "code",
      "execution_count": 60,
      "metadata": {},
      "outputs": [
        {
          "output_type": "stream",
          "name": "stdout",
          "text": [
            "{1, 4}\n{1, 4}\n"
          ]
        }
      ],
      "source": [
        "# różnica symetryczna\n",
        "z1 = { 1, 2, 3 }\n",
        "z2 = { 2, 3, 4 }\n",
        "z3 = { 3, 4, 5 }\n",
        "print( z1.symmetric_difference(z2) )\n",
        "print( z1^z2 )"
      ]
    },
    {
      "cell_type": "code",
      "execution_count": 62,
      "metadata": {},
      "outputs": [
        {
          "output_type": "stream",
          "name": "stdout",
          "text": [
            "False\nTrue\n"
          ]
        }
      ],
      "source": [
        "# czy zbiory są rozłączne\n",
        "z1 = { 1, 2, 3 }\n",
        "z2 = { 2, 3, 4 }\n",
        "z3 = { 8, 9, 10 }\n",
        "print( z1.isdisjoint(z2) )\n",
        "print( z1.isdisjoint(z3) )"
      ]
    },
    {
      "cell_type": "code",
      "execution_count": 69,
      "metadata": {},
      "outputs": [
        {
          "output_type": "stream",
          "name": "stdout",
          "text": [
            "True\nTrue\nTrue\nTrue\nFalse\nFalse\nTrue\n"
          ]
        }
      ],
      "source": [
        "# czy zbiór zawiera się w innym\n",
        "z1 = { 1, 2, 3 }\n",
        "z2 = { 2, 3 }\n",
        "z3 = { 8, 9, 10 }\n",
        "print( z2.issubset(z1) )    # metoda issubset\n",
        "print( z2 < z1 )            # operatorowo, silna inkluzja\n",
        "\n",
        "print( z1.issuperset(z2) )  # metoda issuperset\n",
        "print( z1 > z2 )            # operatorowo\n",
        "\n",
        "print( z3.issubset(z1) )\n",
        "\n",
        "print ( z1 < z1 )           # silna inkluzja\n",
        "print (z1 <= z1 )           # słaba inkluzja"
      ]
    },
    {
      "source": [
        "Operacje na zwbiorach występują również w wariantach `_update`. Wywołanie tych metod powoduje zaktualizowanie zbioru pierwszego, na rzecz którego wywołana została określona metoda:"
      ],
      "cell_type": "markdown",
      "metadata": {}
    },
    {
      "cell_type": "code",
      "execution_count": 76,
      "metadata": {},
      "outputs": [
        {
          "output_type": "stream",
          "name": "stdout",
          "text": [
            "{1}\n"
          ]
        }
      ],
      "source": [
        "z = {1, 2, 3}\n",
        "z1 = {2, 3, 4}\n",
        "z.difference_update(z1)\n",
        "print(z)"
      ]
    },
    {
      "cell_type": "code",
      "execution_count": 75,
      "metadata": {},
      "outputs": [
        {
          "output_type": "stream",
          "name": "stdout",
          "text": [
            "{1, 2, 3}\nTrue\n"
          ]
        }
      ],
      "source": [
        "# kopiowanie zbioru\n",
        "z = {1, 2, 3}\n",
        "z1 = z.copy()\n",
        "print( z1 )\n",
        "print( z == z1 )"
      ]
    },
    {
      "cell_type": "code",
      "execution_count": 77,
      "metadata": {},
      "outputs": [
        {
          "output_type": "stream",
          "name": "stdout",
          "text": [
            "{1, 2, 3}\nset()\n"
          ]
        }
      ],
      "source": [
        "# czyszczenie zbioru (usuwanie wszystkich jego elementów)\n",
        "z = {1, 2, 3}\n",
        "print(z)\n",
        "z.clear()\n",
        "print(z)"
      ]
    },
    {
      "source": [
        "## Konwersje"
      ],
      "cell_type": "markdown",
      "metadata": {}
    },
    {
      "cell_type": "code",
      "execution_count": 80,
      "metadata": {},
      "outputs": [
        {
          "output_type": "stream",
          "name": "stdout",
          "text": [
            "{1, 2, 3}\n[1, 2, 3]\n"
          ]
        }
      ],
      "source": [
        "zbior = {1, 2, 3}\n",
        "print(zbior)\n",
        "lista = list(zbior)\n",
        "print(lista)\n"
      ]
    },
    {
      "source": [
        "## Zamrożony zbiór (`frozenset`)\n",
        "\n",
        "Python dostarcza wbudwany typ danych o nazwie `frozenset`, będący wariantem typu `set` ale całkowicie niezmienniczym (_immutable_). Nie tylko nie można zmienić wartości elementów, ale również nie można do takiego zbioru dodawać ani usuwać elementów.\n",
        "\n",
        "Ponieważ `frozenset` jest niezmienniczy, można go wykorzystać do budowy zbioru zbiorów oraz słowników (klucz słownika musi być niezmienniczy)."
      ],
      "cell_type": "markdown",
      "metadata": {}
    },
    {
      "cell_type": "code",
      "execution_count": 90,
      "metadata": {},
      "outputs": [
        {
          "output_type": "error",
          "ename": "TypeError",
          "evalue": "unhashable type: 'set'",
          "traceback": [
            "\u001b[1;31m---------------------------------------------------------------------------\u001b[0m",
            "\u001b[1;31mTypeError\u001b[0m                                 Traceback (most recent call last)",
            "\u001b[1;32m<ipython-input-90-cdb91e1ac6a1>\u001b[0m in \u001b[0;36m<module>\u001b[1;34m\u001b[0m\n\u001b[0;32m      2\u001b[0m \u001b[0mb\u001b[0m \u001b[1;33m=\u001b[0m \u001b[0mset\u001b[0m\u001b[1;33m(\u001b[0m \u001b[1;33m[\u001b[0m\u001b[1;34m'a'\u001b[0m\u001b[1;33m,\u001b[0m \u001b[1;34m'b'\u001b[0m\u001b[1;33m,\u001b[0m \u001b[1;34m'c'\u001b[0m\u001b[1;33m]\u001b[0m \u001b[1;33m)\u001b[0m\u001b[1;33m\u001b[0m\u001b[1;33m\u001b[0m\u001b[0m\n\u001b[0;32m      3\u001b[0m \u001b[0mc\u001b[0m \u001b[1;33m=\u001b[0m \u001b[0mset\u001b[0m\u001b[1;33m(\u001b[0m\u001b[1;33m)\u001b[0m \u001b[1;31m# zbiór pusty\u001b[0m\u001b[1;33m\u001b[0m\u001b[1;33m\u001b[0m\u001b[0m\n\u001b[1;32m----> 4\u001b[1;33m \u001b[0mc\u001b[0m\u001b[1;33m.\u001b[0m\u001b[0madd\u001b[0m\u001b[1;33m(\u001b[0m\u001b[0ma\u001b[0m\u001b[1;33m)\u001b[0m  \u001b[1;31m# błąd, nie można dodać zbioru do zbioru\u001b[0m\u001b[1;33m\u001b[0m\u001b[1;33m\u001b[0m\u001b[0m\n\u001b[0m\u001b[0;32m      5\u001b[0m \u001b[0mc\u001b[0m\u001b[1;33m.\u001b[0m\u001b[0madd\u001b[0m\u001b[1;33m(\u001b[0m\u001b[0mb\u001b[0m\u001b[1;33m)\u001b[0m\u001b[1;33m\u001b[0m\u001b[1;33m\u001b[0m\u001b[0m\n\u001b[0;32m      6\u001b[0m \u001b[0mprint\u001b[0m\u001b[1;33m(\u001b[0m\u001b[0mc\u001b[0m\u001b[1;33m)\u001b[0m\u001b[1;33m\u001b[0m\u001b[1;33m\u001b[0m\u001b[0m\n",
            "\u001b[1;31mTypeError\u001b[0m: unhashable type: 'set'"
          ]
        }
      ],
      "source": [
        "a = set( [1, 2, 3] )\n",
        "b = set( ['a', 'b', 'c'] ) \n",
        "c = set() # zbiór pusty\n",
        "c.add(a)  # błąd, nie można dodać zbioru do zbioru\n",
        "c.add(b)\n",
        "print(c)"
      ]
    },
    {
      "cell_type": "code",
      "execution_count": 91,
      "metadata": {},
      "outputs": [
        {
          "output_type": "stream",
          "name": "stdout",
          "text": [
            "{frozenset({1, 2, 3}), frozenset({'b', 'a', 'c'})}\n<class 'set'>\n"
          ]
        }
      ],
      "source": [
        "a = frozenset( [1, 2, 3] )\n",
        "b = frozenset(['a', 'b', 'c']) \n",
        "c = set() # zbiór pusty\n",
        "c.add(a)\n",
        "c.add(b)\n",
        "print(c)\n",
        "print(type(c))"
      ]
    },
    {
      "source": [
        "## Zadania"
      ],
      "cell_type": "markdown",
      "metadata": {}
    },
    {
      "source": [
        "### Zadanie 1\n",
        "\n",
        "Utwórz zbiory imion A, B, C tak, aby zbiory te zawierały elementy wspólne ale również nie występujące w pozostałych.\n",
        "\n",
        "Następnie utwórz i wypisz:\n",
        "\n",
        "* wszystkie imiona z sumy trzech zbiorów, posortowane malejąco\n",
        "* imiona wystepujące równocześnie we wszystkich trzech zbiorach, posortowane malejąco\n",
        "* imoina, które są w zbiorze A, ale nie ma ich w zbiorze B ani w zbiorze C"
      ],
      "cell_type": "markdown",
      "metadata": {}
    },
    {
      "cell_type": "code",
      "execution_count": null,
      "metadata": {},
      "outputs": [],
      "source": []
    }
  ]
}