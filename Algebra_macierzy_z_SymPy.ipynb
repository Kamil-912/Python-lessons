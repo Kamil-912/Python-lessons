{
  "cells": [
    {
      "cell_type": "markdown",
      "metadata": {
        "colab_type": "text",
        "id": "view-in-github"
      },
      "source": [
        "<a href=\"https://colab.research.google.com/github/URK-KIPLiIS/Python-lessons/blob/main/Algebra_macierzy_z_SymPy.ipynb\" target=\"_parent\"><img src=\"https://colab.research.google.com/assets/colab-badge.svg\" alt=\"Open In Colab\"/></a>"
      ]
    },
    {
      "cell_type": "markdown",
      "metadata": {
        "id": "pBiqbi8QurLK"
      },
      "source": [
        "# Algebra macierzy z SymPy"
      ]
    },
    {
      "cell_type": "markdown",
      "metadata": {
        "id": "y8vXIMG8veNf"
      },
      "source": [
        "* _Krzysztof Molenda_, v. 01\n",
        "\n",
        "Referencje:\n",
        "\n",
        "* https://docs.sympy.org/latest/modules/matrices/matrices.html"
      ]
    },
    {
      "cell_type": "code",
      "execution_count": 2,
      "metadata": {
        "id": "y633qaPFu5A0"
      },
      "outputs": [],
      "source": [
        "from sympy.matrices import Matrix\n",
        "import sympy as sym"
      ]
    },
    {
      "cell_type": "markdown",
      "metadata": {
        "id": "OFw6J2Lvu1zK"
      },
      "source": [
        "## Wektory"
      ]
    },
    {
      "cell_type": "markdown",
      "metadata": {
        "id": "05vsDl23w6yP"
      },
      "source": [
        "Wektory są 1-wymiarowymi macierzami (kolumnowymi lub wierszowymi, w zależności od kontekstu i konieczności użycia)"
      ]
    },
    {
      "cell_type": "code",
      "execution_count": 3,
      "metadata": {
        "colab": {
          "base_uri": "https://localhost:8080/",
          "height": 98
        },
        "id": "Yc2A7u_Lup4z",
        "outputId": "d51ab5c0-48d1-4199-8ef2-978dbad02078"
      },
      "outputs": [
        {
          "data": {
            "text/latex": [
              "$\\displaystyle \\left[\\begin{matrix}1\\\\2\\\\3\\\\4\\end{matrix}\\right]$"
            ],
            "text/plain": [
              "Matrix([\n",
              "[1],\n",
              "[2],\n",
              "[3],\n",
              "[4]])"
            ]
          },
          "execution_count": 3,
          "metadata": {},
          "output_type": "execute_result"
        }
      ],
      "source": [
        "v = Matrix([1, 2, 3, 4])\n",
        "w = Matrix(4 , 1, [1, 2, 3, 4]) # zapis równoważny: liczba wierszy, liczba kolumn, lista wartości\n",
        "w = Matrix( [ [1], [2], [3], [4] ] ) # zapis równoważny\n",
        "v"
      ]
    },
    {
      "cell_type": "code",
      "execution_count": null,
      "metadata": {
        "colab": {
          "base_uri": "https://localhost:8080/",
          "height": 38
        },
        "id": "wk3aZJ0avyLB",
        "outputId": "a4c1af75-f8ea-420b-b449-95c1e5daf023"
      },
      "outputs": [
        {
          "data": {
            "text/latex": [
              "$\\displaystyle \\left[\\begin{matrix}1 & 2 & 3 & 4\\end{matrix}\\right]$"
            ],
            "text/plain": [
              "Matrix([[1, 2, 3, 4]])"
            ]
          },
          "execution_count": 8,
          "metadata": {},
          "output_type": "execute_result"
        }
      ],
      "source": [
        "u = Matrix(1, 4, [1,2,3,4])\n",
        "u"
      ]
    },
    {
      "cell_type": "markdown",
      "metadata": {
        "id": "iHON_NZCxJMv"
      },
      "source": [
        "## Macierze"
      ]
    },
    {
      "cell_type": "markdown",
      "metadata": {
        "id": "wdKCFopPxmFZ"
      },
      "source": [
        "Macierz jest wektorem kolumowym wektorów wierszowych o tej samej długości"
      ]
    },
    {
      "cell_type": "code",
      "execution_count": null,
      "metadata": {
        "colab": {
          "base_uri": "https://localhost:8080/",
          "height": 58
        },
        "id": "x8hIrXmyxLWz",
        "outputId": "1bb79443-bd23-444c-92ec-1fa62f654c61"
      },
      "outputs": [
        {
          "data": {
            "text/latex": [
              "$\\displaystyle \\left[\\begin{matrix}0 & 1 & 2\\\\1 & 2 & 3\\end{matrix}\\right]$"
            ],
            "text/plain": [
              "Matrix([\n",
              "[0, 1, 2],\n",
              "[1, 2, 3]])"
            ]
          },
          "execution_count": 14,
          "metadata": {},
          "output_type": "execute_result"
        }
      ],
      "source": [
        "M = Matrix( [ \n",
        "             [0, 1, 2],\n",
        "             [1, 2, 3]\n",
        "            ]\n",
        "          )\n",
        "M"
      ]
    },
    {
      "cell_type": "code",
      "execution_count": null,
      "metadata": {
        "colab": {
          "base_uri": "https://localhost:8080/",
          "height": 58
        },
        "id": "8KA6-Y2x7yH7",
        "outputId": "a1bcf23b-3565-4ca7-8ada-475899ec82f7"
      },
      "outputs": [
        {
          "data": {
            "text/latex": [
              "$\\displaystyle \\left[\\begin{matrix}0 & 1 & 2\\\\1 & 2 & 3\\end{matrix}\\right]$"
            ],
            "text/plain": [
              "Matrix([\n",
              "[0, 1, 2],\n",
              "[1, 2, 3]])"
            ]
          },
          "execution_count": 15,
          "metadata": {},
          "output_type": "execute_result"
        }
      ],
      "source": [
        "M = Matrix( [ [0, 1, 2], [1, 2, 3] ])\n",
        "M"
      ]
    },
    {
      "cell_type": "code",
      "execution_count": null,
      "metadata": {
        "colab": {
          "base_uri": "https://localhost:8080/",
          "height": 58
        },
        "id": "paGMJ6wsx0bs",
        "outputId": "f49d41ab-0c25-4873-a264-5a4e0e30101f"
      },
      "outputs": [
        {
          "data": {
            "text/latex": [
              "$\\displaystyle \\left[\\begin{matrix}1 & 2 & 3\\\\4 & 5 & 6\\end{matrix}\\right]$"
            ],
            "text/plain": [
              "Matrix([\n",
              "[1, 2, 3],\n",
              "[4, 5, 6]])"
            ]
          },
          "execution_count": 19,
          "metadata": {},
          "output_type": "execute_result"
        }
      ],
      "source": [
        "M1 = Matrix(2, 3, [1, 2, 3, 4, 5, 6])\n",
        "M1"
      ]
    },
    {
      "cell_type": "markdown",
      "metadata": {
        "id": "ODoc2sM6yCH1"
      },
      "source": [
        "Wiersze i kolumny macierzy indeksowane są od `0`"
      ]
    },
    {
      "cell_type": "code",
      "execution_count": null,
      "metadata": {
        "colab": {
          "base_uri": "https://localhost:8080/",
          "height": 37
        },
        "id": "uP5eFk4eyMLn",
        "outputId": "b62ee68f-962a-4a50-d24f-59e28decb0f1"
      },
      "outputs": [
        {
          "data": {
            "text/latex": [
              "$\\displaystyle 1$"
            ],
            "text/plain": [
              "1"
            ]
          },
          "execution_count": 22,
          "metadata": {},
          "output_type": "execute_result"
        }
      ],
      "source": [
        "M1[0,0]"
      ]
    },
    {
      "cell_type": "code",
      "execution_count": null,
      "metadata": {
        "colab": {
          "base_uri": "https://localhost:8080/",
          "height": 37
        },
        "id": "G0F8x2y6x9A4",
        "outputId": "e8fa20bb-a44e-4ef6-ce30-3182f358c785"
      },
      "outputs": [
        {
          "data": {
            "text/latex": [
              "$\\displaystyle 6$"
            ],
            "text/plain": [
              "6"
            ]
          },
          "execution_count": 23,
          "metadata": {},
          "output_type": "execute_result"
        }
      ],
      "source": [
        "M1[1,2]"
      ]
    },
    {
      "cell_type": "code",
      "execution_count": null,
      "metadata": {
        "id": "rQAGnrPhya0o"
      },
      "outputs": [],
      "source": [
        "# M1[2, 3] # IndexError"
      ]
    },
    {
      "cell_type": "markdown",
      "metadata": {
        "id": "Ywu3IWU0Yvgr"
      },
      "source": [
        "Macierz jednostkowa (kwadratowa) tworzona jest za pomocą funkcji `eye(n)` z podaniem jej rozmiaru"
      ]
    },
    {
      "cell_type": "code",
      "execution_count": null,
      "metadata": {
        "colab": {
          "base_uri": "https://localhost:8080/",
          "height": 98
        },
        "id": "009MeLidYd2W",
        "outputId": "c796a98a-6c77-44e8-f19b-f3bcc01d64c0"
      },
      "outputs": [
        {
          "data": {
            "text/latex": [
              "$\\displaystyle \\left[\\begin{matrix}1 & 0 & 0 & 0\\\\0 & 1 & 0 & 0\\\\0 & 0 & 1 & 0\\\\0 & 0 & 0 & 1\\end{matrix}\\right]$"
            ],
            "text/plain": [
              "Matrix([\n",
              "[1, 0, 0, 0],\n",
              "[0, 1, 0, 0],\n",
              "[0, 0, 1, 0],\n",
              "[0, 0, 0, 1]])"
            ]
          },
          "execution_count": 6,
          "metadata": {},
          "output_type": "execute_result"
        }
      ],
      "source": [
        "I = sym.eye(4)\n",
        "I"
      ]
    },
    {
      "cell_type": "markdown",
      "metadata": {
        "id": "c79Gl5vkZwLx"
      },
      "source": [
        "Macierz kwadratową diagonalną utworzymy za pomocą funkcji `diag()` przekazując jako parametry kolejne wartości umieszczane na przekątnej głównej:"
      ]
    },
    {
      "cell_type": "code",
      "execution_count": null,
      "metadata": {
        "colab": {
          "base_uri": "https://localhost:8080/",
          "height": 98
        },
        "id": "C2-tCdAFZ4JC",
        "outputId": "1e6e5929-3ead-43d8-ea7a-65e0abea7a10"
      },
      "outputs": [
        {
          "data": {
            "text/latex": [
              "$\\displaystyle \\left[\\begin{matrix}1 & 0 & 0 & 0\\\\0 & 2 & 0 & 0\\\\0 & 0 & 3 & 0\\\\0 & 0 & 0 & 4\\end{matrix}\\right]$"
            ],
            "text/plain": [
              "Matrix([\n",
              "[1, 0, 0, 0],\n",
              "[0, 2, 0, 0],\n",
              "[0, 0, 3, 0],\n",
              "[0, 0, 0, 4]])"
            ]
          },
          "execution_count": 11,
          "metadata": {},
          "output_type": "execute_result"
        }
      ],
      "source": [
        "D1 = sym.diag(1, 2, 3, 4)\n",
        "D1"
      ]
    },
    {
      "cell_type": "code",
      "execution_count": null,
      "metadata": {
        "colab": {
          "base_uri": "https://localhost:8080/",
          "height": 98
        },
        "id": "aZb8MU2Sahpe",
        "outputId": "94d4efb7-e486-40b9-abd0-17e2bca815e8"
      },
      "outputs": [
        {
          "data": {
            "text/latex": [
              "$\\displaystyle \\left[\\begin{matrix}1 & 0 & 0 & 0\\\\0 & 2 & 0 & 0\\\\0 & 0 & 3 & 0\\\\0 & 0 & 0 & 4\\end{matrix}\\right]$"
            ],
            "text/plain": [
              "Matrix([\n",
              "[1, 0, 0, 0],\n",
              "[0, 2, 0, 0],\n",
              "[0, 0, 3, 0],\n",
              "[0, 0, 0, 4]])"
            ]
          },
          "execution_count": 15,
          "metadata": {},
          "output_type": "execute_result"
        }
      ],
      "source": [
        "D2 = sym.diag(*[1, 2, 3, 4]) # wariant z operatorem rozpakowania listy\n",
        "D2"
      ]
    },
    {
      "cell_type": "markdown",
      "metadata": {
        "id": "XqQ4AFpCZK24"
      },
      "source": [
        "Również za pomocą dedykowanych funkcji możemy tworzyć macierze zerowe i jedynkowe:"
      ]
    },
    {
      "cell_type": "code",
      "execution_count": null,
      "metadata": {
        "colab": {
          "base_uri": "https://localhost:8080/",
          "height": 98
        },
        "id": "qXxD7Ye7ZS1j",
        "outputId": "7bdc10f2-9a35-4e72-a720-5a028f5d6019"
      },
      "outputs": [
        {
          "data": {
            "text/latex": [
              "$\\displaystyle \\left[\\begin{matrix}0 & 0 & 0 & 0\\\\0 & 0 & 0 & 0\\\\0 & 0 & 0 & 0\\\\0 & 0 & 0 & 0\\end{matrix}\\right]$"
            ],
            "text/plain": [
              "Matrix([\n",
              "[0, 0, 0, 0],\n",
              "[0, 0, 0, 0],\n",
              "[0, 0, 0, 0],\n",
              "[0, 0, 0, 0]])"
            ]
          },
          "execution_count": 8,
          "metadata": {},
          "output_type": "execute_result"
        }
      ],
      "source": [
        "Z4 = sym.zeros(4) # macierz kwadratowa 4x4 wypełniona zerami\n",
        "Z4"
      ]
    },
    {
      "cell_type": "code",
      "execution_count": null,
      "metadata": {
        "colab": {
          "base_uri": "https://localhost:8080/",
          "height": 58
        },
        "id": "TF_oZdV6Zio2",
        "outputId": "5556e41b-3dc0-4b9f-95a5-1de0ec97d2d7"
      },
      "outputs": [
        {
          "data": {
            "text/latex": [
              "$\\displaystyle \\left[\\begin{matrix}1 & 1 & 1\\\\1 & 1 & 1\\end{matrix}\\right]$"
            ],
            "text/plain": [
              "Matrix([\n",
              "[1, 1, 1],\n",
              "[1, 1, 1]])"
            ]
          },
          "execution_count": 16,
          "metadata": {},
          "output_type": "execute_result"
        }
      ],
      "source": [
        "Z23 = sym.ones(2,3) # macierz jedynkowa o wymiarach 2x3\n",
        "Z23"
      ]
    },
    {
      "cell_type": "markdown",
      "metadata": {
        "id": "cPYLb5kUY74L"
      },
      "source": [
        "Macierze mogą być inicjowane (wypełniane) za pomocą opracowanego algorytmu (np. w formie funkcji sparametryzowanej indeksami komórki macierzy). Przykładowo, macierz będąca tabliczką mnożenia"
      ]
    },
    {
      "cell_type": "code",
      "execution_count": null,
      "metadata": {
        "colab": {
          "base_uri": "https://localhost:8080/",
          "height": 241
        },
        "id": "Gyf0gXJZbO2l",
        "outputId": "3fddde34-bfd0-4680-faf1-5c4c1916d717"
      },
      "outputs": [
        {
          "data": {
            "text/latex": [
              "$\\displaystyle \\left[\\begin{array}{ccccccccccc}0 & 0 & 0 & 0 & 0 & 0 & 0 & 0 & 0 & 0 & 0\\\\0 & 1 & 2 & 3 & 4 & 5 & 6 & 7 & 8 & 9 & 10\\\\0 & 2 & 4 & 6 & 8 & 10 & 12 & 14 & 16 & 18 & 20\\\\0 & 3 & 6 & 9 & 12 & 15 & 18 & 21 & 24 & 27 & 30\\\\0 & 4 & 8 & 12 & 16 & 20 & 24 & 28 & 32 & 36 & 40\\\\0 & 5 & 10 & 15 & 20 & 25 & 30 & 35 & 40 & 45 & 50\\\\0 & 6 & 12 & 18 & 24 & 30 & 36 & 42 & 48 & 54 & 60\\\\0 & 7 & 14 & 21 & 28 & 35 & 42 & 49 & 56 & 63 & 70\\\\0 & 8 & 16 & 24 & 32 & 40 & 48 & 56 & 64 & 72 & 80\\\\0 & 9 & 18 & 27 & 36 & 45 & 54 & 63 & 72 & 81 & 90\\\\0 & 10 & 20 & 30 & 40 & 50 & 60 & 70 & 80 & 90 & 100\\end{array}\\right]$"
            ],
            "text/plain": [
              "Matrix([\n",
              "[0,  0,  0,  0,  0,  0,  0,  0,  0,  0,   0],\n",
              "[0,  1,  2,  3,  4,  5,  6,  7,  8,  9,  10],\n",
              "[0,  2,  4,  6,  8, 10, 12, 14, 16, 18,  20],\n",
              "[0,  3,  6,  9, 12, 15, 18, 21, 24, 27,  30],\n",
              "[0,  4,  8, 12, 16, 20, 24, 28, 32, 36,  40],\n",
              "[0,  5, 10, 15, 20, 25, 30, 35, 40, 45,  50],\n",
              "[0,  6, 12, 18, 24, 30, 36, 42, 48, 54,  60],\n",
              "[0,  7, 14, 21, 28, 35, 42, 49, 56, 63,  70],\n",
              "[0,  8, 16, 24, 32, 40, 48, 56, 64, 72,  80],\n",
              "[0,  9, 18, 27, 36, 45, 54, 63, 72, 81,  90],\n",
              "[0, 10, 20, 30, 40, 50, 60, 70, 80, 90, 100]])"
            ]
          },
          "execution_count": 18,
          "metadata": {},
          "output_type": "execute_result"
        }
      ],
      "source": [
        "def f(i,j):\n",
        "  return i*j\n",
        "\n",
        "TabliczkaMnozenia = Matrix(11, 11, f)\n",
        "TabliczkaMnozenia"
      ]
    },
    {
      "cell_type": "markdown",
      "metadata": {
        "id": "qLiX8DP4esNV"
      },
      "source": [
        "Oczywiście możemy, dla zwartości zapisu, użyć notacji lambda:"
      ]
    },
    {
      "cell_type": "code",
      "execution_count": null,
      "metadata": {
        "colab": {
          "base_uri": "https://localhost:8080/",
          "height": 241
        },
        "id": "_iMcfSW3ew35",
        "outputId": "b0a112a3-7a74-43be-ce0a-a2fdac242840"
      },
      "outputs": [
        {
          "data": {
            "text/latex": [
              "$\\displaystyle \\left[\\begin{array}{ccccccccccc}0 & 0 & 0 & 0 & 0 & 0 & 0 & 0 & 0 & 0 & 0\\\\0 & 1 & 2 & 3 & 4 & 5 & 6 & 7 & 8 & 9 & 10\\\\0 & 2 & 4 & 6 & 8 & 10 & 12 & 14 & 16 & 18 & 20\\\\0 & 3 & 6 & 9 & 12 & 15 & 18 & 21 & 24 & 27 & 30\\\\0 & 4 & 8 & 12 & 16 & 20 & 24 & 28 & 32 & 36 & 40\\\\0 & 5 & 10 & 15 & 20 & 25 & 30 & 35 & 40 & 45 & 50\\\\0 & 6 & 12 & 18 & 24 & 30 & 36 & 42 & 48 & 54 & 60\\\\0 & 7 & 14 & 21 & 28 & 35 & 42 & 49 & 56 & 63 & 70\\\\0 & 8 & 16 & 24 & 32 & 40 & 48 & 56 & 64 & 72 & 80\\\\0 & 9 & 18 & 27 & 36 & 45 & 54 & 63 & 72 & 81 & 90\\\\0 & 10 & 20 & 30 & 40 & 50 & 60 & 70 & 80 & 90 & 100\\end{array}\\right]$"
            ],
            "text/plain": [
              "Matrix([\n",
              "[0,  0,  0,  0,  0,  0,  0,  0,  0,  0,   0],\n",
              "[0,  1,  2,  3,  4,  5,  6,  7,  8,  9,  10],\n",
              "[0,  2,  4,  6,  8, 10, 12, 14, 16, 18,  20],\n",
              "[0,  3,  6,  9, 12, 15, 18, 21, 24, 27,  30],\n",
              "[0,  4,  8, 12, 16, 20, 24, 28, 32, 36,  40],\n",
              "[0,  5, 10, 15, 20, 25, 30, 35, 40, 45,  50],\n",
              "[0,  6, 12, 18, 24, 30, 36, 42, 48, 54,  60],\n",
              "[0,  7, 14, 21, 28, 35, 42, 49, 56, 63,  70],\n",
              "[0,  8, 16, 24, 32, 40, 48, 56, 64, 72,  80],\n",
              "[0,  9, 18, 27, 36, 45, 54, 63, 72, 81,  90],\n",
              "[0, 10, 20, 30, 40, 50, 60, 70, 80, 90, 100]])"
            ]
          },
          "execution_count": 22,
          "metadata": {},
          "output_type": "execute_result"
        }
      ],
      "source": [
        "TabliczkaMnozenia = Matrix(11, 11, lambda i,j: i*j )\n",
        "TabliczkaMnozenia"
      ]
    },
    {
      "cell_type": "markdown",
      "metadata": {
        "id": "VEbhrr7F8UpC"
      },
      "source": [
        "### Algebra macierzy"
      ]
    },
    {
      "cell_type": "markdown",
      "metadata": {
        "id": "t_DfDz2Z8at7"
      },
      "source": [
        "### Dodawanie, odejmowanie macierzy zgodnych\n",
        "\n",
        "Macierze muszą być tych samych wymiarów"
      ]
    },
    {
      "cell_type": "code",
      "execution_count": null,
      "metadata": {
        "colab": {
          "base_uri": "https://localhost:8080/",
          "height": 58
        },
        "id": "9sZxmvWW8ycR",
        "outputId": "f856d872-9990-4e8f-ec85-0ac81bd7c012"
      },
      "outputs": [
        {
          "data": {
            "text/latex": [
              "$\\displaystyle \\left[\\begin{matrix}0 & -1 & 0\\\\0 & -1 & 11\\end{matrix}\\right]$"
            ],
            "text/plain": [
              "Matrix([\n",
              "[0, -1,  0],\n",
              "[0, -1, 11]])"
            ]
          },
          "execution_count": 26,
          "metadata": {},
          "output_type": "execute_result"
        }
      ],
      "source": [
        "A = Matrix( [ [1, 2, 3], [4, 5, 6] ] )\n",
        "B = Matrix( [ [-1, -2, -3], [-4, -5, 6] ] )\n",
        "C = Matrix( [ [0, 1, 0], [0, 1, 1] ] )\n",
        "D = A + B - C\n",
        "D"
      ]
    },
    {
      "cell_type": "markdown",
      "metadata": {
        "id": "nYMLHNskLWTK"
      },
      "source": [
        "### Mnożenie macierzy przez skalar"
      ]
    },
    {
      "cell_type": "code",
      "execution_count": null,
      "metadata": {
        "colab": {
          "base_uri": "https://localhost:8080/",
          "height": 58
        },
        "id": "0quWG8XXKWe3",
        "outputId": "de390dcf-a66f-4aa2-800a-92023cf7e026"
      },
      "outputs": [
        {
          "data": {
            "text/latex": [
              "$\\displaystyle \\left[\\begin{matrix}\\frac{1}{2} & \\frac{1}{2}\\\\1 & -1\\end{matrix}\\right]$"
            ],
            "text/plain": [
              "Matrix([\n",
              "[1/2, 1/2],\n",
              "[  1,  -1]])"
            ]
          },
          "execution_count": 27,
          "metadata": {},
          "output_type": "execute_result"
        }
      ],
      "source": [
        "A = Matrix( [ [ sym.S(1)/2, sym.S(1)/2 ] , [1, -1] ] )\n",
        "A"
      ]
    },
    {
      "cell_type": "code",
      "execution_count": null,
      "metadata": {
        "colab": {
          "base_uri": "https://localhost:8080/",
          "height": 58
        },
        "id": "CiIEPSXHLtSR",
        "outputId": "afabdb72-7fd3-49c2-9ae6-52dc256d229f"
      },
      "outputs": [
        {
          "data": {
            "text/latex": [
              "$\\displaystyle \\left[\\begin{matrix}1 & 1\\\\2 & -2\\end{matrix}\\right]$"
            ],
            "text/plain": [
              "Matrix([\n",
              "[1,  1],\n",
              "[2, -2]])"
            ]
          },
          "execution_count": 28,
          "metadata": {},
          "output_type": "execute_result"
        }
      ],
      "source": [
        "B = 2 * A\n",
        "B"
      ]
    },
    {
      "cell_type": "markdown",
      "metadata": {
        "id": "aEp15vscLz5-"
      },
      "source": [
        "### Mnożenie macierzy przez macierz\n",
        "\n",
        "Macierze muszą być odpowiednich rozmiarów (liczba kolumn macierzy pierwszej musi być zgodna z liczbą wierszy macierzy drugiej).\n",
        "\n",
        "Do mnożenia macierzy uzywamy operatora `@`"
      ]
    },
    {
      "cell_type": "code",
      "execution_count": null,
      "metadata": {
        "colab": {
          "base_uri": "https://localhost:8080/",
          "height": 213
        },
        "id": "jYPL_mtjMNdB",
        "outputId": "be219f00-7008-400c-923d-e27336f2e897"
      },
      "outputs": [
        {
          "name": "stdout",
          "output_type": "stream",
          "text": [
            "Matrix([[1, 2, 3], [4, 5, 6]]) @ Matrix([[-1, -2], [3, -3], [5, 6]]) = Matrix([[20, 10], [41, 13]])\n"
          ]
        },
        {
          "data": {
            "text/latex": [
              "$\\displaystyle \\left[\\begin{matrix}1 & 2 & 3\\\\4 & 5 & 6\\end{matrix}\\right]$"
            ],
            "text/plain": [
              "Matrix([\n",
              "[1, 2, 3],\n",
              "[4, 5, 6]])"
            ]
          },
          "metadata": {},
          "output_type": "display_data"
        },
        {
          "data": {
            "application/vnd.google.colaboratory.intrinsic+json": {
              "type": "string"
            },
            "text/plain": [
              "'@'"
            ]
          },
          "metadata": {},
          "output_type": "display_data"
        },
        {
          "data": {
            "text/latex": [
              "$\\displaystyle \\left[\\begin{matrix}-1 & -2\\\\3 & -3\\\\5 & 6\\end{matrix}\\right]$"
            ],
            "text/plain": [
              "Matrix([\n",
              "[-1, -2],\n",
              "[ 3, -3],\n",
              "[ 5,  6]])"
            ]
          },
          "metadata": {},
          "output_type": "display_data"
        },
        {
          "data": {
            "application/vnd.google.colaboratory.intrinsic+json": {
              "type": "string"
            },
            "text/plain": [
              "'='"
            ]
          },
          "metadata": {},
          "output_type": "display_data"
        },
        {
          "data": {
            "text/latex": [
              "$\\displaystyle \\left[\\begin{matrix}20 & 10\\\\41 & 13\\end{matrix}\\right]$"
            ],
            "text/plain": [
              "Matrix([\n",
              "[20, 10],\n",
              "[41, 13]])"
            ]
          },
          "metadata": {},
          "output_type": "display_data"
        }
      ],
      "source": [
        "A = Matrix( [ [1, 2, 3], [4, 5, 6] ] )\n",
        "B = Matrix( [ [-1, -2], [3, -3], [5, 6] ] )\n",
        "C = A @ B\n",
        "print(A, \"@\" , B, \"=\", C)\n",
        "display(A, \"@\" , B, \"=\", C)"
      ]
    },
    {
      "cell_type": "markdown",
      "metadata": {
        "id": "xKDfvYLcPExw"
      },
      "source": [
        "### Wyznacznik macierzy\n",
        "\n",
        "Można go obliczyć wyłącznie dla macierzy kwadratowych"
      ]
    },
    {
      "cell_type": "code",
      "execution_count": null,
      "metadata": {
        "colab": {
          "base_uri": "https://localhost:8080/",
          "height": 37
        },
        "id": "O0yfdh7UPMO1",
        "outputId": "5b8525f9-b4f3-45bb-8456-7db480f8f1fa"
      },
      "outputs": [
        {
          "data": {
            "text/latex": [
              "$\\displaystyle -24$"
            ],
            "text/plain": [
              "-24"
            ]
          },
          "execution_count": 49,
          "metadata": {},
          "output_type": "execute_result"
        }
      ],
      "source": [
        "A = Matrix([[1, 5], [5, 1]])\n",
        "A.det()\n",
        "sym.det(A) # zapis równoważny"
      ]
    },
    {
      "cell_type": "markdown",
      "metadata": {
        "id": "UCQIhms4O6MY"
      },
      "source": [
        "### Macierz odwrotna\n",
        "\n",
        "Można ją wyznaczać wyłącznie dla macierzy kwadratowych"
      ]
    },
    {
      "cell_type": "code",
      "execution_count": null,
      "metadata": {
        "colab": {
          "base_uri": "https://localhost:8080/",
          "height": 58
        },
        "id": "onhOf1OYO443",
        "outputId": "5e0641ca-f8cf-450a-c46f-f83d8744f303"
      },
      "outputs": [
        {
          "data": {
            "text/latex": [
              "$\\displaystyle \\left[\\begin{matrix}0 & \\frac{1}{5}\\\\1 & - \\frac{1}{10}\\end{matrix}\\right]$"
            ],
            "text/plain": [
              "Matrix([\n",
              "[0,   1/5],\n",
              "[1, -1/10]])"
            ]
          },
          "execution_count": 46,
          "metadata": {},
          "output_type": "execute_result"
        }
      ],
      "source": [
        "A = Matrix([[sym.S(1) / 2, 1], [5, 0]])\n",
        "A.inv()"
      ]
    },
    {
      "cell_type": "markdown",
      "metadata": {
        "id": "Jc3DQmo1hU-f"
      },
      "source": [
        "### Rząd macierzy"
      ]
    },
    {
      "cell_type": "code",
      "execution_count": null,
      "metadata": {
        "colab": {
          "base_uri": "https://localhost:8080/",
          "height": 95
        },
        "id": "X4l0m2EdhdCc",
        "outputId": "e106f6d1-19db-4bd5-845c-7dab4f0d0cda"
      },
      "outputs": [
        {
          "data": {
            "text/latex": [
              "$\\displaystyle \\left[\\begin{matrix}1 & 2 & 3\\\\4 & 5 & 6\\\\7 & 8 & 9\\end{matrix}\\right]$"
            ],
            "text/plain": [
              "Matrix([\n",
              "[1, 2, 3],\n",
              "[4, 5, 6],\n",
              "[7, 8, 9]])"
            ]
          },
          "metadata": {},
          "output_type": "display_data"
        },
        {
          "data": {
            "text/plain": [
              "2"
            ]
          },
          "execution_count": 87,
          "metadata": {},
          "output_type": "execute_result"
        }
      ],
      "source": [
        "A = Matrix(3, 3, range(1, 10))\n",
        "display(A)\n",
        "A.rank()"
      ]
    },
    {
      "cell_type": "markdown",
      "metadata": {
        "id": "DWgdJlFgpamT"
      },
      "source": [
        "### Minor (i, j)\n",
        "\n",
        "`minor(i, j)` to wyznacznik podmacierzy powstałej w wyniku usunięcia z macierzy danej $i$-tego wiersza oraz $j$-tej kolumny.\n",
        "\n",
        "`minor_submatrix(i,j)` jest metodą zwracającą tę podmacierz"
      ]
    },
    {
      "cell_type": "code",
      "execution_count": null,
      "metadata": {
        "colab": {
          "base_uri": "https://localhost:8080/",
          "height": 159
        },
        "id": "JsfDa6u4px0Z",
        "outputId": "25a0ce33-df11-4924-ffeb-37c95c1877e3"
      },
      "outputs": [
        {
          "data": {
            "text/latex": [
              "$\\displaystyle \\left[\\begin{matrix}1 & 2 & 3\\\\4 & 5 & 6\\\\7 & 8 & 9\\end{matrix}\\right]$"
            ],
            "text/plain": [
              "Matrix([\n",
              "[1, 2, 3],\n",
              "[4, 5, 6],\n",
              "[7, 8, 9]])"
            ]
          },
          "metadata": {},
          "output_type": "display_data"
        },
        {
          "data": {
            "text/latex": [
              "$\\displaystyle -12$"
            ],
            "text/plain": [
              "-12"
            ]
          },
          "metadata": {},
          "output_type": "display_data"
        },
        {
          "data": {
            "text/latex": [
              "$\\displaystyle \\left[\\begin{matrix}1 & 3\\\\7 & 9\\end{matrix}\\right]$"
            ],
            "text/plain": [
              "Matrix([\n",
              "[1, 3],\n",
              "[7, 9]])"
            ]
          },
          "metadata": {},
          "output_type": "display_data"
        },
        {
          "data": {
            "text/latex": [
              "$\\displaystyle -12$"
            ],
            "text/plain": [
              "-12"
            ]
          },
          "execution_count": 96,
          "metadata": {},
          "output_type": "execute_result"
        }
      ],
      "source": [
        "M = Matrix([[1, 2, 3], [4, 5, 6], [7, 8, 9]])\n",
        "display(M)\n",
        "\n",
        "display( M.minor(1, 1) )\n",
        "\n",
        "\n",
        "M11 = M.minor_submatrix(1,1)\n",
        "display(M11)\n",
        "M11.det()"
      ]
    },
    {
      "cell_type": "markdown",
      "metadata": {
        "id": "7KF47dJURMVF"
      },
      "source": [
        "## Ćwiczenie. Macierz odwrotna"
      ]
    },
    {
      "cell_type": "markdown",
      "metadata": {
        "id": "1feFd7kDQiU0"
      },
      "source": [
        "Dla macierzy $A=\\begin{pmatrix}a & 1 & 1\\\\ 1 & a & 1\\\\ 1 & 1 & 2\\end{pmatrix}$\n",
        "\n",
        "1. Oblicz wyznacznik macierzy $A$\n",
        "2. Znajdź wartości $a$ dla których macierz $A$ jest _osobliwa_ (jej wyznacznik jest równy $0$)\n",
        "3. Dla wyznaczonych wartości parametru $a$ nie można obliczać macierzy odwrotnej.\n",
        "4. Wyznacz wzór dla macierzy odwrotnej $A^{-1}$\n",
        "5. Oblicz macierze odwrotne dla $a=2$ oraz $a=3$\n",
        "6. Sprawdź, że dla $a=2$ spełnione są równania $AA^{-1}=I$ oraz $A^{-1}A=I$"
      ]
    },
    {
      "cell_type": "code",
      "execution_count": null,
      "metadata": {
        "colab": {
          "base_uri": "https://localhost:8080/",
          "height": 120
        },
        "id": "srQ2JCEWSMV_",
        "outputId": "5b8fc693-b3d6-4b30-834e-62104645920f"
      },
      "outputs": [
        {
          "data": {
            "text/latex": [
              "$\\displaystyle \\left[\\begin{matrix}a & 1 & 1\\\\1 & a & 1\\\\1 & 1 & 2\\end{matrix}\\right]$"
            ],
            "text/plain": [
              "Matrix([\n",
              "[a, 1, 1],\n",
              "[1, a, 1],\n",
              "[1, 1, 2]])"
            ]
          },
          "metadata": {},
          "output_type": "display_data"
        },
        {
          "data": {
            "text/latex": [
              "$\\displaystyle 2 a^{2} - 2 a$"
            ],
            "text/plain": [
              "2*a**2 - 2*a"
            ]
          },
          "metadata": {},
          "output_type": "display_data"
        },
        {
          "data": {
            "text/latex": [
              "$\\displaystyle \\left\\{0, 1\\right\\}$"
            ],
            "text/plain": [
              "FiniteSet(0, 1)"
            ]
          },
          "execution_count": 60,
          "metadata": {},
          "output_type": "execute_result"
        }
      ],
      "source": [
        "a = sym.Symbol(\"a\") # deklaracja symbolu\n",
        "A = sym.Matrix([[a, 1, 1], [1, a, 1], [1, 1, 2]])\n",
        "display(A)\n",
        "\n",
        "wyznacznik = A.det() # obliczenie wyznacznika\n",
        "display(wyznacznik)\n",
        "\n",
        "sym.solveset(wyznacznik, a) # wyznaczenie zbioru rozwiązań\n"
      ]
    },
    {
      "cell_type": "code",
      "execution_count": null,
      "metadata": {
        "colab": {
          "base_uri": "https://localhost:8080/",
          "height": 80
        },
        "id": "8TBer-gQVjPi",
        "outputId": "193e2231-761f-41ad-97e8-27eac89865e2"
      },
      "outputs": [
        {
          "data": {
            "text/latex": [
              "$\\displaystyle \\left[\\begin{matrix}\\frac{2 a - 1}{2 a^{2} - 2 a} & - \\frac{1}{2 a^{2} - 2 a} & - \\frac{1}{2 a}\\\\- \\frac{1}{2 a^{2} - 2 a} & \\frac{2 a - 1}{2 a^{2} - 2 a} & - \\frac{1}{2 a}\\\\- \\frac{1}{2 a} & - \\frac{1}{2 a} & \\frac{a + 1}{2 a}\\end{matrix}\\right]$"
            ],
            "text/plain": [
              "Matrix([\n",
              "[(2*a - 1)/(2*a**2 - 2*a),        -1/(2*a**2 - 2*a),      -1/(2*a)],\n",
              "[       -1/(2*a**2 - 2*a), (2*a - 1)/(2*a**2 - 2*a),      -1/(2*a)],\n",
              "[                -1/(2*a),                 -1/(2*a), (a + 1)/(2*a)]])"
            ]
          },
          "execution_count": 62,
          "metadata": {},
          "output_type": "execute_result"
        }
      ],
      "source": [
        "A.inv()"
      ]
    },
    {
      "cell_type": "code",
      "execution_count": null,
      "metadata": {
        "colab": {
          "base_uri": "https://localhost:8080/",
          "height": 78
        },
        "id": "hzkvFMjsXRKB",
        "outputId": "97b54f06-8116-4025-bdf2-969f182a46a6"
      },
      "outputs": [
        {
          "data": {
            "text/latex": [
              "$\\displaystyle \\left[\\begin{matrix}\\frac{3}{4} & - \\frac{1}{4} & - \\frac{1}{4}\\\\- \\frac{1}{4} & \\frac{3}{4} & - \\frac{1}{4}\\\\- \\frac{1}{4} & - \\frac{1}{4} & \\frac{3}{4}\\end{matrix}\\right]$"
            ],
            "text/plain": [
              "Matrix([\n",
              "[ 3/4, -1/4, -1/4],\n",
              "[-1/4,  3/4, -1/4],\n",
              "[-1/4, -1/4,  3/4]])"
            ]
          },
          "execution_count": 63,
          "metadata": {},
          "output_type": "execute_result"
        }
      ],
      "source": [
        "A.subs({a: 2}).inv() # subs = zastąp"
      ]
    },
    {
      "cell_type": "code",
      "execution_count": null,
      "metadata": {
        "colab": {
          "base_uri": "https://localhost:8080/",
          "height": 78
        },
        "id": "bgmyQ7TWXfGX",
        "outputId": "1801aee9-bde8-43d2-8a28-84498cac91f7"
      },
      "outputs": [
        {
          "data": {
            "text/latex": [
              "$\\displaystyle \\left[\\begin{matrix}\\frac{5}{12} & - \\frac{1}{12} & - \\frac{1}{6}\\\\- \\frac{1}{12} & \\frac{5}{12} & - \\frac{1}{6}\\\\- \\frac{1}{6} & - \\frac{1}{6} & \\frac{2}{3}\\end{matrix}\\right]$"
            ],
            "text/plain": [
              "Matrix([\n",
              "[ 5/12, -1/12, -1/6],\n",
              "[-1/12,  5/12, -1/6],\n",
              "[ -1/6,  -1/6,  2/3]])"
            ]
          },
          "execution_count": 64,
          "metadata": {},
          "output_type": "execute_result"
        }
      ],
      "source": [
        "A.subs({a: 3}).inv()"
      ]
    },
    {
      "cell_type": "code",
      "execution_count": null,
      "metadata": {
        "colab": {
          "base_uri": "https://localhost:8080/",
          "height": 139
        },
        "id": "bxn_U3rXY_WO",
        "outputId": "49ff1d0c-bd0e-470f-fff8-3a78e4780b14"
      },
      "outputs": [
        {
          "data": {
            "text/latex": [
              "$\\displaystyle \\left[\\begin{matrix}1 & 0 & 0\\\\0 & 1 & 0\\\\0 & 0 & 1\\end{matrix}\\right]$"
            ],
            "text/plain": [
              "Matrix([\n",
              "[1, 0, 0],\n",
              "[0, 1, 0],\n",
              "[0, 0, 1]])"
            ]
          },
          "metadata": {},
          "output_type": "display_data"
        },
        {
          "data": {
            "text/latex": [
              "$\\displaystyle \\left[\\begin{matrix}1 & 0 & 0\\\\0 & 1 & 0\\\\0 & 0 & 1\\end{matrix}\\right]$"
            ],
            "text/plain": [
              "Matrix([\n",
              "[1, 0, 0],\n",
              "[0, 1, 0],\n",
              "[0, 0, 1]])"
            ]
          },
          "metadata": {},
          "output_type": "display_data"
        }
      ],
      "source": [
        "A2 = A.subs({a:2})\n",
        "display( A2 @ A2.inv() )\n",
        "display( A2.inv() @ A2 )"
      ]
    },
    {
      "cell_type": "markdown",
      "metadata": {
        "id": "3A8Sc6z9Zbm2"
      },
      "source": [
        "## Ćwiczenie. Układ równań Cramera"
      ]
    },
    {
      "cell_type": "markdown",
      "metadata": {
        "id": "K6dPmGFSZkIb"
      },
      "source": [
        "Rozwiąż układ równań\n",
        "$$\n",
        "\\begin{split}\n",
        "    \\begin{array}\n",
        "        a x + 2y = 3\\\\\n",
        "        3x + y + 2z = 4\\\\\n",
        "        - y + z = 1\\\\\n",
        "    \\end{array}\n",
        "\\end{split}\n",
        "$$"
      ]
    },
    {
      "cell_type": "markdown",
      "metadata": {
        "id": "dESwc6f5bLG6"
      },
      "source": [
        "Zapisujemy równanie w formie macierzowej: $AX=b$, gdzie $A$ jest macierzą współczynników, $X$ wektorem niewiadomych oraz $b$ wektorem wyrazów wolnych"
      ]
    },
    {
      "cell_type": "code",
      "execution_count": null,
      "metadata": {
        "colab": {
          "base_uri": "https://localhost:8080/",
          "height": 261
        },
        "id": "cCaV8_bjZsBE",
        "outputId": "19614ce9-66ae-43ef-af16-0e568352f377"
      },
      "outputs": [
        {
          "data": {
            "text/latex": [
              "$\\displaystyle \\left[\\begin{matrix}1 & 2 & 0\\\\3 & 1 & 2\\\\0 & -1 & 1\\end{matrix}\\right]$"
            ],
            "text/plain": [
              "Matrix([\n",
              "[1,  2, 0],\n",
              "[3,  1, 2],\n",
              "[0, -1, 1]])"
            ]
          },
          "metadata": {},
          "output_type": "display_data"
        },
        {
          "data": {
            "text/latex": [
              "$\\displaystyle \\left[\\begin{matrix}3\\\\4\\\\1\\end{matrix}\\right]$"
            ],
            "text/plain": [
              "Matrix([\n",
              "[3],\n",
              "[4],\n",
              "[1]])"
            ]
          },
          "metadata": {},
          "output_type": "display_data"
        },
        {
          "data": {
            "text/latex": [
              "$\\displaystyle \\left[\\begin{matrix}x\\\\y\\\\z\\end{matrix}\\right]$"
            ],
            "text/plain": [
              "Matrix([\n",
              "[x],\n",
              "[y],\n",
              "[z]])"
            ]
          },
          "metadata": {},
          "output_type": "display_data"
        },
        {
          "data": {
            "text/latex": [
              "$\\displaystyle \\left[\\begin{matrix}x + 2 y\\\\3 x + y + 2 z\\\\- y + z\\end{matrix}\\right]$"
            ],
            "text/plain": [
              "Matrix([\n",
              "[      x + 2*y],\n",
              "[3*x + y + 2*z],\n",
              "[       -y + z]])"
            ]
          },
          "metadata": {},
          "output_type": "display_data"
        }
      ],
      "source": [
        "# definiowanie zapisu macierzowego\n",
        "A = Matrix([[1, 2, 0], [3, 1, 2], [0, -1, 1]])\n",
        "display(A)\n",
        "\n",
        "b = Matrix([3, 4, 1])\n",
        "display(b)\n",
        "\n",
        "x, y, z = sym.symbols(\"x,y,z\")\n",
        "X = Matrix( [x, y, z] )\n",
        "display(X)\n",
        "\n",
        "display( A @ X ) # sprawdzenie"
      ]
    },
    {
      "cell_type": "code",
      "execution_count": null,
      "metadata": {
        "colab": {
          "base_uri": "https://localhost:8080/",
          "height": 99
        },
        "id": "bIhs4hvlh5_f",
        "outputId": "541aeff4-4ae1-4264-cbd9-a9a5d3ddffcb"
      },
      "outputs": [
        {
          "data": {
            "text/latex": [
              "$\\displaystyle -3$"
            ],
            "text/plain": [
              "-3"
            ]
          },
          "metadata": {},
          "output_type": "display_data"
        },
        {
          "data": {
            "text/latex": [
              "$\\displaystyle \\left[\\begin{matrix}- \\frac{5}{3}\\\\\\frac{7}{3}\\\\\\frac{10}{3}\\end{matrix}\\right]$"
            ],
            "text/plain": [
              "Matrix([\n",
              "[-5/3],\n",
              "[ 7/3],\n",
              "[10/3]])"
            ]
          },
          "execution_count": 89,
          "metadata": {},
          "output_type": "execute_result"
        }
      ],
      "source": [
        "# Sprawdzamy, czy układ ma rozwiązania (niezerowy wyznacznik)\n",
        "display( A.det() )"
      ]
    },
    {
      "cell_type": "code",
      "execution_count": null,
      "metadata": {
        "colab": {
          "base_uri": "https://localhost:8080/",
          "height": 78
        },
        "id": "AqQQnYOkiEo3",
        "outputId": "299c70e5-1a58-42cf-f1e7-57bb49e6762f"
      },
      "outputs": [
        {
          "data": {
            "text/latex": [
              "$\\displaystyle \\left[\\begin{matrix}- \\frac{5}{3}\\\\\\frac{7}{3}\\\\\\frac{10}{3}\\end{matrix}\\right]$"
            ],
            "text/plain": [
              "Matrix([\n",
              "[-5/3],\n",
              "[ 7/3],\n",
              "[10/3]])"
            ]
          },
          "execution_count": 90,
          "metadata": {},
          "output_type": "execute_result"
        }
      ],
      "source": [
        "# Wyznaczamy rozwiązanie metodą macierzy odwrotnej\n",
        "X = A.inv() @ b\n",
        "X"
      ]
    },
    {
      "cell_type": "markdown",
      "metadata": {
        "id": "Bxvzpl1WtdMF"
      },
      "source": [
        "## Ćwiczenie. Układ równań (tw. Kroneckera-Capellego)"
      ]
    },
    {
      "cell_type": "markdown",
      "metadata": {
        "id": "aLCTd3yc57PS"
      },
      "source": [
        "Rozwiąż układ równań:\n",
        "\n",
        "$$\n",
        "\\begin{split}\n",
        "          \\begin{array}{l}\n",
        "              x_1 + x_2 - x_3 + x_4 = 1\\\\\n",
        "              2x_1 + 2x_2 - 2x_3 + 2x_4 = 2\\\\\n",
        "              x_1 + x_2 + x_3 - x_4 = 2\\\\\n",
        "              3x_1 + 3x_2 + x_3 - x_4 = 5\n",
        "          \\end{array}\n",
        "      \\end{split}\n",
        "$$"
      ]
    },
    {
      "cell_type": "markdown",
      "metadata": {
        "id": "lR3Ltr3gzfmE"
      },
      "source": [
        "Defniujemy macierzową postać układu równań: $A$ - macierz współczynników, $b$ - wektor wyrazów wolnych"
      ]
    },
    {
      "cell_type": "code",
      "execution_count": null,
      "metadata": {
        "colab": {
          "base_uri": "https://localhost:8080/",
          "height": 98
        },
        "id": "RHrSYSYQtiQr",
        "outputId": "98509489-06f3-4d2d-f07d-604531707e56"
      },
      "outputs": [
        {
          "data": {
            "text/latex": [
              "$\\displaystyle \\left[\\begin{matrix}1 & 1 & -1 & 1\\\\2 & 2 & -2 & 2\\\\1 & 1 & 1 & -1\\\\3 & 3 & 1 & -1\\end{matrix}\\right]$"
            ],
            "text/plain": [
              "Matrix([\n",
              "[1, 1, -1,  1],\n",
              "[2, 2, -2,  2],\n",
              "[1, 1,  1, -1],\n",
              "[3, 3,  1, -1]])"
            ]
          },
          "metadata": {},
          "output_type": "display_data"
        }
      ],
      "source": [
        "A = Matrix( [\n",
        "     [1, 1, -1, 1],\n",
        "     [2, 2, -2, 2],\n",
        "     [1, 1, 1, -1],\n",
        "     [3, 3, 1, -1]\n",
        "])\n",
        "display(A)"
      ]
    },
    {
      "cell_type": "code",
      "execution_count": null,
      "metadata": {
        "colab": {
          "base_uri": "https://localhost:8080/",
          "height": 98
        },
        "id": "Ik6fpK36uCqz",
        "outputId": "64751fed-c43e-4bed-e9c9-9bc2d0970834"
      },
      "outputs": [
        {
          "data": {
            "text/latex": [
              "$\\displaystyle \\left[\\begin{matrix}1\\\\2\\\\2\\\\5\\end{matrix}\\right]$"
            ],
            "text/plain": [
              "Matrix([\n",
              "[1],\n",
              "[2],\n",
              "[2],\n",
              "[5]])"
            ]
          },
          "metadata": {},
          "output_type": "display_data"
        }
      ],
      "source": [
        "b = Matrix([1, 2, 2, 5])\n",
        "display(b)"
      ]
    },
    {
      "cell_type": "markdown",
      "metadata": {
        "id": "JyqqpsBdztWT"
      },
      "source": [
        "Definiujemy macierz rozszerzoną o wektor wyrazów wolnych: $[A |b]$"
      ]
    },
    {
      "cell_type": "code",
      "execution_count": null,
      "metadata": {
        "colab": {
          "base_uri": "https://localhost:8080/",
          "height": 98
        },
        "id": "WwoHF1btuSqR",
        "outputId": "f000019e-2a92-43d7-8fff-b258b27c8dfb"
      },
      "outputs": [
        {
          "data": {
            "text/latex": [
              "$\\displaystyle \\left[\\begin{matrix}1 & 1 & -1 & 1 & 1\\\\2 & 2 & -2 & 2 & 2\\\\1 & 1 & 1 & -1 & 2\\\\3 & 3 & 1 & -1 & 5\\end{matrix}\\right]$"
            ],
            "text/plain": [
              "Matrix([\n",
              "[1, 1, -1,  1, 1],\n",
              "[2, 2, -2,  2, 2],\n",
              "[1, 1,  1, -1, 2],\n",
              "[3, 3,  1, -1, 5]])"
            ]
          },
          "execution_count": 109,
          "metadata": {},
          "output_type": "execute_result"
        }
      ],
      "source": [
        "Ab = A.row_join(b)\n",
        "Ab"
      ]
    },
    {
      "cell_type": "markdown",
      "metadata": {
        "id": "_RlVu9iyzzCn"
      },
      "source": [
        "Sprawdzamy rzędy macierzy $A$ oraz $[A|b]$"
      ]
    },
    {
      "cell_type": "code",
      "execution_count": null,
      "metadata": {
        "colab": {
          "base_uri": "https://localhost:8080/",
          "height": 52
        },
        "id": "Kp8IMAgJwZC4",
        "outputId": "702d4cd1-551a-4978-9168-c2619e7cb5d3"
      },
      "outputs": [
        {
          "data": {
            "text/plain": [
              "2"
            ]
          },
          "metadata": {},
          "output_type": "display_data"
        },
        {
          "data": {
            "text/plain": [
              "2"
            ]
          },
          "metadata": {},
          "output_type": "display_data"
        }
      ],
      "source": [
        "display( A.rank() )\n",
        "display( Ab.rank() )\n"
      ]
    },
    {
      "cell_type": "markdown",
      "metadata": {
        "id": "b-D-wjBV0Bji"
      },
      "source": [
        "Ponieważ $rank(A) = rank([A|b])=2$, więc:\n",
        "\n",
        "* układ ma rozwiązanie (z tw. Kroneckera-Capellego)\n",
        "* układ ma nieskończenie wiele rozwiązań, ponieważ rząd ten jest mniejszy od $4$\n",
        "* możemy te rozwiązania wyznaczyć, odrzucając $4-2=2$ równania z układu (ustalając niezerowy minor rozmiaru $2$)"
      ]
    },
    {
      "cell_type": "code",
      "execution_count": null,
      "metadata": {
        "colab": {
          "base_uri": "https://localhost:8080/",
          "height": 78
        },
        "id": "rf9DK1Gywjox",
        "outputId": "21a20402-139e-4401-cbe5-4c824da42f90"
      },
      "outputs": [
        {
          "data": {
            "text/latex": [
              "$\\displaystyle \\left[\\begin{matrix}1 & 1\\\\3 & 1\\end{matrix}\\right]$"
            ],
            "text/plain": [
              "Matrix([\n",
              "[1, 1],\n",
              "[3, 1]])"
            ]
          },
          "metadata": {},
          "output_type": "display_data"
        },
        {
          "data": {
            "text/latex": [
              "$\\displaystyle -2$"
            ],
            "text/plain": [
              "-2"
            ]
          },
          "execution_count": 111,
          "metadata": {},
          "output_type": "execute_result"
        }
      ],
      "source": [
        "M = A[2:4, 1:3]\n",
        "display(M)\n",
        "M.det()"
      ]
    },
    {
      "cell_type": "markdown",
      "metadata": {
        "id": "P8r-juDb2WEc"
      },
      "source": [
        "Z macierzy $A$ odrzucamy dwa pierwsze wiersze oraz przenosimy kolumnę pierwszą i ostatnią na prawą stronę równania: "
      ]
    },
    {
      "cell_type": "markdown",
      "metadata": {
        "id": "WjYXJYNc2vhP"
      },
      "source": [
        "$\n",
        "\\begin{bmatrix}\n",
        "    1 & 1 \\\\\n",
        "    3 & 1\n",
        "\\end{bmatrix}\n",
        "\\cdot\n",
        "\\begin{bmatrix}\n",
        "    x_2 \\\\\n",
        "    x_3\n",
        "\\end{bmatrix}\n",
        "=\n",
        "\\begin{bmatrix}\n",
        "    2 - x_1 + x_4 \\\\\n",
        "    5 - 3x_1 + x_4\n",
        "\\end{bmatrix}\n",
        "$"
      ]
    },
    {
      "cell_type": "markdown",
      "metadata": {
        "id": "KTu_Gx533E72"
      },
      "source": [
        "Otrzymaliśmy układ Cramera:\n",
        "\n"
      ]
    },
    {
      "cell_type": "code",
      "execution_count": null,
      "metadata": {
        "colab": {
          "base_uri": "https://localhost:8080/",
          "height": 139
        },
        "id": "EdmjTvN72puV",
        "outputId": "5e7adf4b-ef98-4352-a206-d34bdb6b616b"
      },
      "outputs": [
        {
          "data": {
            "text/latex": [
              "$\\displaystyle \\left[\\begin{matrix}1 & 1\\\\3 & 1\\end{matrix}\\right]$"
            ],
            "text/plain": [
              "Matrix([\n",
              "[1, 1],\n",
              "[3, 1]])"
            ]
          },
          "metadata": {},
          "output_type": "display_data"
        },
        {
          "data": {
            "text/latex": [
              "$\\displaystyle \\left[\\begin{matrix}- x_{1} + x_{4} + 2\\\\- 3 x_{1} + x_{4} + 5\\end{matrix}\\right]$"
            ],
            "text/plain": [
              "Matrix([\n",
              "[  -x_1 + x_4 + 2],\n",
              "[-3*x_1 + x_4 + 5]])"
            ]
          },
          "metadata": {},
          "output_type": "display_data"
        },
        {
          "data": {
            "text/latex": [
              "$\\displaystyle \\left[\\begin{matrix}\\frac{3}{2} - x_{1}\\\\x_{4} + \\frac{1}{2}\\end{matrix}\\right]$"
            ],
            "text/plain": [
              "Matrix([\n",
              "[3/2 - x_1],\n",
              "[x_4 + 1/2]])"
            ]
          },
          "execution_count": 115,
          "metadata": {},
          "output_type": "execute_result"
        }
      ],
      "source": [
        "x_1, x_4 = sym.symbols('x_1, x_4')\n",
        "bM = Matrix( [2-x_1+x_4, 5-3*x_1+x_4] )\n",
        "display(M)\n",
        "display(bM)\n",
        "\n",
        "X = M.inv() @ bM\n",
        "X"
      ]
    },
    {
      "cell_type": "markdown",
      "metadata": {
        "id": "2ik-WuZs9YNX"
      },
      "source": [
        "Przyjmując, że $x_1=s, x_4=t$ gdzie $s, t$ są dowolnymi liczbami rzeczywistymi, rozwiązaniem układu jest czwórka liczb:\n",
        "\n",
        "$$\n",
        "\\begin{split}\n",
        "  \\begin{array}{l}\n",
        "    x_1 = s\\\\\n",
        "    x_2 = \\frac{1}{2} - s\\\\\n",
        "    x_3 = \\frac{1}{2} + t\\\\\n",
        "    x_4 = t\n",
        "  \\end{array}\n",
        "\\end{split}\n",
        "$$"
      ]
    },
    {
      "cell_type": "markdown",
      "metadata": {
        "id": "QPR_W570eqgM"
      },
      "source": [
        "---\n",
        "\n",
        "## Zadania"
      ]
    },
    {
      "cell_type": "markdown",
      "metadata": {
        "id": "4bccvxbMeteM"
      },
      "source": [
        "### Zadanie 1\n",
        "\n",
        "Dany jest układ równań:\n",
        "$$\n",
        "\\begin{split}\n",
        "          \\begin{array}{l}\n",
        "              a x + 4y + 2z= 3a\\\\\n",
        "              x + a y = 1\\\\\n",
        "              x + 2y + z = 3\\\\\n",
        "          \\end{array}\n",
        "      \\end{split}\n",
        "$$\n",
        "\n",
        "Dla jakich wartości $a$ ma on dokładnie jedno rozwiązanie? Wyznacz to rozwiązanie (podaj wzory dla $x, y, z$ uzależnione od $a$)"
      ]
    },
    {
      "cell_type": "markdown",
      "metadata": {
        "id": "YPtflzQ9gbvh"
      },
      "source": [
        "### Zadanie 2\n",
        "\n",
        "Dany jest układ równań:\n",
        "$$\n",
        "\\begin{split}\n",
        "   \\begin{array}{l}\n",
        "       a x + 2y = 3\\\\\n",
        "       3x + y + 2z = 4\\\\\n",
        "       - y + z = 1\\\\\n",
        "   \\end{array}\n",
        "\\end{split}\n",
        "$$\n",
        "\n",
        "Dla jakich wartości $a$ ma on dokładnie jedno rozwiązanie? Wyznacz to rozwiązanie (podaj wzory dla $x, y, z$ uzależnione od $a$)"
      ]
    },
    {
      "cell_type": "markdown",
      "metadata": {
        "id": "Ij_c7tiJ-VEK"
      },
      "source": [
        "### Zadanie 3\n",
        "\n",
        "Rozwiąż układ równań:\n",
        "\n",
        "$$\n",
        "\\begin{split}\n",
        "          \\begin{array}{l}\n",
        "              x - 2y - 2z - t + s = -3\\\\\n",
        "              3x-y-6z+2t=1\\\\\n",
        "              2x-y-3z+3s=-3\\\\\n",
        "          \\end{array}\n",
        "      \\end{split}\n",
        "$$"
      ]
    },
    {
      "cell_type": "markdown",
      "metadata": {
        "id": "OgTTc_9s-8Hb"
      },
      "source": [
        "### Zadanie 4\n",
        "\n",
        "Zbadaj, dla jakich wartości $a$ istnieje rozwiązanie układu równań:\n",
        "\n",
        "$$\n",
        "\\begin{split}\n",
        "          \\begin{array}{l}\n",
        "              x + 3y - z = 1\\\\\n",
        "              a^2 x - y + 2z = -a\\\\\n",
        "              3x+y+z=3\\\\\n",
        "          \\end{array}\n",
        "      \\end{split}\n",
        "$$\n",
        "\n",
        "Wyznacz to rozwiązanie."
      ]
    },
    {
      "cell_type": "code",
      "execution_count": null,
      "metadata": {
        "id": "-x481N0fghL5"
      },
      "outputs": [],
      "source": []
    }
  ],
  "metadata": {
    "colab": {
      "authorship_tag": "ABX9TyNQgIMaLcDW4B1mRJWxpfNM",
      "collapsed_sections": [],
      "include_colab_link": true,
      "name": "Algebra macierzy z SymPy.ipynb",
      "provenance": []
    },
    "kernelspec": {
      "display_name": "Python 3",
      "name": "python3"
    },
    "language_info": {
      "codemirror_mode": {
        "name": "ipython",
        "version": 3
      },
      "file_extension": ".py",
      "mimetype": "text/x-python",
      "name": "python",
      "nbconvert_exporter": "python",
      "pygments_lexer": "ipython3",
      "version": "3.11.3"
    }
  },
  "nbformat": 4,
  "nbformat_minor": 0
}
