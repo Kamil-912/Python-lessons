{
  "nbformat": 4,
  "nbformat_minor": 0,
  "metadata": {
    "colab": {
      "name": "Sekwencje.ipynb",
      "provenance": [],
      "collapsed_sections": [
        "QsgB0qufjeBF"
      ],
      "toc_visible": true,
      "include_colab_link": true
    },
    "kernelspec": {
      "name": "python3",
      "display_name": "Python 3"
    },
    "language_info": {
      "name": "python"
    }
  },
  "cells": [
    {
      "cell_type": "markdown",
      "metadata": {
        "id": "view-in-github",
        "colab_type": "text"
      },
      "source": [
        "<a href=\"https://colab.research.google.com/github/URK-KIPLiIS/Python-lessons/blob/main/Sekwencje.ipynb\" target=\"_parent\"><img src=\"https://colab.research.google.com/assets/colab-badge.svg\" alt=\"Open In Colab\"/></a>"
      ]
    },
    {
      "cell_type": "markdown",
      "metadata": {
        "id": "68QeLfyffYzp"
      },
      "source": [
        "# Sekwencje\n",
        "\n",
        "* Krzysztof Molenda, (2021-11-05)\n",
        "\n",
        "---\n",
        "\n",
        "Programy przetwarzają dane, często nawet ich dużą ilość. W pamięci komputera dane te są zorganizwane w formie tzw. _struktur danych_. W języku Python podstawowymi strukturami danych są: listy (ang. _list_), krotki (ang. _tuple_), zbiory (ang. _set_) oraz słowniki (ang. _dictionary_). Są oczywiście dostępne inne, bardziej wyspecjalizowane struktury, jak również programista może we własny sposób organizować dane w pamięci - dostosowany do rozwiązywanego problemu.\n",
        "\n",
        "**Sekwencje (ang. _sequence_)** to ciągi elementów (ang. _item_). Kolejność elementów sekwencji jest ustalona, zaś elementy te są ponumerowane. Do elementów tych możemy się odwoływać za pomocą *indeksów* - i to jest główna cecha sekwencji.\n",
        "\n",
        "Sekwencje mogą być homogeniczne (ich elementy są tego samego typu, np. `string` jest sekwencją znaków i niczego innego) lub niehomogeniczne (np. listy).\n",
        "\n",
        "Sekwencje mogą być niemodyfikowalne (np. `string`, `tuple`) lub zmiennicze (np. `list`).\n",
        "\n",
        "Na sekwencjach można wykonywać pewne operacje (wspólnie definiowane, bez względu na szczegółowy typ sekwencji).\n",
        "\n",
        "---\n"
      ]
    },
    {
      "cell_type": "markdown",
      "metadata": {
        "id": "LL2wMY-LhYSj"
      },
      "source": [
        "## Typy sekwencyjne - ogólne własności"
      ]
    },
    {
      "cell_type": "markdown",
      "metadata": {
        "id": "uXkJkASMhcIT"
      },
      "source": [
        "Podstawowymi typami sekwencyjnymi są:\n",
        "* napisy (ang. `string`, w Pythonie nazywane `str`) - ciągi znaków (niemodyfikowalne)\n",
        "* listy (ang. `list`) - ciągi dowolnych elementów (modyfikowalne)\n",
        "* krotki (ang. `tuple`) - ciągi dowolnych elementów, o określonej liczebności (niemodyfikowalne)\n",
        "\n",
        "Typ zmiennej możemy sprawdzić za pomocą funkcji wbudowanej `type()` lub `isinstance()`.\n",
        "\n",
        "* funkcja `type(nazwa_zmiennej)` zwraca informację o typie zmiennej\n",
        "* funkcja `isinstance( nazwa_zmiennej, typ_obiektu )` zwraca `True` jeśli zmienna jest podanego typu lub `False` w przeciwnym przypadku.\n",
        "\n",
        "Przykłady:"
      ]
    },
    {
      "cell_type": "code",
      "metadata": {
        "colab": {
          "base_uri": "https://localhost:8080/"
        },
        "id": "e6C7SguEqrXj",
        "outputId": "3cfd517c-9f1c-4b92-e924-222548dfefb7"
      },
      "source": [
        "# type(<nazwa_zmiennej>) zwraca typ zmiennej w chwili uruchomienia kodu\n",
        "# isinstance(<nazwa_zmiennej>, <typ>) zwraca True jeśli zmienna jest wskazanego typu\n",
        "\n",
        "napis = \"Ala ma kota\"\n",
        "print( type(napis) )\n",
        "print( isinstance(napis, str))\n",
        "\n",
        "lista = [1, 3, 5, 7]\n",
        "print( type(lista) )\n",
        "print( isinstance(lista, list))\n",
        "\n",
        "krotka = (1, 3, 5, 7)\n",
        "print( type(krotka) )\n",
        "print( isinstance(krotka, tuple))"
      ],
      "execution_count": 1,
      "outputs": [
        {
          "output_type": "stream",
          "name": "stdout",
          "text": [
            "<class 'str'>\n",
            "True\n",
            "<class 'list'>\n",
            "True\n",
            "<class 'tuple'>\n",
            "True\n"
          ]
        }
      ]
    },
    {
      "cell_type": "markdown",
      "metadata": {
        "id": "fiiS-mVEy5Kd"
      },
      "source": [
        "### Indeksy"
      ]
    },
    {
      "cell_type": "markdown",
      "metadata": {
        "id": "4TrRlYfDtUQL"
      },
      "source": [
        "Wspólną cechą wszystkich sekwencji jest możliwość dostępu do określonego elementu na podstawie jego indeksu. Wykorzystywany jest w tym celu tzw. _operator indeksu_ - liczba podana w nawiasach kwadratowych `[]`, wskazująca na pozycję elementu w sekwencji. \n",
        "\n",
        "**⚠ Sekwencje w Pythonie numerowane są od `0`.**\n",
        "\n",
        "Przykładowo, w napisie `\"Ala ma kota!\"` zerowym elementem jest litera `A`, zaś ostatnia litera umieszczona jest na pozycji `11`."
      ]
    },
    {
      "cell_type": "code",
      "metadata": {
        "colab": {
          "base_uri": "https://localhost:8080/"
        },
        "id": "w5ko2Sl_vlLu",
        "outputId": "bdb82684-a76e-43dd-ad8d-7ea534e455ba"
      },
      "source": [
        "napis = \"Ala ma kota!\"\n",
        "print(\"element 0: \", napis[0] )\n",
        "print(\"element 1: \", napis[1] )\n",
        "print(\"element 2: \", napis[2] )\n",
        "print( \"...\")\n",
        "print(\"element 11: \", napis[11] )"
      ],
      "execution_count": 2,
      "outputs": [
        {
          "output_type": "stream",
          "name": "stdout",
          "text": [
            "element 0:  A\n",
            "element 1:  l\n",
            "element 2:  a\n",
            "...\n",
            "element 11:  !\n"
          ]
        }
      ]
    },
    {
      "cell_type": "markdown",
      "metadata": {
        "id": "yUBG2CsCzpYn"
      },
      "source": [
        "Próba odwołania się do elementu o indeksie przekraczającym zakres sekwencji spowoduje błąd typu `IndexError`."
      ]
    },
    {
      "cell_type": "code",
      "metadata": {
        "colab": {
          "base_uri": "https://localhost:8080/",
          "height": 182
        },
        "id": "tVt8Rb9Z08YR",
        "outputId": "94bae9a4-dc96-44cb-f197-84328c15c496"
      },
      "source": [
        "napis = \"Ala ma kota!\"\n",
        "print( napis[12] )"
      ],
      "execution_count": 3,
      "outputs": [
        {
          "output_type": "error",
          "ename": "IndexError",
          "evalue": "ignored",
          "traceback": [
            "\u001b[0;31m---------------------------------------------------------------------------\u001b[0m",
            "\u001b[0;31mIndexError\u001b[0m                                Traceback (most recent call last)",
            "\u001b[0;32m<ipython-input-3-930c639f5801>\u001b[0m in \u001b[0;36m<module>\u001b[0;34m\u001b[0m\n\u001b[1;32m      1\u001b[0m \u001b[0mnapis\u001b[0m \u001b[0;34m=\u001b[0m \u001b[0;34m\"Ala ma kota!\"\u001b[0m\u001b[0;34m\u001b[0m\u001b[0;34m\u001b[0m\u001b[0m\n\u001b[0;32m----> 2\u001b[0;31m \u001b[0mprint\u001b[0m\u001b[0;34m(\u001b[0m \u001b[0mnapis\u001b[0m\u001b[0;34m[\u001b[0m\u001b[0;36m12\u001b[0m\u001b[0;34m]\u001b[0m \u001b[0;34m)\u001b[0m\u001b[0;34m\u001b[0m\u001b[0;34m\u001b[0m\u001b[0m\n\u001b[0m",
            "\u001b[0;31mIndexError\u001b[0m: string index out of range"
          ]
        }
      ]
    },
    {
      "cell_type": "markdown",
      "metadata": {
        "id": "DBtMLhVz1D6l"
      },
      "source": [
        "W języku Python wprowadzono, dla wygody programistów, **indeksowanie ujemne**:\n",
        "* jeśli pozycje sekwencji liczone są od początku - stosujemy indeksy nieujemne, zaczynając od `0`\n",
        "* jeśli pozycje sekwencji liczone są od końca - stosujemy indeksy ujemne, ostatni element ma indeks równy `-1`\n",
        "* nie ma indeksu `-0`, W Pythonie `-0 == 0`, zatem indeks `-0` wskazuje również na początek napisu.\n",
        "\n",
        "Zrozumienie istoty numerowania ujemnego ułatwi poniższy rysunek"
      ]
    },
    {
      "cell_type": "markdown",
      "metadata": {
        "id": "z3K8qXpd5n9o"
      },
      "source": [
        "<img src=\"data:image/png;base64,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\" style=\"cursor:pointer;max-width:100%;\" onclick=\"(function(img){if(img.wnd!=null&&!img.wnd.closed){img.wnd.focus();}else{var r=function(evt){if(evt.data=='ready'&&evt.source==img.wnd){img.wnd.postMessage(decodeURIComponent(img.getAttribute('src')),'*');window.removeEventListener('message',r);}};window.addEventListener('message',r);img.wnd=window.open('https://viewer.diagrams.net/?client=1&page=0&edit=_blank');}})(this);\"/>"
      ]
    },
    {
      "cell_type": "code",
      "metadata": {
        "colab": {
          "base_uri": "https://localhost:8080/",
          "height": 235
        },
        "id": "ZPb9NxeT7Nsf",
        "outputId": "12929894-34d1-4839-e3c7-ee6743d78ec5"
      },
      "source": [
        "napis = \"Ala ma kota!\"\n",
        "print(\"ostatni: \", napis[-1] )\n",
        "print(\"przedostatni: \", napis[-2] )\n",
        "print(\"nieosiągalny: \", napis[-20] )"
      ],
      "execution_count": 4,
      "outputs": [
        {
          "output_type": "stream",
          "name": "stdout",
          "text": [
            "ostatni:  !\n",
            "przedostatni:  a\n"
          ]
        },
        {
          "output_type": "error",
          "ename": "IndexError",
          "evalue": "ignored",
          "traceback": [
            "\u001b[0;31m---------------------------------------------------------------------------\u001b[0m",
            "\u001b[0;31mIndexError\u001b[0m                                Traceback (most recent call last)",
            "\u001b[0;32m<ipython-input-4-75ec66bacf1e>\u001b[0m in \u001b[0;36m<module>\u001b[0;34m\u001b[0m\n\u001b[1;32m      2\u001b[0m \u001b[0mprint\u001b[0m\u001b[0;34m(\u001b[0m\u001b[0;34m\"ostatni: \"\u001b[0m\u001b[0;34m,\u001b[0m \u001b[0mnapis\u001b[0m\u001b[0;34m[\u001b[0m\u001b[0;34m-\u001b[0m\u001b[0;36m1\u001b[0m\u001b[0;34m]\u001b[0m \u001b[0;34m)\u001b[0m\u001b[0;34m\u001b[0m\u001b[0;34m\u001b[0m\u001b[0m\n\u001b[1;32m      3\u001b[0m \u001b[0mprint\u001b[0m\u001b[0;34m(\u001b[0m\u001b[0;34m\"przedostatni: \"\u001b[0m\u001b[0;34m,\u001b[0m \u001b[0mnapis\u001b[0m\u001b[0;34m[\u001b[0m\u001b[0;34m-\u001b[0m\u001b[0;36m2\u001b[0m\u001b[0;34m]\u001b[0m \u001b[0;34m)\u001b[0m\u001b[0;34m\u001b[0m\u001b[0;34m\u001b[0m\u001b[0m\n\u001b[0;32m----> 4\u001b[0;31m \u001b[0mprint\u001b[0m\u001b[0;34m(\u001b[0m\u001b[0;34m\"nieosiągalny: \"\u001b[0m\u001b[0;34m,\u001b[0m \u001b[0mnapis\u001b[0m\u001b[0;34m[\u001b[0m\u001b[0;34m-\u001b[0m\u001b[0;36m20\u001b[0m\u001b[0;34m]\u001b[0m \u001b[0;34m)\u001b[0m\u001b[0;34m\u001b[0m\u001b[0;34m\u001b[0m\u001b[0m\n\u001b[0m",
            "\u001b[0;31mIndexError\u001b[0m: string index out of range"
          ]
        }
      ]
    },
    {
      "cell_type": "markdown",
      "metadata": {
        "id": "AEUEvs6A9KiM"
      },
      "source": [
        "Sekwencje można \"ciąć na kawałki\" za pomocą tzw. mechanizmu fragmentacji (ang. _slicing_)."
      ]
    },
    {
      "cell_type": "markdown",
      "metadata": {
        "id": "CkvMA0VY07kN"
      },
      "source": [
        "### Fragmentacja (_slicing_) sekwencji"
      ]
    },
    {
      "cell_type": "markdown",
      "metadata": {
        "id": "uf9sPkAA1vp_"
      },
      "source": [
        "Z sekwencji można wyodrębniać fragmenty, stosując notację `sekwencja[start : stop : step]`. Parametry `start` oraz `step` są opcjonalne.\n",
        "\n",
        "* Parametr `start` określa początek przetwarzania sekwencji (włącznie)\n",
        "* Parametr `stop` określa koniec sekwencji (**wyłącznie**)\n",
        "* Parametr `step` określa krok, z jakim wyodrębniane będą elementy sekwencji\n",
        "\n",
        "⚠️ **WAŻNE**: parametr `stop` określa indeks końcowy, ale bez jego osiągnięcia. Zatem podając `liczby[2:4]` wyodrębniamy dwa elementy, o indeksach `2` oraz `3` (ale bez elementu o indeksie `4`).\n",
        "\n",
        "⚠️ **WAŻNE**: operator fragmentacji `[ : : ]` **tworzy** nową sekwencję w oparciu o zadaną i \"przepis\" na fragmentację."
      ]
    },
    {
      "cell_type": "code",
      "metadata": {
        "colab": {
          "base_uri": "https://localhost:8080/"
        },
        "id": "6m8NHnZX1LFi",
        "outputId": "d9629b5a-6fec-43d1-b6a5-3c591dbcebdd"
      },
      "source": [
        "liczby = [1, 4, 5, 3, 5, 7, 8, 5]\n",
        "fragment1 = liczby[2]     # element o indeksie 2\n",
        "print(fragment1)\n",
        "fragment2 = liczby[2:4]   # elementy o indeksach od 2 do 3 włącznie\n",
        "print(fragment2)\n",
        "fragment3 = liczby[2:7:2] # elementy o indeksach od 2 do 6 włącznie, z krokiem 2\n",
        "print(fragment3)"
      ],
      "execution_count": 5,
      "outputs": [
        {
          "output_type": "stream",
          "name": "stdout",
          "text": [
            "5\n",
            "[5, 3]\n",
            "[5, 5, 8]\n"
          ]
        }
      ]
    },
    {
      "cell_type": "markdown",
      "metadata": {
        "id": "RkN8Fg1m4pMN"
      },
      "source": [
        "Stosując notację fragmetatorów możemy, w bardzo zwięzły sposób określić wyodrębniane podsekwencje:\n",
        "* `seq[:]` - wszystkie elementy (wykonuje kopię)\n",
        "* `seq[1:]` - elementy od drugiego do ostatniego\n",
        "* `seq[::2]` - co drugi element sekwencji\n",
        "* `seq[::-1]` - sekwencja odwrócona"
      ]
    },
    {
      "cell_type": "code",
      "metadata": {
        "colab": {
          "base_uri": "https://localhost:8080/"
        },
        "id": "TS2KLlxG-HgS",
        "outputId": "9b07dd20-e18a-4901-a015-23837a0b5411"
      },
      "source": [
        "napis = \"Ala ma kota!\"\n",
        "odwrotnie = napis[::-1]\n",
        "print(odwrotnie)"
      ],
      "execution_count": 6,
      "outputs": [
        {
          "output_type": "stream",
          "name": "stdout",
          "text": [
            "!atok am alA\n"
          ]
        }
      ]
    },
    {
      "cell_type": "markdown",
      "metadata": {
        "id": "x1VXWJ2Ym3oW"
      },
      "source": [
        "⚠️ **UWAGA**: stosowanie ujemnego kroku wymaga odwrotnego podania parametrów `start` oraz `stop`.\n",
        "\n",
        "* `sekwencja[high:low:-step]` - startuje od indeksu `high` i zmierza do indeksu `low` (z wykluczeniem) z krokiem `-step`. Warunek: `high > low`\n",
        "* `sekwencja[high::-step]` - startuje od indeksu `high` i z ujemnym krokiem `-step` zmierza do indeksu `0` (do początku)\n",
        "* `sekwencja[:low:-step]` - startuje od ostatniej wartości i zmierza do wartości o indeksie `low` (z jej wykluczeniem) z krokiem ujemnym `-step`"
      ]
    },
    {
      "cell_type": "code",
      "metadata": {
        "colab": {
          "base_uri": "https://localhost:8080/"
        },
        "id": "9y5BTWzinHuR",
        "outputId": "abac559c-0512-44bf-d3a0-0bef6641697e"
      },
      "source": [
        "liczby = [1, 2, 3, 4, 5, 6, 7, 8]\n",
        "print( liczby[6:1:-1] ) # poprawnie\n",
        "print( liczby[2:7:-1] ) # niepoprawnie, wynik pusty"
      ],
      "execution_count": 7,
      "outputs": [
        {
          "output_type": "stream",
          "name": "stdout",
          "text": [
            "[7, 6, 5, 4, 3]\n",
            "[]\n"
          ]
        }
      ]
    },
    {
      "cell_type": "markdown",
      "metadata": {
        "id": "dTZw8TfQnvjF"
      },
      "source": [
        "⚠️ **UWAGA**: nie są weryfikowane parametry `start`, `stop` oraz `step` - w określonych przypadkach po prostu zwracany jest pusty wynik."
      ]
    },
    {
      "cell_type": "markdown",
      "metadata": {
        "id": "Ggtvk6u8sFag"
      },
      "source": [
        "🛈 Ciekawostka: krotka 1-elementowa, aby uniknąć niejednoznaczności, zapisywana jest w nawiasach okrągłych, przy czym jedyny element jest zakończony przecinkiem."
      ]
    },
    {
      "cell_type": "code",
      "metadata": {
        "colab": {
          "base_uri": "https://localhost:8080/"
        },
        "id": "LpfguEQkrk4w",
        "outputId": "46cefe90-48fd-4f1d-8e24-217e572e9742"
      },
      "source": [
        "krotka = (1, 2, 3, 4, 5, 6)\n",
        "print( krotka[::10] ) # wybierz co dziesiąty element"
      ],
      "execution_count": 8,
      "outputs": [
        {
          "output_type": "stream",
          "name": "stdout",
          "text": [
            "(1,)\n"
          ]
        }
      ]
    },
    {
      "cell_type": "markdown",
      "metadata": {
        "id": "Byth8bmm9wPu"
      },
      "source": [
        "## Operacje na sekwencjach"
      ]
    },
    {
      "cell_type": "markdown",
      "metadata": {
        "id": "1cpacpoXg_C-"
      },
      "source": [
        "### Operatory konkatencji i multiplikacji"
      ]
    },
    {
      "cell_type": "markdown",
      "metadata": {
        "id": "N7RauzD-90vx"
      },
      "source": [
        "Sekwencje (a więc listy, krotki, napisy, ...) mogą być łączone ze sobą. Wykorzystywane są w tym celu dwa operatory:\n",
        "* operator `+` do sklejania (konkatenacji)\n",
        "* operator `*` do zwielokrotniania (multiplikacji)\n",
        "\n",
        "Efektem ich działania jest utworzenie nowego obiektu tego samego typu, co argumenty."
      ]
    },
    {
      "cell_type": "code",
      "metadata": {
        "colab": {
          "base_uri": "https://localhost:8080/"
        },
        "id": "v3DLV3Nj-AKW",
        "outputId": "f0cd1801-1fe6-41c5-f9f6-16a2de9257fb"
      },
      "source": [
        "napis1 = \"Ala ma kota!\"\n",
        "napis2 = \"As to Ali pies.\"\n",
        "napis = napis1 + \" \" + napis2\n",
        "print(\"sklejony napis: \", napis)\n",
        "\n",
        "krotka1 = (1, 3, 5)\n",
        "krotka2 = (2, 4)\n",
        "krotka = krotka1 + krotka2\n",
        "print(\"sklejona krotka: \", krotka)\n",
        "\n",
        "lista1 = [1, 3, 5, 6]\n",
        "lista2 = ['a', 'b']\n",
        "lista = lista1 + lista2\n",
        "print(\"sklejona lista: \", lista)"
      ],
      "execution_count": 10,
      "outputs": [
        {
          "output_type": "stream",
          "name": "stdout",
          "text": [
            "sklejony napis:  Ala ma kota! As to Ali pies.\n",
            "sklejona krotka:  (1, 3, 5, 2, 4)\n",
            "sklejona lista:  [1, 3, 5, 6, 'a', 'b']\n"
          ]
        }
      ]
    },
    {
      "cell_type": "code",
      "metadata": {
        "colab": {
          "base_uri": "https://localhost:8080/"
        },
        "id": "ER3Ha5TGdcT3",
        "outputId": "a01f9db4-4e22-4b9c-f9d9-6dfda72aa35a"
      },
      "source": [
        "napis1 = \" Hurra!\"\n",
        "napis = \"Koniec zajęć.\" + napis1*3 \n",
        "print(napis)\n",
        "\n",
        "krotka1 = (1, 0, 0)\n",
        "krotka = 3*krotka1\n",
        "print(krotka)\n",
        "\n",
        "lista1 = [1, 2]\n",
        "lista2 = ['a']\n",
        "lista = 2*(lista1 + 3*lista2)\n",
        "print(lista)"
      ],
      "execution_count": 12,
      "outputs": [
        {
          "output_type": "stream",
          "name": "stdout",
          "text": [
            "Koniec zajęć. Hurra! Hurra! Hurra!\n",
            "(1, 0, 0, 1, 0, 0, 1, 0, 0)\n",
            "[1, 2, 'a', 'a', 'a', 1, 2, 'a', 'a', 'a']\n"
          ]
        }
      ]
    },
    {
      "cell_type": "markdown",
      "metadata": {
        "id": "0LADlv-h96ly"
      },
      "source": [
        "Operatory konkatenacji i multiplikacji nie pozwalają na mieszanie typów. Na przykład próba sklejenia krotki do listy spowoduje błąd."
      ]
    },
    {
      "cell_type": "code",
      "metadata": {
        "colab": {
          "base_uri": "https://localhost:8080/",
          "height": 200
        },
        "id": "bh4ITfBleu3y",
        "outputId": "3273ade6-51bd-4f0a-890b-f55cfc81db50"
      },
      "source": [
        "napis = \"abc\";\n",
        "krotka = ('a', 'b', 'c')\n",
        "lista = ['a', 'b', 'c']\n",
        "\n",
        "sklejka = napis + lista"
      ],
      "execution_count": 13,
      "outputs": [
        {
          "output_type": "error",
          "ename": "TypeError",
          "evalue": "ignored",
          "traceback": [
            "\u001b[0;31m---------------------------------------------------------------------------\u001b[0m",
            "\u001b[0;31mTypeError\u001b[0m                                 Traceback (most recent call last)",
            "\u001b[0;32m<ipython-input-13-609d7bb5078c>\u001b[0m in \u001b[0;36m<module>\u001b[0;34m\u001b[0m\n\u001b[1;32m      3\u001b[0m \u001b[0mlista\u001b[0m \u001b[0;34m=\u001b[0m \u001b[0;34m[\u001b[0m\u001b[0;34m'a'\u001b[0m\u001b[0;34m,\u001b[0m \u001b[0;34m'b'\u001b[0m\u001b[0;34m,\u001b[0m \u001b[0;34m'c'\u001b[0m\u001b[0;34m]\u001b[0m\u001b[0;34m\u001b[0m\u001b[0;34m\u001b[0m\u001b[0m\n\u001b[1;32m      4\u001b[0m \u001b[0;34m\u001b[0m\u001b[0m\n\u001b[0;32m----> 5\u001b[0;31m \u001b[0msklejka\u001b[0m \u001b[0;34m=\u001b[0m \u001b[0mnapis\u001b[0m \u001b[0;34m+\u001b[0m \u001b[0mlista\u001b[0m\u001b[0;34m\u001b[0m\u001b[0;34m\u001b[0m\u001b[0m\n\u001b[0m",
            "\u001b[0;31mTypeError\u001b[0m: can only concatenate str (not \"list\") to str"
          ]
        }
      ]
    },
    {
      "cell_type": "markdown",
      "metadata": {
        "id": "CGK92PM3hFKr"
      },
      "source": [
        "### Standardowe funkcje operujące na **sekwencjach**"
      ]
    },
    {
      "cell_type": "markdown",
      "metadata": {
        "id": "5Bx20ZC3hgX2"
      },
      "source": [
        "### Operator równości `==` i nierówności `!=`"
      ]
    },
    {
      "cell_type": "markdown",
      "metadata": {
        "id": "eb-gsxAahqBQ"
      },
      "source": [
        "Sekwencje można porównywać (sprawdzać, czy są sobie równe) operatorem `==`. W tym przypadku weryfikowane są kolejno warunki:\n",
        "\n",
        "1. czy obie sekwencje są tej samej długości,\n",
        "2. czy odpowiadające sobie elementy są sobie równe"
      ]
    },
    {
      "cell_type": "code",
      "metadata": {
        "colab": {
          "base_uri": "https://localhost:8080/"
        },
        "id": "1IFt4TCKhWad",
        "outputId": "13e29de6-8edb-4435-8810-a59c22afd394"
      },
      "source": [
        "lista1 = [1, 2, 3, 4]\n",
        "lista2 = [1, 2, 3, 4]\n",
        "lista3 = [1, 2, 3]\n",
        "lista4 = [1, 2, 3, 5]\n",
        "print( lista1 == lista2 )\n",
        "print( lista1 == lista3 )\n",
        "print( lista1 == lista4 )"
      ],
      "execution_count": 15,
      "outputs": [
        {
          "output_type": "stream",
          "name": "stdout",
          "text": [
            "True\n",
            "False\n",
            "False\n"
          ]
        }
      ]
    },
    {
      "cell_type": "markdown",
      "metadata": {
        "id": "QsgB0qufjeBF"
      },
      "source": [
        "#### Funkcja `len()`"
      ]
    },
    {
      "cell_type": "markdown",
      "metadata": {
        "id": "lrKUzFJBhMVZ"
      },
      "source": [
        "Sekwencje, jako ciągi elementów, mają określoną długość (liczebność). Do określenia liczby elementów sekwencji służy wbudowana funkcja `len()` (skrót od angielskiego _length_)."
      ]
    },
    {
      "cell_type": "code",
      "metadata": {
        "colab": {
          "base_uri": "https://localhost:8080/"
        },
        "id": "nKeqfUImhNbB",
        "outputId": "3ca4bf36-bbcb-42ba-f8ed-33d3e6a5026f"
      },
      "source": [
        "napis = \"Ala ma kota!\"\n",
        "print( len(napis) )\n",
        "\n",
        "miasta = [\"Kraków\", \"Poznań\", \"Katowice\", \"Gdańsk\"]\n",
        "print( len(miasta) )\n",
        "\n",
        "wektor = (1, 2, 3)\n",
        "print( len(wektor) )"
      ],
      "execution_count": 16,
      "outputs": [
        {
          "output_type": "stream",
          "name": "stdout",
          "text": [
            "12\n",
            "4\n",
            "3\n"
          ]
        }
      ]
    },
    {
      "cell_type": "markdown",
      "metadata": {
        "id": "SeJyUNwHjxfp"
      },
      "source": [
        "#### Operator `in`"
      ]
    },
    {
      "cell_type": "markdown",
      "metadata": {
        "id": "_22rB1JoiMKA"
      },
      "source": [
        "Do sprawdzenia, czy dany element _znajduje się_ w sekwencji, służy operator `in`. Wynikiem jego działania jest wartość logiczna `True` lub `False`. Operator ten można łączyć z operatorem `not`, zatem konstrukcja `not in` oznacza: _nie znajduje się_."
      ]
    },
    {
      "cell_type": "code",
      "metadata": {
        "colab": {
          "base_uri": "https://localhost:8080/"
        },
        "id": "WDE7HAegirEL",
        "outputId": "f0ae3237-2ad4-4b89-c45a-170067d6615d"
      },
      "source": [
        "napis = \"Ala ma kota!\"\n",
        "print( 'a' in napis )\n",
        "print( 'r' in napis )\n",
        "print( 'r' not in napis )\n",
        "print( not 'r' in napis )"
      ],
      "execution_count": 17,
      "outputs": [
        {
          "output_type": "stream",
          "name": "stdout",
          "text": [
            "True\n",
            "False\n",
            "True\n",
            "True\n"
          ]
        }
      ]
    },
    {
      "cell_type": "markdown",
      "metadata": {
        "id": "tIj7TtHejq4G"
      },
      "source": [
        "#### Metoda `.index()`"
      ]
    },
    {
      "cell_type": "markdown",
      "metadata": {
        "id": "YzFC8mRFj2sS"
      },
      "source": [
        "Wszystkie sekwencje \"wyposażone\" są w metodę `sekw.index(e)` zwracającą indeks pierwszego wystąpienia elementu `e` w podanej przed kropką sekwencji `sekw`."
      ]
    },
    {
      "cell_type": "code",
      "metadata": {
        "colab": {
          "base_uri": "https://localhost:8080/"
        },
        "id": "wbt8rLXykb0X",
        "outputId": "e6a1bf23-a78f-4fab-cd23-2301e8c3881a"
      },
      "source": [
        "napis = \"Ala ma kota!\"\n",
        "print(\"pierwsze wystąpienie A:\", napis.index('A') )\n",
        "print(\"pierwsze wystąpienie a:\", napis.index('a') )\n",
        "print(\"pierwsze wystąpienie !:\", napis.index('!') )"
      ],
      "execution_count": 18,
      "outputs": [
        {
          "output_type": "stream",
          "name": "stdout",
          "text": [
            "pierwsze wystąpienie A: 0\n",
            "pierwsze wystąpienie a: 2\n",
            "pierwsze wystąpienie !: 11\n"
          ]
        }
      ]
    },
    {
      "cell_type": "markdown",
      "metadata": {
        "id": "K54DdI-ImZWO"
      },
      "source": [
        " W przypadku braku wskazanego elementu w sekwencji, zwracany jest błąd."
      ]
    },
    {
      "cell_type": "code",
      "metadata": {
        "colab": {
          "base_uri": "https://localhost:8080/",
          "height": 182
        },
        "id": "nELcyYQ1mccF",
        "outputId": "969ba0ef-f288-4df2-b075-c85eea2d2bc7"
      },
      "source": [
        "napis = \"Ala ma kota!\"\n",
        "print( napis.index('r') ) # litery 'r' nie ma w napisie"
      ],
      "execution_count": 19,
      "outputs": [
        {
          "output_type": "error",
          "ename": "ValueError",
          "evalue": "ignored",
          "traceback": [
            "\u001b[0;31m---------------------------------------------------------------------------\u001b[0m",
            "\u001b[0;31mValueError\u001b[0m                                Traceback (most recent call last)",
            "\u001b[0;32m<ipython-input-19-7d3e509fb6a2>\u001b[0m in \u001b[0;36m<module>\u001b[0;34m\u001b[0m\n\u001b[1;32m      1\u001b[0m \u001b[0mnapis\u001b[0m \u001b[0;34m=\u001b[0m \u001b[0;34m\"Ala ma kota!\"\u001b[0m\u001b[0;34m\u001b[0m\u001b[0;34m\u001b[0m\u001b[0m\n\u001b[0;32m----> 2\u001b[0;31m \u001b[0mprint\u001b[0m\u001b[0;34m(\u001b[0m \u001b[0mnapis\u001b[0m\u001b[0;34m.\u001b[0m\u001b[0mindex\u001b[0m\u001b[0;34m(\u001b[0m\u001b[0;34m'r'\u001b[0m\u001b[0;34m)\u001b[0m \u001b[0;34m)\u001b[0m \u001b[0;31m# litery 'r' nie ma w napisie\u001b[0m\u001b[0;34m\u001b[0m\u001b[0;34m\u001b[0m\u001b[0m\n\u001b[0m",
            "\u001b[0;31mValueError\u001b[0m: substring not found"
          ]
        }
      ]
    },
    {
      "cell_type": "markdown",
      "metadata": {
        "id": "X-Ah2lI_mk6M"
      },
      "source": [
        "Metoda `index` może być użyta w rozszerzonym zakresie. Dysponuje dwoma opcjonalnymi parametrami: `start` oraz `stop`. Parametry te służą do zawężania obszaru przeszukiwania - od `start` do `stop` ale bez `stop`.\n",
        "\n",
        "Formalna definicja:\n",
        "\n",
        "```python\n",
        "seq.index( element, start(optional), stop(optional) )\n",
        "```"
      ]
    },
    {
      "cell_type": "code",
      "metadata": {
        "colab": {
          "base_uri": "https://localhost:8080/"
        },
        "id": "bUs5K6K_nSrS",
        "outputId": "fddcaceb-c345-4384-ab3e-643d74668ce6"
      },
      "source": [
        "napisy = [\"aa\", \"bb\", \"cc\", \"dd\", \"aa\", \"aa\", \"aa\", \"dd\", \"ff\", \"cc\"]\n",
        "print( napisy.index(\"aa\", 3, 8) ) # zwraca pierwsze wystąpienie elementu \"aa\" w pod-sekwencji, licząc od indeksu 3 do 8 (bez 8)"
      ],
      "execution_count": 20,
      "outputs": [
        {
          "output_type": "stream",
          "name": "stdout",
          "text": [
            "4\n"
          ]
        }
      ]
    },
    {
      "cell_type": "markdown",
      "metadata": {
        "id": "u_PIDIbhqZ-7"
      },
      "source": [
        "Jeśli nie podano wartości ostatniego parametru `stop`, poszukiwania zaczynają się od indeksu `start` do końca sekwencji."
      ]
    },
    {
      "cell_type": "code",
      "metadata": {
        "colab": {
          "base_uri": "https://localhost:8080/"
        },
        "id": "Bk03w1gKq0TY",
        "outputId": "74f8571f-9649-4d58-d2ef-b2cb2f7d3a5e"
      },
      "source": [
        "napisy = [\"aa\", \"bb\", \"cc\", \"dd\", \"aa\", \"aa\", \"aa\", \"dd\", \"ff\", \"cc\"]\n",
        "print( napisy.index(\"dd\", 4) ) # zwraca pierwsze wystąpienie elementu \"dd\" w pod-sekwencji, licząc od indeksu 4 do końca"
      ],
      "execution_count": 21,
      "outputs": [
        {
          "output_type": "stream",
          "name": "stdout",
          "text": [
            "7\n"
          ]
        }
      ]
    },
    {
      "cell_type": "markdown",
      "metadata": {
        "id": "a0ZFfo4ImaZ2"
      },
      "source": [
        "#### Metoda `.count()`"
      ]
    },
    {
      "cell_type": "markdown",
      "metadata": {
        "id": "3Ap1UkPxmc5M"
      },
      "source": [
        "Dla wszystkich sekwencji możemy zliczać wystąpienie konkretnego elementu `e` metodą `sekwencja.count( e )`."
      ]
    },
    {
      "cell_type": "code",
      "metadata": {
        "colab": {
          "base_uri": "https://localhost:8080/"
        },
        "id": "mlGUyVnFmw-a",
        "outputId": "a26602de-43ed-43ce-b748-b0bf08df66e2"
      },
      "source": [
        "dane = [1, 4, 3, 2, 5, 1, 5, 3, 1, 6, 1, 1, 2, 3, 5]\n",
        "print(\"liczba wystąpień 1: \", dane.count(1))\n",
        "print(\"liczba wystąpień 7: \", dane.count(7))"
      ],
      "execution_count": 22,
      "outputs": [
        {
          "output_type": "stream",
          "name": "stdout",
          "text": [
            "liczba wystąpień 1:  5\n",
            "liczba wystąpień 7:  0\n"
          ]
        }
      ]
    },
    {
      "cell_type": "markdown",
      "metadata": {
        "id": "51jbrnCzwWwE"
      },
      "source": [
        "#### Konwersje sekwencji na inne typy"
      ]
    },
    {
      "cell_type": "markdown",
      "metadata": {
        "id": "5AIGim337oLn"
      },
      "source": [
        "Sekwencje możemy konwertować między sobą, tzn. np. sekencję typu _krotka_ (która jest niemodyfikowalna) możemy zamienić na sekwencję typu _lista_, a dla tej można już zmieniać wartości. Później możemy wykonać konwersję odwroną. Funkcje konwertujące:\n",
        "* `tuple(sekwencja)` - zamienia inną sekwencję na krotkę\n",
        "* `list(sekwencja)` - zamienia inną sekwencję na listę"
      ]
    },
    {
      "cell_type": "code",
      "metadata": {
        "colab": {
          "base_uri": "https://localhost:8080/"
        },
        "id": "jKnfde62wdrL",
        "outputId": "f82b8273-f7c0-482a-8037-629ddbd03036"
      },
      "source": [
        "napis = \"Ala ma kota!\"\n",
        "krotka_liter = tuple(napis) # konwertujemy string na krotkę znaków\n",
        "print(krotka_liter)\n",
        "\n",
        "lista_liter = list(napis) # konwertujemy string na listę znaków\n",
        "print(lista_liter)\n",
        "\n",
        "lista_liter[0] = 'a' # modyfikujemy zerowy element listy\n",
        "print(lista_liter)\n",
        "napis1 = \"\".join(lista_liter) # łączymy elementy listy w string używając separatora pusty znak\n",
        "print(napis1)"
      ],
      "execution_count": 24,
      "outputs": [
        {
          "output_type": "stream",
          "name": "stdout",
          "text": [
            "('A', 'l', 'a', ' ', 'm', 'a', ' ', 'k', 'o', 't', 'a', '!')\n",
            "['A', 'l', 'a', ' ', 'm', 'a', ' ', 'k', 'o', 't', 'a', '!']\n",
            "['a', 'l', 'a', ' ', 'm', 'a', ' ', 'k', 'o', 't', 'a', '!']\n",
            "ala ma kota!\n"
          ]
        }
      ]
    },
    {
      "cell_type": "markdown",
      "metadata": {
        "id": "MK8w-UaGsaj5"
      },
      "source": [
        "#### Inne metody wspólne dla sekwencji"
      ]
    },
    {
      "cell_type": "markdown",
      "metadata": {
        "id": "dsuFH-DYtBRN"
      },
      "source": [
        "Jeśli elementy sekwencji są **porównywalne** (można ustalić, który element jest większy, a który mniejszy), można zastosować funkcje wbudowane `min()` oraz `max()`.\n",
        "\n",
        "W przypadku napisów, porządek nazywany jest _leksykograficznym_ (encyklopedycznym)."
      ]
    },
    {
      "cell_type": "code",
      "metadata": {
        "colab": {
          "base_uri": "https://localhost:8080/"
        },
        "id": "FEQgzcm8sfZ1",
        "outputId": "d05a6008-d475-4586-98d3-77ef3b6c27fa"
      },
      "source": [
        "napisy = [\"aa\", \"bb\", \"cc\", \"dd\", \"aa\", \"aa\", \"aa\", \"dd\", \"ff\", \"cc\"]\n",
        "print(\"min:\", min(napisy))\n",
        "print(\"max:\", max(napisy))\n",
        "liczby = [1, 4, 5, 3, 5, 7, 8, 5]\n",
        "print(\"min:\", min(liczby))\n",
        "print(\"max:\", max(liczby))\n"
      ],
      "execution_count": 25,
      "outputs": [
        {
          "output_type": "stream",
          "name": "stdout",
          "text": [
            "min: aa\n",
            "max: ff\n",
            "min: 1\n",
            "max: 8\n"
          ]
        }
      ]
    },
    {
      "cell_type": "code",
      "metadata": {
        "colab": {
          "base_uri": "https://localhost:8080/",
          "height": 182
        },
        "id": "lP8uUKLOtWng",
        "outputId": "120e6a06-6653-4079-fe97-e433e859bc68"
      },
      "source": [
        "lista_niehomogeniczna = [1, 2, 'a', \"ala\", [1, 2], []]\n",
        "print( max(lista_niehomogeniczna) )"
      ],
      "execution_count": 26,
      "outputs": [
        {
          "output_type": "error",
          "ename": "TypeError",
          "evalue": "ignored",
          "traceback": [
            "\u001b[0;31m---------------------------------------------------------------------------\u001b[0m",
            "\u001b[0;31mTypeError\u001b[0m                                 Traceback (most recent call last)",
            "\u001b[0;32m<ipython-input-26-60e1d7d855fe>\u001b[0m in \u001b[0;36m<module>\u001b[0;34m\u001b[0m\n\u001b[1;32m      1\u001b[0m \u001b[0mlista_niehomogeniczna\u001b[0m \u001b[0;34m=\u001b[0m \u001b[0;34m[\u001b[0m\u001b[0;36m1\u001b[0m\u001b[0;34m,\u001b[0m \u001b[0;36m2\u001b[0m\u001b[0;34m,\u001b[0m \u001b[0;34m'a'\u001b[0m\u001b[0;34m,\u001b[0m \u001b[0;34m\"ala\"\u001b[0m\u001b[0;34m,\u001b[0m \u001b[0;34m[\u001b[0m\u001b[0;36m1\u001b[0m\u001b[0;34m,\u001b[0m \u001b[0;36m2\u001b[0m\u001b[0;34m]\u001b[0m\u001b[0;34m,\u001b[0m \u001b[0;34m[\u001b[0m\u001b[0;34m]\u001b[0m\u001b[0;34m]\u001b[0m\u001b[0;34m\u001b[0m\u001b[0;34m\u001b[0m\u001b[0m\n\u001b[0;32m----> 2\u001b[0;31m \u001b[0mprint\u001b[0m\u001b[0;34m(\u001b[0m \u001b[0mmax\u001b[0m\u001b[0;34m(\u001b[0m\u001b[0mlista_niehomogeniczna\u001b[0m\u001b[0;34m)\u001b[0m \u001b[0;34m)\u001b[0m\u001b[0;34m\u001b[0m\u001b[0;34m\u001b[0m\u001b[0m\n\u001b[0m",
            "\u001b[0;31mTypeError\u001b[0m: '>' not supported between instances of 'str' and 'int'"
          ]
        }
      ]
    },
    {
      "cell_type": "markdown",
      "metadata": {
        "id": "gmrIAzImvjXB"
      },
      "source": [
        "W przypadku, gdy elementami sekwencji są liczby, możemy obliczyć sumę tych elementów za pomocą wbudowanej funkcji `sum(sekwencja_liczb)`"
      ]
    },
    {
      "cell_type": "code",
      "metadata": {
        "colab": {
          "base_uri": "https://localhost:8080/"
        },
        "id": "DTDnCVlouI0h",
        "outputId": "0dcbc2cb-75e7-42d3-d508-63c41f67886b"
      },
      "source": [
        "liczby = [1, 4, 5, 3, 5, 7, 8, 5]\n",
        "print(\"suma = \", sum(liczby) )\n",
        "print(\"średnia arytmetyczna = \", sum(liczby)/len(liczby) )"
      ],
      "execution_count": 27,
      "outputs": [
        {
          "output_type": "stream",
          "name": "stdout",
          "text": [
            "suma =  38\n",
            "średnia arytmetyczna =  4.75\n"
          ]
        }
      ]
    },
    {
      "cell_type": "markdown",
      "metadata": {
        "id": "VWZHCyeuy8qt"
      },
      "source": [
        "### Modyfikowalność i niezmienniczość"
      ]
    },
    {
      "cell_type": "markdown",
      "metadata": {
        "id": "QHcw1O7Mr1bP"
      },
      "source": [
        "Sekwencje (ale również ogólnie: obiekty) mogą być **niemodyfikowalne** (ang. _immutable_) lub mogą zmieniać swoją zawartość (ang. _mutable_). Na przykład napisy oraz krotki są niemodyfikowalne - ich stan, po utworzeniu, nie może ulec zmianie. Zawartość listy można natomiast zmieniać."
      ]
    },
    {
      "cell_type": "markdown",
      "metadata": {
        "id": "5BMIo3XCwqlc"
      },
      "source": [
        "Na przykład próba modyfikacji dużej litery `A` w napisie `Ala ma kota` na literę małą `a` zgłosi błąd z komentarzem `TypeError: 'str' object does not support item assignment`."
      ]
    },
    {
      "cell_type": "code",
      "metadata": {
        "colab": {
          "base_uri": "https://localhost:8080/",
          "height": 217
        },
        "id": "YVjl8bsNwZ9v",
        "outputId": "ec754351-7533-4e46-e096-00a648f5433d"
      },
      "source": [
        "napis = \"Ala ma kota\"\n",
        "print( napis[0] )\n",
        "napis[0] = 'a'"
      ],
      "execution_count": 28,
      "outputs": [
        {
          "output_type": "stream",
          "name": "stdout",
          "text": [
            "A\n"
          ]
        },
        {
          "output_type": "error",
          "ename": "TypeError",
          "evalue": "ignored",
          "traceback": [
            "\u001b[0;31m---------------------------------------------------------------------------\u001b[0m",
            "\u001b[0;31mTypeError\u001b[0m                                 Traceback (most recent call last)",
            "\u001b[0;32m<ipython-input-28-d8d11b7b0496>\u001b[0m in \u001b[0;36m<module>\u001b[0;34m\u001b[0m\n\u001b[1;32m      1\u001b[0m \u001b[0mnapis\u001b[0m \u001b[0;34m=\u001b[0m \u001b[0;34m\"Ala ma kota\"\u001b[0m\u001b[0;34m\u001b[0m\u001b[0;34m\u001b[0m\u001b[0m\n\u001b[1;32m      2\u001b[0m \u001b[0mprint\u001b[0m\u001b[0;34m(\u001b[0m \u001b[0mnapis\u001b[0m\u001b[0;34m[\u001b[0m\u001b[0;36m0\u001b[0m\u001b[0;34m]\u001b[0m \u001b[0;34m)\u001b[0m\u001b[0;34m\u001b[0m\u001b[0;34m\u001b[0m\u001b[0m\n\u001b[0;32m----> 3\u001b[0;31m \u001b[0mnapis\u001b[0m\u001b[0;34m[\u001b[0m\u001b[0;36m0\u001b[0m\u001b[0;34m]\u001b[0m \u001b[0;34m=\u001b[0m \u001b[0;34m'a'\u001b[0m\u001b[0;34m\u001b[0m\u001b[0;34m\u001b[0m\u001b[0m\n\u001b[0m",
            "\u001b[0;31mTypeError\u001b[0m: 'str' object does not support item assignment"
          ]
        }
      ]
    },
    {
      "cell_type": "markdown",
      "metadata": {
        "id": "tyxrkRHnw-o6"
      },
      "source": [
        "Podobna sytuacja wystąpi w przypadku próby modyfikacji krotki (błąd: `TypeError: 'tuple' object does not support item assignment`)"
      ]
    },
    {
      "cell_type": "code",
      "metadata": {
        "colab": {
          "base_uri": "https://localhost:8080/",
          "height": 217
        },
        "id": "dnXwqrlVx9nS",
        "outputId": "9e1e1010-27f9-408b-cd5e-6f1d9feac291"
      },
      "source": [
        "krotka = (1, 3, 5, 7)\n",
        "print( krotka[2] )\n",
        "krotka[2] = 4"
      ],
      "execution_count": 29,
      "outputs": [
        {
          "output_type": "stream",
          "name": "stdout",
          "text": [
            "5\n"
          ]
        },
        {
          "output_type": "error",
          "ename": "TypeError",
          "evalue": "ignored",
          "traceback": [
            "\u001b[0;31m---------------------------------------------------------------------------\u001b[0m",
            "\u001b[0;31mTypeError\u001b[0m                                 Traceback (most recent call last)",
            "\u001b[0;32m<ipython-input-29-48b01182e1de>\u001b[0m in \u001b[0;36m<module>\u001b[0;34m\u001b[0m\n\u001b[1;32m      1\u001b[0m \u001b[0mkrotka\u001b[0m \u001b[0;34m=\u001b[0m \u001b[0;34m(\u001b[0m\u001b[0;36m1\u001b[0m\u001b[0;34m,\u001b[0m \u001b[0;36m3\u001b[0m\u001b[0;34m,\u001b[0m \u001b[0;36m5\u001b[0m\u001b[0;34m,\u001b[0m \u001b[0;36m7\u001b[0m\u001b[0;34m)\u001b[0m\u001b[0;34m\u001b[0m\u001b[0;34m\u001b[0m\u001b[0m\n\u001b[1;32m      2\u001b[0m \u001b[0mprint\u001b[0m\u001b[0;34m(\u001b[0m \u001b[0mkrotka\u001b[0m\u001b[0;34m[\u001b[0m\u001b[0;36m2\u001b[0m\u001b[0;34m]\u001b[0m \u001b[0;34m)\u001b[0m\u001b[0;34m\u001b[0m\u001b[0;34m\u001b[0m\u001b[0m\n\u001b[0;32m----> 3\u001b[0;31m \u001b[0mkrotka\u001b[0m\u001b[0;34m[\u001b[0m\u001b[0;36m2\u001b[0m\u001b[0;34m]\u001b[0m \u001b[0;34m=\u001b[0m \u001b[0;36m4\u001b[0m\u001b[0;34m\u001b[0m\u001b[0;34m\u001b[0m\u001b[0m\n\u001b[0m",
            "\u001b[0;31mTypeError\u001b[0m: 'tuple' object does not support item assignment"
          ]
        }
      ]
    },
    {
      "cell_type": "markdown",
      "metadata": {
        "id": "Nvyge7HDzEbh"
      },
      "source": [
        "Natomiast listy mogą ulegać zmianie podczas ich \"życia\" w programie"
      ]
    },
    {
      "cell_type": "code",
      "metadata": {
        "colab": {
          "base_uri": "https://localhost:8080/"
        },
        "id": "PMTeW19OzNPV",
        "outputId": "ad977787-7ced-4e4c-fa17-451a29c3d300"
      },
      "source": [
        "lista = [1, 3, 5, 7]\n",
        "print( lista[2] )\n",
        "lista[2] = 4\n",
        "print( lista )"
      ],
      "execution_count": 30,
      "outputs": [
        {
          "output_type": "stream",
          "name": "stdout",
          "text": [
            "5\n",
            "[1, 3, 4, 7]\n"
          ]
        }
      ]
    },
    {
      "cell_type": "markdown",
      "metadata": {
        "id": "0rEJupC-_3Jf"
      },
      "source": [
        "### Wykorzystanie slice'rów do modyfikacji list"
      ]
    },
    {
      "cell_type": "markdown",
      "metadata": {
        "id": "3KB4dGHaARul"
      },
      "source": [
        "Sekwencje zmiennicze (_mutable_), a przykładem jest lista, mogą być modyfikowane przy użyciu slice'rów.\n",
        "\n",
        "Działania wykonywane są bezpośrednio na liście.\n",
        "\n",
        "Poniżej kilka przykładów."
      ]
    },
    {
      "cell_type": "code",
      "metadata": {
        "colab": {
          "base_uri": "https://localhost:8080/"
        },
        "id": "ufB4UDBrD92D",
        "outputId": "813d5037-bc85-433c-a5eb-7f2ad6065328"
      },
      "source": [
        "# modyfikacja wybranego fragmentu listy\n",
        "lista = [1, 2, 3, 4, 5, 6, 7, 8, 9]\n",
        "lista[:3] = [\"jeden\", \"dwa\", \"trzy\"] # modyfikujemy 3 pierwsze elementy listy\n",
        "print( lista )"
      ],
      "execution_count": 31,
      "outputs": [
        {
          "output_type": "stream",
          "name": "stdout",
          "text": [
            "['jeden', 'dwa', 'trzy', 4, 5, 6, 7, 8, 9]\n"
          ]
        }
      ]
    },
    {
      "cell_type": "code",
      "metadata": {
        "colab": {
          "base_uri": "https://localhost:8080/"
        },
        "id": "t78RcxJBFBFA",
        "outputId": "d9ff05ac-b82d-416d-de95-d1b31fc2ccdb"
      },
      "source": [
        "# usuwanie z listy wybranego fragmentu\n",
        "lista = [1, 2, 3, 4, 5, 6, 7, 8, 9]\n",
        "lista[:3] = [] # wycinamy z listy trzy pierwsze elementy (zastępujemy je listą pustą)\n",
        "print( lista )\n",
        "del lista[:-4:-1] # alternatywnie można użyć instrukcji `del` (tu: usuwamy 3 ostatnie)\n",
        "print( lista )"
      ],
      "execution_count": 33,
      "outputs": [
        {
          "output_type": "stream",
          "name": "stdout",
          "text": [
            "[4, 5, 6, 7, 8, 9]\n",
            "[4, 5, 6]\n"
          ]
        }
      ]
    },
    {
      "cell_type": "code",
      "metadata": {
        "colab": {
          "base_uri": "https://localhost:8080/"
        },
        "id": "SifWquktM5zP",
        "outputId": "53e80740-184e-46a2-f3bf-bf0f5eb3248c"
      },
      "source": [
        "# usuwanie z listy co drugiego elementu\n",
        "lista = [1, 2, 3, 4, 5, 6, 7, 8, 9, 10]\n",
        "del lista[::2]\n",
        "print( lista )"
      ],
      "execution_count": 34,
      "outputs": [
        {
          "output_type": "stream",
          "name": "stdout",
          "text": [
            "[2, 4, 6, 8, 10]\n"
          ]
        }
      ]
    },
    {
      "cell_type": "code",
      "metadata": {
        "colab": {
          "base_uri": "https://localhost:8080/"
        },
        "id": "OJF9xpErFUch",
        "outputId": "1136f363-6240-4fc8-f505-ad138be17baa"
      },
      "source": [
        "# zamiana co drugiego elementu listy nową wartością\n",
        "lista = [1, 2, 3, 4, 5, 6, 7, 8, 9, 10]\n",
        "lista[::2] = [100]*(len(lista)//2 + len(lista)%2)\n",
        "print( lista )"
      ],
      "execution_count": 35,
      "outputs": [
        {
          "output_type": "stream",
          "name": "stdout",
          "text": [
            "[100, 2, 100, 4, 100, 6, 100, 8, 100, 10]\n"
          ]
        }
      ]
    },
    {
      "cell_type": "code",
      "metadata": {
        "colab": {
          "base_uri": "https://localhost:8080/"
        },
        "id": "Bm_VwnPNMO2z",
        "outputId": "b0710d8f-4f67-413d-9a8a-0a9f37fff458"
      },
      "source": [
        "# doklejenie do listy nowego elementu\n",
        "lista = [1, 2, 3, 4, 5, 6, 7, 8, 9]\n",
        "lista[len(lista):len(lista)] = [10]\n",
        "print( lista )\n",
        "# równoważne: metoda `append`\n",
        "lista.append(11)\n",
        "print( lista )"
      ],
      "execution_count": 36,
      "outputs": [
        {
          "output_type": "stream",
          "name": "stdout",
          "text": [
            "[1, 2, 3, 4, 5, 6, 7, 8, 9, 10]\n",
            "[1, 2, 3, 4, 5, 6, 7, 8, 9, 10, 11]\n"
          ]
        }
      ]
    },
    {
      "cell_type": "code",
      "metadata": {
        "colab": {
          "base_uri": "https://localhost:8080/"
        },
        "id": "ExS9pbYENLgH",
        "outputId": "985b20fb-d7b4-4089-fe3d-f89ce9bb5a2e"
      },
      "source": [
        "# doklejenie do listy innej listy\n",
        "lista = [1, 2, 3, 4, 5, 6, 7, 8, 9]\n",
        "lista[len(lista):len(lista)] = [\"a\", \"b\", \"c\"]\n",
        "print( lista )\n",
        "# równoważne: metoda extend\n",
        "lista.extend([\"x\", \"y\"])\n",
        "print( lista )\n",
        "# równoważne: lista += doklejana_lista\n",
        "lista += [2.1, 2.2, 2.3]\n",
        "print( lista )"
      ],
      "execution_count": 37,
      "outputs": [
        {
          "output_type": "stream",
          "name": "stdout",
          "text": [
            "[1, 2, 3, 4, 5, 6, 7, 8, 9, 'a', 'b', 'c']\n",
            "[1, 2, 3, 4, 5, 6, 7, 8, 9, 'a', 'b', 'c', 'x', 'y']\n",
            "[1, 2, 3, 4, 5, 6, 7, 8, 9, 'a', 'b', 'c', 'x', 'y', 2.1, 2.2, 2.3]\n"
          ]
        }
      ]
    },
    {
      "cell_type": "markdown",
      "metadata": {
        "id": "9EGDdyv48FeP"
      },
      "source": [
        "## Odwołania (referencje)"
      ]
    },
    {
      "cell_type": "markdown",
      "metadata": {
        "id": "j1REaij3rza8"
      },
      "source": [
        "Sekwencje są obiektami, przechowującymi wiele danych. Zmienna, której przypisano sekwencję, przechowuje jej referencję, a nie same wartości. Ma to konsekwencje w przypadku działania operatora przypisania `=`.\n",
        "\n",
        "Jeśli wykonamy operację przypisania obiektu do zmiennej, to w zmiennej zapamiętana zostanie referencja do tego obiektu, nie dane.\n",
        "\n",
        "```python\n",
        "l = [1, 2, 3, 4, 5] # l jest referencją\n",
        "```\n",
        "\n",
        "Jeśli teraz wykonamy przypisanie\n",
        "\n",
        "```python\n",
        "l1 = l\n",
        "```\n",
        "\n",
        "to w zmiennej `l1` będzie **kopia referencji**, nie kopia sekwencji!"
      ]
    },
    {
      "cell_type": "code",
      "metadata": {
        "colab": {
          "base_uri": "https://localhost:8080/"
        },
        "id": "vV8WxwvzsP35",
        "outputId": "027215eb-294e-44c7-9a05-a0553aa78a95"
      },
      "source": [
        "lista = [\"a\", \"b\", \"c\"] # utworzenie obiektu i przypisanie go do zmiennej `lista`\n",
        "print(lista)\n",
        "lista1 = lista # do zmiennej `lista1` przypisujemy zmienną `lista` - tworzymy alias, a nie kopię kolekcji\n",
        "print(lista1)\n",
        "lista[0] = \"X\" # zmiany w obiekcie wskazywanym przez `lista`\n",
        "print(lista1)  # zmiany widoczne w `lista1`, bo obie zmienne wskazują na ten sam obiekt"
      ],
      "execution_count": 38,
      "outputs": [
        {
          "output_type": "stream",
          "name": "stdout",
          "text": [
            "['a', 'b', 'c']\n",
            "['a', 'b', 'c']\n",
            "['X', 'b', 'c']\n"
          ]
        }
      ]
    },
    {
      "cell_type": "markdown",
      "metadata": {
        "id": "NdT3j7OQ7YO3"
      },
      "source": [
        "[Wizualizacja](https://pythontutor.com/visualize.html#code=lista%20%3D%20%5B%22a%22,%20%22b%22,%20%22c%22%5D%0Aprint%28lista%29%0Alista1%20%3D%20lista%0Aprint%28lista1%29%0Alista%5B0%5D%20%3D%20%22X%22%0Aprint%28lista1%29&cumulative=false&curInstr=0&heapPrimitives=nevernest&mode=display&origin=opt-frontend.js&py=3&rawInputLstJSON=%5B%5D&textReferences=false)"
      ]
    },
    {
      "cell_type": "markdown",
      "metadata": {
        "id": "1hBNSVvm9bw6"
      },
      "source": [
        "![image.png](data:image/png;base64,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)"
      ]
    },
    {
      "cell_type": "markdown",
      "metadata": {
        "id": "AKsWvjIzkh9G"
      },
      "source": [
        "Dla porównania, wykonamy teraz kopię obiektu sekwencji:"
      ]
    },
    {
      "cell_type": "code",
      "metadata": {
        "colab": {
          "base_uri": "https://localhost:8080/"
        },
        "id": "qYjhXO2SknL-",
        "outputId": "6d80846e-d12d-454e-fa39-317f2ae9f3b5"
      },
      "source": [
        "lista = [\"a\", \"b\", \"c\"]\n",
        "lista1 = lista[:]          # kopia sekwencji\n",
        "print(\"lista →\", lista)\n",
        "print(\"lista1 →\", lista1)\n",
        "\n",
        "lista[0] = \"X\"             # zmieniamy element obiektu wskazywanego przez lista\n",
        "print(\"lista →\", lista)    # i widzimy, że zmiana została wprowadzona\n",
        "print(\"lista1 →\", lista1)  # ale nie w obiekcie wskazywanym przez lista1"
      ],
      "execution_count": 39,
      "outputs": [
        {
          "output_type": "stream",
          "name": "stdout",
          "text": [
            "lista → ['a', 'b', 'c']\n",
            "lista1 → ['a', 'b', 'c']\n",
            "lista → ['X', 'b', 'c']\n",
            "lista1 → ['a', 'b', 'c']\n"
          ]
        }
      ]
    },
    {
      "cell_type": "markdown",
      "metadata": {
        "id": "MiPR1rlDlycj"
      },
      "source": [
        "![image.png](data:image/png;base64,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)"
      ]
    },
    {
      "cell_type": "markdown",
      "metadata": {
        "id": "IMU65dRDlzxz"
      },
      "source": [
        "[Wizualizacja](https://pythontutor.com/visualize.html#code=lista%20%3D%20%5B%22a%22,%20%22b%22,%20%22c%22%5D%0Alista1%20%3D%20lista%5B%3A%5D%20%20%20%20%20%20%20%20%20%20%23%20kopia%20sekwencji%0Aprint%28%22lista%20%E2%86%92%22,%20lista%29%0Aprint%28%22lista1%20%E2%86%92%22,%20lista1%29%0A%0Alista%5B0%5D%20%3D%20%22X%22%20%20%20%20%20%20%20%20%20%20%20%20%20%23%20zmieniamy%20element%20obiektu%20wskazywanego%20przez%20lista%0Aprint%28%22lista%20%E2%86%92%22,%20lista%29%20%20%20%20%23%20i%20widzimy,%20%C5%BCe%20zmiana%20zosta%C5%82a%20wprowadzona%0Aprint%28%22lista1%20%E2%86%92%22,%20lista1%29%20%20%23%20ale%20nie%20w%20obiekcie%20wskazywanym%20przez%20lista1&cumulative=false&curInstr=7&heapPrimitives=nevernest&mode=display&origin=opt-frontend.js&py=3&rawInputLstJSON=%5B%5D&textReferences=false)"
      ]
    },
    {
      "cell_type": "markdown",
      "metadata": {
        "id": "6lrCgUi6_ZCD"
      },
      "source": [
        "## Inne sekwencje"
      ]
    },
    {
      "cell_type": "markdown",
      "metadata": {
        "id": "nENuMVwy_b4U"
      },
      "source": [
        "Python dostarcza również inne, niż wspomniane (`str`, `tuple`, `list`) typy sekwencji tj.: `bytearrays`, `range` oraz `bytes`."
      ]
    },
    {
      "cell_type": "markdown",
      "metadata": {
        "id": "DNnEsVSb-lD3"
      },
      "source": [
        "### Sekwencja `range`"
      ]
    },
    {
      "cell_type": "markdown",
      "metadata": {
        "id": "YxcGTthuPzHA"
      },
      "source": [
        "Typ `range` reprezentuje niezmienniczą sekwencję liczb całkowitych wygenerowaną z podanego zakresu i z odpowiednim krokiem. Najczęściej wykorzystywana jest do iteracji za pomocą pętli `for`. \n",
        "\n",
        "Sekwencję tę tworzymy metodą `range(start, stop, step)`, przy czym parametry `start` oraz `step` są opcjonalne, zaś `stop` obowiązkowy. Jeśli nie podano, `start` domyślnie wynosi `0`, zaś `step` wynosi `1`. Parametr `step` nie może przyjąć wartości `0` - zgłoszony wtedy będzie wyjątek `ValueError`.\n",
        "\n",
        "Do elementów obiektu `range` odwołujemy się za pomocą operatora indeksowania `[]`, jak dla innych sekwencji.\n",
        "\n",
        "Obiekt typu `range` dostarcza tzw. _iterator_, za pomocą którego można przeglądać jego zawartość (ten fakt wykorzystuje pętla `for`). Można jednak ten obiekt wykorzystać do wygenerowania konkretnej sekwencji, najczęściej listy lub krotki.\n",
        "\n",
        "\n",
        "\n",
        "\n"
      ]
    },
    {
      "cell_type": "code",
      "metadata": {
        "colab": {
          "base_uri": "https://localhost:8080/"
        },
        "id": "WqyovgeKRuuz",
        "outputId": "ba424c30-5df3-4cef-d907-c67996bf1b68"
      },
      "source": [
        "r = range(1, 10, 1)\n",
        "print( f\"r[5] = {r[5]}\" )\n",
        "print( r )\n",
        "print( list(r) )   # lista liczb utworzona z obiektu `r`\n",
        "print( tuple(r) )  # krotka liczb utworzona z obiektu `r`"
      ],
      "execution_count": 40,
      "outputs": [
        {
          "output_type": "stream",
          "name": "stdout",
          "text": [
            "r[5] = 6\n",
            "range(1, 10)\n",
            "[1, 2, 3, 4, 5, 6, 7, 8, 9]\n",
            "(1, 2, 3, 4, 5, 6, 7, 8, 9)\n"
          ]
        }
      ]
    },
    {
      "cell_type": "markdown",
      "metadata": {
        "id": "O4m6O_eBagzY"
      },
      "source": [
        "Przykłady:"
      ]
    },
    {
      "cell_type": "code",
      "metadata": {
        "colab": {
          "base_uri": "https://localhost:8080/"
        },
        "id": "BUy3l5sSackW",
        "outputId": "0d5a947e-dc0e-4888-d96b-a805d5763cb6"
      },
      "source": [
        "print( list( range(5) ) )          # lista liczb od 0 do 5 (bez 5)\n",
        "print( list( range(1, 11) ) )      # lista liczb od 1 do 10\n",
        "print( list( range(1, 10, 2)) )    # kolejne liczby nieparzyste, mniejsze od 10\n",
        "print( list( range(0, -10, -1) ) ) # kolejne liczby ujemne\n",
        "print( list( range(0) ) )          # lista pusta"
      ],
      "execution_count": 41,
      "outputs": [
        {
          "output_type": "stream",
          "name": "stdout",
          "text": [
            "[0, 1, 2, 3, 4]\n",
            "[1, 2, 3, 4, 5, 6, 7, 8, 9, 10]\n",
            "[1, 3, 5, 7, 9]\n",
            "[0, -1, -2, -3, -4, -5, -6, -7, -8, -9]\n",
            "[]\n"
          ]
        }
      ]
    },
    {
      "cell_type": "markdown",
      "metadata": {
        "id": "ZkZgeR2UdnB-"
      },
      "source": [
        "**WAŻNE**: Zaletą obiektu `range` w porównaniu do list oraz krotek jest to, że obiekt typu `range` praktycznie nie zajmuje pamięci (przechowuje jedynie parametry, na podstawie których, na żądanie, generowana jest sekwencja). \n",
        "\n",
        "`range` obsługuje pozostałe metody, w tym: ujemne indeksy, slicing, wyszukiwanie indeksu, obliczenia arytmetyczne, ..."
      ]
    },
    {
      "cell_type": "code",
      "metadata": {
        "colab": {
          "base_uri": "https://localhost:8080/"
        },
        "id": "tcJ9MzTHfl17",
        "outputId": "725cd1ac-629c-42f0-b60a-1dcfac808376"
      },
      "source": [
        "zakres = range(1, 10, 2)\n",
        "print( 3 in zakres )\n",
        "print( 4 in zakres )\n",
        "\n",
        "print( zakres )\n",
        "print( zakres[:4] )   # zawężenie\n",
        "print( zakres[:7] )   # rozszerzenie\n",
        "print( zakres[::-1] ) # odwrócenie"
      ],
      "execution_count": null,
      "outputs": [
        {
          "output_type": "stream",
          "name": "stdout",
          "text": [
            "True\n",
            "False\n",
            "range(1, 10, 2)\n",
            "range(1, 9, 2)\n",
            "range(1, 11, 2)\n",
            "range(9, -1, -2)\n"
          ]
        }
      ]
    },
    {
      "cell_type": "markdown",
      "metadata": {
        "id": "KO4nJ0sFklQg"
      },
      "source": [
        "**WAŻNE**: sekwencja typu `range` nie obsługuje operacji konkatenacji (`+`) oraz multiplikacji (`*`). Obsługuje pozostałe metody, w tym: ujemne indeksy, _slicing_, wyszukiwanie indeksu, obliczenia arytmetyczne, ...\n",
        "\n",
        "W pakiecie `itertools` dostarczane są dodatkowe wydajne techniki iteracyjnego przetwarzania sekwencji."
      ]
    },
    {
      "cell_type": "code",
      "metadata": {
        "colab": {
          "base_uri": "https://localhost:8080/"
        },
        "id": "i2EAzRzzk0Fq",
        "outputId": "287b2736-45c1-4c44-ae99-7344681f0b7d"
      },
      "source": [
        "r1 = range(0, 10, 2) # parzyste\n",
        "r2 = range(1, 10, 2) # nieparzyste\n",
        "# r = r1 + r2        # błąd, konkatenacja nie jest dozwolona\n",
        "from itertools import chain\n",
        "r = chain(r1, r2)\n",
        "print( list(r) )"
      ],
      "execution_count": 42,
      "outputs": [
        {
          "output_type": "stream",
          "name": "stdout",
          "text": [
            "[0, 2, 4, 6, 8, 1, 3, 5, 7, 9]\n"
          ]
        }
      ]
    },
    {
      "cell_type": "markdown",
      "metadata": {
        "id": "y7fw_RocmRv1"
      },
      "source": [
        "**TIP**: Jeśli chcemy utworzyć zakres **włącznie** z określonym elementem, do `stop` dodajemy `step`:"
      ]
    },
    {
      "cell_type": "code",
      "metadata": {
        "colab": {
          "base_uri": "https://localhost:8080/"
        },
        "id": "BTV06kdZmyUD",
        "outputId": "8b89590c-65cf-4ae8-c393-6ad8b5d66994"
      },
      "source": [
        "zakres = range(1, 10, 2)\n",
        "print( list(zakres) )\n",
        "step = 2\n",
        "zakres_wlacznie = range( 1, 10+step, step )\n",
        "print( list(zakres_wlacznie) )"
      ],
      "execution_count": 43,
      "outputs": [
        {
          "output_type": "stream",
          "name": "stdout",
          "text": [
            "[1, 3, 5, 7, 9]\n",
            "[1, 3, 5, 7, 9, 11]\n"
          ]
        }
      ]
    },
    {
      "cell_type": "markdown",
      "metadata": {
        "id": "jeeJguKE-x79"
      },
      "source": [
        "## Przetwarzanie sekwencji"
      ]
    },
    {
      "cell_type": "markdown",
      "metadata": {
        "id": "-5PxgvWunk4g"
      },
      "source": [
        "Sekwencje przetwarzamy za pomocą:\n",
        "\n",
        "* instrukcji pętli `for` oraz `while`\n",
        "* w przypadku list, mechanizmu generowania - tzw. _list comprehension_"
      ]
    },
    {
      "cell_type": "code",
      "metadata": {
        "colab": {
          "base_uri": "https://localhost:8080/"
        },
        "id": "hxlYbbK7n2F-",
        "outputId": "98f2685c-696d-48d4-a065-b104dd470c4b"
      },
      "source": [
        "# kwadraty liczb parzystych - pętlą for\n",
        "lista = []\n",
        "for x in range(20):\n",
        "  if x % 2 == 0:\n",
        "    lista.append(x*x)\n",
        "\n",
        "print(lista)\n",
        "\n",
        "# kwadraty liczb parzystych - list comprehension\n",
        "lista = [x*x for x in range(20) if x % 2 == 0]\n",
        "print( lista )\n",
        "\n",
        "lista = [x*x for x in range(20)[::2] ]\n",
        "print( lista )"
      ],
      "execution_count": 44,
      "outputs": [
        {
          "output_type": "stream",
          "name": "stdout",
          "text": [
            "[0, 4, 16, 36, 64, 100, 144, 196, 256, 324]\n",
            "[0, 4, 16, 36, 64, 100, 144, 196, 256, 324]\n",
            "[0, 4, 16, 36, 64, 100, 144, 196, 256, 324]\n"
          ]
        }
      ]
    },
    {
      "cell_type": "markdown",
      "metadata": {
        "id": "KKLVUQdPtv6A"
      },
      "source": [
        "## Bibliografia\n",
        "\n",
        "* [Sequence types - lists, tuples, range](https://docs.python.org/3/library/stdtypes.html#typesseq) - oficjalna dokumentacja Python'a"
      ]
    }
  ]
}