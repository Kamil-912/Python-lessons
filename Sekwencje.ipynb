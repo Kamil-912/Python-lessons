{
  "nbformat": 4,
  "nbformat_minor": 0,
  "metadata": {
    "colab": {
      "name": "Sekwencje.ipynb",
      "provenance": [],
      "collapsed_sections": [
        "LL2wMY-LhYSj",
        "Byth8bmm9wPu",
        "QsgB0qufjeBF",
        "SeJyUNwHjxfp",
        "9EGDdyv48FeP"
      ],
      "authorship_tag": "ABX9TyP/ZxhZ63E3KWIV6OR0U18r",
      "include_colab_link": true
    },
    "kernelspec": {
      "name": "python3",
      "display_name": "Python 3"
    },
    "language_info": {
      "name": "python"
    }
  },
  "cells": [
    {
      "cell_type": "markdown",
      "metadata": {
        "id": "view-in-github",
        "colab_type": "text"
      },
      "source": [
        "<a href=\"https://colab.research.google.com/github/URK-KIPLiIS/Python-lessons/blob/main/Sekwencje.ipynb\" target=\"_parent\"><img src=\"https://colab.research.google.com/assets/colab-badge.svg\" alt=\"Open In Colab\"/></a>"
      ]
    },
    {
      "cell_type": "markdown",
      "metadata": {
        "id": "68QeLfyffYzp"
      },
      "source": [
        "# Sekwencje\n",
        "\n",
        "* Krzysztof Molenda, (2021-11-05)\n",
        "\n",
        "---\n",
        "\n",
        "Porgramy przetwarzają dane, często nawet ich dużą ilość. W pamięci komputera dane te są zorganizwane w formie tzw. _struktur danych_. W języku Python podstawowymi strukturami danych są: listy (ang. _list_), krotki (ang. _tuple_), zbiory (ang. _set_) oraz słowniki (ang. _dictionary_). Są oczywiście dostępne inne, bardziej wyspecjalizowane struktury, jak również programista może we własny sposób organizować dane w pamięci - dostosowany do rozwiązywanego problemu.\n",
        "\n",
        "**Sekwencje (ang. _sequence_)** to ciągi elementów (ang. _item_). Kolejność elementów sekwencji jest ustalona, zaś elementy te są ponumerowane. Do elementów tych możemy się odwoływać za pomocą *indeksów* - i to jest główna cecha sekwencji.\n",
        "\n",
        "Sekwencje mogą być homogeniczne (ich elementy są tego samego typu, np. `string` jest sekwencją znaków i niczego innego) lub niehomogeniczne (np. listy).\n",
        "\n",
        "Sekwencje mogą być niemodyfikowalne (np. `string`, `tuple`) lub zmiennicze (np. `list`).\n",
        "\n",
        "Na sekwencjach można wykonywać pewne operacje (wspólnie definiowane, bez względu na szczegółowy typ sekwencji).\n",
        "\n",
        "---\n"
      ]
    },
    {
      "cell_type": "markdown",
      "metadata": {
        "id": "LL2wMY-LhYSj"
      },
      "source": [
        "## Typy sekwencyjne - ogólne własności"
      ]
    },
    {
      "cell_type": "markdown",
      "metadata": {
        "id": "uXkJkASMhcIT"
      },
      "source": [
        "Podstawowymi typami sekwencyjnymi są:\n",
        "* napisy (ang. `string`, w Pythonie nazywane `str`) - ciągi znaków (niemodyfikowalne)\n",
        "* listy (ang. `list`) - ciągi dowolnych elementów (modyfikowalne)\n",
        "* krotki (ang. `tuple`) - ciągi dowolnych elementów, o określonej liczebności (niemodyfikowalne)\n",
        "\n",
        "Przykłady:"
      ]
    },
    {
      "cell_type": "code",
      "metadata": {
        "colab": {
          "base_uri": "https://localhost:8080/"
        },
        "id": "e6C7SguEqrXj",
        "outputId": "695d00c9-4623-4378-f66a-044d6519b70f"
      },
      "source": [
        "# type(<nazwa_zmiennej>) zwraca typ zmiennej w chwili uruchomienia kodu\n",
        "\n",
        "napis = \"Ala ma kota\"\n",
        "print( type(napis) )\n",
        "\n",
        "lista = [1, 3, 5, 7]\n",
        "print( type(lista) )\n",
        "\n",
        "krotka = (1, 3, 5, 7)\n",
        "print( type(krotka) )"
      ],
      "execution_count": null,
      "outputs": [
        {
          "output_type": "stream",
          "name": "stdout",
          "text": [
            "<class 'str'>\n",
            "<class 'list'>\n",
            "<class 'tuple'>\n"
          ]
        }
      ]
    },
    {
      "cell_type": "markdown",
      "metadata": {
        "id": "fiiS-mVEy5Kd"
      },
      "source": [
        "### Indeksy"
      ]
    },
    {
      "cell_type": "markdown",
      "metadata": {
        "id": "4TrRlYfDtUQL"
      },
      "source": [
        "Wspólną cechą wszystkich sekwencji jest możliwość dostępu do określonego elementu na podstawie jego indeksu. Wykorzystywany jest w tym celu tzw. _operator indeksu_ - liczba podana w nawiasach kwadratowych `[]`, wskazująca na pozycję elementu w sekwencji. \n",
        "\n",
        "**⚠ Sekwencje w Pythonie numerowane są od `0`.**\n",
        "\n",
        "Przykładowo, w napisie `\"Ala ma kota!\"` zerowym elementem jest litera `A`, zaś ostatnia litera umieszczona jest na pozycji `11`."
      ]
    },
    {
      "cell_type": "code",
      "metadata": {
        "colab": {
          "base_uri": "https://localhost:8080/"
        },
        "id": "w5ko2Sl_vlLu",
        "outputId": "afec8686-21a7-4748-fe2a-f8359bdf342e"
      },
      "source": [
        "napis = \"Ala ma kota!\"\n",
        "print(\"element 0: \", napis[0] )\n",
        "print(\"element 1: \", napis[1] )\n",
        "print(\"element 2: \", napis[2] )\n",
        "print( \"...\")\n",
        "print(\"element 11: \", napis[11] )"
      ],
      "execution_count": null,
      "outputs": [
        {
          "output_type": "stream",
          "name": "stdout",
          "text": [
            "element 0:  A\n",
            "element 1:  l\n",
            "element 2:  a\n",
            "...\n",
            "element 11:  !\n"
          ]
        }
      ]
    },
    {
      "cell_type": "markdown",
      "metadata": {
        "id": "yUBG2CsCzpYn"
      },
      "source": [
        "Próba odwołania się do elementu o indeksie przekraczającym zakres sekwencji spowoduje błąd typu `IndexError`."
      ]
    },
    {
      "cell_type": "code",
      "metadata": {
        "colab": {
          "base_uri": "https://localhost:8080/",
          "height": 180
        },
        "id": "tVt8Rb9Z08YR",
        "outputId": "08833e15-29a4-426c-f785-f93fe9557391"
      },
      "source": [
        "napis = \"Ala ma kota!\"\n",
        "print( napis[12] )"
      ],
      "execution_count": null,
      "outputs": [
        {
          "output_type": "error",
          "ename": "IndexError",
          "evalue": "ignored",
          "traceback": [
            "\u001b[0;31m---------------------------------------------------------------------------\u001b[0m",
            "\u001b[0;31mIndexError\u001b[0m                                Traceback (most recent call last)",
            "\u001b[0;32m<ipython-input-15-930c639f5801>\u001b[0m in \u001b[0;36m<module>\u001b[0;34m()\u001b[0m\n\u001b[1;32m      1\u001b[0m \u001b[0mnapis\u001b[0m \u001b[0;34m=\u001b[0m \u001b[0;34m\"Ala ma kota!\"\u001b[0m\u001b[0;34m\u001b[0m\u001b[0;34m\u001b[0m\u001b[0m\n\u001b[0;32m----> 2\u001b[0;31m \u001b[0mprint\u001b[0m\u001b[0;34m(\u001b[0m \u001b[0mnapis\u001b[0m\u001b[0;34m[\u001b[0m\u001b[0;36m12\u001b[0m\u001b[0;34m]\u001b[0m \u001b[0;34m)\u001b[0m\u001b[0;34m\u001b[0m\u001b[0;34m\u001b[0m\u001b[0m\n\u001b[0m",
            "\u001b[0;31mIndexError\u001b[0m: string index out of range"
          ]
        }
      ]
    },
    {
      "cell_type": "markdown",
      "metadata": {
        "id": "DBtMLhVz1D6l"
      },
      "source": [
        "W języku Python wprowadzono, dla wygody programistów, **indeksowanie ujemne**\n",
        "* jeśli pozycje sekwencji liczone są od początku - stosujemy indeksy nieujemne, zaczynając od `0`\n",
        "* jeśli pozycje sekwencji liczone są od końca - stosujemy indeksy ujemne, ostatni element ma indeks równy `-1`\n",
        "* nie ma indeksu `-0`, W Pythonie `-0 == 0`, zatem indeks `-0` wskazuje również na początek napisu.\n",
        "\n",
        "Zrozumienie istoty numerowania ujemnego ułatwi poniższy rysunek"
      ]
    },
    {
      "cell_type": "markdown",
      "metadata": {
        "id": "z3K8qXpd5n9o"
      },
      "source": [
        "<img src=\"data:image/png;base64,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\" style=\"cursor:pointer;max-width:100%;\" onclick=\"(function(img){if(img.wnd!=null&&!img.wnd.closed){img.wnd.focus();}else{var r=function(evt){if(evt.data=='ready'&&evt.source==img.wnd){img.wnd.postMessage(decodeURIComponent(img.getAttribute('src')),'*');window.removeEventListener('message',r);}};window.addEventListener('message',r);img.wnd=window.open('https://viewer.diagrams.net/?client=1&page=0&edit=_blank');}})(this);\"/>"
      ]
    },
    {
      "cell_type": "code",
      "metadata": {
        "colab": {
          "base_uri": "https://localhost:8080/",
          "height": 231
        },
        "id": "ZPb9NxeT7Nsf",
        "outputId": "f7bef9f5-0042-418f-ccc9-8c2dc4e208fa"
      },
      "source": [
        "napis = \"Ala ma kota!\"\n",
        "print(\"ostatni: \", napis[-1] )\n",
        "print(\"przedostatni: \", napis[-2] )\n",
        "print(\"nieosiągalny: \", napis[-20] )"
      ],
      "execution_count": null,
      "outputs": [
        {
          "output_type": "stream",
          "name": "stdout",
          "text": [
            "ostatni:  !\n",
            "przedostatni:  a\n"
          ]
        },
        {
          "output_type": "error",
          "ename": "IndexError",
          "evalue": "ignored",
          "traceback": [
            "\u001b[0;31m---------------------------------------------------------------------------\u001b[0m",
            "\u001b[0;31mIndexError\u001b[0m                                Traceback (most recent call last)",
            "\u001b[0;32m<ipython-input-18-75ec66bacf1e>\u001b[0m in \u001b[0;36m<module>\u001b[0;34m()\u001b[0m\n\u001b[1;32m      2\u001b[0m \u001b[0mprint\u001b[0m\u001b[0;34m(\u001b[0m\u001b[0;34m\"ostatni: \"\u001b[0m\u001b[0;34m,\u001b[0m \u001b[0mnapis\u001b[0m\u001b[0;34m[\u001b[0m\u001b[0;34m-\u001b[0m\u001b[0;36m1\u001b[0m\u001b[0;34m]\u001b[0m \u001b[0;34m)\u001b[0m\u001b[0;34m\u001b[0m\u001b[0;34m\u001b[0m\u001b[0m\n\u001b[1;32m      3\u001b[0m \u001b[0mprint\u001b[0m\u001b[0;34m(\u001b[0m\u001b[0;34m\"przedostatni: \"\u001b[0m\u001b[0;34m,\u001b[0m \u001b[0mnapis\u001b[0m\u001b[0;34m[\u001b[0m\u001b[0;34m-\u001b[0m\u001b[0;36m2\u001b[0m\u001b[0;34m]\u001b[0m \u001b[0;34m)\u001b[0m\u001b[0;34m\u001b[0m\u001b[0;34m\u001b[0m\u001b[0m\n\u001b[0;32m----> 4\u001b[0;31m \u001b[0mprint\u001b[0m\u001b[0;34m(\u001b[0m\u001b[0;34m\"nieosiągalny: \"\u001b[0m\u001b[0;34m,\u001b[0m \u001b[0mnapis\u001b[0m\u001b[0;34m[\u001b[0m\u001b[0;34m-\u001b[0m\u001b[0;36m20\u001b[0m\u001b[0;34m]\u001b[0m \u001b[0;34m)\u001b[0m\u001b[0;34m\u001b[0m\u001b[0;34m\u001b[0m\u001b[0m\n\u001b[0m",
            "\u001b[0;31mIndexError\u001b[0m: string index out of range"
          ]
        }
      ]
    },
    {
      "cell_type": "markdown",
      "metadata": {
        "id": "AEUEvs6A9KiM"
      },
      "source": [
        "Sekwencje można \"ciąć na kawałki\" za pomocą tzw. mechanizmu fragmentacji (ang. _slicing_)."
      ]
    },
    {
      "cell_type": "markdown",
      "metadata": {
        "id": "CkvMA0VY07kN"
      },
      "source": [
        "#### Fragmentacja (_slicing_) sekwencji"
      ]
    },
    {
      "cell_type": "markdown",
      "metadata": {
        "id": "uf9sPkAA1vp_"
      },
      "source": [
        "Z sekwencji można wyodrębniać fragmenty, stosując notację `sekwencja[start : stop : step]`. Parametry `start` oraz `step` są opcjonalne.\n",
        "\n",
        "**WAŻNE**: parametr `stop` określa indeks końcowy, ale bez jego osiągnięcia. Zatem podając `liczby[2:4]` wyodrębniamy dwa elementy, o indeksach `2` oraz `3` (ale bez elementu o indeksie `4`)"
      ]
    },
    {
      "cell_type": "code",
      "metadata": {
        "colab": {
          "base_uri": "https://localhost:8080/"
        },
        "id": "6m8NHnZX1LFi",
        "outputId": "cdad9b0e-ade7-4df6-c5a1-50b64cfbdeb2"
      },
      "source": [
        "liczby = [1, 4, 5, 3, 5, 7, 8, 5]\n",
        "fragment1 = liczby[2] # element o indeksie 2\n",
        "print(fragment1)\n",
        "fragment2 = liczby[2:4] # elementy o indeksach od 2 do 3 włącznie\n",
        "print(fragment2)\n",
        "fragment3 = liczby[2:7:2] # elementy o indeksach od 2 do 6 włącznie, z krokiem 2\n",
        "print(fragment3)"
      ],
      "execution_count": 48,
      "outputs": [
        {
          "output_type": "stream",
          "name": "stdout",
          "text": [
            "5\n",
            "[5, 3]\n",
            "[5, 5, 8]\n"
          ]
        }
      ]
    },
    {
      "cell_type": "markdown",
      "metadata": {
        "id": "RkN8Fg1m4pMN"
      },
      "source": [
        "Stosując notację fragmetatorów możemy, w bardzo zwięzły sposób określić wyodrębniane podsekwencje:\n",
        "* `seq[1:]` - elementy od drugiego do statniego\n",
        "* `seq[::2]` - co drugi element sekwencji\n",
        "* `seq[::-1]` - sekwencja odwrócona"
      ]
    },
    {
      "cell_type": "code",
      "metadata": {
        "colab": {
          "base_uri": "https://localhost:8080/"
        },
        "id": "TS2KLlxG-HgS",
        "outputId": "699754f9-0c19-490e-fce9-943f83175105"
      },
      "source": [
        "napis = \"Ala ma kota!\"\n",
        "odwrotnie = napis[::-1]\n",
        "print(odwrotnie)"
      ],
      "execution_count": 51,
      "outputs": [
        {
          "output_type": "stream",
          "name": "stdout",
          "text": [
            "!atok am alA\n"
          ]
        }
      ]
    },
    {
      "cell_type": "markdown",
      "metadata": {
        "id": "Byth8bmm9wPu"
      },
      "source": [
        "## Operacje na sekwencjach"
      ]
    },
    {
      "cell_type": "markdown",
      "metadata": {
        "id": "1cpacpoXg_C-"
      },
      "source": [
        "### Operatory konkatencji i multiplikacji"
      ]
    },
    {
      "cell_type": "markdown",
      "metadata": {
        "id": "N7RauzD-90vx"
      },
      "source": [
        "Sekwencje (a więc listy, krotki, napisy, ...) mogą być łączone ze sobą. Wykorzystywane są w tym celu dwa operatory:\n",
        "* operator `+` do sklejania (konkatenacji)\n",
        "* operator `*` do zwielokrotniania (multiplikacji)\n",
        "\n",
        "Efektem ich działania jest utworzenie nowego obiektu tego samego typu, co argumenty."
      ]
    },
    {
      "cell_type": "code",
      "metadata": {
        "colab": {
          "base_uri": "https://localhost:8080/"
        },
        "id": "v3DLV3Nj-AKW",
        "outputId": "1a87d494-642e-4009-9629-82f04862c3ed"
      },
      "source": [
        "napis1 = \"Ala ma kota!\"\n",
        "napis2 = \"As to ali pies.\"\n",
        "napis = napis1 + \" \" + napis2\n",
        "print(\"sklejony napis: \", napis)\n",
        "\n",
        "krotka1 = (1, 3, 5)\n",
        "krotka2 = (2, 4)\n",
        "krotka = krotka1 + krotka2\n",
        "print(\"sklejona krotka: \", krotka)\n",
        "\n",
        "lista1 = [1, 3, 5, 6]\n",
        "lista2 = ['a', 'b']\n",
        "lista = lista1 + lista2\n",
        "print(\"sklejona lista: \", lista)"
      ],
      "execution_count": 1,
      "outputs": [
        {
          "output_type": "stream",
          "name": "stdout",
          "text": [
            "sklejony napis:  Ala ma kota! As to ali pies.\n",
            "sklejona krotka:  (1, 3, 5, 2, 4)\n",
            "sklejona lista:  [1, 3, 5, 6, 'a', 'b']\n"
          ]
        }
      ]
    },
    {
      "cell_type": "code",
      "metadata": {
        "colab": {
          "base_uri": "https://localhost:8080/"
        },
        "id": "ER3Ha5TGdcT3",
        "outputId": "85595b1b-e6d0-4e87-aeed-cb2e97803013"
      },
      "source": [
        "napis1 = \" Hurra!\"\n",
        "napis = \"Koniec zajęć.\" + napis1*3 \n",
        "print(napis)\n",
        "\n",
        "krotka1 = (1, 0, 0)\n",
        "krotka = 3*krotka1\n",
        "print(krotka)\n",
        "\n",
        "lista1 = [1, 2]\n",
        "lista2 = ['a']\n",
        "lista = 2*(lista1 + 3*lista2)\n",
        "print(lista)"
      ],
      "execution_count": 6,
      "outputs": [
        {
          "output_type": "stream",
          "name": "stdout",
          "text": [
            "Koniec zajęć. Hurra! Hurra! Hurra!\n",
            "(1, 0, 0, 1, 0, 0, 1, 0, 0)\n",
            "[1, 2, 'a', 'a', 'a', 1, 2, 'a', 'a', 'a']\n"
          ]
        }
      ]
    },
    {
      "cell_type": "markdown",
      "metadata": {
        "id": "0LADlv-h96ly"
      },
      "source": [
        "Operatory konkatenacji i multiplikacji nie pozwalają na mieszanie typów."
      ]
    },
    {
      "cell_type": "code",
      "metadata": {
        "colab": {
          "base_uri": "https://localhost:8080/",
          "height": 197
        },
        "id": "bh4ITfBleu3y",
        "outputId": "314ac163-4e2d-49ec-acae-cb971dd90ba2"
      },
      "source": [
        "napis = \"abc\";\n",
        "krotka = ('a', 'b', 'c')\n",
        "lista = ['a', 'b', 'c']\n",
        "\n",
        "sklejka = napis + lista"
      ],
      "execution_count": 7,
      "outputs": [
        {
          "output_type": "error",
          "ename": "TypeError",
          "evalue": "ignored",
          "traceback": [
            "\u001b[0;31m---------------------------------------------------------------------------\u001b[0m",
            "\u001b[0;31mTypeError\u001b[0m                                 Traceback (most recent call last)",
            "\u001b[0;32m<ipython-input-7-609d7bb5078c>\u001b[0m in \u001b[0;36m<module>\u001b[0;34m()\u001b[0m\n\u001b[1;32m      3\u001b[0m \u001b[0mlista\u001b[0m \u001b[0;34m=\u001b[0m \u001b[0;34m[\u001b[0m\u001b[0;34m'a'\u001b[0m\u001b[0;34m,\u001b[0m \u001b[0;34m'b'\u001b[0m\u001b[0;34m,\u001b[0m \u001b[0;34m'c'\u001b[0m\u001b[0;34m]\u001b[0m\u001b[0;34m\u001b[0m\u001b[0;34m\u001b[0m\u001b[0m\n\u001b[1;32m      4\u001b[0m \u001b[0;34m\u001b[0m\u001b[0m\n\u001b[0;32m----> 5\u001b[0;31m \u001b[0msklejka\u001b[0m \u001b[0;34m=\u001b[0m \u001b[0mnapis\u001b[0m \u001b[0;34m+\u001b[0m \u001b[0mlista\u001b[0m\u001b[0;34m\u001b[0m\u001b[0;34m\u001b[0m\u001b[0m\n\u001b[0m",
            "\u001b[0;31mTypeError\u001b[0m: can only concatenate str (not \"list\") to str"
          ]
        }
      ]
    },
    {
      "cell_type": "markdown",
      "metadata": {
        "id": "CGK92PM3hFKr"
      },
      "source": [
        "### Standardowe funkcje operujące na **sekwencjach**"
      ]
    },
    {
      "cell_type": "markdown",
      "metadata": {
        "id": "QsgB0qufjeBF"
      },
      "source": [
        "#### Funkcja `len()`"
      ]
    },
    {
      "cell_type": "markdown",
      "metadata": {
        "id": "lrKUzFJBhMVZ"
      },
      "source": [
        "Sekwencje, jako ciągi elementów, mają określoną długość (liczebność). Do określenia liczby elementów sekwencji służy wbudowana funkcja `len()` (skrót od angielskiego _length_)."
      ]
    },
    {
      "cell_type": "code",
      "metadata": {
        "colab": {
          "base_uri": "https://localhost:8080/"
        },
        "id": "nKeqfUImhNbB",
        "outputId": "38ea57e8-96b6-4f77-d973-61e5c1b9a140"
      },
      "source": [
        "napis = \"Ala ma kota!\"\n",
        "print( len(napis) )\n",
        "\n",
        "miasta = [\"Kraków\", \"Poznań\", \"Katowice\", \"Gdańsk\"]\n",
        "print( len(miasta) )\n",
        "\n",
        "wektor = (1, 2, 3)\n",
        "print( len(wektor) )"
      ],
      "execution_count": 10,
      "outputs": [
        {
          "output_type": "stream",
          "name": "stdout",
          "text": [
            "12\n",
            "4\n",
            "3\n"
          ]
        }
      ]
    },
    {
      "cell_type": "markdown",
      "metadata": {
        "id": "SeJyUNwHjxfp"
      },
      "source": [
        "#### Operator `in`"
      ]
    },
    {
      "cell_type": "markdown",
      "metadata": {
        "id": "_22rB1JoiMKA"
      },
      "source": [
        "Do sprawdzenia, czy dany element _znajduje się_ w sekwencji, służy operator `in`. Wynikiem jego działania jest wartość logiczna `True` lub `False`. Operator ten można łączyć z operatorem `not`, zatem konstrukcja `not in` oznacza: _nie znajduje się_."
      ]
    },
    {
      "cell_type": "code",
      "metadata": {
        "colab": {
          "base_uri": "https://localhost:8080/"
        },
        "id": "WDE7HAegirEL",
        "outputId": "332f0783-f6bd-4ee5-8818-f40da26e0bc3"
      },
      "source": [
        "napis = \"Ala ma kota!\"\n",
        "print( 'a' in napis )\n",
        "print( 'r' in napis )\n",
        "print( 'r' not in napis )\n",
        "print( not 'r' in napis )"
      ],
      "execution_count": 13,
      "outputs": [
        {
          "output_type": "stream",
          "name": "stdout",
          "text": [
            "True\n",
            "False\n",
            "True\n",
            "True\n"
          ]
        }
      ]
    },
    {
      "cell_type": "markdown",
      "metadata": {
        "id": "tIj7TtHejq4G"
      },
      "source": [
        "#### Metoda `.index()`"
      ]
    },
    {
      "cell_type": "markdown",
      "metadata": {
        "id": "YzFC8mRFj2sS"
      },
      "source": [
        "Wszystkie sekwencje \"wyposażone\" są w metodę `sekw.index(e)` zwracającą indeks pierwszego wystąpienia elementu `e` w podanej przed kropką sekwencji `sekw`."
      ]
    },
    {
      "cell_type": "code",
      "metadata": {
        "colab": {
          "base_uri": "https://localhost:8080/"
        },
        "id": "wbt8rLXykb0X",
        "outputId": "d4266d31-4adf-4658-e2fe-3e56a848d8da"
      },
      "source": [
        "napis = \"Ala ma kota!\"\n",
        "print(\"pierwsze wystąpienie A:\", napis.index('A') )\n",
        "print(\"pierwsze wystąpienie a:\", napis.index('a') )\n",
        "print(\"pierwsze wystąpienie !:\", napis.index('!') )"
      ],
      "execution_count": 18,
      "outputs": [
        {
          "output_type": "stream",
          "name": "stdout",
          "text": [
            "pierwsze wystąpienie A: 0\n",
            "pierwsze wystąpienie a: 2\n",
            "pierwsze wystąpienie !: 11\n"
          ]
        }
      ]
    },
    {
      "cell_type": "markdown",
      "metadata": {
        "id": "K54DdI-ImZWO"
      },
      "source": [
        " W przypadku braku wskazanego elementu w sekwencji zwracany jest błąd."
      ]
    },
    {
      "cell_type": "code",
      "metadata": {
        "colab": {
          "base_uri": "https://localhost:8080/",
          "height": 180
        },
        "id": "nELcyYQ1mccF",
        "outputId": "94b3bdda-9a8a-435c-b917-7ffb9c2743ea"
      },
      "source": [
        "napis = \"Ala ma kota!\"\n",
        "print( napis.index('r') )"
      ],
      "execution_count": 20,
      "outputs": [
        {
          "output_type": "error",
          "ename": "ValueError",
          "evalue": "ignored",
          "traceback": [
            "\u001b[0;31m---------------------------------------------------------------------------\u001b[0m",
            "\u001b[0;31mValueError\u001b[0m                                Traceback (most recent call last)",
            "\u001b[0;32m<ipython-input-20-5965956adf66>\u001b[0m in \u001b[0;36m<module>\u001b[0;34m()\u001b[0m\n\u001b[1;32m      1\u001b[0m \u001b[0mnapis\u001b[0m \u001b[0;34m=\u001b[0m \u001b[0;34m\"Ala ma kota!\"\u001b[0m\u001b[0;34m\u001b[0m\u001b[0;34m\u001b[0m\u001b[0m\n\u001b[0;32m----> 2\u001b[0;31m \u001b[0mprint\u001b[0m\u001b[0;34m(\u001b[0m \u001b[0mnapis\u001b[0m\u001b[0;34m.\u001b[0m\u001b[0mindex\u001b[0m\u001b[0;34m(\u001b[0m\u001b[0;34m'r'\u001b[0m\u001b[0;34m)\u001b[0m \u001b[0;34m)\u001b[0m\u001b[0;34m\u001b[0m\u001b[0;34m\u001b[0m\u001b[0m\n\u001b[0m",
            "\u001b[0;31mValueError\u001b[0m: substring not found"
          ]
        }
      ]
    },
    {
      "cell_type": "markdown",
      "metadata": {
        "id": "X-Ah2lI_mk6M"
      },
      "source": [
        "Metoda `index` może być użyta w rozzerzonym zakresie. Dysponuje dwoma opcjonalnymi parametrami: `start` oraz `stop`. Parametry te służą do zawężania obszaru przeszukiwania.\n",
        "Formalna definicja:\n",
        "\n",
        "```python[tekst linku](https://)\n",
        "seq.index( element, start(optional), stop(optional) )\n",
        "```"
      ]
    },
    {
      "cell_type": "code",
      "metadata": {
        "colab": {
          "base_uri": "https://localhost:8080/"
        },
        "id": "bUs5K6K_nSrS",
        "outputId": "5c5dd6a8-0c78-4e3b-d306-1298fc5e3aa1"
      },
      "source": [
        "napisy = [\"aa\", \"bb\", \"cc\", \"dd\", \"aa\", \"aa\", \"aa\", \"dd\", \"ff\"]\n",
        "print( napisy.index(\"aa\", 3, 8) ) # zwraca pierwsze wystąpienie elementu \"aa\" w pod-sekwencji, licząc od indeksu 3 do 8"
      ],
      "execution_count": 25,
      "outputs": [
        {
          "output_type": "stream",
          "name": "stdout",
          "text": [
            "4\n"
          ]
        }
      ]
    },
    {
      "cell_type": "markdown",
      "metadata": {
        "id": "u_PIDIbhqZ-7"
      },
      "source": [
        "Jeśli nie podano wartości ostatniego parametru `stop`, poszukiwania zaczynają się od indeksu `start` do końca sekwencji."
      ]
    },
    {
      "cell_type": "code",
      "metadata": {
        "colab": {
          "base_uri": "https://localhost:8080/"
        },
        "id": "Bk03w1gKq0TY",
        "outputId": "0586c056-4f54-4d5d-b7c7-a8f24516044d"
      },
      "source": [
        "napisy = [\"aa\", \"bb\", \"cc\", \"dd\", \"aa\", \"aa\", \"aa\", \"dd\", \"ff\"]\n",
        "print( napisy.index(\"dd\", 4) ) # zwraca pierwsze wystąpienie elementu \"dd\" w pod-sekwencji, licząc od indeksu 4 do końca"
      ],
      "execution_count": 26,
      "outputs": [
        {
          "output_type": "stream",
          "name": "stdout",
          "text": [
            "7\n"
          ]
        }
      ]
    },
    {
      "cell_type": "markdown",
      "metadata": {
        "id": "51jbrnCzwWwE"
      },
      "source": [
        "#### Konwersje sekwencji na inne typy"
      ]
    },
    {
      "cell_type": "code",
      "metadata": {
        "colab": {
          "base_uri": "https://localhost:8080/"
        },
        "id": "jKnfde62wdrL",
        "outputId": "b48744b0-62bd-44d3-b827-d2cef4037b1f"
      },
      "source": [
        "napis = \"Ala ma kota!\"\n",
        "krotka_liter = tuple(napis)\n",
        "print(krotka_liter)\n",
        "lista_liter = list(napis)\n",
        "print(lista_liter)\n",
        "\n",
        "lista_liter[0] = 'a'\n",
        "print(lista_liter)\n",
        "napis1 = \"\".join(lista_liter)\n",
        "print(napis1)"
      ],
      "execution_count": 39,
      "outputs": [
        {
          "output_type": "stream",
          "name": "stdout",
          "text": [
            "('A', 'l', 'a', ' ', 'm', 'a', ' ', 'k', 'o', 't', 'a', '!')\n",
            "['A', 'l', 'a', ' ', 'm', 'a', ' ', 'k', 'o', 't', 'a', '!']\n",
            "['a', 'l', 'a', ' ', 'm', 'a', ' ', 'k', 'o', 't', 'a', '!']\n",
            "ala ma kota!\n"
          ]
        }
      ]
    },
    {
      "cell_type": "markdown",
      "metadata": {
        "id": "MK8w-UaGsaj5"
      },
      "source": [
        "#### Inne metody wspólne dla sekwencji"
      ]
    },
    {
      "cell_type": "markdown",
      "metadata": {
        "id": "dsuFH-DYtBRN"
      },
      "source": [
        "Jeśli elementy sekwencji są **porównywalne** (można ustalić, który element jest większy, a który mniejszy), można zastosować funkcje wbudowane `min()` oraz `max()`.\n",
        "\n",
        "W przypadku napisów, porządek nazywany jest _leksykograficznym_ (encyklopedycznym)."
      ]
    },
    {
      "cell_type": "code",
      "metadata": {
        "colab": {
          "base_uri": "https://localhost:8080/"
        },
        "id": "FEQgzcm8sfZ1",
        "outputId": "a9ae4580-433a-49fa-e7d0-ced9c7cc1ad7"
      },
      "source": [
        "napisy = [\"aa\", \"bb\", \"cc\", \"dd\", \"aa\", \"aa\", \"aa\", \"dd\", \"ff\"]\n",
        "print(\"min:\", min(napisy))\n",
        "print(\"max:\", max(napisy))\n",
        "liczby = [1, 4, 5, 3, 5, 7, 8, 5]\n",
        "print(\"min:\", min(liczby))\n",
        "print(\"max:\", max(liczby))\n"
      ],
      "execution_count": 28,
      "outputs": [
        {
          "output_type": "stream",
          "name": "stdout",
          "text": [
            "min: aa\n",
            "max: ff\n",
            "min: 1\n",
            "max: 8\n"
          ]
        }
      ]
    },
    {
      "cell_type": "code",
      "metadata": {
        "colab": {
          "base_uri": "https://localhost:8080/",
          "height": 180
        },
        "id": "lP8uUKLOtWng",
        "outputId": "1fdb8d3e-7193-4df0-8d81-b34522ef2e26"
      },
      "source": [
        "lista_niehomogeniczna = [1, 2, 'a', \"ala\", [1, 2], []]\n",
        "print( max(lista_niehomogeniczna) )"
      ],
      "execution_count": 29,
      "outputs": [
        {
          "output_type": "error",
          "ename": "TypeError",
          "evalue": "ignored",
          "traceback": [
            "\u001b[0;31m---------------------------------------------------------------------------\u001b[0m",
            "\u001b[0;31mTypeError\u001b[0m                                 Traceback (most recent call last)",
            "\u001b[0;32m<ipython-input-29-60e1d7d855fe>\u001b[0m in \u001b[0;36m<module>\u001b[0;34m()\u001b[0m\n\u001b[1;32m      1\u001b[0m \u001b[0mlista_niehomogeniczna\u001b[0m \u001b[0;34m=\u001b[0m \u001b[0;34m[\u001b[0m\u001b[0;36m1\u001b[0m\u001b[0;34m,\u001b[0m \u001b[0;36m2\u001b[0m\u001b[0;34m,\u001b[0m \u001b[0;34m'a'\u001b[0m\u001b[0;34m,\u001b[0m \u001b[0;34m\"ala\"\u001b[0m\u001b[0;34m,\u001b[0m \u001b[0;34m[\u001b[0m\u001b[0;36m1\u001b[0m\u001b[0;34m,\u001b[0m \u001b[0;36m2\u001b[0m\u001b[0;34m]\u001b[0m\u001b[0;34m,\u001b[0m \u001b[0;34m[\u001b[0m\u001b[0;34m]\u001b[0m\u001b[0;34m]\u001b[0m\u001b[0;34m\u001b[0m\u001b[0;34m\u001b[0m\u001b[0m\n\u001b[0;32m----> 2\u001b[0;31m \u001b[0mprint\u001b[0m\u001b[0;34m(\u001b[0m \u001b[0mmax\u001b[0m\u001b[0;34m(\u001b[0m\u001b[0mlista_niehomogeniczna\u001b[0m\u001b[0;34m)\u001b[0m \u001b[0;34m)\u001b[0m\u001b[0;34m\u001b[0m\u001b[0;34m\u001b[0m\u001b[0m\n\u001b[0m",
            "\u001b[0;31mTypeError\u001b[0m: '>' not supported between instances of 'str' and 'int'"
          ]
        }
      ]
    },
    {
      "cell_type": "markdown",
      "metadata": {
        "id": "gmrIAzImvjXB"
      },
      "source": [
        "W przypadku, gdy elementami sekwencji są liczby, możemy obliczyć sumę tych elementów"
      ]
    },
    {
      "cell_type": "code",
      "metadata": {
        "colab": {
          "base_uri": "https://localhost:8080/"
        },
        "id": "DTDnCVlouI0h",
        "outputId": "8cfc8a86-8775-4f64-efdd-f16b9baf2a82"
      },
      "source": [
        "liczby = [1, 4, 5, 3, 5, 7, 8, 5]\n",
        "print(\"suma = \", sum(liczby) )\n",
        "print(\"średnia arytmetyczna = \", sum(liczby)/len(liczby) )"
      ],
      "execution_count": 34,
      "outputs": [
        {
          "output_type": "stream",
          "name": "stdout",
          "text": [
            "suma =  38\n",
            "średnia arytmetyczna =  4.75\n"
          ]
        }
      ]
    },
    {
      "cell_type": "markdown",
      "metadata": {
        "id": "VWZHCyeuy8qt"
      },
      "source": [
        "### Modyfikowalność i niezmienniczość"
      ]
    },
    {
      "cell_type": "markdown",
      "metadata": {
        "id": "QHcw1O7Mr1bP"
      },
      "source": [
        "Sekwencje (ale również ogólnie: obiekty) mogą być niemodyfikowalne (ang. _immutable_) lub mogą zmieniać swoją zawartość (ang. _mutable_). Na przykład napisy oraz krotki są niemodyfikowalne - ich stan, po utworzeniu, nie może ulec zmianie. Zawartość listy można natomiast zmieniać."
      ]
    },
    {
      "cell_type": "markdown",
      "metadata": {
        "id": "5BMIo3XCwqlc"
      },
      "source": [
        "Na przykład próba modyfikacji dużej litery `A` w napisie `Ala ma kota` na literę małą `a` zgłosi błąd z komentarzem `TypeError: 'str' object does not support item assignment`."
      ]
    },
    {
      "cell_type": "code",
      "metadata": {
        "colab": {
          "base_uri": "https://localhost:8080/",
          "height": 214
        },
        "id": "YVjl8bsNwZ9v",
        "outputId": "72c1c9c6-a1a0-4800-b774-9ad7934c4beb"
      },
      "source": [
        "napis = \"Ala ma kota\"\n",
        "print( napis[0] )\n",
        "napis[0] = 'a'"
      ],
      "execution_count": null,
      "outputs": [
        {
          "output_type": "stream",
          "name": "stdout",
          "text": [
            "A\n"
          ]
        },
        {
          "output_type": "error",
          "ename": "TypeError",
          "evalue": "ignored",
          "traceback": [
            "\u001b[0;31m---------------------------------------------------------------------------\u001b[0m",
            "\u001b[0;31mTypeError\u001b[0m                                 Traceback (most recent call last)",
            "\u001b[0;32m<ipython-input-9-d8d11b7b0496>\u001b[0m in \u001b[0;36m<module>\u001b[0;34m()\u001b[0m\n\u001b[1;32m      1\u001b[0m \u001b[0mnapis\u001b[0m \u001b[0;34m=\u001b[0m \u001b[0;34m\"Ala ma kota\"\u001b[0m\u001b[0;34m\u001b[0m\u001b[0;34m\u001b[0m\u001b[0m\n\u001b[1;32m      2\u001b[0m \u001b[0mprint\u001b[0m\u001b[0;34m(\u001b[0m \u001b[0mnapis\u001b[0m\u001b[0;34m[\u001b[0m\u001b[0;36m0\u001b[0m\u001b[0;34m]\u001b[0m \u001b[0;34m)\u001b[0m\u001b[0;34m\u001b[0m\u001b[0;34m\u001b[0m\u001b[0m\n\u001b[0;32m----> 3\u001b[0;31m \u001b[0mnapis\u001b[0m\u001b[0;34m[\u001b[0m\u001b[0;36m0\u001b[0m\u001b[0;34m]\u001b[0m \u001b[0;34m=\u001b[0m \u001b[0;34m'a'\u001b[0m\u001b[0;34m\u001b[0m\u001b[0;34m\u001b[0m\u001b[0m\n\u001b[0m",
            "\u001b[0;31mTypeError\u001b[0m: 'str' object does not support item assignment"
          ]
        }
      ]
    },
    {
      "cell_type": "markdown",
      "metadata": {
        "id": "tyxrkRHnw-o6"
      },
      "source": [
        "Podobna sytuacja występi w przypadku próby modyfikacji krotki (błąd: `TypeError: 'tuple' object does not support item assignment`)"
      ]
    },
    {
      "cell_type": "code",
      "metadata": {
        "colab": {
          "base_uri": "https://localhost:8080/",
          "height": 214
        },
        "id": "dnXwqrlVx9nS",
        "outputId": "23aa256c-2d4d-428a-ad13-be8f7282a0a2"
      },
      "source": [
        "krotka = (1, 3, 5, 7)\n",
        "print( krotka[2] )\n",
        "krotka[2] = 4"
      ],
      "execution_count": null,
      "outputs": [
        {
          "output_type": "stream",
          "name": "stdout",
          "text": [
            "5\n"
          ]
        },
        {
          "output_type": "error",
          "ename": "TypeError",
          "evalue": "ignored",
          "traceback": [
            "\u001b[0;31m---------------------------------------------------------------------------\u001b[0m",
            "\u001b[0;31mTypeError\u001b[0m                                 Traceback (most recent call last)",
            "\u001b[0;32m<ipython-input-11-48b01182e1de>\u001b[0m in \u001b[0;36m<module>\u001b[0;34m()\u001b[0m\n\u001b[1;32m      1\u001b[0m \u001b[0mkrotka\u001b[0m \u001b[0;34m=\u001b[0m \u001b[0;34m(\u001b[0m\u001b[0;36m1\u001b[0m\u001b[0;34m,\u001b[0m \u001b[0;36m3\u001b[0m\u001b[0;34m,\u001b[0m \u001b[0;36m5\u001b[0m\u001b[0;34m,\u001b[0m \u001b[0;36m7\u001b[0m\u001b[0;34m)\u001b[0m\u001b[0;34m\u001b[0m\u001b[0;34m\u001b[0m\u001b[0m\n\u001b[1;32m      2\u001b[0m \u001b[0mprint\u001b[0m\u001b[0;34m(\u001b[0m \u001b[0mkrotka\u001b[0m\u001b[0;34m[\u001b[0m\u001b[0;36m2\u001b[0m\u001b[0;34m]\u001b[0m \u001b[0;34m)\u001b[0m\u001b[0;34m\u001b[0m\u001b[0;34m\u001b[0m\u001b[0m\n\u001b[0;32m----> 3\u001b[0;31m \u001b[0mkrotka\u001b[0m\u001b[0;34m[\u001b[0m\u001b[0;36m2\u001b[0m\u001b[0;34m]\u001b[0m \u001b[0;34m=\u001b[0m \u001b[0;36m4\u001b[0m\u001b[0;34m\u001b[0m\u001b[0;34m\u001b[0m\u001b[0m\n\u001b[0m",
            "\u001b[0;31mTypeError\u001b[0m: 'tuple' object does not support item assignment"
          ]
        }
      ]
    },
    {
      "cell_type": "markdown",
      "metadata": {
        "id": "Nvyge7HDzEbh"
      },
      "source": [
        "Natomiast listy mogą ulegać zmianie podczas ich \"życia\" w programie"
      ]
    },
    {
      "cell_type": "code",
      "metadata": {
        "colab": {
          "base_uri": "https://localhost:8080/"
        },
        "id": "PMTeW19OzNPV",
        "outputId": "a881dbfd-0cd2-48dd-89d9-03880a77b4dc"
      },
      "source": [
        "lista = [1, 3, 5, 7]\n",
        "print( lista[2] )\n",
        "lista[2] = 4\n",
        "print( lista )"
      ],
      "execution_count": null,
      "outputs": [
        {
          "output_type": "stream",
          "name": "stdout",
          "text": [
            "5\n",
            "[1, 3, 4, 7]\n"
          ]
        }
      ]
    },
    {
      "cell_type": "markdown",
      "metadata": {
        "id": "9EGDdyv48FeP"
      },
      "source": [
        "## Odwołania"
      ]
    },
    {
      "cell_type": "markdown",
      "metadata": {
        "id": "j1REaij3rza8"
      },
      "source": [
        "Sekwencje są obiektami, przechowującymi wiele danych. Zmienna, której przypisano sekwencję przechowuje jej referencję, a nie same wartości. Ma to konsekwencje w przypadku działania operatora przypisania `=`."
      ]
    },
    {
      "cell_type": "code",
      "metadata": {
        "colab": {
          "base_uri": "https://localhost:8080/"
        },
        "id": "vV8WxwvzsP35",
        "outputId": "55636cda-8b33-4bcf-f0af-92fef7843ff3"
      },
      "source": [
        "lista = [\"a\", \"b\", \"c\"]\n",
        "print(lista)\n",
        "lista1 = lista\n",
        "print(lista1)\n",
        "lista[0] = \"X\"\n",
        "print(lista1)"
      ],
      "execution_count": 49,
      "outputs": [
        {
          "output_type": "stream",
          "name": "stdout",
          "text": [
            "['a', 'b', 'c']\n",
            "['a', 'b', 'c']\n",
            "['X', 'b', 'c']\n"
          ]
        }
      ]
    },
    {
      "cell_type": "markdown",
      "metadata": {
        "id": "NdT3j7OQ7YO3"
      },
      "source": [
        "[Wizualizacja](https://pythontutor.com/visualize.html#code=lista%20%3D%20%5B%22a%22,%20%22b%22,%20%22c%22%5D%0Aprint%28lista%29%0Alista1%20%3D%20lista%0Aprint%28lista1%29%0Alista%5B0%5D%20%3D%20%22X%22%0Aprint%28lista1%29&cumulative=false&curInstr=0&heapPrimitives=nevernest&mode=display&origin=opt-frontend.js&py=3&rawInputLstJSON=%5B%5D&textReferences=false)"
      ]
    },
    {
      "cell_type": "markdown",
      "metadata": {
        "id": "6lrCgUi6_ZCD"
      },
      "source": [
        "## Inne sekwencje"
      ]
    },
    {
      "cell_type": "markdown",
      "metadata": {
        "id": "nENuMVwy_b4U"
      },
      "source": [
        "Python dostarcza również inne, niż wspomniane (`str`, `tuple`, `list`) typy sekwencji np.: `bytearrays`, `range` oraz `bytes`."
      ]
    }
  ]
}