{
  "nbformat": 4,
  "nbformat_minor": 0,
  "metadata": {
    "colab": {
      "name": "Sekwencje.ipynb",
      "provenance": [],
      "collapsed_sections": [
        "LL2wMY-LhYSj",
        "QsgB0qufjeBF"
      ],
      "authorship_tag": "ABX9TyO19ZeX7U/3LiI1lNweX8Ig",
      "include_colab_link": true
    },
    "kernelspec": {
      "name": "python3",
      "display_name": "Python 3"
    },
    "language_info": {
      "name": "python"
    }
  },
  "cells": [
    {
      "cell_type": "markdown",
      "metadata": {
        "id": "view-in-github",
        "colab_type": "text"
      },
      "source": [
        "<a href=\"https://colab.research.google.com/github/URK-KIPLiIS/Python-lessons/blob/main/Sekwencje.ipynb\" target=\"_parent\"><img src=\"https://colab.research.google.com/assets/colab-badge.svg\" alt=\"Open In Colab\"/></a>"
      ]
    },
    {
      "cell_type": "markdown",
      "metadata": {
        "id": "68QeLfyffYzp"
      },
      "source": [
        "# Sekwencje\n",
        "\n",
        "* Krzysztof Molenda, (2021-11-05)\n",
        "\n",
        "---\n",
        "\n",
        "Porgramy przetwarzają dane, często nawet ich dużą ilość. W pamięci komputera dane te są zorganizwane w formie tzw. _struktur danych_. W języku Python podstawowymi strukturami danych są: listy (ang. _list_), krotki (ang. _tuple_), zbiory (ang. _set_) oraz słowniki (ang. _dictionary_). Są oczywiście dostępne inne, bardziej wyspecjalizowane struktury, jak również programista może we własny sposób organizować dane w pamięci - dostosowany do rozwiązywanego problemu.\n",
        "\n",
        "**Sekwencje (ang. _sequence_)** to ciągi elementów (ang. _item_). Kolejność elementów sekwencji jest ustalona, zaś elementy te są ponumerowane. Do elementów tych możemy się odwoływać za pomocą *indeksów* - i to jest główna cecha sekwencji.\n",
        "\n",
        "Sekwencje mogą być homogeniczne (ich elementy są tego samego typu, np. `string` jest sekwencją znaków i niczego innego) lub niehomogeniczne (np. listy).\n",
        "\n",
        "Sekwencje mogą być niemodyfikowalne (np. `string`, `tuple`) lub zmiennicze (np. `list`).\n",
        "\n",
        "Na sekwencjach można wykonywać pewne operacje (wspólnie definiowane, bez względu na szczegółowy typ sekwencji).\n",
        "\n",
        "---\n"
      ]
    },
    {
      "cell_type": "markdown",
      "metadata": {
        "id": "LL2wMY-LhYSj"
      },
      "source": [
        "## Typy sekwencyjne - ogólne własności"
      ]
    },
    {
      "cell_type": "markdown",
      "metadata": {
        "id": "uXkJkASMhcIT"
      },
      "source": [
        "Podstawowymi typami sekwencyjnymi są:\n",
        "* napisy (ang. `string`, w Pythonie nazywane `str`) - ciągi znaków (niemodyfikowalne)\n",
        "* listy (ang. `list`) - ciągi dowolnych elementów (modyfikowalne)\n",
        "* krotki (ang. `tuple`) - ciągi dowolnych elementów, o określonej liczebności (niemodyfikowalne)\n",
        "\n",
        "Przykłady:"
      ]
    },
    {
      "cell_type": "code",
      "metadata": {
        "colab": {
          "base_uri": "https://localhost:8080/"
        },
        "id": "e6C7SguEqrXj",
        "outputId": "695d00c9-4623-4378-f66a-044d6519b70f"
      },
      "source": [
        "# type(<nazwa_zmiennej>) zwraca typ zmiennej w chwili uruchomienia kodu\n",
        "\n",
        "napis = \"Ala ma kota\"\n",
        "print( type(napis) )\n",
        "\n",
        "lista = [1, 3, 5, 7]\n",
        "print( type(lista) )\n",
        "\n",
        "krotka = (1, 3, 5, 7)\n",
        "print( type(krotka) )"
      ],
      "execution_count": null,
      "outputs": [
        {
          "output_type": "stream",
          "name": "stdout",
          "text": [
            "<class 'str'>\n",
            "<class 'list'>\n",
            "<class 'tuple'>\n"
          ]
        }
      ]
    },
    {
      "cell_type": "markdown",
      "metadata": {
        "id": "fiiS-mVEy5Kd"
      },
      "source": [
        "### Indeksy"
      ]
    },
    {
      "cell_type": "markdown",
      "metadata": {
        "id": "4TrRlYfDtUQL"
      },
      "source": [
        "Wspólną cechą wszystkich sekwencji jest możliwość dostępu do określonego elementu na podstawie jego indeksu. Wykorzystywany jest w tym celu tzw. _operator indeksu_ - liczba podana w nawiasach kwadratowych `[]`, wskazująca na pozycję elementu w sekwencji. \n",
        "\n",
        "**⚠ Sekwencje w Pythonie numerowane są od `0`.**\n",
        "\n",
        "Przykładowo, w napisie `\"Ala ma kota!\"` zerowym elementem jest litera `A`, zaś ostatnia litera umieszczona jest na pozycji `11`."
      ]
    },
    {
      "cell_type": "code",
      "metadata": {
        "colab": {
          "base_uri": "https://localhost:8080/"
        },
        "id": "w5ko2Sl_vlLu",
        "outputId": "afec8686-21a7-4748-fe2a-f8359bdf342e"
      },
      "source": [
        "napis = \"Ala ma kota!\"\n",
        "print(\"element 0: \", napis[0] )\n",
        "print(\"element 1: \", napis[1] )\n",
        "print(\"element 2: \", napis[2] )\n",
        "print( \"...\")\n",
        "print(\"element 11: \", napis[11] )"
      ],
      "execution_count": null,
      "outputs": [
        {
          "output_type": "stream",
          "name": "stdout",
          "text": [
            "element 0:  A\n",
            "element 1:  l\n",
            "element 2:  a\n",
            "...\n",
            "element 11:  !\n"
          ]
        }
      ]
    },
    {
      "cell_type": "markdown",
      "metadata": {
        "id": "yUBG2CsCzpYn"
      },
      "source": [
        "Próba odwołania się do elementu o indeksie przekraczającym zakres sekwencji spowoduje błąd typu `IndexError`."
      ]
    },
    {
      "cell_type": "code",
      "metadata": {
        "colab": {
          "base_uri": "https://localhost:8080/",
          "height": 180
        },
        "id": "tVt8Rb9Z08YR",
        "outputId": "08833e15-29a4-426c-f785-f93fe9557391"
      },
      "source": [
        "napis = \"Ala ma kota!\"\n",
        "print( napis[12] )"
      ],
      "execution_count": null,
      "outputs": [
        {
          "output_type": "error",
          "ename": "IndexError",
          "evalue": "ignored",
          "traceback": [
            "\u001b[0;31m---------------------------------------------------------------------------\u001b[0m",
            "\u001b[0;31mIndexError\u001b[0m                                Traceback (most recent call last)",
            "\u001b[0;32m<ipython-input-15-930c639f5801>\u001b[0m in \u001b[0;36m<module>\u001b[0;34m()\u001b[0m\n\u001b[1;32m      1\u001b[0m \u001b[0mnapis\u001b[0m \u001b[0;34m=\u001b[0m \u001b[0;34m\"Ala ma kota!\"\u001b[0m\u001b[0;34m\u001b[0m\u001b[0;34m\u001b[0m\u001b[0m\n\u001b[0;32m----> 2\u001b[0;31m \u001b[0mprint\u001b[0m\u001b[0;34m(\u001b[0m \u001b[0mnapis\u001b[0m\u001b[0;34m[\u001b[0m\u001b[0;36m12\u001b[0m\u001b[0;34m]\u001b[0m \u001b[0;34m)\u001b[0m\u001b[0;34m\u001b[0m\u001b[0;34m\u001b[0m\u001b[0m\n\u001b[0m",
            "\u001b[0;31mIndexError\u001b[0m: string index out of range"
          ]
        }
      ]
    },
    {
      "cell_type": "markdown",
      "metadata": {
        "id": "DBtMLhVz1D6l"
      },
      "source": [
        "W języku Python wprowadzono, dla wygody programistów, **indeksowanie ujemne**\n",
        "* jeśli pozycje sekwencji liczone są od początku - stosujemy indeksy nieujemne, zaczynając od `0`\n",
        "* jeśli pozycje sekwencji liczone są od końca - stosujemy indeksy ujemne, ostatni element ma indeks równy `-1`\n",
        "* nie ma indeksu `-0`, W Pythonie `-0 == 0`, zatem indeks `-0` wskazuje również na początek napisu.\n",
        "\n",
        "Zrozumienie istoty numerowania ujemnego ułatwi poniższy rysunek"
      ]
    },
    {
      "cell_type": "markdown",
      "metadata": {
        "id": "z3K8qXpd5n9o"
      },
      "source": [
        "<img src=\"data:image/png;base64,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\" style=\"cursor:pointer;max-width:100%;\" onclick=\"(function(img){if(img.wnd!=null&&!img.wnd.closed){img.wnd.focus();}else{var r=function(evt){if(evt.data=='ready'&&evt.source==img.wnd){img.wnd.postMessage(decodeURIComponent(img.getAttribute('src')),'*');window.removeEventListener('message',r);}};window.addEventListener('message',r);img.wnd=window.open('https://viewer.diagrams.net/?client=1&page=0&edit=_blank');}})(this);\"/>"
      ]
    },
    {
      "cell_type": "code",
      "metadata": {
        "colab": {
          "base_uri": "https://localhost:8080/",
          "height": 231
        },
        "id": "ZPb9NxeT7Nsf",
        "outputId": "f7bef9f5-0042-418f-ccc9-8c2dc4e208fa"
      },
      "source": [
        "napis = \"Ala ma kota!\"\n",
        "print(\"ostatni: \", napis[-1] )\n",
        "print(\"przedostatni: \", napis[-2] )\n",
        "print(\"nieosiągalny: \", napis[-20] )"
      ],
      "execution_count": null,
      "outputs": [
        {
          "output_type": "stream",
          "name": "stdout",
          "text": [
            "ostatni:  !\n",
            "przedostatni:  a\n"
          ]
        },
        {
          "output_type": "error",
          "ename": "IndexError",
          "evalue": "ignored",
          "traceback": [
            "\u001b[0;31m---------------------------------------------------------------------------\u001b[0m",
            "\u001b[0;31mIndexError\u001b[0m                                Traceback (most recent call last)",
            "\u001b[0;32m<ipython-input-18-75ec66bacf1e>\u001b[0m in \u001b[0;36m<module>\u001b[0;34m()\u001b[0m\n\u001b[1;32m      2\u001b[0m \u001b[0mprint\u001b[0m\u001b[0;34m(\u001b[0m\u001b[0;34m\"ostatni: \"\u001b[0m\u001b[0;34m,\u001b[0m \u001b[0mnapis\u001b[0m\u001b[0;34m[\u001b[0m\u001b[0;34m-\u001b[0m\u001b[0;36m1\u001b[0m\u001b[0;34m]\u001b[0m \u001b[0;34m)\u001b[0m\u001b[0;34m\u001b[0m\u001b[0;34m\u001b[0m\u001b[0m\n\u001b[1;32m      3\u001b[0m \u001b[0mprint\u001b[0m\u001b[0;34m(\u001b[0m\u001b[0;34m\"przedostatni: \"\u001b[0m\u001b[0;34m,\u001b[0m \u001b[0mnapis\u001b[0m\u001b[0;34m[\u001b[0m\u001b[0;34m-\u001b[0m\u001b[0;36m2\u001b[0m\u001b[0;34m]\u001b[0m \u001b[0;34m)\u001b[0m\u001b[0;34m\u001b[0m\u001b[0;34m\u001b[0m\u001b[0m\n\u001b[0;32m----> 4\u001b[0;31m \u001b[0mprint\u001b[0m\u001b[0;34m(\u001b[0m\u001b[0;34m\"nieosiągalny: \"\u001b[0m\u001b[0;34m,\u001b[0m \u001b[0mnapis\u001b[0m\u001b[0;34m[\u001b[0m\u001b[0;34m-\u001b[0m\u001b[0;36m20\u001b[0m\u001b[0;34m]\u001b[0m \u001b[0;34m)\u001b[0m\u001b[0;34m\u001b[0m\u001b[0;34m\u001b[0m\u001b[0m\n\u001b[0m",
            "\u001b[0;31mIndexError\u001b[0m: string index out of range"
          ]
        }
      ]
    },
    {
      "cell_type": "markdown",
      "metadata": {
        "id": "AEUEvs6A9KiM"
      },
      "source": [
        "Sekwencje można \"ciąć na kawałki\" za pomocą tzw. mechanizmu fragmentacji (ang. _slicing_)."
      ]
    },
    {
      "cell_type": "markdown",
      "metadata": {
        "id": "CkvMA0VY07kN"
      },
      "source": [
        "#### Fragmentacja (_slicing_) sekwencji"
      ]
    },
    {
      "cell_type": "markdown",
      "metadata": {
        "id": "uf9sPkAA1vp_"
      },
      "source": [
        "Z sekwencji można wyodrębniać fragmenty, stosując notację `sekwencja[start : stop : step]`. Parametry `start` oraz `step` są opcjonalne.\n",
        "\n",
        "**WAŻNE**: parametr `stop` określa indeks końcowy, ale bez jego osiągnięcia. Zatem podając `liczby[2:4]` wyodrębniamy dwa elementy, o indeksach `2` oraz `3` (ale bez elementu o indeksie `4`)"
      ]
    },
    {
      "cell_type": "code",
      "metadata": {
        "colab": {
          "base_uri": "https://localhost:8080/"
        },
        "id": "6m8NHnZX1LFi",
        "outputId": "cdad9b0e-ade7-4df6-c5a1-50b64cfbdeb2"
      },
      "source": [
        "liczby = [1, 4, 5, 3, 5, 7, 8, 5]\n",
        "fragment1 = liczby[2] # element o indeksie 2\n",
        "print(fragment1)\n",
        "fragment2 = liczby[2:4] # elementy o indeksach od 2 do 3 włącznie\n",
        "print(fragment2)\n",
        "fragment3 = liczby[2:7:2] # elementy o indeksach od 2 do 6 włącznie, z krokiem 2\n",
        "print(fragment3)"
      ],
      "execution_count": null,
      "outputs": [
        {
          "output_type": "stream",
          "name": "stdout",
          "text": [
            "5\n",
            "[5, 3]\n",
            "[5, 5, 8]\n"
          ]
        }
      ]
    },
    {
      "cell_type": "markdown",
      "metadata": {
        "id": "RkN8Fg1m4pMN"
      },
      "source": [
        "Stosując notację fragmetatorów możemy, w bardzo zwięzły sposób określić wyodrębniane podsekwencje:\n",
        "* `seq[1:]` - elementy od drugiego do statniego\n",
        "* `seq[::2]` - co drugi element sekwencji\n",
        "* `seq[::-1]` - sekwencja odwrócona"
      ]
    },
    {
      "cell_type": "code",
      "metadata": {
        "colab": {
          "base_uri": "https://localhost:8080/"
        },
        "id": "TS2KLlxG-HgS",
        "outputId": "699754f9-0c19-490e-fce9-943f83175105"
      },
      "source": [
        "napis = \"Ala ma kota!\"\n",
        "odwrotnie = napis[::-1]\n",
        "print(odwrotnie)"
      ],
      "execution_count": null,
      "outputs": [
        {
          "output_type": "stream",
          "name": "stdout",
          "text": [
            "!atok am alA\n"
          ]
        }
      ]
    },
    {
      "cell_type": "markdown",
      "metadata": {
        "id": "Byth8bmm9wPu"
      },
      "source": [
        "## Operacje na sekwencjach"
      ]
    },
    {
      "cell_type": "markdown",
      "metadata": {
        "id": "1cpacpoXg_C-"
      },
      "source": [
        "### Operatory konkatencji i multiplikacji"
      ]
    },
    {
      "cell_type": "markdown",
      "metadata": {
        "id": "N7RauzD-90vx"
      },
      "source": [
        "Sekwencje (a więc listy, krotki, napisy, ...) mogą być łączone ze sobą. Wykorzystywane są w tym celu dwa operatory:\n",
        "* operator `+` do sklejania (konkatenacji)\n",
        "* operator `*` do zwielokrotniania (multiplikacji)\n",
        "\n",
        "Efektem ich działania jest utworzenie nowego obiektu tego samego typu, co argumenty."
      ]
    },
    {
      "cell_type": "code",
      "metadata": {
        "colab": {
          "base_uri": "https://localhost:8080/"
        },
        "id": "v3DLV3Nj-AKW",
        "outputId": "1a87d494-642e-4009-9629-82f04862c3ed"
      },
      "source": [
        "napis1 = \"Ala ma kota!\"\n",
        "napis2 = \"As to ali pies.\"\n",
        "napis = napis1 + \" \" + napis2\n",
        "print(\"sklejony napis: \", napis)\n",
        "\n",
        "krotka1 = (1, 3, 5)\n",
        "krotka2 = (2, 4)\n",
        "krotka = krotka1 + krotka2\n",
        "print(\"sklejona krotka: \", krotka)\n",
        "\n",
        "lista1 = [1, 3, 5, 6]\n",
        "lista2 = ['a', 'b']\n",
        "lista = lista1 + lista2\n",
        "print(\"sklejona lista: \", lista)"
      ],
      "execution_count": null,
      "outputs": [
        {
          "output_type": "stream",
          "name": "stdout",
          "text": [
            "sklejony napis:  Ala ma kota! As to ali pies.\n",
            "sklejona krotka:  (1, 3, 5, 2, 4)\n",
            "sklejona lista:  [1, 3, 5, 6, 'a', 'b']\n"
          ]
        }
      ]
    },
    {
      "cell_type": "code",
      "metadata": {
        "colab": {
          "base_uri": "https://localhost:8080/"
        },
        "id": "ER3Ha5TGdcT3",
        "outputId": "85595b1b-e6d0-4e87-aeed-cb2e97803013"
      },
      "source": [
        "napis1 = \" Hurra!\"\n",
        "napis = \"Koniec zajęć.\" + napis1*3 \n",
        "print(napis)\n",
        "\n",
        "krotka1 = (1, 0, 0)\n",
        "krotka = 3*krotka1\n",
        "print(krotka)\n",
        "\n",
        "lista1 = [1, 2]\n",
        "lista2 = ['a']\n",
        "lista = 2*(lista1 + 3*lista2)\n",
        "print(lista)"
      ],
      "execution_count": null,
      "outputs": [
        {
          "output_type": "stream",
          "name": "stdout",
          "text": [
            "Koniec zajęć. Hurra! Hurra! Hurra!\n",
            "(1, 0, 0, 1, 0, 0, 1, 0, 0)\n",
            "[1, 2, 'a', 'a', 'a', 1, 2, 'a', 'a', 'a']\n"
          ]
        }
      ]
    },
    {
      "cell_type": "markdown",
      "metadata": {
        "id": "0LADlv-h96ly"
      },
      "source": [
        "Operatory konkatenacji i multiplikacji nie pozwalają na mieszanie typów. Na przykład próba sklejenia krotki do listy spowoduje błąd."
      ]
    },
    {
      "cell_type": "code",
      "metadata": {
        "colab": {
          "base_uri": "https://localhost:8080/",
          "height": 197
        },
        "id": "bh4ITfBleu3y",
        "outputId": "314ac163-4e2d-49ec-acae-cb971dd90ba2"
      },
      "source": [
        "napis = \"abc\";\n",
        "krotka = ('a', 'b', 'c')\n",
        "lista = ['a', 'b', 'c']\n",
        "\n",
        "sklejka = napis + lista"
      ],
      "execution_count": null,
      "outputs": [
        {
          "output_type": "error",
          "ename": "TypeError",
          "evalue": "ignored",
          "traceback": [
            "\u001b[0;31m---------------------------------------------------------------------------\u001b[0m",
            "\u001b[0;31mTypeError\u001b[0m                                 Traceback (most recent call last)",
            "\u001b[0;32m<ipython-input-7-609d7bb5078c>\u001b[0m in \u001b[0;36m<module>\u001b[0;34m()\u001b[0m\n\u001b[1;32m      3\u001b[0m \u001b[0mlista\u001b[0m \u001b[0;34m=\u001b[0m \u001b[0;34m[\u001b[0m\u001b[0;34m'a'\u001b[0m\u001b[0;34m,\u001b[0m \u001b[0;34m'b'\u001b[0m\u001b[0;34m,\u001b[0m \u001b[0;34m'c'\u001b[0m\u001b[0;34m]\u001b[0m\u001b[0;34m\u001b[0m\u001b[0;34m\u001b[0m\u001b[0m\n\u001b[1;32m      4\u001b[0m \u001b[0;34m\u001b[0m\u001b[0m\n\u001b[0;32m----> 5\u001b[0;31m \u001b[0msklejka\u001b[0m \u001b[0;34m=\u001b[0m \u001b[0mnapis\u001b[0m \u001b[0;34m+\u001b[0m \u001b[0mlista\u001b[0m\u001b[0;34m\u001b[0m\u001b[0;34m\u001b[0m\u001b[0m\n\u001b[0m",
            "\u001b[0;31mTypeError\u001b[0m: can only concatenate str (not \"list\") to str"
          ]
        }
      ]
    },
    {
      "cell_type": "markdown",
      "metadata": {
        "id": "CGK92PM3hFKr"
      },
      "source": [
        "### Standardowe funkcje operujące na **sekwencjach**"
      ]
    },
    {
      "cell_type": "markdown",
      "metadata": {
        "id": "QsgB0qufjeBF"
      },
      "source": [
        "#### Funkcja `len()`"
      ]
    },
    {
      "cell_type": "markdown",
      "metadata": {
        "id": "lrKUzFJBhMVZ"
      },
      "source": [
        "Sekwencje, jako ciągi elementów, mają określoną długość (liczebność). Do określenia liczby elementów sekwencji służy wbudowana funkcja `len()` (skrót od angielskiego _length_)."
      ]
    },
    {
      "cell_type": "code",
      "metadata": {
        "colab": {
          "base_uri": "https://localhost:8080/"
        },
        "id": "nKeqfUImhNbB",
        "outputId": "38ea57e8-96b6-4f77-d973-61e5c1b9a140"
      },
      "source": [
        "napis = \"Ala ma kota!\"\n",
        "print( len(napis) )\n",
        "\n",
        "miasta = [\"Kraków\", \"Poznań\", \"Katowice\", \"Gdańsk\"]\n",
        "print( len(miasta) )\n",
        "\n",
        "wektor = (1, 2, 3)\n",
        "print( len(wektor) )"
      ],
      "execution_count": null,
      "outputs": [
        {
          "output_type": "stream",
          "name": "stdout",
          "text": [
            "12\n",
            "4\n",
            "3\n"
          ]
        }
      ]
    },
    {
      "cell_type": "markdown",
      "metadata": {
        "id": "SeJyUNwHjxfp"
      },
      "source": [
        "#### Operator `in`"
      ]
    },
    {
      "cell_type": "markdown",
      "metadata": {
        "id": "_22rB1JoiMKA"
      },
      "source": [
        "Do sprawdzenia, czy dany element _znajduje się_ w sekwencji, służy operator `in`. Wynikiem jego działania jest wartość logiczna `True` lub `False`. Operator ten można łączyć z operatorem `not`, zatem konstrukcja `not in` oznacza: _nie znajduje się_."
      ]
    },
    {
      "cell_type": "code",
      "metadata": {
        "colab": {
          "base_uri": "https://localhost:8080/"
        },
        "id": "WDE7HAegirEL",
        "outputId": "332f0783-f6bd-4ee5-8818-f40da26e0bc3"
      },
      "source": [
        "napis = \"Ala ma kota!\"\n",
        "print( 'a' in napis )\n",
        "print( 'r' in napis )\n",
        "print( 'r' not in napis )\n",
        "print( not 'r' in napis )"
      ],
      "execution_count": null,
      "outputs": [
        {
          "output_type": "stream",
          "name": "stdout",
          "text": [
            "True\n",
            "False\n",
            "True\n",
            "True\n"
          ]
        }
      ]
    },
    {
      "cell_type": "markdown",
      "metadata": {
        "id": "tIj7TtHejq4G"
      },
      "source": [
        "#### Metoda `.index()`"
      ]
    },
    {
      "cell_type": "markdown",
      "metadata": {
        "id": "YzFC8mRFj2sS"
      },
      "source": [
        "Wszystkie sekwencje \"wyposażone\" są w metodę `sekw.index(e)` zwracającą indeks pierwszego wystąpienia elementu `e` w podanej przed kropką sekwencji `sekw`."
      ]
    },
    {
      "cell_type": "code",
      "metadata": {
        "colab": {
          "base_uri": "https://localhost:8080/"
        },
        "id": "wbt8rLXykb0X",
        "outputId": "d4266d31-4adf-4658-e2fe-3e56a848d8da"
      },
      "source": [
        "napis = \"Ala ma kota!\"\n",
        "print(\"pierwsze wystąpienie A:\", napis.index('A') )\n",
        "print(\"pierwsze wystąpienie a:\", napis.index('a') )\n",
        "print(\"pierwsze wystąpienie !:\", napis.index('!') )"
      ],
      "execution_count": null,
      "outputs": [
        {
          "output_type": "stream",
          "name": "stdout",
          "text": [
            "pierwsze wystąpienie A: 0\n",
            "pierwsze wystąpienie a: 2\n",
            "pierwsze wystąpienie !: 11\n"
          ]
        }
      ]
    },
    {
      "cell_type": "markdown",
      "metadata": {
        "id": "K54DdI-ImZWO"
      },
      "source": [
        " W przypadku braku wskazanego elementu w sekwencji, zwracany jest błąd."
      ]
    },
    {
      "cell_type": "code",
      "metadata": {
        "colab": {
          "base_uri": "https://localhost:8080/",
          "height": 180
        },
        "id": "nELcyYQ1mccF",
        "outputId": "ab3fbab4-bb27-4f8e-c4ec-9cbeea23373d"
      },
      "source": [
        "napis = \"Ala ma kota!\"\n",
        "print( napis.index('r') ) # litery 'r' nie ma w napisie"
      ],
      "execution_count": 1,
      "outputs": [
        {
          "output_type": "error",
          "ename": "ValueError",
          "evalue": "ignored",
          "traceback": [
            "\u001b[0;31m---------------------------------------------------------------------------\u001b[0m",
            "\u001b[0;31mValueError\u001b[0m                                Traceback (most recent call last)",
            "\u001b[0;32m<ipython-input-1-47eb1e09e5ab>\u001b[0m in \u001b[0;36m<module>\u001b[0;34m()\u001b[0m\n\u001b[1;32m      1\u001b[0m \u001b[0mnapis\u001b[0m \u001b[0;34m=\u001b[0m \u001b[0;34m\"Ala ma kota!\"\u001b[0m\u001b[0;34m\u001b[0m\u001b[0;34m\u001b[0m\u001b[0m\n\u001b[0;32m----> 2\u001b[0;31m \u001b[0mprint\u001b[0m\u001b[0;34m(\u001b[0m \u001b[0mnapis\u001b[0m\u001b[0;34m.\u001b[0m\u001b[0mindex\u001b[0m\u001b[0;34m(\u001b[0m\u001b[0;34m'r'\u001b[0m\u001b[0;34m)\u001b[0m \u001b[0;34m)\u001b[0m \u001b[0;31m# litert 'r' nie ma w napisie\u001b[0m\u001b[0;34m\u001b[0m\u001b[0;34m\u001b[0m\u001b[0m\n\u001b[0m",
            "\u001b[0;31mValueError\u001b[0m: substring not found"
          ]
        }
      ]
    },
    {
      "cell_type": "markdown",
      "metadata": {
        "id": "X-Ah2lI_mk6M"
      },
      "source": [
        "Metoda `index` może być użyta w rozszerzonym zakresie. Dysponuje dwoma opcjonalnymi parametrami: `start` oraz `stop`. Parametry te służą do zawężania obszaru przeszukiwania - od `start` do `stop` ale bez `stop`.\n",
        "\n",
        "Formalna definicja:\n",
        "\n",
        "```python[tekst linku](https://)\n",
        "seq.index( element, start(optional), stop(optional) )\n",
        "```"
      ]
    },
    {
      "cell_type": "code",
      "metadata": {
        "colab": {
          "base_uri": "https://localhost:8080/"
        },
        "id": "bUs5K6K_nSrS",
        "outputId": "f3635646-a383-4080-ccd4-483b06105a85"
      },
      "source": [
        "napisy = [\"aa\", \"bb\", \"cc\", \"dd\", \"aa\", \"aa\", \"aa\", \"dd\", \"ff\", \"cc\"]\n",
        "print( napisy.index(\"aa\", 3, 8) ) # zwraca pierwsze wystąpienie elementu \"aa\" w pod-sekwencji, licząc od indeksu 3 do 8 (bez 8)"
      ],
      "execution_count": 13,
      "outputs": [
        {
          "output_type": "stream",
          "name": "stdout",
          "text": [
            "4\n"
          ]
        }
      ]
    },
    {
      "cell_type": "markdown",
      "metadata": {
        "id": "u_PIDIbhqZ-7"
      },
      "source": [
        "Jeśli nie podano wartości ostatniego parametru `stop`, poszukiwania zaczynają się od indeksu `start` do końca sekwencji."
      ]
    },
    {
      "cell_type": "code",
      "metadata": {
        "colab": {
          "base_uri": "https://localhost:8080/"
        },
        "id": "Bk03w1gKq0TY",
        "outputId": "d72723d1-0e3e-4b43-cfb6-1189d937bad0"
      },
      "source": [
        "napisy = [\"aa\", \"bb\", \"cc\", \"dd\", \"aa\", \"aa\", \"aa\", \"dd\", \"ff\", \"cc\"]\n",
        "print( napisy.index(\"dd\", 4) ) # zwraca pierwsze wystąpienie elementu \"dd\" w pod-sekwencji, licząc od indeksu 4 do końca"
      ],
      "execution_count": 15,
      "outputs": [
        {
          "output_type": "stream",
          "name": "stdout",
          "text": [
            "7\n"
          ]
        }
      ]
    },
    {
      "cell_type": "markdown",
      "metadata": {
        "id": "a0ZFfo4ImaZ2"
      },
      "source": [
        "#### Metoda `.count()`"
      ]
    },
    {
      "cell_type": "markdown",
      "metadata": {
        "id": "3Ap1UkPxmc5M"
      },
      "source": [
        "Dla wszystkich sekwencji możemy zliczać wystąpienie konkretnego elementu `e` metodą `sekwencja.count( e )`."
      ]
    },
    {
      "cell_type": "code",
      "metadata": {
        "colab": {
          "base_uri": "https://localhost:8080/"
        },
        "id": "mlGUyVnFmw-a",
        "outputId": "b008aa9a-3866-48a7-e1c7-6f4015835a22"
      },
      "source": [
        "dane = [1, 4, 3, 2, 5, 1, 5, 3, 1, 6, 1, 1, 2, 3, 5]\n",
        "print(\"liczba wystąpień 1: \", dane.count(1))\n",
        "print(\"liczba wystąpień 7: \", dane.count(7))"
      ],
      "execution_count": 29,
      "outputs": [
        {
          "output_type": "stream",
          "name": "stdout",
          "text": [
            "liczba wystąpień 1:  5\n",
            "liczba wystąpień 7:  0\n"
          ]
        }
      ]
    },
    {
      "cell_type": "markdown",
      "metadata": {
        "id": "51jbrnCzwWwE"
      },
      "source": [
        "#### Konwersje sekwencji na inne typy"
      ]
    },
    {
      "cell_type": "markdown",
      "metadata": {
        "id": "5AIGim337oLn"
      },
      "source": [
        "Sekwencje możemy konwertować między sobą, tzn. np. sekencję typu _krotka_ (któa jest niemodyfikowalna) możemy zamienić na sekwencję typu _lista_, a dla tej można już zmieniać wartości. Później możemy wykonać konwersję odwroną. Funkcje konwertujące:\n",
        "* `tuple(sekwencja)` - zamienia inną sekwencję na krotke\n",
        "* `list(sekwencja)` - zamienia inną sekwencję na listę"
      ]
    },
    {
      "cell_type": "code",
      "metadata": {
        "colab": {
          "base_uri": "https://localhost:8080/"
        },
        "id": "jKnfde62wdrL",
        "outputId": "82362a1f-9b55-4e5a-9b89-8ca2ec8c3d00"
      },
      "source": [
        "napis = \"Ala ma kota!\"\n",
        "krotka_liter = tuple(napis) # konwertujemy string na krotkę znaków\n",
        "print(krotka_liter)\n",
        "\n",
        "lista_liter = list(napis) # konwertujemy string na listę znaków\n",
        "print(lista_liter)\n",
        "\n",
        "lista_liter[0] = 'a' # modyfikujemy zerowy element listy\n",
        "print(lista_liter)\n",
        "napis1 = \"\".join(lista_liter) # łączymy elementy listy w string używając separatora pusty znak\n",
        "print(napis1)"
      ],
      "execution_count": 30,
      "outputs": [
        {
          "output_type": "stream",
          "name": "stdout",
          "text": [
            "('A', 'l', 'a', ' ', 'm', 'a', ' ', 'k', 'o', 't', 'a', '!')\n",
            "['A', 'l', 'a', ' ', 'm', 'a', ' ', 'k', 'o', 't', 'a', '!']\n",
            "['a', 'l', 'a', ' ', 'm', 'a', ' ', 'k', 'o', 't', 'a', '!']\n",
            "ala ma kota!\n"
          ]
        }
      ]
    },
    {
      "cell_type": "markdown",
      "metadata": {
        "id": "MK8w-UaGsaj5"
      },
      "source": [
        "#### Inne metody wspólne dla sekwencji"
      ]
    },
    {
      "cell_type": "markdown",
      "metadata": {
        "id": "dsuFH-DYtBRN"
      },
      "source": [
        "Jeśli elementy sekwencji są **porównywalne** (można ustalić, który element jest większy, a który mniejszy), można zastosować funkcje wbudowane `min()` oraz `max()`.\n",
        "\n",
        "W przypadku napisów, porządek nazywany jest _leksykograficznym_ (encyklopedycznym)."
      ]
    },
    {
      "cell_type": "code",
      "metadata": {
        "colab": {
          "base_uri": "https://localhost:8080/"
        },
        "id": "FEQgzcm8sfZ1",
        "outputId": "58ddf6c2-9207-4426-81a7-4898fce2ec27"
      },
      "source": [
        "napisy = [\"aa\", \"bb\", \"cc\", \"dd\", \"aa\", \"aa\", \"aa\", \"dd\", \"ff\", \"cc\"]\n",
        "print(\"min:\", min(napisy))\n",
        "print(\"max:\", max(napisy))\n",
        "liczby = [1, 4, 5, 3, 5, 7, 8, 5]\n",
        "print(\"min:\", min(liczby))\n",
        "print(\"max:\", max(liczby))\n"
      ],
      "execution_count": 16,
      "outputs": [
        {
          "output_type": "stream",
          "name": "stdout",
          "text": [
            "min: aa\n",
            "max: ff\n",
            "min: 1\n",
            "max: 8\n"
          ]
        }
      ]
    },
    {
      "cell_type": "code",
      "metadata": {
        "colab": {
          "base_uri": "https://localhost:8080/",
          "height": 180
        },
        "id": "lP8uUKLOtWng",
        "outputId": "1fdb8d3e-7193-4df0-8d81-b34522ef2e26"
      },
      "source": [
        "lista_niehomogeniczna = [1, 2, 'a', \"ala\", [1, 2], []]\n",
        "print( max(lista_niehomogeniczna) )"
      ],
      "execution_count": null,
      "outputs": [
        {
          "output_type": "error",
          "ename": "TypeError",
          "evalue": "ignored",
          "traceback": [
            "\u001b[0;31m---------------------------------------------------------------------------\u001b[0m",
            "\u001b[0;31mTypeError\u001b[0m                                 Traceback (most recent call last)",
            "\u001b[0;32m<ipython-input-29-60e1d7d855fe>\u001b[0m in \u001b[0;36m<module>\u001b[0;34m()\u001b[0m\n\u001b[1;32m      1\u001b[0m \u001b[0mlista_niehomogeniczna\u001b[0m \u001b[0;34m=\u001b[0m \u001b[0;34m[\u001b[0m\u001b[0;36m1\u001b[0m\u001b[0;34m,\u001b[0m \u001b[0;36m2\u001b[0m\u001b[0;34m,\u001b[0m \u001b[0;34m'a'\u001b[0m\u001b[0;34m,\u001b[0m \u001b[0;34m\"ala\"\u001b[0m\u001b[0;34m,\u001b[0m \u001b[0;34m[\u001b[0m\u001b[0;36m1\u001b[0m\u001b[0;34m,\u001b[0m \u001b[0;36m2\u001b[0m\u001b[0;34m]\u001b[0m\u001b[0;34m,\u001b[0m \u001b[0;34m[\u001b[0m\u001b[0;34m]\u001b[0m\u001b[0;34m]\u001b[0m\u001b[0;34m\u001b[0m\u001b[0;34m\u001b[0m\u001b[0m\n\u001b[0;32m----> 2\u001b[0;31m \u001b[0mprint\u001b[0m\u001b[0;34m(\u001b[0m \u001b[0mmax\u001b[0m\u001b[0;34m(\u001b[0m\u001b[0mlista_niehomogeniczna\u001b[0m\u001b[0;34m)\u001b[0m \u001b[0;34m)\u001b[0m\u001b[0;34m\u001b[0m\u001b[0;34m\u001b[0m\u001b[0m\n\u001b[0m",
            "\u001b[0;31mTypeError\u001b[0m: '>' not supported between instances of 'str' and 'int'"
          ]
        }
      ]
    },
    {
      "cell_type": "markdown",
      "metadata": {
        "id": "gmrIAzImvjXB"
      },
      "source": [
        "W przypadku, gdy elementami sekwencji są liczby, możemy obliczyć sumę tych elementów za pomocą wbudowanej funkcji `sum(sekwencja_liczb)`"
      ]
    },
    {
      "cell_type": "code",
      "metadata": {
        "colab": {
          "base_uri": "https://localhost:8080/"
        },
        "id": "DTDnCVlouI0h",
        "outputId": "8cfc8a86-8775-4f64-efdd-f16b9baf2a82"
      },
      "source": [
        "liczby = [1, 4, 5, 3, 5, 7, 8, 5]\n",
        "print(\"suma = \", sum(liczby) )\n",
        "print(\"średnia arytmetyczna = \", sum(liczby)/len(liczby) )"
      ],
      "execution_count": null,
      "outputs": [
        {
          "output_type": "stream",
          "name": "stdout",
          "text": [
            "suma =  38\n",
            "średnia arytmetyczna =  4.75\n"
          ]
        }
      ]
    },
    {
      "cell_type": "markdown",
      "metadata": {
        "id": "VWZHCyeuy8qt"
      },
      "source": [
        "### Modyfikowalność i niezmienniczość"
      ]
    },
    {
      "cell_type": "markdown",
      "metadata": {
        "id": "QHcw1O7Mr1bP"
      },
      "source": [
        "Sekwencje (ale również ogólnie: obiekty) mogą być **niemodyfikowalne** (ang. _immutable_) lub mogą zmieniać swoją zawartość (ang. _mutable_). Na przykład napisy oraz krotki są niemodyfikowalne - ich stan, po utworzeniu, nie może ulec zmianie. Zawartość listy można natomiast zmieniać."
      ]
    },
    {
      "cell_type": "markdown",
      "metadata": {
        "id": "5BMIo3XCwqlc"
      },
      "source": [
        "Na przykład próba modyfikacji dużej litery `A` w napisie `Ala ma kota` na literę małą `a` zgłosi błąd z komentarzem `TypeError: 'str' object does not support item assignment`."
      ]
    },
    {
      "cell_type": "code",
      "metadata": {
        "colab": {
          "base_uri": "https://localhost:8080/",
          "height": 214
        },
        "id": "YVjl8bsNwZ9v",
        "outputId": "72c1c9c6-a1a0-4800-b774-9ad7934c4beb"
      },
      "source": [
        "napis = \"Ala ma kota\"\n",
        "print( napis[0] )\n",
        "napis[0] = 'a'"
      ],
      "execution_count": null,
      "outputs": [
        {
          "output_type": "stream",
          "name": "stdout",
          "text": [
            "A\n"
          ]
        },
        {
          "output_type": "error",
          "ename": "TypeError",
          "evalue": "ignored",
          "traceback": [
            "\u001b[0;31m---------------------------------------------------------------------------\u001b[0m",
            "\u001b[0;31mTypeError\u001b[0m                                 Traceback (most recent call last)",
            "\u001b[0;32m<ipython-input-9-d8d11b7b0496>\u001b[0m in \u001b[0;36m<module>\u001b[0;34m()\u001b[0m\n\u001b[1;32m      1\u001b[0m \u001b[0mnapis\u001b[0m \u001b[0;34m=\u001b[0m \u001b[0;34m\"Ala ma kota\"\u001b[0m\u001b[0;34m\u001b[0m\u001b[0;34m\u001b[0m\u001b[0m\n\u001b[1;32m      2\u001b[0m \u001b[0mprint\u001b[0m\u001b[0;34m(\u001b[0m \u001b[0mnapis\u001b[0m\u001b[0;34m[\u001b[0m\u001b[0;36m0\u001b[0m\u001b[0;34m]\u001b[0m \u001b[0;34m)\u001b[0m\u001b[0;34m\u001b[0m\u001b[0;34m\u001b[0m\u001b[0m\n\u001b[0;32m----> 3\u001b[0;31m \u001b[0mnapis\u001b[0m\u001b[0;34m[\u001b[0m\u001b[0;36m0\u001b[0m\u001b[0;34m]\u001b[0m \u001b[0;34m=\u001b[0m \u001b[0;34m'a'\u001b[0m\u001b[0;34m\u001b[0m\u001b[0;34m\u001b[0m\u001b[0m\n\u001b[0m",
            "\u001b[0;31mTypeError\u001b[0m: 'str' object does not support item assignment"
          ]
        }
      ]
    },
    {
      "cell_type": "markdown",
      "metadata": {
        "id": "tyxrkRHnw-o6"
      },
      "source": [
        "Podobna sytuacja występi w przypadku próby modyfikacji krotki (błąd: `TypeError: 'tuple' object does not support item assignment`)"
      ]
    },
    {
      "cell_type": "code",
      "metadata": {
        "colab": {
          "base_uri": "https://localhost:8080/",
          "height": 214
        },
        "id": "dnXwqrlVx9nS",
        "outputId": "23aa256c-2d4d-428a-ad13-be8f7282a0a2"
      },
      "source": [
        "krotka = (1, 3, 5, 7)\n",
        "print( krotka[2] )\n",
        "krotka[2] = 4"
      ],
      "execution_count": null,
      "outputs": [
        {
          "output_type": "stream",
          "name": "stdout",
          "text": [
            "5\n"
          ]
        },
        {
          "output_type": "error",
          "ename": "TypeError",
          "evalue": "ignored",
          "traceback": [
            "\u001b[0;31m---------------------------------------------------------------------------\u001b[0m",
            "\u001b[0;31mTypeError\u001b[0m                                 Traceback (most recent call last)",
            "\u001b[0;32m<ipython-input-11-48b01182e1de>\u001b[0m in \u001b[0;36m<module>\u001b[0;34m()\u001b[0m\n\u001b[1;32m      1\u001b[0m \u001b[0mkrotka\u001b[0m \u001b[0;34m=\u001b[0m \u001b[0;34m(\u001b[0m\u001b[0;36m1\u001b[0m\u001b[0;34m,\u001b[0m \u001b[0;36m3\u001b[0m\u001b[0;34m,\u001b[0m \u001b[0;36m5\u001b[0m\u001b[0;34m,\u001b[0m \u001b[0;36m7\u001b[0m\u001b[0;34m)\u001b[0m\u001b[0;34m\u001b[0m\u001b[0;34m\u001b[0m\u001b[0m\n\u001b[1;32m      2\u001b[0m \u001b[0mprint\u001b[0m\u001b[0;34m(\u001b[0m \u001b[0mkrotka\u001b[0m\u001b[0;34m[\u001b[0m\u001b[0;36m2\u001b[0m\u001b[0;34m]\u001b[0m \u001b[0;34m)\u001b[0m\u001b[0;34m\u001b[0m\u001b[0;34m\u001b[0m\u001b[0m\n\u001b[0;32m----> 3\u001b[0;31m \u001b[0mkrotka\u001b[0m\u001b[0;34m[\u001b[0m\u001b[0;36m2\u001b[0m\u001b[0;34m]\u001b[0m \u001b[0;34m=\u001b[0m \u001b[0;36m4\u001b[0m\u001b[0;34m\u001b[0m\u001b[0;34m\u001b[0m\u001b[0m\n\u001b[0m",
            "\u001b[0;31mTypeError\u001b[0m: 'tuple' object does not support item assignment"
          ]
        }
      ]
    },
    {
      "cell_type": "markdown",
      "metadata": {
        "id": "Nvyge7HDzEbh"
      },
      "source": [
        "Natomiast listy mogą ulegać zmianie podczas ich \"życia\" w programie"
      ]
    },
    {
      "cell_type": "code",
      "metadata": {
        "colab": {
          "base_uri": "https://localhost:8080/"
        },
        "id": "PMTeW19OzNPV",
        "outputId": "a881dbfd-0cd2-48dd-89d9-03880a77b4dc"
      },
      "source": [
        "lista = [1, 3, 5, 7]\n",
        "print( lista[2] )\n",
        "lista[2] = 4\n",
        "print( lista )"
      ],
      "execution_count": null,
      "outputs": [
        {
          "output_type": "stream",
          "name": "stdout",
          "text": [
            "5\n",
            "[1, 3, 4, 7]\n"
          ]
        }
      ]
    },
    {
      "cell_type": "markdown",
      "metadata": {
        "id": "9EGDdyv48FeP"
      },
      "source": [
        "## Odwołania"
      ]
    },
    {
      "cell_type": "markdown",
      "metadata": {
        "id": "j1REaij3rza8"
      },
      "source": [
        "Sekwencje są obiektami, przechowującymi wiele danych. Zmienna, której przypisano sekwencję przechowuje jej referencję, a nie same wartości. Ma to konsekwencje w przypadku działania operatora przypisania `=`."
      ]
    },
    {
      "cell_type": "code",
      "metadata": {
        "colab": {
          "base_uri": "https://localhost:8080/"
        },
        "id": "vV8WxwvzsP35",
        "outputId": "92dcc7e0-e71b-4137-937f-943764b0c4b6"
      },
      "source": [
        "lista = [\"a\", \"b\", \"c\"] # utworzenie obiektu i przypisanie go do zmiennej `lista`\n",
        "print(lista)\n",
        "lista1 = lista # do zmiennej `lista1` przypisujemy zmienną `lista` - tworzymy alias, a nie kopię kolekcji\n",
        "print(lista1)\n",
        "lista[0] = \"X\" # zmiany w obiekcie wskazywanym przez `lista`\n",
        "print(lista1) # zmiany widoczne w `lista1`, bo obie zmienne wskazują na ten sam obiekt"
      ],
      "execution_count": 31,
      "outputs": [
        {
          "output_type": "stream",
          "name": "stdout",
          "text": [
            "['a', 'b', 'c']\n",
            "['a', 'b', 'c']\n",
            "['X', 'b', 'c']\n"
          ]
        }
      ]
    },
    {
      "cell_type": "markdown",
      "metadata": {
        "id": "NdT3j7OQ7YO3"
      },
      "source": [
        "[Wizualizacja](https://pythontutor.com/visualize.html#code=lista%20%3D%20%5B%22a%22,%20%22b%22,%20%22c%22%5D%0Aprint%28lista%29%0Alista1%20%3D%20lista%0Aprint%28lista1%29%0Alista%5B0%5D%20%3D%20%22X%22%0Aprint%28lista1%29&cumulative=false&curInstr=0&heapPrimitives=nevernest&mode=display&origin=opt-frontend.js&py=3&rawInputLstJSON=%5B%5D&textReferences=false)"
      ]
    },
    {
      "cell_type": "markdown",
      "metadata": {
        "id": "1hBNSVvm9bw6"
      },
      "source": [
        "![image.png](data:image/png;base64,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)"
      ]
    },
    {
      "cell_type": "markdown",
      "metadata": {
        "id": "6lrCgUi6_ZCD"
      },
      "source": [
        "## Inne sekwencje"
      ]
    },
    {
      "cell_type": "markdown",
      "metadata": {
        "id": "nENuMVwy_b4U"
      },
      "source": [
        "Python dostarcza również inne, niż wspomniane (`str`, `tuple`, `list`) typy sekwencji tj.: `bytearrays`, `range` oraz `bytes`."
      ]
    },
    {
      "cell_type": "markdown",
      "metadata": {
        "id": "DNnEsVSb-lD3"
      },
      "source": [
        "### Sekwencja `range`"
      ]
    },
    {
      "cell_type": "markdown",
      "metadata": {
        "id": "jeeJguKE-x79"
      },
      "source": [
        "## Przetwarzanie sekwencji za pomocą pętli"
      ]
    }
  ]
}