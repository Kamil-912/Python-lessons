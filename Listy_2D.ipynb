{
  "cells": [
    {
      "cell_type": "markdown",
      "metadata": {
        "id": "view-in-github",
        "colab_type": "text"
      },
      "source": [
        "<a href=\"https://colab.research.google.com/github/URK-KIPLiIS/Python-lessons/blob/main/Listy_2D.ipynb\" target=\"_parent\"><img src=\"https://colab.research.google.com/assets/colab-badge.svg\" alt=\"Open In Colab\"/></a>"
      ]
    },
    {
      "cell_type": "markdown",
      "metadata": {
        "id": "vHwxcnUh6adw"
      },
      "source": [
        "# Listy 2D w Pythonie\n",
        "\n",
        "* Krzysztof Molenda, 2023-03-25"
      ]
    },
    {
      "cell_type": "markdown",
      "metadata": {
        "id": "hftJEbGI6ad1"
      },
      "source": [
        "2-wymiarowe struktury danych w Pythonie można zbudować na kilka sposobów. Natywną formą są listy list (listy zagnieżdżone w listach). Inne biblioteki języka (np. numpy) wprowadzają bardziej ogólne podejście. "
      ]
    },
    {
      "cell_type": "markdown",
      "metadata": {
        "id": "b_OhZ4hS6ad2"
      },
      "source": [
        "## Lista list\n",
        "\n",
        "_Lista-list_ to lista, w której każdy element również jest listą. W ten sposób możemy zbudować tablicę dwuwymiarową."
      ]
    },
    {
      "cell_type": "code",
      "execution_count": null,
      "metadata": {
        "id": "L-KCDymY6ad3"
      },
      "outputs": [],
      "source": [
        "# lista składająca się z 3 wierszy, każdy wiersz składa się z 2 elementów\n",
        "# można ją utożsamiać z tablicą dwuwymiarową 3x2 \n",
        "tab = [[1, 2], [4, 5], [7, 8]]"
      ]
    },
    {
      "cell_type": "markdown",
      "metadata": {
        "id": "62XGvSWw6ad5"
      },
      "source": [
        "Na poniższym rysunku zaprezentowano organizację wewnętrzną listy list. Zmienna `tab` wskazuje na listę 3-elementową. Każdy element tej listy jest listą 2-elementową. ([Wizualizacja na pythontutor.com](https://pythontutor.com/visualize.html#code=tab%20%3D%20%5B%5B1,%202%5D,%20%5B4,%205%5D,%20%5B7,%208%5D%5D&cumulative=false&curInstr=1&heapPrimitives=nevernest&mode=display&origin=opt-frontend.js&py=3&rawInputLstJSON=%5B%5D&textReferences=false))"
      ]
    },
    {
      "cell_type": "markdown",
      "metadata": {
        "id": "YR1sZui06ad5"
      },
      "source": [
        "<img src=\"data:image/png;base64,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\">"
      ]
    },
    {
      "cell_type": "markdown",
      "metadata": {
        "id": "Du602sQe6ad-"
      },
      "source": [
        "Do elementów tak zbudowanej tablicy możemy odwoływać się za pomocą indeksów. Indeks pierwszego wymiaru odpowiada numerowi wiersza, a drugiego wymiaru - numerowi kolumny:"
      ]
    },
    {
      "cell_type": "code",
      "execution_count": null,
      "metadata": {
        "id": "xHTJzXAP6ad-"
      },
      "outputs": [],
      "source": [
        "print(f\"tab[0][0] = {tab[0][0]}\") # pierwszy wiersz, pierwsza kolumna\n",
        "print(f\"tab[2][1] = {tab[2][1]}\") # trzeci wiersz, druga kolumna\n",
        "print(f\"tab[1][2] = {tab[1][2]}\") # drugi wiersz, trzecia kolumna <-- błąd, nie ma takiej kolumny, IndexError"
      ]
    },
    {
      "cell_type": "markdown",
      "metadata": {
        "id": "-JyThXBG6ad_"
      },
      "source": [
        "Dla tablicy `tab` możemy również odwoływać się do całych wierszy, za pomocą indeksu wiersza, ale nie do całych kolumn (wynika to bowiem z architektury tablicy dwuwymiarowej). W takim przypadku dostaniemy tablicę jednowymiarową."
      ]
    },
    {
      "cell_type": "code",
      "execution_count": null,
      "metadata": {
        "id": "ypPGYgqO6aeA",
        "outputId": "10e44791-8d03-4bf6-b589-2c250451c8f8"
      },
      "outputs": [
        {
          "name": "stdout",
          "output_type": "stream",
          "text": [
            "[4, 5]\n"
          ]
        }
      ],
      "source": [
        "print(tab[1]) # wyświetla cały drugi wiersz"
      ]
    },
    {
      "cell_type": "markdown",
      "metadata": {
        "id": "Q11GHSdz6aeB"
      },
      "source": [
        "Operowanie bezpośrednio na kolumnach możliwe jest w realizacji tablic 2D pakietu `numpy`.\n",
        "\n",
        "Techniczne możliwe jest to również dla listy-list, jeśli wykonamy transpozycję tablicy, czyli zamienimy wiersze na kolumny i odwrotnie. Wtedy możemy odwoływać się do kolumn za pomocą indeksu kolumny."
      ]
    },
    {
      "cell_type": "code",
      "execution_count": null,
      "metadata": {
        "id": "SoXmdUvu6aeB",
        "outputId": "fe35200b-123a-46dc-8670-04c6d402e602"
      },
      "outputs": [
        {
          "name": "stdout",
          "output_type": "stream",
          "text": [
            "[[1, 4, 7], [2, 5, 8]]\n"
          ]
        }
      ],
      "source": [
        "tab2 = [[tab[j][i] for j in range(len(tab))] for i in range(len(tab[0]))]\n",
        "print(tab2)"
      ]
    },
    {
      "cell_type": "markdown",
      "metadata": {
        "id": "8BQunAy76aeC"
      },
      "source": [
        "Ze względu na wewnętrzną architekturę tablic, możemy je podzielić na:\n",
        "\n",
        "* tablice regularne, czyli takie, dla których każdy wiersz ma tę samą liczbę elementów (można je wtedy utożsamiać z tablicami prostokątnymi o wymiarach `n x m`)\n",
        "* tablice nieregularne (postrzępione), czyli takie, dla których niektóre wiersze mogą mieć inną różną elementów\n",
        "\n",
        "Przykładem tablicy nieregularnej jest np. poniższa tablica (stąd nazwa _postrzępiona_):\n",
        "\n",
        "`tab1 = [[1, 2, 3], [4, 5], [6, 7, 8, 9], [3]]`\n",
        "\n",
        "<img src=\"data:image/png;base64,iVBORw0KGgoAAAANSUhEUgAAAW8AAAEpCAIAAADTXzQyAAAAAXNSR0IArs4c6QAAAARnQU1BAACxjwv8YQUAAAAJcEhZcwAADsMAAA7DAcdvqGQAADRkSURBVHhe7d0JXEzdGwfw2yop+1qhbJF4LVkLFf6WbG2j7GVLKm8iIdsr9Jb0Kkq27GUou2wtyB5CSeuEFkWUVFLpf+7MmTZFy51p5s7z/cyHe86ducbU/OY55965V6y0tJQAAIAGE8d/AwBAw0CaAACoAWkCAKAGpAkAgBqQJgAAakCagF/cctTQcAzBjcoSD8/WmH04EbcAqEjw04R1eJZGFY638DpQf2QulOF5QLAOztaYdZiFW4CehKM2UbU4E1GB0zjcD+oJVR8zvVSc8esZ4aziNbN2Gd3d/GTESfPuuAVARcI70gkhy/Fb5J/kZ+tBVsh69hJH+ccgWdrMPniYczcEvWfK77m+UjlfYQsV6nyy7OeiyadriKPDNRTQ5aE8zumMheq1w5X+d8momqj8vybrC1KFQqbCi1MpjCr0ox8NahrviyXivIzZHeyHVyo5odikiVJBl3TIdPCsA0m4VS54/WBkfTBuVkSu4j6EfHjZ3ZIOzEINvCrhEGqsv8legR6zbvBg00Ocx5Qvk/eZdSiB3Utuqtp/TthU+k9x3USvGfd/Ry5XegHLX/+KjyXv9qdl9LNYR26VfOW5Ly9CvsLsftLN9dX9fIHwEY7aJHYf+1ONo0JBMdHZSRcvVqSrO4GIZZV/0KpaLOTcTUVZBT1o4SL0Jyradcb2IljJnLuFhFxXtdxqzl5B6JpbqsYlcR8fy11SMT9V7T8nbFhJseiVqDJaUemmil6M8tkT7qtEqOjoqsaGhJa/mlwhoajAccKjnnELLXtxXijW4cMV+gldp201vGbclx5VRifxvwWEmxDOm9T021lhWtH+Ou6rrUT0mx3rNRM/XGOmVyznrdXd3AkNARxwN1m000DV4GCrNmLYyAguz9YyZBhUSHljr7jyfPgj3W0uE/HAB6lh/xEQNsI7b1IZipIK04ouE3B3XahansYPZ8NzjSqLTuIO54mx+xzpsHO0O4qH2ODK1QYZBL26VVsh/GZVldnxupQYuk74QWcse12zrzyBBYQUXdKE/GidqIunFdGwhbNQa93NF06I9dpQce6W/YF5y7G8HiE/0ulB14lMRuPyuU/2LOlEczzQqyzk0L5YVV2dX1apmJtXilfWwdnsDVbpD3FkJ0XlAof78pLYo09AC3RJk3FOLhOu2ePKOYSoe22iuy3CRaWs9jb2UtElB1TjdFXKinmy9qHLztFxThGnLVncEZyGAwvVZZX3u5e9mPYsizPVFx1oI+xdyxzG+1RwmpN7iAhuvz1Lhf1YcmKFs83ZhxNVdHRZ3O2je1ieqWn0CoSKWCmc3wTUHjmiDB57Gg45AdWgS20C+KPmyVoAoDYBtcI6OJs8Ao3cKw/HIoPqQZoAAKgBIx1AS+FuDLfwSguA5yBNAL1p2THttPByJeE7GbZ+3H3WgAqQJgAAakCaAHorG+mw/G0Z2M5w4p6bx2Mi9dwa1HK7x74jaDBIEyASWH4egYo2TDYbxRSWpp3NUEJR/1/UtNPE9wENBGkCRIJKFyXisQfD1p9FEFqmJnA0Py9AmgDRoGlHliUrCA9yqAN7eXgC0gSIhPCdtv7JBKFs4s60GUakpKBlQDVIEyAStEYoBdqTZQmD4ZGib2OiTGgZGRAwC0spOBYWAEANqE0AANSANAEAUAPSBABADZg3ATTEYDCYTFvcoA6D4c6LzSI82/II/DdfkGnidzlIa7g27gB/0rltU7wEBBWkCRdf0wRGOgAAakCaAACoAWkCAKAGpAkQDWnRLg4XHMjbzStpuI8yEQ8dXKOp3eoTX86z5c0T5g1IEyAKcq6cTGhnNN3ZebqzkfzdkxS+89/6ojf82QzcoszbqE89bNCzdZ5uo0VQ+oR5CNIEiIC0lOisDuoa7GWNTqpZac8pe3d2NSMTqgNuUaar2eq+CuwlhUEKrdkLgg/SBIiGNvKKeKll+zZ4SSg8uZ7wua0cJ1kEHKQJAIIr7fLNADTkMeuK24Kt7mlyxbZLO1nyZn8B99TowoZ2k/fH4MafvNmvz95s7R9S9kza2QbhLgBqkJWbipeyM7PwkoBDUeIRo2DDHfIIvj+kSZA95+1K3jZcYXfpub/7mB+yifJjZ3svOZf/7qPffNz8owsbFsQ63kEPQTf3SbgTgOooKPVtkxEVwV6OSI9tozBQ0N+gOVdcL3h87OUsPFGC/CZNyGJhKeHHfruSt616eIVAiElOIFQ798EtAH6rhd7sHh/Psne4ns0dNZvCtyh3n05WgofDBV9OYDUcOW1MELGR3J3E1G2Zl2pOkys+TuFLfVym4+YflY87uFUMSbVz0i8jo5jdptx7dtHfnYB7a43z8NFr7xE+S9kbMd3zhr0Cxd/k/Ve4G+duOWHPZPxvld0TbUF/936y7OLev5o7w+hJ+ARHJWfnfceNKhT62rN3uDo7j9ej8uOevU+HezPj7DZquPJnS/WWeanGNElgxRJm2uQIghsT3DdtddB9FhA+nCrmzo6EBWVzHz5LDyqHkP1+8319cGefFX7cesen59qj5dFTO5yH39mhSSzl/It+Vr3xKiLM6SCxlex85kjgLfewusr5t9Bz6LHFB2dE+NrQLs98zMKcFiTPQ5sKT45HnVdsdd8txXc+Qiz988QQEAjnn8RaHgxqucB13D8npv57GvcCvqvFLCx7osTHDLeqhaJHc9NSPHnRZ4KOVtj7JE5D23H7ih7kwvSRZmWdFzbgz3/Zpb7osTWHVN3NX8T558hZGDw0Ky+aTI8Sse9xzC2dx86g8qdNEEG3fQhfU3znBT5EPBpMAcGFQsR4V0Czuf8u2HvR+8bTnPzC9i2a3f2n1jNvgGo1pkkPFVUevZ2C7E2PmuHpmN+HFBUubFjgM/8Irk3++IvGvSf7do4TTECwHAl7gUJEdo6zvuuZsw9j8guLUI6gfmlJievrZ3HuAxpFzbWJnvb88LUbfjO6qQBFz72yQQR7wmVklSnbmN3HfDmdb97HE5pdVLmd5N88RE7WanfuRi4m7PE5yu6rSc8u2kcXwHSJoDsYHBmf/rlXpzZ/de3QrX0rTqdsEylbvWEDlCk/JhXUwW9GOtO3khMNgziVPxqS9FAhhwaceUrdLWF4UMCZXNBzD9kUy5kT7ULuuC3bZRvmNJrdOfq6Du7svWTR0nuczY5O1inf08wZ/qDBCOchtT9Q5bf6rJhnhp+D7rsJjtVeLJ+rh9VVHzM8s4tuv5snAo0nfOv8SNfF6DZzpFrK56+czk4t5Zxn63KWQWOBc6/VGZx7rdF9yP5m43v9xdtM28lDV58ILiopebjNvGJhAude44JzrwFQs6DIRJ3NxyUlxGP/W/YmLevb9x9/T4YxjkCANAHCZMe5e5O3+y0aN/CUjT5qXoiI696hFYxxBASkCRAOH7LzGO4Bp++/Dt08127KcE5ncmb2WTsjznI9RfmNFXMLxA1qxLhai4mN5NzGulJ2xeOKmxWj+jlTAtIECIHrL5LGbDrarIn03a3ztdXKv1BbynSs/xiHzJGRYv08Q3CbIufc1OyJna/ul5beL31lTdjPsjqH1zRQDIu72dL7r12SDXX9KNlRQSFIEyDoXC48mLjtlOUEDV/LqfIy0ri34dRNg9E7M9AQNymjsPOVp506e1F9xGQdIiaBmvLEwIu7WYLo00OZCE2DNAGgtrJyC2Z7nD9x91XoprkrJg/FvQJO37TsPY+GYqxQ9jufaoE3AwgdBUH70iukCRBQIVHJYzYdExcTu71lnnZf4ThdUGXJbrrr9i7bvoecL6YK2iY5b2LobRgQYgppAsCf7br8aOw/Jxbo/HXcenqrZjK4V5igt/2sVYT1ay9qj+RStgthT50EEoaCNxELaQIEy9eCwvl7Lx4Ifn7DcfaqqXjfjbAJsxKbtar39lLelQ/6g5ejYVQUbgkISBMgQO7EvBu98VhhUfGdLfPG91fBvcKF3FW0LsblVCnFVQlKqPJiJMY1YC+hrFI+QSMQRDpNHoZexktAAHgGPRmz6ZiJppr/3wbtmsviXt7h7CE2CCCIAEPqjuCICbofQhAh9rPKjw2hZleutu4yzvMkb2r2ygGldgZ4laCA2gQ0vm/ff5h7X/K89uTqOlOHGZq4l9c4e4jLb9S8Ofus9qywTfaNovGOgVfFzQpclCCQJqCRhb95P2rjMRQoaHQzaUB33AuEEKQJaEyoHhm18ShjRB+mrWHHlnK4FwgnSBPQOFAxstD7ssdVcnSzVp9foxvAS5AmoBGg0c3ojcdyvxfe/QdGN/QBaQL4jTO6MYLRDe0IW5qQJ6CHU7cKsSU+VzyuPr661nQdjG5oR1DShDzdbD2u1PUrFDcN246jf3AfW090Qwu4C1Ah6l3mSMcjmV/zb2+eN2kgjG5oiEYjHc51cxb44Ga9oAQ5dicyr/AHuqEFCBSq+N2L1txwVFdd+fxqY4XW8rgX0ItgpMkVW/Ik+OFrdcmTxbPPVl/x6qKVLkVKel92fc+KZQgVl1sPePQaL7FVaYL6We8XOmv3uX1LJjuZwMnM6Uww0oS8gIY2obWDfY3Rq0v6cC8Pyr6hVZUvc+MTSuxiryIvD1rLK/6AxjLNhXkxIu7lziWmmn1xF6ApQbkCRsKeybrBE0KqvbweqlPIy/GwUwZf8Bhfr+fXR/1uO794GHp5uM4U3GDjjHRwgyDmjR7gZDIWN7jgChi1FPUuE0XJ8J6KJ2xmiIuJ4V6+YDAYeEm0MZlMvMQXgpsmQfbkJcG4tB2rS5OqzQanCTLC8cDHr3lSEhKGw9R+jRIE0qQ2fENfmHtf2maqA/tuRIeAzsKSURLPGfjkv7uzo6bfxwRWLKGl3BO3KPDi7QcpSYnn/y6LcbeuNkpAbSw7EGTtez1oHewGFi2CkibkRdTDk+Nxi32t4rETOPVFQvD1e+yFX1w4uiWs7G6UuBjxZvpgVfmmTXAb1FFSRvbgNQfj0rPeeVlPhINcRYzA1CZ6Sx21ONcAnrw/pveS7TsI7iWQN7xTrfwBV3apYNOETc/8rMirI5PYe4jL9w3V/aiTL3kFB0OeGgxTw21QR/73ortb7/nfX92CN85pLQfjQZEj0tchrjJvciTseWzapx2zxuN2DWDepForj970CHp8ZqWR/lBV3AVEjIDOmzQKNMwxhMKk7vIKi8b+c+J+XMpbLxuIElEGaYIFRyW1bS6r0V0Rt0HtPIxP7Wa1p1v7lg+3mSnCQa6iDdIEO/84ZsYQSk64J0IOBj8fsd53nb7mAYuqO9qBCII0Ib1O+Rj/IWvywF64DWrh7yM30O3WxjlCcxU+wGOiPgvLWTjx8qOctMSM3q05TY5fD2zjgFnY/MKiGa7Mr/k/Lq5htG/RDPcCkSfSacLxJa9ggL13+D8LO7dpgbt+S8TTJDI5Y4qz//j+3Xwtp+IuANhgpEOcexzDGNG3llEi4k6FRw20P4CGNhAl4FeQJsT5JzHTBnMPgQM123A6zGL/1UtrZq6eNgJ3AVCBqKdJUGR8E0nJUX2E8RL8/PO1oNDI7WzQ88TnrounDKbwe1GAVkQ9Tc4/jpmqAQdc/U5EYvrwdb5NpCQjnBd279AK9wLwC5FOk8jk9GfJ6dM0YJhTo1PhUUPWHpqpqXbSZgbuEirhOxlu7O+Mli0A3iH36eBF0WPje11KQsJt3jjcBpVtPnNn99XH3osmmQjtadNQiDwawbT7zXkRkv1t7VMNmXZauA3qT3Rrk9TPuSfvRplowhdzqvH5W8Fsj/PXIhNDN80R3igBfCa6aXLy7qtRfToP6a6A24DrOevDBKdTkuLitzfPG6DcEfcKufKRzj03Bmbrn8zy3x2YSjzyYLdY7PWg3kQ5TaJMRsKnblXXXyRNc2FO1eh11GpaEykJ3Esf4W67UwxcmCSXYUSqiskKA0VimA1qupuo4PuAehLRNAl49OZnaSnU8FWcuPtqhgtzk9GojUajcBfdKCoqpgbas+sUZRMTOM8kpUQ1TR7GzITCpDL3K48W77sSsMpo0diBuIuGVEzcybpk2AP2UMcPBjdUEsU0Sfjwxe9e9MyRMP9abp1fqEfQkwfbFkweSOFpdgVPsr/tznD0t9Yq5r/6iqmpqZxuQAlRTJOARzFzR/fr2anSN4ZF2WKfK2HRbx9uM6PNnGuNlIcNSyWnXJE155RsVmmh8Y7hUJiFpYYoHm8yfJ3vBqNReoNo/SFcazNcmRLi4gF2RrgNQH2JXG3yKCE161sBRAmH5oYjSq2bQ5QASohcmlx7njhpIFznhdRrhdfkgT32LJyI2wA0jMilSRBKkwFQmBCtzHY6zBi53gAOKAeUEa15EzTMmeNxId7DErdFUl5hkdzcf6+uNZlE79037GubM5m2uEEpBsOdN1sW7hPHiFZtAsOc9C/fUJQ8dV5E+ygB/CdaaSLiw5zYtCyFpf+987YZ1I3ue4JBYxChNOHszRHZ2uRJYpr6Sp/vJx06t2mOuwCglAiliSgPc4Jfsaa7MIv81zWRksRdAFBNhNJEZIc55x6/sTt2K83nb9wWaTlXXC84OJA3l8s5uI8yb30dbl5Jww0RJCppIrLDnCNhL7yuP410XYzboi3t8uO7bQc4O093dh7QLvwxhe/8J74ooSJjcUtEiUqaPIxLHdW7M26IDI+gJzdfsm5umI3boi7neUy+aj/O9Qm6qqvmRz+jrDwZYkYmlIifr1xU0uRxQppGD9E6zZpTQHhSxhchPTs0z8i25/4WKLaTxUuAIiKUJkNFKU22nLlTWFz834L/4TYAvCcSaRKXlpX/o0ijWyfcpjsUJZ+/FWydKbrXlq5ZfiZ3riT1Yz5eAhQRiTS5H5cypLsIRUnyx+zdZhNwG5RrMbCPbOyrt+zlt1Gxsn0HwcWnqSQSafIgLnVYT0XcoDUUJS/eZvpaTsNtUJnClKGjPkWy9xBHftQaqkfd2Je7Tyf/rscFB19OYIkckfjW30D7A3sWTtJUVcJtmkJRcvfN+1uitAcnMjkjJ/87bnAVl/xEr8Nm49HwrT8+o3+a5Bb86LB4V/4JB9ymKRQlV54lPN5hjtt0J8Zw4izIyUhLSuASG+VIUcnPwqLiTq3k0nz+hjThM/qPdB7EpQzvRf+qxO9etOhECcLaa+VrOVW7b9dv33+U/PyZnfcd3dAyQZSizte7LPD9AB+JRJqM6dMFN+gIRYnPrWdv/luG26JBuV3LBdp/2eoNm6/d/0dxCac8QXWKwdDeoZvmtmwmw7kb4Cf6p0lc+mcan54eRYnrxQei9h2cyOSMjczb/ex8NjFvd27dXFxMHI1x0IDH03zCqRX6+E6A70QhTbJ6dWqDG/Ry7M7LzWfufDu+Brfp7mt+4eHQF3o7/DUdjyRnZm8z1XnusvhTbv73omIZacnr62ehagXfFTQGEUiTtM+9FGhYmzyKT52/5+I7LxvcprW7Me/+PnJDbeW+A7ee6agrR+9aesxq+jSNXqhI2XfzWVv5pg+czLT7cr6AAxoNzdPkQ3aebBPJ5k2b4DZdoE/m4et9bzjO7tyWzqc+Ss/+tufaE50txw12nkEFiK/l1AfbzFZNHa7cviXnDvYnbqHCM2635QDlDpwe0Ihonibx6Vk9aTfMKSwq1lh7yNN84vj+tL2q/7XIxMU+V/ra7jv3OJYxQi16l8W+xZPH9++GV3PtX6oXu3sZzLkKCJqnSVz65160m4KdtN3PVLOv1UQN3KYR9PNyPn9/6LrDS/dflZeRvuRgErxxzrL/DW7fohm+R2XK7XCRQoEov7FiI8Usw3CzwWJcrcXQBstv1m5ReBVd0TxNkjK+dOvQCjdoYZbHuQ4t5VBhgtu08KO4xP9eNMM9QM1238O4FKsJGtG7lu6aP56Phy+HWfW7T+jgBmV0rF+X3i/FN087ddxNV7SfN/nWsaUcbgg/68PXP+d+96PRTtAHcSmrTwSjEEEliXrn9pGui8/bM+aN6S8nI43vwQ9hVmLriEDP5b1xG9QP/WdhO7asvkgWOtvP3XuckHptvSluC7OMnLy91yPG/nNi8nb/z7n5/5n9D+XIRqNR6p3b4XvwDydK7u/hRUSHeqrhYY5bIO6iM6hNhINv6Is9156cXSn0lx+/+ZJlceBq35X7Ah7GGAzr/drd4tCyqVMG9cSr+Y2HUdJntSd3jHM/YFmAoa5fDF5DW1CbCIFrkYnm3pfOrDQS3v3B7z7l7Lr8cKTjETOvi02kJM+tMg7ZNHf5BI1OrRo166PS0Tt8rwGeKDX0JgjvdbyoIwwsrXVD71+FWVihRoPa5OXbzEnb/QLsjIT0jAq3XrEWel9SW+mDqpKFugOid1nsXvC/UQLyzSl10+DyWVJUQRDEsu2lpXYGeDW1lFVgFlZ4ZebktW0uKy4mhttCKCe/cMK2U65zx6FBAe4SEt+Lig+Hvhi/9eQcj/MtZGVCN84JWmeK0qSFLN2OJKxBmFX50CbZzcYzZNlg3oSUAKFzmtBgmIOixHB471VTh+O2MEj48GXLmTt/rdq/78ZTvUE9Xuxcsmv++CEidsEAshIhyqZgZ63qvb3Ui/6n6aVzmnzKzW8jL8RXOTD5L7CdvOwe4Tm05H5sytL9V/9avR+NznbM0n28w/xvvWEdajjwTAAZeN2n7j2vbBdSPoYShShB6JwmhcUlTSQlcEPYOJwMiX7/8ZLDTNwWbJci4qb9e1pzwxEpCfHgjXMCVhkJ3dAMNByt06SoWEgv4u1946nX9YjrjrNwW4AdCXuh4XBovtfF4T0Vk72s9yyciBbwOiBi6J0mQlmbBD1PsDwYdM1xlkIredwlkNwuPVRc+t+2wHuWEwZnHFi5zkCra1u4oIRIo31tImRp8jrl0+Qd/qdW6I8U1HPZFpWUbDx9W4zhdOZhjNeiSfEeluY6A9AAB68GIozu8yZCNdLJLyyasO3U9lk6ppp9cZcg+fb9x5qTwdKmO+7HpYRtnvdwm9n0ISJ+GW9QCd1rE6Ea6aAo0RvYY+0MTdwWGFm5BX8fuSE/zyX6/ccH28xubZg9Ro3OJ+4G9UP3eRPhGenM9TzfrIn0viWTcVswpH3JtTwY1Hah2/tPX5+5LLrsYAKTrKAmdB/pSArHSMfRPywiMV2gvh+McmThvsuKS3dn532P3mURsMpooHJHvA6A6tA5TQp+FAlFbXIoJNLt0kPB2R9c8vPnJuZtlCM/f/5M8Fx+aoW+mlJbvA6AmtE5TXILfgj++aVfvctctO/yeXtGF8HYvXrszktFi923XrEebDPztZzWnV5nrgM8RefrEJt7X9JU7bxQdwBuC56ikp8DVh9gjOizyXg07mo8V58nuFx48CH7m8OMkfS4MA2DwcBLQoLJZOIl4UTnNDHeFcAYoWY8og9uCx5UlWTlFpxbbYzbjeRRfKpH0JPrLxJtJg3daDQK9wJQR3Qe6XwtKGwuwN9/33np4b3Y90etpuF2I3H0Dxu+3retfNMI54UQJaAh6JwmP8ij1wR0Fvbys/jVx295LZrUiDM7FyPihjgcikhMv7Nl3m6zCVReTQKIJDqnicCKS/+87ECQ9+JJOn2VcRffWRy4Ot2FOWuU+rX1poJyJjQg5CBNGsGyA1eNR/SxGD8Yt/kLlSQqVnvSv3yL3mVhqzcM9wLQYJAm/IaqkqbSUrvmjcdt/lq07zIqSTYYal2wZ8BRJIBakCZ85X75UUgUa9/iSbjNR/di3ytZ7P74Nf/DAVtzHcHdaw6EF6QJ/1x+Fr/y2E3vxZOV2vD7QhauFx9obThqN3U4KkmE6NSKQLiISJqEuzHcwist8FvZzKuuOl9nXguLime4Mr1vPH203RxmSQBPiVptomXHtNPCy5WE72TY+rFwgwcaZeY1JCpZycJDXqZJ0h6roSJ31njAbzDS4QcUJfyfeXUKCB/7z4l/Zo45bj0ddwHAS6KWJmUjHZa/LQPbGU7cc/N4TKSeW4NabvfYd6QOe+Y1mZ8zr/mFRZN3+J0Mj3rhumTZ/xpnP7RASPa3tfUnC86yBcBLIlqbsPw8AhVtmGw2iiksTTuboYSi/r+oaUfpmc/4P/P6jPWhh81ehVbyMe4W/bu2x70iTtnE3d1EBTcqQp8utv7JuAEaSETTRKWLEvHYA/0ioc8rLdNqf88owP+Z11PhUYPXHFw5ZfhBiym4CwB+EdV5E007sixZQXiQQx1e7eXh88zrxtO3LfZfvewwU7iuNMoPFYc85E+chIa04Ts9HhGpgfZkq1H29NGMiKZJ+E52fYsKYKbNMCIlhQe1LooSWX7NvObkFzLcA4KeJzx3Xaw3qCfuBVWx/HcHKq0gP0fIAe47ltYq9NNXNHBBzer39IE6EdE00RqhxP5EQjxS9G1MlAktIwOCulnY3Vcf33qVjMY4uM1LjxPSRm08Ki0h8cR5IZwq7bdUlBSJR7s5hwJomZjyaIArwkrpS3vzsdDoZNzgo1svkwjjrdcjE3Gbl47dfillsu2fM3dwG1TE8vv7b7+kigtsSaf+NkZc75aW3t1p/LcfC/eDBhLVeROe+VpQaHX4mtu8cf/7qxvu4hlH/7C/j9w4YT1jA5zlqFbC3dizJyqm7swVw4jUFNhnTC1IE4ot9L48vKfSyim8nQf9ml9ouvvcrVeskI1zGCPVcC/4A61hioHkaBbZnWKwwkSF0DLQJ2AWlipiqD7Bi7Sjs+X4JuPR2mpdcZv3tpy5w3wQ88TZXFZaCnfxwHPWh6X7r/ZSaL1v8WQ5GWncC0BjE4k0QR89TKYt7m0wBsO92q1df5E1cVvko+1Dhvao7YFqNW3qNwIeZi7Z/8ZqotIWRtWRVD229lsj8N8A1A6MdKjxtaB4/t7XBy361D5K6sEz6P0cz2j3+T1/jRIAGh2kCTUY7lFTBrVdqMvD7+k6nEzYcy0leOOgeWM64S4ABAmMdOrs1wHFljMs5oOM6F11nnmt/dhkrmf0+6xCpq16+xY1TpTASKcKan/uZah+ncvxaMu8e8JVfknoVptk532Xn+cSmZyBlqUkxIuKf6KFZ4Si3o4X7PXUu/Ls0+YzScyV/XCbB6Y4vyj5WRq2edBvogSARke3NGnZTEZVoY3mhiMoVqQlJX4Ul5x/EptItBnfvzW+B0datIvDBQfydvNKGu6rh5SsQv2dL49Z9e2r9Mm3YZvCIh6ynxV5c7mcgzpGb3raW0H21Ap1zvo6eeKLN4VuvhG4EwAeoeG8idVEjfzCovFOJ6UlJVOycmbtPoc6Zwxtx1nLlnPlZEI7o+nOztOdjeTvnoyudwgYub20mtC5d+IjB4fIWNzXIE9e5Y6yYT8xmx5E+OPO1g+mDm67c179vnqTk0n0sEGbYm/t49mHT3A/ADxBwzSZMUQV/Rn17uOzpPR/zt4t+FHciihQbifDWUtKS4nO6qCuwV7W6KSalfa8XnGy7MCbZjISu+b3HGKG3rEDyH+1wYaYjdfjzOQqKDm9Ezceq7x6Wr2Pl2mhZ9aXs7G0Z2mf28grspcB4BEapgka7Izvr/K9qDj1c27m13w5GekexCe8rkz5W6tl+zZ4qU723Ui9/OxTgF1/3KZUbkGJGCNiQlsZ0xkN3n3DHjp5fOzlvBoni0grH0hSX6mlXb7p4PsWN6iRc8W1bKxK6ROuMKCm8DnTME0QywkaKESKf/4sLvlZVFKiSHzFKygSEvVl2cE3x5b3bdlMEndRJzGjoPn8MCvFnwscNIfgvgbQGE6OdPql8+L9I2ze+p7FA0kbrdwACt/57Gk4j/B83KQKKqLbDiB/fM7TDVUzKHzCaR8IPKB21h71KZKqOTV6pgka7KAo4SyP6KUkRZRwlstl5abipezMLLxUSwWE1Lw90bvm9dRRp/7r/w/jc3pY33fo8nPiau6QhxJoQEfkZjZ8klioRaTHtlEYyH5VFQYptI5NpyxeFfrakwkli5tUQZs1w+PcIf06cBYooTBlOP7tIkf9su0p+k2jZ5og+uzZE2lJifljfhmMKCj1bZMRxcnjCr9htfSUUJw6uK3tFOqvBH7u8ccR6yNWqjQz2ElFlKAPzLJPM/TfJOSp+qURYm3l8GugIFdxWl7g5VwJzWjdriVuUeOtLxrmeOTqOFP2uUXbNLGfPlJSQvxHcQlnUrayFnqze3w8yx40otJ3dh0mFFYejS8hxL0X98ZtNvaO2MhYIv+uR/1HoXuvpVgfjrk85JuUWEYAJWNaFJqfIvF2yAp/OAXjJoHRw3rvndfvcIPunviG3W07wH5KC9ymRlczcqTTKYq6owfofCys7Bxnxdby8R7LqTomct+N1G3nWOpZL4OYlrirYcoOUlznlxj86vOj7Q16v/PiWNjC4pK3mdnvs76mffmWnv0tK7cgO+/714LCvO8/Cn4Uo7VFxSUlP9HvUKkYISYuLiYpLi4lKd5EUlJGWlIW3ZpIyclIyzeVbt60CQr3rm1btJJr2lpOplUz8s96fwG6uOSnup1PcmZ2387t1uprGg3vg1dUVvXnHvHQIVTehjMbjQo38mO5Pglb0+ucdvkmOdvNHZvUQ7VbRp9VAcQAyjdbBm0/tJ12faOq0rGwdE6TgyGRcjJSJiP7UpImd99kj9749JLDX8ecjzd8axycH/P8va9zC4oDVzV091DD0wT9Ljxj5b54mxv1Li8mVSo2LSv1c65y+5Zd2jRXaC3fsWWzdvKyKA6ayzaRl5FuKi3ZREpSWkJcAqWIGIF+jVCskNPexSXf0e1HUX5hcV7hj9wCdCvMKSh89+krWvv5W8GXb98/55F/osqRTBaUL83Yf8o1bSUnE5f2efqQXh1aNOvQslnHFnJoAQUTfn6VzfY4f/5xrLSURAvZJqgUXfa/wWJ4DfbLzx3V9nHtbcjCviHvfD6mCXrCkR+16v1Wx37ZbM4V15j2qzlJSv4ThNF0M84BE3UmMmlSpuFpkpNfrLP5mYlmB/vpXRv+pi2DNvW5n3ZvRdk95hQcrVK/J/bxaxEKyvux2Y/ivz5O+Kqm1OwvZbl+neXUlDRUFVp34+WJZlFp8+VbwWcULmTEFHzO+47+vBgR17NTm4ycbxnZeRk5eR+y81BsccKF/BPlC5kynKbcf1cfXXgSh3KpGQo2CXFbvWEoU9pzL9tezc8dlSdnyW9dEEQHw3oVJkg1rzNZ6SR8xg3ZUezAqoeqWy5/thz13PKvT5gMPu4eqNYNSitIk7oz945Bn6vHrPqi5fq9aavVnHF1ranaWn1qrrZTpycWEvXl5sus4KgvcWn5o/q01FRtOaJX8yE9mstKS+B7VP5FaURf8r5nZH9DycLJF3bE4OaHnG8pn74SYvjXWEJc7OfP0i7tWiR6WqFlSmrSX1H4C1AFj7bMuydc5ZeEtrOwFPIMev806euehZQc7Fqu+fzbfYhMqqKkNvILS5j3M+Z6Rrcxv7PhdKKMlMSueT2zj4y5tOYvhxldx6i1qhAlAqRVM5neim3HqHVljFSznjTEyUT7oMWUS2tmrpkxEkU8qkk4USJDVifiaFyUX1iEooTzWMBPkCZ/gD7DbXzjvBf1bt6UsgPVUj8XijGCz63q15X4grt4CY1lDoemGex82WLB7eN3P6BK5NaGgfe2amwyVtHqTe1ORz5J+5I79p8TszzOfc0vRBGi1Kb5fO3+B5bqxe62zD1mn3lwJb4f4C9Ik99J+1K46li8z5LeI1Up2zn3JPGrkkV4hPPQsf0qf62Zaskfv3teez/B6bnK8ns3X3w2HN4+6/BoVIYsGac4UEUe30k4Tdru94z1YY5Wv/1L9d78t+y9t80Ry2lzRvdTbkftPlRQN5Amv+PonzRCtQV6++F2g51/8nHMpqfxHiMHd+PV+/nztyLvGymjNj4dtu7Ji+RvyyYo5Rwd4/e3+mytjhSWV40rwM74i++qQ8umzNJS78yvy8WDP4I0qZHrxbcv3+bupW66xOt6ygrfuLdeWj06NsVdlEolWsx0j+q4+O792Jw107tmHBh10KLPjCHt6DeJ0KMjXNJQEEGaVO/S00/2JxI4O3Eosd4v8VBIGqpK2jWn+OIY4W+ybXzjOiy+m0i0+d9frT/7jjlu3XfK4LZ4NQD8AmlSyfJDsc3nhcnNDTP3en1qhbqaEj5yoR44m0I3tGDm9fppUu7Tf4dKS9azTKi4NU5PfHr+tsDk/qseoZ6OLaXvO2mMJpIW6irIyfx5v8yvWwOg4SBNyqG3FhqM5H4vySss+ZRbhD7z8Yq6K9sUuqEFNPS4tn4AXld3Vbams+XZ+K3PR218mpnzY9/i3i9ch63TV+7eobajpypbg0ABVIE0KXf8djpeYqvSrJMqj03/UoiX6qXK1lDMWU5Q+nBg1G6zXvXY2UThf5MuwqzERoqxb2Ndk3FfwwRa4g2W33T9YvDKBip/tmJiboG4kwIxrtbczVq7ReHOOoE0ET5NpcT1K53mtkF+0v9Y6N865yYmFqDy6n5pKXkLXk3NwYQGXniDnFvAMkJ30ojqv5tYNyhK1sW4nOJuNsCQopBCUaJmrxzAecKByqv61SdQIE3Kza181asqzTqhcFMIT7dWUlq6xCcm+n0ebouWZDfPgOWBnnb1uSJArZ1zM/Q2XE5JTkWlxxCDJ0/CmzIYb0iEplGRJslXg57quhgacFr6hjt1nl4NqnOZBmlSbu9CVTSCkJeRQDe00JB9wxRuCuHp1j7sH9VLodlIxwiT/6Iik3PxnURE1IOroYNjPMsGDvWs8H+LDKzyN2oDqZsuX/Z0VT88Igu8Sd2WK1FW6U2EsCBNGga9074e00a3Br5jEQo3hfBuay1kJVdN7ZK+X2twN/kR6yP0nF/cjyWv4yMS4tNCCGKyBx6PvHYh6lfh/865gFWhFBUmbAaW1roEEWI/C8UfZSUPJz6CHjSwzIE0ASTZJhKrp3VF+TKiV3OtjRE6W56FvabuJMwCTVmFO8zps9pwOfGUFY+bVAizMkAjKTvKyocov7H97k/mzvKUBhKGFE3EGnid2kl4quEaDeUUoatS55yCNAHlpCTEHA1Ufp4eq63WUmfzcZ0tx2meKT0VdIlkFvWjGyzGNWCvjvVyfdykAFlMlccfoT94OREQQl5+ruGU7UK4IVW6fTnK1h6QJoAKm4y7lTIdtdW60jxTONMQNni3CPnmJwx1KXvzh+21f7rc2pSKXTlcZPwF7OXuxqb6CXMku+mu27ts+566bxbSBNRok/Fo2mdKxQqfvYuUslFJoOU6igsTRN00+JU1wZ40ofoJlx3GMuvqpFOlXtq4uy4gTcAfVMyUsf+cuB+bglfQRMUKn7oJDs4hJyGUFiYcKFDws6X2CWvv4W623gfdQJqAWuFkysheSqhImep8WmTmaEEdQJqAOthqov3Fd1UvhdbTXZjGuwKuRSbiFQBAmoC6km0i5TZvfKLn8p6dWi/YexHFSnAUNd9tAcIO0gTUR1t52e2mOk//XaTeud0Ep1OL911+/4niS8cDoQNpAupPsbX8NlOdSJdFRSU/+9h6O5+/h1cAkQRpAhpKvUv7I8unnVvNuPAkTs12H/PBa7wCiBhIE0CN8f1VHmwzs540ZIXv9SnO/o8T0vAKIDJE5Vp/eAnUGpPJxEt1lFdYtJl5e+elh1YThzgaanXgXseT/+Bafxx8u9afSKQJ4L9X7zK3Bty98SLJ0XDUqqnDcS9/QZpw8C1NYKQDeKJfl/ZMW8Pj1tP9wqP0nP1jUj7hFYC+oDYBvFVc8nPV8VuHQyN3zh23ZNwg3MsXMMLltSrDYUgTwA8Bj96sPn5LU7Wz69yxHVvK4V5ALzDSAfxgOKz3w21m4uJiw9f5nmnoKb6AgILaBPDVweDntkdvWk8ast1UB3cBuoA0Afz2PPnDCt8bcjJSV9ea4i5ACzDSAfw2ULnjnS3zenZq02nJf2lfvuFeIPygNgGN5kjYizUnQ07bGmirdcVdQJhBmoDG9OJtxoK9l9wXjIdAoQFIE9DIWJnZk3f4eS+eDIEi7CBNQOPLyMkbZH/g5Ap9CBShBmkCBEJuwY9OS9wvrzWBQBFekCZAUJT8LJU02Ra727JXp9a4CwgV2EMMBIWEuFiMu4XqCq/3WXBSSKEEaQIESG/FtkeXTxu69vCn3HzcBYQHjHSAwFnnF/ooPvXimpnNmkjhLiAMIE2AIFp2MOj9pxwUKOJiYrgLCDwY6QBB5L1okmwTKXOvS7gNhAGkCRBQXosmPU1K3wFX1RAekCZAQLWVl/VePHndqdBLT+NxFxBskCZAcGn17nzAYsoSn8sZOXm4CwgwmIUFgs768PVX7zLDNs/FbSCooDYBgs7TfELBj6JVx2/hdn2EuzHcwistAOpBmgAhcHalkdulh+efxOJ2/WnZMe208HIlLD9bxk7ImQaBNAFCoHPb5keWT5u/92JhUTHuAoIH0gQIh/lj+k8a0B0FCm7XU/lIJ3wnA7P1ZyX7e5xLJR57kC0/Fns9qDNIEyA0ji6fFhSZePT2S9xuiHtuHqkG/zJJ/w4lUpVNbPQViaE2qOluqoLvA+oI0gQIjSZSkihQFuy9mPWtAHfVm6KiYmrgGnadomJqUu1MCqgrSBMgTGYMUV2g/dcSnyu4XW/KJu5kXTLsEWeok4y7QUNAmgAhs3+p3qP41ON3XuF2vbD8bN3IQ/a17Jj/GiimpqZyukGDQJoAISMlIe42b7zFgauJGV9wV92pjBiWspssSxiMNYGKNnaaaLxjOAxmYRsGjoUFQgkNdnK///BboY/bQABAbQKEkuvcca/eZXoGPcFtIAAgTYBQaiHbxMlEe8PpsOesD7gLNDYY6QAhZuN7PTkz++KambgNGhWkCRBin3LztTcfnz+m/+ppI3BXdRgMBpNpixsU+92/K2pgpAOEWFt52Y1GozYxbz+Mh328jQ/SBAg3xgi1eaP7bzp9G7dB44E0AUIPlSdJmdlOAfh8Atl53yOTMzjLgJ8gTYDQU2gtzxnv3H79FjWPhL003hXAWQX4CdIE0MHc0f3mjem/lV2eZOd/T/jwGVUonFXVS4t2cbjgQN5uXknDfaCBIE0ATWw2Hp2U8cX9yiNOM4xdp9Qg58rJhHZG052dpzsbyd89GQ15QglIEyD0jHad3XLmTilRuoUxZse5e/73olHn9chEztpqpKVEZ3VQ12Ava3RSzUp7DnFCBUgTIPSmDOq5+cwdleV7NjFvd+/YOv3LN9R5/UUSZ2312sgr4qWW7dvgJdBAkCZA6C3Q/uu5y+I28k3ffcp59Tbja0Eh6mRlZv9h6gRQDdIE0MEA5Q4JHssHKHcU414FvXnTJr+bOsnK5R7ulp2ZhZdAA0GaAJpo2Uwmwnnh8gkastJSqIkqlLDoGtJEQalvm4yoCPZyRHpsG4WBCuxl0DCQJoBWnGfrnlwxQ0ZKEi1fjIjjdP6ihd7sHh/PsvcQn80dNbsvhAkl4Ft/gIYikzMmbDuVmZOXfWR1C9km8K0//oDaBNDQAOUOsf8t22Q8GkUJ7gK8B2kC6KllM5nNxqNxA/AFpAkAgBqQJgAAakCaAACoAWkCAKAGpAkAgBqQJgAAakCaAECKcbUWExvJvbkF4m5QB5AmAJBiWMTOV/dLS8nba5dkQ12/GLwG1BakCQAkAy9PO3W83KeHMhGaBmlSV5AmAFQVeDOA0FHog1ugtiBNACiT7KZLzpsYehsGhJhCmtQVpAkAZZTtQthTJ4GEIUzE1h2kCQC/0B+8nEhmReEWqCVIEwCQMKsKxUiMa8BeQlmFOykLagnSBABEW3dZgCH3eBM1e+WAUjsDvArUFpx7DdAfnHuNP6A2AQBQA9IEAEANSBMAADUgTQAA1IA0AQBQA9IEAEANSBMAADUgTQAA1IA0AQBQA9IEAEANOLIe0B+DwcBLVGMymXgJQJoAAKgCIx0AADUgTQAA1IA0AQBQA9IEAEANSBMAADUgTQAAVCCI/wPbVvpvhc4VeQAAAABJRU5ErkJggg==\">\n",
        "\n",
        "[Wizualizacja w pythontutor](https://pythontutor.com/visualize.html#code=tab1%20%3D%20%5B%5B1,%202,%203%5D,%20%5B4,%205%5D,%20%5B6,%207,%208,%209%5D,%20%5B3%5D%5D&cumulative=false&curInstr=1&heapPrimitives=nevernest&mode=display&origin=opt-frontend.js&py=3&rawInputLstJSON=%5B%5D&textReferences=false)"
      ]
    },
    {
      "cell_type": "markdown",
      "metadata": {
        "id": "ORHoUe2x6aeE"
      },
      "source": [
        "Klasycznym sposobem przeglądania tablicy jest pętla `for` iterująca po wierszach, a wewnątrz niej kolejna pętla `for` iterująca po elementach wiersza (sposób ten jest bezpieczny zarówno dla tablic regularnych, jak i postrzępionych):"
      ]
    },
    {
      "cell_type": "code",
      "execution_count": null,
      "metadata": {
        "id": "lRXxBU4-6aeE",
        "outputId": "c2f176b3-13ec-4e6f-e704-d9b6632520d3"
      },
      "outputs": [
        {
          "name": "stdout",
          "output_type": "stream",
          "text": [
            "1 2 \n",
            "4 5 \n",
            "7 8 \n"
          ]
        }
      ],
      "source": [
        "for wiersz in tab:\n",
        "    for element in wiersz:\n",
        "        # wykonaj coś z elementem\n",
        "        print(element, end=\" \")\n",
        "    print()"
      ]
    },
    {
      "cell_type": "markdown",
      "metadata": {
        "id": "ugpyHye46aeE"
      },
      "source": [
        "Jeśli zależy nam na pozycji elementów w tablicy, musimy wykonać pętle `for` po indeksach wierszy i kolumn:"
      ]
    },
    {
      "cell_type": "code",
      "execution_count": null,
      "metadata": {
        "id": "29hL8-9f6aeF",
        "outputId": "ca486fcc-eafe-4be5-c450-86c56dae250d"
      },
      "outputs": [
        {
          "name": "stdout",
          "output_type": "stream",
          "text": [
            "1 2 \n",
            "4 5 \n",
            "7 8 \n"
          ]
        }
      ],
      "source": [
        "for i in range(len(tab)):\n",
        "    for j in range(len(tab[i])):\n",
        "        # wykonaj coś z elementem tab[i][j]\n",
        "        print(tab[i][j], end=\" \")\n",
        "    print()"
      ]
    },
    {
      "cell_type": "markdown",
      "metadata": {
        "id": "HhTC9X3G6aeF"
      },
      "source": [
        "### Sytuacje specjalne\n",
        "\n",
        "Tablice 2D postrzępione mogą przysporzyć kłopotów, jeśli mogą potencjalnie zawierać elementy lub całe wiersze puste - wymagają wtedy dodatkowej obsługi."
      ]
    },
    {
      "cell_type": "code",
      "execution_count": null,
      "metadata": {
        "id": "M5NDW6ZI6aeF",
        "outputId": "44f14d8e-0cf9-4441-8cf7-b2e96bc13204"
      },
      "outputs": [
        {
          "name": "stdout",
          "output_type": "stream",
          "text": [
            "125\t?\t13\t\n",
            "124\t\n",
            "?\n",
            "7008\t8\t\n"
          ]
        }
      ],
      "source": [
        "tabX = [[125, None, 13], [124], None, [7008, 8]]\n",
        "for wiersz in tabX:\n",
        "    if wiersz is None:\n",
        "        # wiersz jest pusty, obsłuż go specjalnie\n",
        "        print(\"?\")       \n",
        "        continue\n",
        "    for element in wiersz:\n",
        "        if element is None:\n",
        "            # element jest pusty, obsłuż go specjalnie\n",
        "            print(\"?\", end=\"\\t\")\n",
        "            continue\n",
        "        # wykonaj coś z elementem\n",
        "        print(element, end=\"\\t\")\n",
        "    print()"
      ]
    },
    {
      "cell_type": "markdown",
      "metadata": {
        "id": "gaIvgRIw6aeG"
      },
      "source": [
        "Do przeglądania tablic w Pythonie można wykorzystać wbudowaną funkcję `enumerate()`, która pozwala na iterację równocześnie po indeksach i wartościach elementów tablicy (_Pythonic way_):"
      ]
    },
    {
      "cell_type": "code",
      "execution_count": null,
      "metadata": {
        "id": "hTLaV4Jn6aeG",
        "outputId": "97f6c186-7a8d-4b6b-c477-e02c5d31e212"
      },
      "outputs": [
        {
          "name": "stdout",
          "output_type": "stream",
          "text": [
            "(0, [125, None, 13]), (1, [124]), (2, None), (3, [7008, 8]), \n"
          ]
        }
      ],
      "source": [
        "for x in enumerate(tabX):\n",
        "    print(x, end=\", \")\n",
        "print()"
      ]
    },
    {
      "cell_type": "code",
      "execution_count": null,
      "metadata": {
        "id": "B1lgub3-6aeG",
        "outputId": "48ed212b-915e-4351-e227-e6057ece9928"
      },
      "outputs": [
        {
          "name": "stdout",
          "output_type": "stream",
          "text": [
            "(0, 0), (1, [125, None, 13]), (0, 1), (1, [124]), (0, 2), (1, None), (0, 3), (1, [7008, 8]), \n"
          ]
        }
      ],
      "source": [
        "for x in enumerate(tabX):\n",
        "    for y in enumerate(x):\n",
        "        print(y, end=\", \")\n",
        "print()"
      ]
    },
    {
      "cell_type": "code",
      "execution_count": null,
      "metadata": {
        "id": "FREvxieF6aeH",
        "outputId": "441be5ec-317b-49af-c226-a6c4e1c115a0"
      },
      "outputs": [
        {
          "name": "stdout",
          "output_type": "stream",
          "text": [
            "tabX[0][0] = 125, tabX[0][2] = 13, tabX[1][0] = 124, tabX[3][0] = 7008, tabX[3][1] = 8, "
          ]
        }
      ],
      "source": [
        "# wykorzystanie enumerate() do iterowania po indeksach i elementach\n",
        "# z przeskakiwaniem pustych wierszy i elementów\n",
        "for i, wiersz in enumerate(tabX):\n",
        "    if wiersz is None:\n",
        "        continue\n",
        "    for j, element in enumerate(wiersz):\n",
        "        if element is None:\n",
        "            continue\n",
        "        print(f\"tabX[{i}][{j}] = {element}\", end=\", \")"
      ]
    },
    {
      "cell_type": "markdown",
      "metadata": {
        "id": "3Ijv_yx56aeH"
      },
      "source": [
        "Aby ustalić liczbę niepustych elementów tablicy, nie można wywołać funkcji `len(tabX)` - ta zwróci długość listy zewnętrznej (umownie liczbę \"wierszy\"), tylko należy zsumować liczbę elementów we wszystkich wierszach. Należy pamiętać, że `None` nie jest liczbą, więc nie można go dodać do sumy (spowoduje zgłoszenie błędu):"
      ]
    },
    {
      "cell_type": "code",
      "execution_count": null,
      "metadata": {
        "id": "kkO6P0hX6aeH",
        "outputId": "6565a81a-0d9f-465f-881a-cc66b461c116"
      },
      "outputs": [
        {
          "name": "stdout",
          "output_type": "stream",
          "text": [
            "4\n",
            "5\n"
          ]
        }
      ],
      "source": [
        "tabX = [[1, None, 3], [4], None, [7, 8]]\n",
        "\n",
        "print(len(tabX)) # 4, zwraca wielkość listy zewnętrznej\n",
        "\n",
        "# zliczanie niepustych elementów w tablicy\n",
        "licznik = 0\n",
        "for wiersz in tabX:\n",
        "    if wiersz is None:\n",
        "        continue\n",
        "    for element in wiersz:\n",
        "        if element is None:\n",
        "            continue\n",
        "        licznik += 1    \n",
        "print(licznik) # 5, zwraca faktyczną liczbę niepustych elementów tablicy"
      ]
    },
    {
      "cell_type": "markdown",
      "metadata": {
        "id": "sTT8qdJr6aeI"
      },
      "source": [
        "### Generowanie tablic 2D"
      ]
    },
    {
      "cell_type": "markdown",
      "metadata": {
        "id": "cgs3nz_w6aeI"
      },
      "source": [
        "Generowanie tablicy 2D o z góry ustalonym rozmiarze oraz określonymi wartościami początkowymi za pomocą wytwornika list (_list comprehension_):"
      ]
    },
    {
      "cell_type": "code",
      "execution_count": null,
      "metadata": {
        "id": "Mmzmg6q66aeI",
        "outputId": "e13b247a-9f70-4c41-a352-b3ad9904e25e"
      },
      "outputs": [
        {
          "name": "stdout",
          "output_type": "stream",
          "text": [
            "[[1, 1, 1, 1], [1, 1, 1, 1], [1, 1, 1, 1]]\n"
          ]
        }
      ],
      "source": [
        "# generowanie tablicy 2D o rozmiarze 3x4 wypełnionej wartościami 1\n",
        "tab = [[1 for j in range(4)] for i in range(3)]\n",
        "print(tab)"
      ]
    },
    {
      "cell_type": "markdown",
      "metadata": {
        "id": "YKxCnla36aeI"
      },
      "source": [
        "> :warning: konstruowanie tablicy 2D przy użyciu multiplikacji (operator `*`) nie zawsze jest poprawne."
      ]
    },
    {
      "cell_type": "code",
      "execution_count": null,
      "metadata": {
        "id": "8JG8mHIm6aeJ",
        "outputId": "ae0ca99f-b9d2-426f-e55f-bb51aedd0434"
      },
      "outputs": [
        {
          "name": "stdout",
          "output_type": "stream",
          "text": [
            "[[1, 1, 1, 1], [1, 1, 1, 1], [1, 1, 1, 1]]\n",
            "[[1, 1, 1, 1], [1, 1, 1, 1], [1, 1, 1, 1]]\n"
          ]
        }
      ],
      "source": [
        "tab1 = [ [1]*4 for i in range(3) ]\n",
        "print(tab1)\n",
        "\n",
        "tab2 = [ [1]*4 ]*3\n",
        "print(tab2)"
      ]
    },
    {
      "cell_type": "markdown",
      "metadata": {
        "id": "Fj7nP8jh6aeJ"
      },
      "source": [
        "> Na pierwszy rzut oka wszystkie trzy metody produkują ten sam wynik. Jednakże zmiany pojawiają się w trakcie eksploatacji tych tablic (modyfikacji zawartości):"
      ]
    },
    {
      "cell_type": "code",
      "execution_count": null,
      "metadata": {
        "id": "EiH-Qk_s6aeJ",
        "outputId": "36e3452c-cbe7-4334-e6dc-68d9a82d2fe4"
      },
      "outputs": [
        {
          "name": "stdout",
          "output_type": "stream",
          "text": [
            "[[0, 1, 1, 1], [1, 1, 1, 1], [1, 1, 1, 1]]\n",
            "[[0, 1, 1, 1], [1, 1, 1, 1], [1, 1, 1, 1]]\n",
            "[[0, 1, 1, 1], [0, 1, 1, 1], [0, 1, 1, 1]]\n"
          ]
        }
      ],
      "source": [
        "tab[0][0] = 0\n",
        "print(tab)\n",
        "\n",
        "tab1[0][0] = 0\n",
        "print(tab1)\n",
        "\n",
        "tab2[0][0] = 0\n",
        "print(tab2)"
      ]
    },
    {
      "cell_type": "markdown",
      "metadata": {
        "id": "FEbrj6aB6aeJ"
      },
      "source": [
        "> O ile w przypadku `tab` oraz `tab1` wyniki są identyczne, o tyle w `tab2` zmiana wartości w jednym miejscu wpływa na inne elementy tablicy. Różnicę w działaniu można wyjaśnić na podstawie poniższego schematu:\n",
        "\n",
        "<img src=\"data:image/png;base64,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\">\n",
        "\n",
        "[Wizualizacja na pythontutor](https://pythontutor.com/visualize.html#code=tab%20%3D%20%20%5B%20%5B1%20for%20j%20in%20range%284%29%5D%20for%20i%20in%20range%283%29%20%5D%0Atab1%20%3D%20%5B%20%5B1%5D*4%20for%20i%20in%20range%283%29%20%5D%0Atab2%20%3D%20%5B%20%5B1%5D*4%20%5D*3&cumulative=false&curInstr=36&heapPrimitives=nevernest&mode=display&origin=opt-frontend.js&py=3&rawInputLstJSON=%5B%5D&textReferences=false)\n"
      ]
    },
    {
      "cell_type": "code",
      "execution_count": null,
      "metadata": {
        "id": "u9lD8dGF6aeO",
        "outputId": "84ff46c8-eb28-472a-87e7-1f381efc3a3a"
      },
      "outputs": [
        {
          "name": "stdout",
          "output_type": "stream",
          "text": [
            "[[1, 0, 0, 0], [0, 1, 0, 0], [0, 0, 1, 0], [0, 0, 0, 1]]\n"
          ]
        }
      ],
      "source": [
        "# generowanie tablicy kwadratowej 2D o rozmiarze 4 \n",
        "# wypełnionej wartościami 1 na przekątnej i zerami w pozostałych miejscach\n",
        "# macierz identycznościowa\n",
        "tab = [[1 if i == j else 0 for j in range(4)] for i in range(4)]\n",
        "print(tab)"
      ]
    },
    {
      "cell_type": "code",
      "execution_count": null,
      "metadata": {
        "id": "3_y-UZOl6aeO"
      },
      "outputs": [],
      "source": [
        "def RysujPlansze(tab) -> None:\n",
        "    '''Funkcja wypisuje tablicę 2D znaków'''\n",
        "    for wiersz in tab:\n",
        "        for element in wiersz:\n",
        "            print(element, end=\"\")\n",
        "        print()"
      ]
    },
    {
      "cell_type": "code",
      "execution_count": null,
      "metadata": {
        "id": "aE4vDq2F6aeP",
        "outputId": "592d937e-224c-49ed-e066-0d898131f790"
      },
      "outputs": [
        {
          "name": "stdout",
          "output_type": "stream",
          "text": [
            "*...\n",
            "**..\n",
            "***.\n",
            "****\n"
          ]
        }
      ],
      "source": [
        "# generowanie planszy 2D o rozmiarze n wypełnionej `*` i '.' \n",
        "# tworzących określony wzorek opisany warunkiem logicznym\n",
        "n = 4\n",
        "zakres = range(n)\n",
        "tab = [['*' if i >= j else '.' for j in zakres] for i in zakres]\n",
        "RysujPlansze(tab)"
      ]
    },
    {
      "cell_type": "markdown",
      "metadata": {
        "id": "kIzlZzzl6aeQ"
      },
      "source": [
        "## Przykłady wykorzystania tablic 2D"
      ]
    },
    {
      "cell_type": "markdown",
      "metadata": {
        "id": "rES6Y1XD6aeQ"
      },
      "source": [
        "Tablice 2D są wykorzystywane w wielu problemach, np. \n",
        "* do reprezentacji grafów (tzw. tablica sąsiedztwa opisuje konfigurację grafu skierowanego i nieskierowanego)\n",
        "* do reprezentacji plansz gier (np. w grach typu \"kółko i krzyżyk\")\n",
        "* do reprezentacji grafiki rastrowej (np. w programach graficznych)\n",
        "* ..."
      ]
    },
    {
      "cell_type": "markdown",
      "metadata": {
        "id": "VlQBt7CL6aeR"
      },
      "source": [
        "## Tablice 2D w innych bibliotekach Pythona"
      ]
    },
    {
      "cell_type": "markdown",
      "metadata": {
        "id": "ifTwKBG-6aeR"
      },
      "source": [
        "### Tablice 2D w NumPy"
      ]
    },
    {
      "cell_type": "markdown",
      "metadata": {
        "id": "5SWiZXcI6aeR"
      },
      "source": [
        "### Tablice 2D w Pandas"
      ]
    },
    {
      "cell_type": "markdown",
      "metadata": {
        "id": "qcQyTyeH6aeR"
      },
      "source": [
        "### Tablice 2D w SciPy"
      ]
    }
  ],
  "metadata": {
    "kernelspec": {
      "display_name": "Python 3",
      "language": "python",
      "name": "python3"
    },
    "language_info": {
      "codemirror_mode": {
        "name": "ipython",
        "version": 3
      },
      "file_extension": ".py",
      "mimetype": "text/x-python",
      "name": "python",
      "nbconvert_exporter": "python",
      "pygments_lexer": "ipython3",
      "version": "3.9.13"
    },
    "orig_nbformat": 4,
    "colab": {
      "provenance": [],
      "include_colab_link": true
    }
  },
  "nbformat": 4,
  "nbformat_minor": 0
}